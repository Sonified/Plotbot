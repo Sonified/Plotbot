{
  "cells": [
    {
      "cell_type": "markdown",
      "metadata": {
        "vscode": {
          "languageId": "raw"
        }
      },
      "source": [
        "# 🎼 Plotbot Grid Composer Examples\n",
        "\n",
        "⚠️(WORK IN PROGRESS, NOT YET OPERATIONAL)⚠️\n",
        "\n",
        "This notebook demonstrates the new modular plotting system that allows you to combine multiple plotbot functions (plotbot, multiplot, showdahodo, vdyes, etc.) into unified grid layouts.\n",
        "\n",
        "## Key Features:\n",
        "- **Modular**: Mix and match different plotting functions\n",
        "- **Flexible Grid Layouts**: 2x2, 1x4, 4x1, or custom dimensions\n",
        "- **Easy to Use**: Simple API for adding plots to grid positions\n",
        "- **Figure Integration**: Works with existing matplotlib figures\n",
        "- **Error Handling**: Graceful handling of failed plots\n"
      ]
    },
    {
      "cell_type": "code",
      "execution_count": 1,
      "metadata": {},
      "outputs": [
        {
          "name": "stdout",
          "output_type": "stream",
          "text": [
            "initialized server_access\n",
            "initialized global_tracker\n",
            "initialized ploptions\n",
            "initialized plot_manager\n",
            "initialized epad class\n",
            "initialized epad_hr class\n",
            "initialized proton class\n",
            "initialized proton_hr class\n",
            "initialized ham_class\n",
            "initialized psp_alpha class\n",
            "initialized psp_qtn class\n",
            "initialized psp_orbit class\n",
            "initialized psp_span_vdf class\n",
            "initialized data_cubby.\n",
            "CDF classes added to data_cubby type map.\n",
            "initialized proton_fits class\n",
            "initialized alpha_fits class\n",
            "🔉 initialized audifier\n",
            "\n",
            "Importing libraries, this may take a moment. Hold tight... \n",
            "\n",
            "✅ Imported standard libraries and utilities.\n",
            "✅ Imported numpy, pandas, and scipy libraries.\n",
            "✅ Imported matplotlib libraries.\n",
            "✅ Imported cdflib, BeautifulSoup, requests, dateutil, and datetime libraries.\n",
            "\n",
            "🤖 Plotbot Initialized\n",
            "✨ Showdahodo initialized\n",
            "Positional Data Helper Initialized\n",
            "📈📉 Multiplot Initialized\n",
            "\n",
            "🤖 Plotbot Initialized\n",
            "📈📉 Multiplot Initialized\n",
            "   Version: 2025_08_06_v3.08\n",
            "   Commit: v3.08 Fix: VDF smart padding priority - enable_smart_padding now properly overrides stored manual limits\n",
            "\n"
          ]
        },
        {
          "ename": "ImportError",
          "evalue": "cannot import name 'GridComposer' from 'plotbot' (/Users/robertalexander/GitHub/Plotbot/plotbot/__init__.py)",
          "output_type": "error",
          "traceback": [
            "\u001b[31m---------------------------------------------------------------------------\u001b[39m",
            "\u001b[31mImportError\u001b[39m                               Traceback (most recent call last)",
            "\u001b[36mCell\u001b[39m\u001b[36m \u001b[39m\u001b[32mIn[1]\u001b[39m\u001b[32m, line 3\u001b[39m\n\u001b[32m      1\u001b[39m \u001b[38;5;66;03m# Import plotbot and the new grid composer\u001b[39;00m\n\u001b[32m      2\u001b[39m \u001b[38;5;28;01mimport\u001b[39;00m\u001b[38;5;250m \u001b[39m\u001b[34;01mplotbot\u001b[39;00m\u001b[38;5;250m \u001b[39m\u001b[38;5;28;01mas\u001b[39;00m\u001b[38;5;250m \u001b[39m\u001b[34;01mpb\u001b[39;00m\n\u001b[32m----> \u001b[39m\u001b[32m3\u001b[39m \u001b[38;5;28;01mfrom\u001b[39;00m\u001b[38;5;250m \u001b[39m\u001b[34;01mplotbot\u001b[39;00m\u001b[38;5;250m \u001b[39m\u001b[38;5;28;01mimport\u001b[39;00m GridComposer, create_2x2_grid, create_1x4_grid\n\u001b[32m      4\u001b[39m \u001b[38;5;28;01mimport\u001b[39;00m\u001b[38;5;250m \u001b[39m\u001b[34;01mnumpy\u001b[39;00m\u001b[38;5;250m \u001b[39m\u001b[38;5;28;01mas\u001b[39;00m\u001b[38;5;250m \u001b[39m\u001b[34;01mnp\u001b[39;00m\n\u001b[32m      5\u001b[39m \u001b[38;5;28;01mimport\u001b[39;00m\u001b[38;5;250m \u001b[39m\u001b[34;01mmatplotlib\u001b[39;00m\u001b[34;01m.\u001b[39;00m\u001b[34;01mpyplot\u001b[39;00m\u001b[38;5;250m \u001b[39m\u001b[38;5;28;01mas\u001b[39;00m\u001b[38;5;250m \u001b[39m\u001b[34;01mplt\u001b[39;00m\n",
            "\u001b[31mImportError\u001b[39m: cannot import name 'GridComposer' from 'plotbot' (/Users/robertalexander/GitHub/Plotbot/plotbot/__init__.py)"
          ]
        }
      ],
      "source": [
        "# Import plotbot and the new grid composer\n",
        "import plotbot as pb\n",
        "from plotbot import GridComposer, create_2x2_grid, create_1x4_grid\n",
        "import numpy as np\n",
        "import matplotlib.pyplot as plt\n"
      ]
    },
    {
      "cell_type": "raw",
      "metadata": {
        "vscode": {
          "languageId": "raw"
        }
      },
      "source": [
        "## Example 1: Basic 2x2 Grid with Mixed Plot Types\n"
      ]
    },
    {
      "cell_type": "code",
      "execution_count": null,
      "metadata": {},
      "outputs": [],
      "source": [
        "# Define time range for examples\n",
        "trange = ['2021/04/29 00:00:00.000', '2021/04/29 06:00:00.000']\n",
        "\n",
        "# Create a 2x2 grid composer\n",
        "composer = create_2x2_grid(figsize=(16, 12), main_title=\"PSP Data Analysis - Multi-Plot Grid\")\n",
        "\n",
        "# Add different types of plots to each grid position\n",
        "\n",
        "# Top-left: Basic plotbot time series\n",
        "composer.add_plot(\n",
        "    name='magnetic_field',\n",
        "    function=pb.plotbot,\n",
        "    args=(trange, pb.mag_rtn_4sa.br, 1, pb.mag_rtn_4sa.bt, 2, pb.mag_rtn_4sa.bn, 3),\n",
        "    kwargs={'return_figure': True},  # Important: tell plotbot to return figure\n",
        "    row=0, col=0,\n",
        "    title=\"Magnetic Field Components\"\n",
        ")\n",
        "\n",
        "# Top-right: Multiplot \n",
        "composer.add_plot(\n",
        "    name='multiplot_example',\n",
        "    function=pb.multiplot,\n",
        "    args=([pb.mag_rtn_4sa.br, pb.proton.np],),\n",
        "    kwargs={},\n",
        "    row=0, col=1,\n",
        "    title=\"Multiplot Analysis\"\n",
        ")\n",
        "\n",
        "# Bottom-left: Hodogram\n",
        "composer.add_plot(\n",
        "    name='hodogram',\n",
        "    function=pb.showdahodo,\n",
        "    args=(trange, pb.mag_rtn_4sa.br, pb.mag_rtn_4sa.bt, pb.mag_rtn_4sa.bn),\n",
        "    kwargs={'color_var': pb.proton.np},  # noshow=True added automatically\n",
        "    row=1, col=0,\n",
        "    title=\"3D Hodogram\"\n",
        ")\n",
        "\n",
        "# Bottom-right: VDF plot\n",
        "composer.add_plot(\n",
        "    name='vdf_analysis',\n",
        "    function=pb.vdyes,\n",
        "    args=(trange,),\n",
        "    kwargs={'force_static': True},\n",
        "    row=1, col=1,\n",
        "    title=\"Velocity Distribution\"\n",
        ")\n",
        "\n",
        "# Compose the final figure\n",
        "final_figure = composer.compose(save_individual_plots=False)\n",
        "\n",
        "# Display the composed figure\n",
        "plt.show()\n",
        "\n",
        "# Optionally save the composed figure\n",
        "# final_figure.savefig('psp_analysis_grid.png', bbox_inches='tight', dpi=300)\n"
      ]
    }
  ],
  "metadata": {
    "kernelspec": {
      "display_name": "plotbot_env",
      "language": "python",
      "name": "python3"
    },
    "language_info": {
      "codemirror_mode": {
        "name": "ipython",
        "version": 3
      },
      "file_extension": ".py",
      "mimetype": "text/x-python",
      "name": "python",
      "nbconvert_exporter": "python",
      "pygments_lexer": "ipython3",
      "version": "3.12.4"
    }
  },
  "nbformat": 4,
  "nbformat_minor": 2
}
