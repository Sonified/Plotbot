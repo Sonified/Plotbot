{
 "cells": [
  {
   "cell_type": "code",
   "execution_count": null,
   "id": "65e70b65-7812-4225-8664-6de1c3e2f204",
   "metadata": {},
   "outputs": [],
   "source": [
    "\n",
    "\n",
    "#🧹 Clean this up\n",
    "# Standard libraries\n",
    "import numpy as np\n",
    "import numpy.ma as ma\n",
    "from datetime import timezone, timedelta\n",
    "from collections import defaultdict\n",
    "import warnings\n",
    "\n",
    "# Data handling and parsing\n",
    "import cdflib\n",
    "from dateutil.parser import parse\n",
    "import pandas as pd\n",
    "from datetime import datetime\n",
    "\n",
    "# Scientific computing\n",
    "from scipy import constants, interpolate, stats\n",
    "\n",
    "# Plotting and visualization\n",
    "import matplotlib.pyplot as plt\n",
    "import matplotlib.colors as colors\n",
    "import matplotlib.dates as mdates\n",
    "from matplotlib.colors import Normalize, TwoSlopeNorm\n",
    "from matplotlib.dates import num2date\n",
    "\n",
    "\n",
    "# Space physics specific libraries\n",
    "import pyspedas\n",
    "from pyspedas import tinterpol\n",
    "from pytplot import get_data, split_vec, time_datetime, time_double, time_string, cdf_to_tplot, tplot_rename, divide, store_data\n",
    "\n",
    "# Suppress warnings\n",
    "warnings.filterwarnings(\"ignore\")\n",
    "from warnings import simplefilter \n",
    "simplefilter(action='ignore', category=DeprecationWarning)\n",
    "\n",
    "import pickle\n",
    "\n",
    "import hashlib\n",
    "import json"
   ]
  }
 ],
 "metadata": {
  "kernelspec": {
   "display_name": "Python 3 (ipykernel)",
   "language": "python",
   "name": "python3"
  },
  "language_info": {
   "codemirror_mode": {
    "name": "ipython",
    "version": 3
   },
   "file_extension": ".py",
   "mimetype": "text/x-python",
   "name": "python",
   "nbconvert_exporter": "python",
   "pygments_lexer": "ipython3",
   "version": "3.10.8"
  }
 },
 "nbformat": 4,
 "nbformat_minor": 5
}
