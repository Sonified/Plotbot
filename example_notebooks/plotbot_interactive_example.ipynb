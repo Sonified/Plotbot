{
  "cells": [
    {
      "cell_type": "markdown",
      "metadata": {},
      "source": [
        "# 🤖 Plotbot Interactive Example\n",
        "\n",
        "This notebook demonstrates the new `plotbot_interactive()` function with click-to-VDF functionality.\n",
        "\n",
        "## Features:\n",
        "- **Publication-ready styling** - Maintains Plotbot's clean matplotlib aesthetic\n",
        "- **Click-to-VDF** - Click any data point to generate VDF analysis\n",
        "- **Fading text overlays** - Interactive elements fade after user interaction\n",
        "- **Web-based interface** - Runs in browser for smooth interaction\n"
      ]
    },
    {
      "cell_type": "markdown",
      "metadata": {},
      "source": [
        "## NEW: Spectral Data Support! 📊\n",
        "\n",
        "The interactive system now supports **2D spectral data** rendering:\n",
        "\n",
        "- **EPAD Strahl**: Electron pitch angle distributions as interactive heatmaps\n",
        "- **Automatic Detection**: Detects `plot_type='spectral'` and renders with Plotly heatmaps\n",
        "- **Publication Ready**: Maintains matplotlib aesthetic with proper colorbars and labels\n",
        "- **Log/Linear Scaling**: Supports both logarithmic and linear color scaling\n",
        "- **Interactive**: Full pan/zoom/hover functionality for spectral data\n",
        "\n",
        "This bridges matplotlib `pcolormesh` functionality to Plotly for seamless interactive spectrograms!\n"
      ]
    },
    {
      "cell_type": "markdown",
      "metadata": {},
      "source": [
        "## Installation\n",
        "\n",
        "First, install the interactive dependencies:\n"
      ]
    },
    {
      "cell_type": "code",
      "execution_count": 1,
      "metadata": {},
      "outputs": [],
      "source": [
        "# Run this cell if you haven't updated your environment yet\n",
        "# !pip install dash plotly jupyter-dash"
      ]
    },
    {
      "cell_type": "code",
      "execution_count": 2,
      "metadata": {},
      "outputs": [
        {
          "name": "stdout",
          "output_type": "stream",
          "text": [
            "\n",
            "🕒 Starting import timing session: plotbot_full_initialization\n",
            "  ✅ matplotlib.pyplot: 0.251s\n",
            "  ✅ numpy: 0.000s\n",
            "  🔧 Starting block: core_components\n",
            "initialized server_access\n",
            "initialized global_tracker\n",
            "initialized ploptions\n",
            "initialized plot_manager\n",
            "initialized epad class\n",
            "initialized epad_hr class\n",
            "initialized proton class\n",
            "initialized proton_hr class\n",
            "initialized ham_class\n",
            "initialized psp_alpha class\n",
            "initialized psp_qtn class\n",
            "initialized psp_orbit class\n",
            "initialized psp_span_vdf class\n",
            "initialized data_cubby.\n",
            "CDF classes added to data_cubby type map.\n",
            "  ✅ Block 'core_components' completed in 0.691s\n",
            "  🔧 Starting block: psp_data_classes\n",
            "initialized proton_fits class\n",
            "initialized alpha_fits class\n",
            "  ✅ Block 'psp_data_classes' completed in 0.001s\n",
            "  🔧 Starting block: wind_data_classes\n",
            "  ✅ Block 'wind_data_classes' completed in 0.000s\n",
            "  🔧 Starting block: data_cubby_registration\n",
            "  ✅ Block 'data_cubby_registration' completed in 0.001s\n",
            "  🔧 Starting block: auto_register_custom_classes\n",
            "  ✅ Block 'auto_register_custom_classes' completed in 0.002s\n",
            "  🔧 Starting block: custom_variables\n",
            "  ✅ Block 'custom_variables' completed in 0.000s\n",
            "🔉 initialized audifier\n",
            "  ✅ from plotbot import audifier: 0.107s\n",
            "  🔧 Starting block: enhanced_plt\n",
            "  ✅ Block 'enhanced_plt' completed in 0.000s\n",
            "  🔧 Starting block: main_plotting_functions\n",
            "\n",
            "Importing libraries, this may take a moment. Hold tight... \n",
            "\n",
            "✅ Imported standard libraries and utilities.\n",
            "✅ Deferred numpy, pandas, and scipy libraries (loaded when needed).\n",
            "✅ Deferred matplotlib libraries (loaded when needed).\n",
            "✅ Imported cdflib, BeautifulSoup, requests, dateutil, and datetime libraries.\n",
            "\n",
            "🤖 Plotbot Initialized\n",
            "✨ Showdahodo initialized\n",
            "Positional Data Helper Initialized\n",
            "📈📉 Multiplot Initialized\n",
            "  ✅ Block 'main_plotting_functions' completed in 0.409s\n",
            "  🔧 Starting block: cdf_functions\n",
            "  ✅ Block 'cdf_functions' completed in 0.001s\n",
            "\n",
            "🤖 Plotbot Initialized\n",
            "📈📉 Multiplot Initialized\n",
            "   Version: 2025_09_10_v3.29\n",
            "   Commit: v3.29 Config: Set default data directory to 'default' in Plotbot.ipynb\n",
            "\n",
            "\n",
            "🏁 Session 'plotbot_full_initialization' completed in 1.463s\n",
            "\n",
            "============================================================\n",
            "📊 IMPORT TIMING REPORT - plotbot_full_initialization\n",
            "============================================================\n",
            "Total session time: 1.463s\n",
            "\n",
            "🐌 SLOWEST IMPORTS (Top 3):\n",
            "--------------------------------------------------\n",
            " 1. matplotlib.pyplot               0.251s (70.1%)\n",
            " 2. from plotbot import audifier    0.107s (29.9%)\n",
            " 3. numpy                           0.000s ( 0.0%)\n",
            "\n",
            "🔧 BLOCK TIMING SUMMARY:\n",
            "--------------------------------------------------\n",
            "core_components                 0.691s (avg: 0.691s, runs: 1)\n",
            "psp_data_classes                0.001s (avg: 0.001s, runs: 1)\n",
            "wind_data_classes               0.000s (avg: 0.000s, runs: 1)\n",
            "data_cubby_registration         0.001s (avg: 0.001s, runs: 1)\n",
            "auto_register_custom_classes    0.002s (avg: 0.002s, runs: 1)\n",
            "custom_variables                0.000s (avg: 0.000s, runs: 1)\n",
            "enhanced_plt                    0.000s (avg: 0.000s, runs: 1)\n",
            "main_plotting_functions         0.409s (avg: 0.409s, runs: 1)\n",
            "cdf_functions                   0.001s (avg: 0.001s, runs: 1)\n",
            "\n",
            "⏰ IMPORT TIMELINE:\n",
            "--------------------------------------------------\n",
            " 0.000s: matplotlib.pyplot              (+0.251s)\n",
            " 0.251s: numpy                          (+0.000s)\n",
            " 0.946s: from plotbot import audifier   (+0.107s)\n",
            "\n",
            "💡 OPTIMIZATION SUGGESTIONS:\n",
            "--------------------------------------------------\n",
            "• Matplotlib imports: 0.3s - good candidate for lazy loading\n",
            "• Focus optimization on imports >0.5s for maximum impact\n"
          ]
        }
      ],
      "source": [
        "from plotbot import *"
      ]
    },
    {
      "cell_type": "code",
      "execution_count": 3,
      "metadata": {},
      "outputs": [
        {
          "name": "stdout",
          "output_type": "stream",
          "text": [
            "📁 Plotbot data directory changed: data → ../data\n",
            "🔧 SPEDAS_DATA_DIR updated for pyspedas compatibility\n",
            "📁 Data directory absolute path: /Users/robertalexander/GitHub/Plotbot/data\n"
          ]
        }
      ],
      "source": [
        "# ------- 💽 CONFIGURE THE DEFAULT DATA DIRECTORY 💽 -------//\n",
        "# This must be set before pyspedas is imported/run, as pyspedas caches configuration at import time.\n",
        "\n",
        "config.data_dir = '../data'  # Go up one level to Plotbot/data/\n",
        "\n",
        "import os\n",
        "print(f\"📁 Data directory absolute path: {os.path.abspath(config.data_dir)}\")\n",
        "\n",
        "# ------- 📡 CONFIGURE THE DEFAULT DATA SERVER 📡 -------//\n",
        "\n",
        "config.data_server = 'berkeley'\n",
        "# config.data_server = 'spdf'\n",
        "# config.data_server = 'dynamic' #Will attempt to download from spdf first and then try berkeley\n",
        "\n",
        "# ------- 🖨️ CONFIGURE PRINT MANAGER 🖨️ -------//\n",
        "print_manager.show_status = True\n",
        "# pm.show_debug = True      # Optional: uncomment for maximum detail\n",
        "# pm.show_processing = True # Optional: uncomment for processing steps\n",
        "# pm.show_datacubby = True  # Optional: uncomment for data caching steps\n"
      ]
    },
    {
      "cell_type": "code",
      "execution_count": 4,
      "metadata": {},
      "outputs": [
        {
          "name": "stdout",
          "output_type": "stream",
          "text": [
            "🚀 plotbot_interactive() starting...\n",
            "🌐 Web display enabled - will open in browser\n",
            "🛰️ mag_RTN_4sa - acquiring data...\n",
            "🛰️ spi_sf00_l3_mom - acquiring data...\n",
            "🛰️ spe_sf0_pad - acquiring data...\n",
            "📥 Acquiring data for 6 variables...\n",
            "🕒 TimeRangeTracker: Stored trange ['2020-01-29/15:00:00.000', '2020-01-29/22:00:00.000']\n",
            "🛰️ mag_RTN_4sa - acquiring variables: br, bt, bn\n",
            "🛰️ spi_sf00_l3_mom - acquiring variables: anisotropy, energy_flux\n",
            "🛰️ spe_sf0_pad - acquiring variables: strahl\n",
            "Attempting Berkeley acquisition path for mag_RTN_4sa...\n",
            "📡 mag_RTN_4sa - A local .cdf file already exists:\n",
            "📂 ../data/psp/fields/l2/mag_rtn_4_per_cycle/2020/psp_fld_l2_mag_RTN_4_Sa_per_Cyc_20200129_v02.cdf\n",
            "☑️ - CDF Data import complete for mag_RTN_4sa range ['2020-01-29/15:00:00', '2020-01-29/22:00:00'].\n",
            "\n",
            "📥 Requesting DataCubby to update/merge global instance for mag_rtn_4sa...\n",
            "✅ DataCubby processed update for mag_rtn_4sa.\n",
            "Attempting Berkeley acquisition path for spi_sf00_l3_mom...\n",
            "📡 spi_sf00_l3_mom - A local .cdf file already exists:\n",
            "📂 ../data/psp/sweap/spi/l3/spi_sf00_l3_mom/2020/psp_swp_spi_sf00_L3_mom_20200129_v04.cdf\n",
            "☑️ - CDF Data import complete for spi_sf00_l3_mom range ['2020-01-29/15:00:00', '2020-01-29/22:00:00'].\n",
            "\n",
            "📥 Requesting DataCubby to update/merge global instance for spi_sf00_l3_mom...\n",
            "✅ DataCubby processed update for spi_sf00_l3_mom.\n",
            "Attempting Berkeley acquisition path for spe_sf0_pad...\n",
            "📡 spe_sf0_pad - A local .cdf file already exists:\n",
            "📂 ../data/psp/sweap/spe/l3/spe_sf0_pad/2020/psp_swp_spe_sf0_L3_pad_20200129_v04.cdf\n",
            "☑️ - CDF Data import complete for spe_sf0_pad range ['2020-01-29/15:00:00', '2020-01-29/22:00:00'].\n",
            "\n",
            "📥 Requesting DataCubby to update/merge global instance for epad...\n",
            "✅ DataCubby processed update for epad.\n",
            "✅ Complete\n",
            "🎛️ Creating interactive Dash application...\n",
            "🎛️ Creating interactive Dash application...\n",
            "🔍 [DATA DEBUG] var.subclass_name: strahl\n",
            "🔍 [DATA DEBUG] z_data shape: (21624, 12)\n",
            "🔍 [DATA DEBUG] z_data.T shape: (12, 21624)\n",
            "🔍 [DATA DEBUG] z_data range: 8.37e+00 to 1.02e+01\n",
            "🔍 [Y-AXIS DEBUG] additional_data shape: (1802, 12)\n",
            "🔍 [Y-AXIS DEBUG] additional_data ndim: 2\n",
            "🔍 [Y-AXIS DEBUG] First 5 values: [ 7.5 22.5 37.5 52.5 67.5]\n",
            "🔍 [Y-AXIS DEBUG] Last 5 values: [112.5 127.5 142.5 157.5 172.5]\n",
            "🔍 [Y-AXIS DEBUG] Using first row: [ 7.5 22.5 37.5 52.5 67.5] ... [112.5 127.5 142.5 157.5 172.5]\n",
            "✅ Created spectral heatmap for strahl\n",
            "🔍 [DATA DEBUG] var.subclass_name: energy_flux\n",
            "🔍 [DATA DEBUG] z_data shape: (115360, 32)\n",
            "🔍 [DATA DEBUG] z_data.T shape: (32, 115360)\n",
            "🔍 [DATA DEBUG] z_data range: 0.00e+00 to 5.16e+11\n",
            "🔍 [Y-AXIS DEBUG] additional_data shape: (3605, 32)\n",
            "🔍 [Y-AXIS DEBUG] additional_data ndim: 2\n",
            "🔍 [Y-AXIS DEBUG] First 5 values: [18131.69  15453.077 13170.851 11224.952  9566.333]\n",
            "🔍 [Y-AXIS DEBUG] Last 5 values: [242.23633 206.20117 176.17188 150.14648 128.125  ]\n",
            "🔍 [Y-AXIS DEBUG] Using first row: [18131.69  15453.077 13170.851 11224.952  9566.333] ... [242.23633 206.20117 176.17188 150.14648 128.125  ]\n",
            "🔄 Detected descending y-axis values (18131.7 → 128.1), reversing for proper display\n",
            "🔄 After reversal: (128.1 → 18131.7)\n",
            "🎯 Applying y_limit: [50, 5000]\n",
            "✅ Created spectral heatmap for energy_flux\n",
            "✅ Dash app created successfully!\n",
            "🌐 Launching interactive plot...\n"
          ]
        },
        {
          "data": {
            "text/html": [
              "\n",
              "        <iframe\n",
              "            width=\"100%\"\n",
              "            height=\"650\"\n",
              "            src=\"http://127.0.0.1:8050/\"\n",
              "            frameborder=\"0\"\n",
              "            allowfullscreen\n",
              "            \n",
              "        ></iframe>\n",
              "        "
            ],
            "text/plain": [
              "<IPython.lib.display.IFrame at 0x15b36ab70>"
            ]
          },
          "metadata": {},
          "output_type": "display_data"
        },
        {
          "name": "stdout",
          "output_type": "stream",
          "text": [
            "🌐 Browser opened at http://127.0.0.1:8050\n",
            "✅ plotbot_interactive() complete!\n",
            "📌 Click on any data point to generate VDF analysis!\n",
            "🌐 Running at: http://127.0.0.1:8050\n"
          ]
        }
      ],
      "source": [
        "\n",
        "# Define time range\n",
        "trange = ['2020-01-29/15:00:00.000', '2020-01-29/22:00:00.000']\n",
        "\n",
        "print_manager.show_status = True\n",
        "pbi.options.web_display = True\n",
        "\n",
        "# Create interactive plot with spectral data (EPAD strahl)\n",
        "# Test 2D spectral heatmap rendering in Plotly\n",
        "app = plotbot_interactive(trange, \n",
        "                         mag_rtn_4sa.br, 1,      # Magnetic field Br on panel 1\n",
        "                         mag_rtn_4sa.bt, 1,      # Magnetic field Bt on panel 1  \n",
        "                         mag_rtn_4sa.bn, 1,      # Magnetic field Bn on panel 1\n",
        "                         proton.anisotropy, 2,    # Proton anisotropy on panel 2\n",
        "                         epad.strahl, 3,\n",
        "                         proton.energy_flux, 4)         # 🎯 NEW: EPAD strahl spectral data"
      ]
    }
  ],
  "metadata": {
    "kernelspec": {
      "display_name": "Python 3",
      "language": "python",
      "name": "python3"
    },
    "language_info": {
      "codemirror_mode": {
        "name": "ipython",
        "version": 3
      },
      "file_extension": ".py",
      "mimetype": "text/x-python",
      "name": "python",
      "nbconvert_exporter": "python",
      "pygments_lexer": "ipython3",
      "version": "3.12.4"
    }
  },
  "nbformat": 4,
  "nbformat_minor": 2
}
