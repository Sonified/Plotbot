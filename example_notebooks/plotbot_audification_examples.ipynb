{
  "cells": [
    {
      "cell_type": "markdown",
      "metadata": {
        "vscode": {
          "languageId": "raw"
        }
      },
      "source": [
        "# Plotbot Audification Examples 🔊🌞\n",
        "\n",
        "## Parker Solar Probe Encounter 8 - Wave-Particle Interactions Audification\n",
        "\n",
        "This notebook demonstrates how to create audio representations of Parker Solar Probe magnetic field data. This specific time regions includes wave-particle interactions occurring upstream of a Heliospheric Current Sheet (HCS) crossing during Encounter 8. The audification process converts time series data into audio, allowing us to \"hear\" these complex plasma dynamics and magnetic field variations.\n",
        "\n",
        "### Event Details 🌌\n",
        "- **Encounter 8**: April 29, 2021 (07:45 - 08:20 UTC)\n",
        "- **Phenomenon**: Wave-particle interactions upstream of HCS crossing\n",
        "- **Data Source**: Jaye's E8 Region analysis\n",
        "- **Significance**: Audio reveals plasma physics processes in the solar wind\n"
      ]
    },
    {
      "cell_type": "code",
      "execution_count": 1,
      "metadata": {},
      "outputs": [
        {
          "name": "stdout",
          "output_type": "stream",
          "text": [
            "\n",
            "🕒 Starting import timing session: plotbot_full_initialization\n",
            "  ✅ matplotlib.pyplot: 0.330s\n",
            "  ✅ numpy: 0.000s\n",
            "  🔧 Starting block: core_components\n",
            "initialized server_access\n",
            "initialized global_tracker\n",
            "initialized ploptions\n",
            "initialized plot_manager\n",
            "initialized epad class\n",
            "initialized epad_hr class\n",
            "initialized proton class\n",
            "initialized proton_hr class\n",
            "initialized ham_class\n",
            "initialized psp_alpha class\n",
            "initialized psp_qtn class\n",
            "initialized psp_orbit class\n",
            "initialized psp_span_vdf class\n",
            "initialized data_cubby.\n",
            "CDF classes added to data_cubby type map.\n",
            "  ✅ Block 'core_components' completed in 3.821s\n",
            "  🔧 Starting block: psp_data_classes\n",
            "initialized proton_fits class\n",
            "initialized alpha_fits class\n",
            "  ✅ Block 'psp_data_classes' completed in 0.002s\n",
            "  🔧 Starting block: wind_data_classes\n",
            "  ✅ Block 'wind_data_classes' completed in 0.000s\n",
            "  🔧 Starting block: data_cubby_registration\n",
            "  ✅ Block 'data_cubby_registration' completed in 0.001s\n",
            "  🔧 Starting block: auto_register_custom_classes\n",
            "  ✅ Block 'auto_register_custom_classes' completed in 0.002s\n",
            "  🔧 Starting block: custom_variables\n",
            "  ✅ Block 'custom_variables' completed in 0.000s\n",
            "🔉 initialized audifier\n",
            "  ✅ from plotbot import audifier: 0.173s\n",
            "  🔧 Starting block: enhanced_plt\n",
            "  ✅ Block 'enhanced_plt' completed in 0.000s\n",
            "  🔧 Starting block: main_plotting_functions\n",
            "\n",
            "Importing libraries, this may take a moment. Hold tight... \n",
            "\n",
            "✅ Imported standard libraries and utilities.\n",
            "✅ Deferred numpy, pandas, and scipy libraries (loaded when needed).\n",
            "✅ Deferred matplotlib libraries (loaded when needed).\n",
            "✅ Imported cdflib, BeautifulSoup, requests, dateutil, and datetime libraries.\n",
            "\n",
            "🤖 Plotbot Initialized\n",
            "✨ Showdahodo initialized\n",
            "Positional Data Helper Initialized\n",
            "📈📉 Multiplot Initialized\n",
            "  ✅ Block 'main_plotting_functions' completed in 0.554s\n",
            "  🔧 Starting block: cdf_functions\n",
            "  ✅ Block 'cdf_functions' completed in 0.001s\n",
            "\n",
            "🤖 Plotbot Initialized\n",
            "📈📉 Multiplot Initialized\n",
            "   Version: 2025_09_23_v3.34\n",
            "   Commit: v3.34 Fix: VDF pyspedas local file search incorrectly matching L3 files when requesting L2 data\n",
            "\n",
            "\n",
            "🏁 Session 'plotbot_full_initialization' completed in 4.886s\n",
            "\n",
            "============================================================\n",
            "📊 IMPORT TIMING REPORT - plotbot_full_initialization\n",
            "============================================================\n",
            "Total session time: 4.886s\n",
            "\n",
            "🐌 SLOWEST IMPORTS (Top 3):\n",
            "--------------------------------------------------\n",
            " 1. matplotlib.pyplot               0.330s (65.7%)\n",
            " 2. from plotbot import audifier    0.173s (34.3%)\n",
            " 3. numpy                           0.000s ( 0.0%)\n",
            "\n",
            "🔧 BLOCK TIMING SUMMARY:\n",
            "--------------------------------------------------\n",
            "core_components                 3.821s (avg: 3.821s, runs: 1)\n",
            "psp_data_classes                0.002s (avg: 0.002s, runs: 1)\n",
            "wind_data_classes               0.000s (avg: 0.000s, runs: 1)\n",
            "data_cubby_registration         0.001s (avg: 0.001s, runs: 1)\n",
            "auto_register_custom_classes    0.002s (avg: 0.002s, runs: 1)\n",
            "custom_variables                0.000s (avg: 0.000s, runs: 1)\n",
            "enhanced_plt                    0.000s (avg: 0.000s, runs: 1)\n",
            "main_plotting_functions         0.554s (avg: 0.554s, runs: 1)\n",
            "cdf_functions                   0.001s (avg: 0.001s, runs: 1)\n",
            "\n",
            "⏰ IMPORT TIMELINE:\n",
            "--------------------------------------------------\n",
            " 0.000s: matplotlib.pyplot              (+0.330s)\n",
            " 0.331s: numpy                          (+0.000s)\n",
            " 4.157s: from plotbot import audifier   (+0.173s)\n",
            "\n",
            "💡 OPTIMIZATION SUGGESTIONS:\n",
            "--------------------------------------------------\n",
            "• Matplotlib imports: 0.3s - good candidate for lazy loading\n",
            "• Focus optimization on imports >0.5s for maximum impact\n",
            "📁 Data directory configured: /Users/robertalexander/GitHub/Plotbot/data\n",
            "   (instead of creating data/ in the default location: /Users/robertalexander/GitHub/Plotbot/example_notebooks)\n"
          ]
        }
      ],
      "source": [
        "# Import plotbot and initialize\n",
        "from plotbot import *\n",
        "import numpy as np\n",
        "from datetime import datetime, timedelta\n",
        "\n",
        "# 📁 DATA DIRECTORY CONFIGURATION\n",
        "# Point plotbot to the main project's data directory\n",
        "import os\n",
        "\n",
        "# Step 1: Get current directory (example_notebooks/)\n",
        "current_dir = os.getcwd()\n",
        "\n",
        "# Step 2: Get parent directory (main Plotbot project folder)  \n",
        "parent_dir = os.path.dirname(current_dir)\n",
        "\n",
        "# Step 3: Point to main data folder: /path/to/Plotbot/data/\n",
        "main_data_dir = os.path.join(parent_dir, 'data')\n",
        "\n",
        "# Step 4: Configure plotbot to use main data directory instead of creating ./data/\n",
        "config.data_dir = main_data_dir\n",
        "\n",
        "print(f\"📁 Data directory configured: {config.data_dir}\")\n",
        "print(f\"   (instead of creating data/ in the default location: {current_dir})\")\n"
      ]
    },
    {
      "cell_type": "code",
      "execution_count": 2,
      "metadata": {},
      "outputs": [
        {
          "name": "stdout",
          "output_type": "stream",
          "text": [
            "📁 Plotbot data directory changed: /Users/robertalexander/GitHub/Plotbot/data → ../data\n",
            "🔧 SPEDAS_DATA_DIR updated for pyspedas compatibility\n",
            "📁 Data directory absolute path: /Users/robertalexander/GitHub/Plotbot/data\n"
          ]
        }
      ],
      "source": [
        "# ------- 💽 CONFIGURE THE DEFAULT DATA DIRECTORY 💽 -------//\n",
        "# This must be set before pyspedas is imported/run, as pyspedas caches configuration at import time.\n",
        "\n",
        "config.data_dir = '../data'  # Go up one level to Plotbot/data/\n",
        "\n",
        "import os\n",
        "print(f\"📁 Data directory absolute path: {os.path.abspath(config.data_dir)}\")\n",
        "\n",
        "# ------- 📡 CONFIGURE THE DEFAULT DATA SERVER 📡 -------//\n",
        "\n",
        "config.data_server = 'berkeley'\n",
        "# config.data_server = 'spdf'\n",
        "# config.data_server = 'dynamic' #Will attempt to download from spdf first and then try berkeley\n",
        "\n",
        "# ------- 🖨️ CONFIGURE PRINT MANAGER 🖨️ -------//\n",
        "print_manager.show_status = True\n",
        "# pm.show_debug = True      # Optional: uncomment for maximum detail\n",
        "# pm.show_processing = True # Optional: uncomment for processing steps\n",
        "# pm.show_datacubby = True  # Optional: uncomment for data caching steps\n"
      ]
    },
    {
      "cell_type": "markdown",
      "metadata": {
        "vscode": {
          "languageId": "raw"
        }
      },
      "source": [
        "## 🔧 Audifier Setup and Configuration\n",
        "\n",
        "First, we'll configure the audifier with optimal settings for perihelion data analysis.\n"
      ]
    },
    {
      "cell_type": "code",
      "execution_count": 3,
      "metadata": {},
      "outputs": [
        {
          "name": "stdout",
          "output_type": "stream",
          "text": [
            "Using previously set save directory: /Users/robertalexander/GitHub/Plotbot/audio_files\n"
          ]
        },
        {
          "data": {
            "application/vnd.jupyter.widget-view+json": {
              "model_id": "f468532671cf4dbaba85d39b99827675",
              "version_major": 2,
              "version_minor": 0
            },
            "text/plain": [
              "Button(button_style='info', description='Open Save Directory', style=ButtonStyle(), tooltip='Click to open the…"
            ]
          },
          "metadata": {},
          "output_type": "display_data"
        },
        {
          "name": "stdout",
          "output_type": "stream",
          "text": [
            "\n"
          ]
        }
      ],
      "source": [
        "# Configure save directory for audio files\n",
        "SET_NEW_SAVE_DIRECTORY = False  # Set to True to choose a new save directory\n",
        "audifier.select_save_dir(force_new=SET_NEW_SAVE_DIRECTORY)\n",
        "print()\n"
      ]
    },
    {
      "cell_type": "code",
      "execution_count": 4,
      "metadata": {},
      "outputs": [],
      "source": [
        "print_manager.show_status = True"
      ]
    },
    {
      "cell_type": "code",
      "execution_count": 5,
      "metadata": {},
      "outputs": [
        {
          "name": "stdout",
          "output_type": "stream",
          "text": [
            "['2023/06/22 05:45:00.000', '2023/06/22 06:15:00.000']\n",
            "🔊 Audifier configured:\n",
            "   Markers per hour: 6\n",
            "   Sample rate: 22000 Hz\n",
            "   Channels: 1\n",
            "   Markers only: False\n",
            "Starting audification process...\n",
            "🕒 TimeRangeTracker: Stored trange ['2023/06/22 05:45:00.000', '2023/06/22 06:15:00.000']\n",
            "Downloading https://sprg.ssl.berkeley.edu/data/psp/data/sci/fields/l2/mag_RTN/2023/06/psp_fld_l2_mag_RTN_2023062200_v02.cdf\n",
            "File ../data/psp/fields/l2/mag_rtn/2023/psp_fld_l2_mag_RTN_2023062200_v02.cdf downloaded successfully.\n",
            "Downloading https://sprg.ssl.berkeley.edu/data/psp/data/sci/fields/l2/mag_RTN/2023/06/psp_fld_l2_mag_RTN_2023062206_v02.cdf\n",
            "File ../data/psp/fields/l2/mag_rtn/2023/psp_fld_l2_mag_RTN_2023062206_v02.cdf downloaded successfully.\n",
            "☑️ - CDF Data import complete for mag_RTN range ['2023/06/22 05:45:00', '2023/06/22 06:15:00'].\n",
            "\n",
            "📡 mag_RTN - Local .cdf files already exist:\n",
            "📂 ../data/psp/fields/l2/mag_rtn/2023/psp_fld_l2_mag_RTN_2023062200_v02.cdf, ../data/psp/fields/l2/mag_rtn/2023/psp_fld_l2_mag_RTN_2023062206_v02.cdf\n",
            "📡 mag_RTN - Local .cdf files already exist:\n",
            "📂 ../data/psp/fields/l2/mag_rtn/2023/psp_fld_l2_mag_RTN_2023062200_v02.cdf, ../data/psp/fields/l2/mag_rtn/2023/psp_fld_l2_mag_RTN_2023062206_v02.cdf\n",
            "📡 mag_RTN - Local .cdf files already exist:\n",
            "📂 ../data/psp/fields/l2/mag_rtn/2023/psp_fld_l2_mag_RTN_2023062200_v02.cdf, ../data/psp/fields/l2/mag_rtn/2023/psp_fld_l2_mag_RTN_2023062206_v02.cdf\n",
            "Creating encounter directory: /Users/robertalexander/GitHub/Plotbot/audio_files/E16\n",
            "Output directory: /Users/robertalexander/GitHub/Plotbot/audio_files/E16/E16_2023_06_22_0545_to_0615\n",
            "Generating markers for time range: 2023/06/22 05:45:00.000 to 2023/06/22 06:15:00.000\n",
            "Number of time points: 527341\n",
            "Data time range: 2023-06-22 05:45:00.002339968 to 2023-06-22 06:14:59.998179328\n",
            "Total markers generated: 3\n",
            "Marker file created: /Users/robertalexander/GitHub/Plotbot/audio_files/E16/E16_2023_06_22_0545_to_0615/E16_PSP_FIELDS_MARKER_SET_2023-06-22_0545_to_0615_6_per_hour.txt\n",
            "Saved mono audio file: /Users/robertalexander/GitHub/Plotbot/audio_files/E16/E16_2023_06_22_0545_to_0615/E16_PSP_MAG_RTN_2023-06-22_0545_to_0615_22000SR_Br.wav\n",
            "Saved mono audio file: /Users/robertalexander/GitHub/Plotbot/audio_files/E16/E16_2023_06_22_0545_to_0615/E16_PSP_MAG_RTN_2023-06-22_0545_to_0615_22000SR_Bt.wav\n",
            "Saved mono audio file: /Users/robertalexander/GitHub/Plotbot/audio_files/E16/E16_2023_06_22_0545_to_0615/E16_PSP_MAG_RTN_2023-06-22_0545_to_0615_22000SR_Bn.wav\n",
            "Saved mono audio file: /Users/robertalexander/GitHub/Plotbot/audio_files/E16/E16_2023_06_22_0545_to_0615/E16_PSP_MAG_RTN_2023-06-22_0545_to_0615_22000SR_Bmag.wav\n"
          ]
        },
        {
          "data": {
            "application/vnd.jupyter.widget-view+json": {
              "model_id": "61a7b7b32c7a4392966fce4c397817e3",
              "version_major": 2,
              "version_minor": 0
            },
            "text/plain": [
              "Button(description='Show Directory', style=ButtonStyle())"
            ]
          },
          "metadata": {},
          "output_type": "display_data"
        },
        {
          "data": {
            "application/vnd.jupyter.widget-view+json": {
              "model_id": "1155cd53f1354ac0bb2dc4076fce49ed",
              "version_major": 2,
              "version_minor": 0
            },
            "text/plain": [
              "Button(description='Open markers', style=ButtonStyle())"
            ]
          },
          "metadata": {},
          "output_type": "display_data"
        },
        {
          "data": {
            "application/vnd.jupyter.widget-view+json": {
              "model_id": "f5aa507531584a6ba227ee365a401cdc",
              "version_major": 2,
              "version_minor": 0
            },
            "text/plain": [
              "Button(description='Open br', style=ButtonStyle())"
            ]
          },
          "metadata": {},
          "output_type": "display_data"
        },
        {
          "data": {
            "application/vnd.jupyter.widget-view+json": {
              "model_id": "9d8d1082a21445babcfdb665a8068932",
              "version_major": 2,
              "version_minor": 0
            },
            "text/plain": [
              "Button(description='Open bt', style=ButtonStyle())"
            ]
          },
          "metadata": {},
          "output_type": "display_data"
        },
        {
          "data": {
            "application/vnd.jupyter.widget-view+json": {
              "model_id": "bab43a650bc04d00bb43f6bfa06d046e",
              "version_major": 2,
              "version_minor": 0
            },
            "text/plain": [
              "Button(description='Open bn', style=ButtonStyle())"
            ]
          },
          "metadata": {},
          "output_type": "display_data"
        },
        {
          "data": {
            "application/vnd.jupyter.widget-view+json": {
              "model_id": "757a1a2de7504b7eb0ecfe9749e06dae",
              "version_major": 2,
              "version_minor": 0
            },
            "text/plain": [
              "Button(description='Open bmag', style=ButtonStyle())"
            ]
          },
          "metadata": {},
          "output_type": "display_data"
        },
        {
          "data": {
            "text/plain": [
              "{'markers': '/Users/robertalexander/GitHub/Plotbot/audio_files/E16/E16_2023_06_22_0545_to_0615/E16_PSP_FIELDS_MARKER_SET_2023-06-22_0545_to_0615_6_per_hour.txt',\n",
              " 'br': '/Users/robertalexander/GitHub/Plotbot/audio_files/E16/E16_2023_06_22_0545_to_0615/E16_PSP_MAG_RTN_2023-06-22_0545_to_0615_22000SR_Br.wav',\n",
              " 'bt': '/Users/robertalexander/GitHub/Plotbot/audio_files/E16/E16_2023_06_22_0545_to_0615/E16_PSP_MAG_RTN_2023-06-22_0545_to_0615_22000SR_Bt.wav',\n",
              " 'bn': '/Users/robertalexander/GitHub/Plotbot/audio_files/E16/E16_2023_06_22_0545_to_0615/E16_PSP_MAG_RTN_2023-06-22_0545_to_0615_22000SR_Bn.wav',\n",
              " 'bmag': '/Users/robertalexander/GitHub/Plotbot/audio_files/E16/E16_2023_06_22_0545_to_0615/E16_PSP_MAG_RTN_2023-06-22_0545_to_0615_22000SR_Bmag.wav'}"
            ]
          },
          "execution_count": 5,
          "metadata": {},
          "output_type": "execute_result"
        }
      ],
      "source": [
        "# Optionally change markers per hour from default 120\n",
        "audifier.markers_per_hour = 6  # 1 marker every 10 seconds = 360 markers per hour,\n",
        "audifier.markers_only = False  # Default setting\n",
        "audifier.quantize_markers = True  # hourly\n",
        "audifier.sample_rate = 22000 # Or try 16000 to slow down playback\n",
        "\n",
        "audifier.channels = 1\n",
        "\n",
        "# trange = ['2024-09-27/05:15.000', '2024-10-03/05:15.000']  # Enc 21\n",
        "\n",
        "# trange = ['2025-03-23/17:30:00.000', '2025-03-23/18:30:00.000']  # Enc 23 Flapping Proof?\n",
        "# trange = ['2025-03-23 17:56:00.000', '2025-03-23 18:06:00.000']  # Enc 23 Flapping Proof Zoom\n",
        "# trange = ['2021/04/29 07:45:00.000', '2021/04/29 08:20:00.000'] # Jaye's E8 Region\n",
        "# trange = ['2021/04/28 07:45:00.000', '2021/04/28 08:20:00.000'] # Jaye's E8 Region\n",
        "trange = ['2023/06/22 05:45:00.000', '2023/06/22 06:15:00.000'] # \n",
        "# trange = ['2025/06/16 09:31:00.000', '2025/06/22 09:31:00.000']  # Enc 24 perihelion +/- 3 days\n",
        "\n",
        "\n",
        "print(trange)\n",
        "print(f\"🔊 Audifier configured:\")\n",
        "print(f\"   Markers per hour: {audifier.markers_per_hour}\")\n",
        "print(f\"   Sample rate: {audifier.sample_rate} Hz\")\n",
        "print(f\"   Channels: {audifier.channels}\")\n",
        "print(f\"   Markers only: {audifier.markers_only}\")\n",
        "\n",
        "\n",
        "# Create audio files and markers from any components\n",
        "# audifier.audify(trange, mag_rtn_4sa.br, mag_rtn_4sa.bt, mag_rtn_4sa.bn, mag_rtn_4sa.bmag)\n",
        "# plotbot(trange, mag_rtn.br, 1, mag_rtn.bt, 2, mag_rtn.bn, 3, mag_rtn.bmag, 4)\n",
        "audifier.audify(trange, mag_rtn.br, mag_rtn.bt, mag_rtn.bn, mag_rtn.bmag)\n"
      ]
    },
    {
      "cell_type": "code",
      "execution_count": 6,
      "metadata": {},
      "outputs": [
        {
          "name": "stdout",
          "output_type": "stream",
          "text": [
            "🚀 vdyes() - Processing trange: ['2023/06/22 05:45:00.000', '2023/06/22 06:15:00.000']\n",
            "📡 Downloading PSP SPAN-I data using proven pyspedas approach...\n",
            "📡 Checking/downloading VDF files with proper filtering...\n"
          ]
        },
        {
          "name": "stderr",
          "output_type": "stream",
          "text": [
            "23-Sep-25 16:35:45: Downloading https://spdf.gsfc.nasa.gov/pub/data/psp/sweap/spi/l2/spi_sf00_8dx32ex8a/2023/psp_swp_spi_sf00_l2_8dx32ex8a_20230622_v04.cdf to /Users/robertalexander/GitHub/Plotbot/data/psp/sweap/spi/l2/spi_sf00_8dx32ex8a/2023/psp_swp_spi_sf00_l2_8dx32ex8a_20230622_v04.cdf\n",
            "23-Sep-25 16:38:48: Download of /Users/robertalexander/GitHub/Plotbot/data/psp/sweap/spi/l2/spi_sf00_8dx32ex8a/2023/psp_swp_spi_sf00_l2_8dx32ex8a_20230622_v04.cdf complete, 1935.754 MB in 182.7 sec (10.597 MB/sec) (transfer_normal)\n"
          ]
        },
        {
          "name": "stdout",
          "output_type": "stream",
          "text": [
            "📁 Downloaded: /Users/robertalexander/GitHub/Plotbot/data/psp/sweap/spi/l2/spi_sf00_8dx32ex8a/2023/psp_swp_spi_sf00_l2_8dx32ex8a_20230622_v04.cdf\n",
            "📊 Found 1030 time points in trange: ['2023/06/22 05:45:00.000', '2023/06/22 06:15:00.000']\n",
            "🎛️ Widget mode: 1030 time points → interactive time slider\n",
            "🎛️ Creating VDF widget with 1030 time points...\n",
            "🔗 Button handlers connected successfully\n"
          ]
        },
        {
          "data": {
            "application/vnd.jupyter.widget-view+json": {
              "model_id": "cb42d6330b324ce4a1304612eed7850e",
              "version_major": 2,
              "version_minor": 0
            },
            "text/plain": [
              "VBox(children=(HBox(children=(Label(value='Time:', layout=Layout(width='50px')), IntSlider(value=0, layout=Lay…"
            ]
          },
          "metadata": {},
          "output_type": "display_data"
        },
        {
          "name": "stdout",
          "output_type": "stream",
          "text": [
            "✅ VDF widget created! 1030 time points available\n",
            "   Time range: 2023-06-22 05:45:01.651217 to 2023-06-22 06:14:59.967762\n",
            "   💾 Save location: Current directory (/Users/robertalexander/GitHub/Plotbot/example_notebooks) - Use 'Change Save Directory' to modify\n"
          ]
        },
        {
          "data": {
            "application/vnd.jupyter.widget-view+json": {
              "model_id": "cb42d6330b324ce4a1304612eed7850e",
              "version_major": 2,
              "version_minor": 0
            },
            "text/plain": [
              "VBox(children=(HBox(children=(Label(value='Time:', layout=Layout(width='50px')), IntSlider(value=0, layout=Lay…"
            ]
          },
          "execution_count": 6,
          "metadata": {},
          "output_type": "execute_result"
        }
      ],
      "source": [
        "vdyes(trange)"
      ]
    }
  ],
  "metadata": {
    "kernelspec": {
      "display_name": "Python 3",
      "language": "python",
      "name": "python3"
    },
    "language_info": {
      "codemirror_mode": {
        "name": "ipython",
        "version": 3
      },
      "file_extension": ".py",
      "mimetype": "text/x-python",
      "name": "python",
      "nbconvert_exporter": "python",
      "pygments_lexer": "ipython3",
      "version": "3.12.4"
    }
  },
  "nbformat": 4,
  "nbformat_minor": 2
}
