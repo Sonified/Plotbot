{
  "cells": [
    {
      "cell_type": "markdown",
      "metadata": {
        "vscode": {
          "languageId": "raw"
        }
      },
      "source": [
        "# Plotbot Audification Examples 🔊🌞\n",
        "\n",
        "## Parker Solar Probe Encounter 8 - Wave-Particle Interactions Audification\n",
        "\n",
        "This notebook demonstrates how to create audio representations of Parker Solar Probe magnetic field data. This specific time regions includes wave-particle interactions occurring upstream of a Heliospheric Current Sheet (HCS) crossing during Encounter 8. The audification process converts time series data into audio, allowing us to \"hear\" these complex plasma dynamics and magnetic field variations.\n",
        "\n",
        "### Event Details 🌌\n",
        "- **Encounter 8**: April 29, 2021 (07:45 - 08:20 UTC)\n",
        "- **Phenomenon**: Wave-particle interactions upstream of HCS crossing\n",
        "- **Data Source**: Jaye's E8 Region analysis\n",
        "- **Significance**: Audio reveals plasma physics processes in the solar wind\n"
      ]
    },
    {
      "cell_type": "code",
      "execution_count": null,
      "metadata": {},
      "outputs": [
        {
          "name": "stdout",
          "output_type": "stream",
          "text": [
            "\n",
            "🕒 Starting import timing session: plotbot_full_initialization\n",
            "  ✅ matplotlib.pyplot: 0.386s\n",
            "  ✅ numpy: 0.000s\n",
            "  🔧 Starting block: core_components\n",
            "initialized server_access\n",
            "initialized global_tracker\n",
            "initialized ploptions\n",
            "initialized plot_manager\n",
            "initialized epad class\n",
            "initialized epad_hr class\n",
            "initialized proton class\n",
            "initialized proton_hr class\n",
            "initialized ham_class\n",
            "initialized psp_alpha class\n",
            "initialized psp_qtn class\n",
            "initialized psp_orbit class\n",
            "initialized psp_span_vdf class\n",
            "initialized data_cubby.\n",
            "CDF classes added to data_cubby type map.\n",
            "  ✅ Block 'core_components' completed in 1.101s\n",
            "  🔧 Starting block: psp_data_classes\n",
            "initialized proton_fits class\n",
            "initialized alpha_fits class\n",
            "  ✅ Block 'psp_data_classes' completed in 0.002s\n",
            "  🔧 Starting block: wind_data_classes\n",
            "  ✅ Block 'wind_data_classes' completed in 0.000s\n",
            "  🔧 Starting block: custom_cdf_classes\n",
            "  ✅ Block 'custom_cdf_classes' completed in 0.000s\n",
            "  🔧 Starting block: data_cubby_registration\n",
            "  ✅ Block 'data_cubby_registration' completed in 0.001s\n",
            "  🔧 Starting block: auto_register_custom_classes\n",
            "  ✅ Block 'auto_register_custom_classes' completed in 0.002s\n",
            "  🔧 Starting block: custom_variables\n",
            "  ✅ Block 'custom_variables' completed in 0.000s\n",
            "No save directory previously set. Defaulting to: ./audio_files\n",
            "🔉 initialized audifier\n",
            "  ✅ from plotbot import audifier: 0.082s\n",
            "  🔧 Starting block: enhanced_plt\n",
            "  ✅ Block 'enhanced_plt' completed in 0.000s\n",
            "  🔧 Starting block: main_plotting_functions\n",
            "\n",
            "Importing libraries, this may take a moment. Hold tight... \n",
            "\n",
            "✅ Imported standard libraries and utilities.\n",
            "✅ Deferred numpy, pandas, and scipy libraries (loaded when needed).\n",
            "✅ Deferred matplotlib libraries (loaded when needed).\n",
            "✅ Imported cdflib, BeautifulSoup, requests, dateutil, and datetime libraries.\n",
            "\n",
            "🤖 Plotbot Initialized\n",
            "✨ Showdahodo initialized\n",
            "Positional Data Helper Initialized\n",
            "📈📉 Multiplot Initialized\n",
            "  ✅ Block 'main_plotting_functions' completed in 1.392s\n",
            "  🔧 Starting block: cdf_functions\n",
            "  ✅ Block 'cdf_functions' completed in 0.001s\n",
            "\n",
            "🤖 Plotbot Initialized\n",
            "📈📉 Multiplot Initialized\n",
            "   Version: 2025_09_10_v3.29\n",
            "   Commit: v3.29 Config: Set default data directory to 'default' in Plotbot.ipynb\n",
            "\n",
            "\n",
            "🏁 Session 'plotbot_full_initialization' completed in 2.968s\n",
            "\n",
            "============================================================\n",
            "📊 IMPORT TIMING REPORT - plotbot_full_initialization\n",
            "============================================================\n",
            "Total session time: 2.968s\n",
            "\n",
            "🐌 SLOWEST IMPORTS (Top 3):\n",
            "--------------------------------------------------\n",
            " 1. matplotlib.pyplot               0.386s (82.6%)\n",
            " 2. from plotbot import audifier    0.082s (17.4%)\n",
            " 3. numpy                           0.000s ( 0.0%)\n",
            "\n",
            "🔧 BLOCK TIMING SUMMARY:\n",
            "--------------------------------------------------\n",
            "core_components                 1.101s (avg: 1.101s, runs: 1)\n",
            "psp_data_classes                0.002s (avg: 0.002s, runs: 1)\n",
            "wind_data_classes               0.000s (avg: 0.000s, runs: 1)\n",
            "custom_cdf_classes              0.000s (avg: 0.000s, runs: 1)\n",
            "data_cubby_registration         0.001s (avg: 0.001s, runs: 1)\n",
            "auto_register_custom_classes    0.002s (avg: 0.002s, runs: 1)\n",
            "custom_variables                0.000s (avg: 0.000s, runs: 1)\n",
            "enhanced_plt                    0.000s (avg: 0.000s, runs: 1)\n",
            "main_plotting_functions         1.392s (avg: 1.392s, runs: 1)\n",
            "cdf_functions                   0.001s (avg: 0.001s, runs: 1)\n",
            "\n",
            "⏰ IMPORT TIMELINE:\n",
            "--------------------------------------------------\n",
            " 0.000s: matplotlib.pyplot              (+0.386s)\n",
            " 0.387s: numpy                          (+0.000s)\n",
            " 1.493s: from plotbot import audifier   (+0.082s)\n",
            "\n",
            "💡 OPTIMIZATION SUGGESTIONS:\n",
            "--------------------------------------------------\n",
            "• Matplotlib imports: 0.4s - good candidate for lazy loading\n",
            "• Focus optimization on imports >0.5s for maximum impact\n"
          ]
        }
      ],
      "source": [
        "# Import plotbot and initialize\n",
        "from plotbot import *\n",
        "import numpy as np\n",
        "from datetime import datetime, timedelta\n",
        "\n",
        "# 📁 DATA DIRECTORY CONFIGURATION\n",
        "# Point plotbot to the main project's data directory\n",
        "import os\n",
        "\n",
        "# Step 1: Get current directory (example_notebooks/)\n",
        "current_dir = os.getcwd()\n",
        "\n",
        "# Step 2: Get parent directory (main Plotbot project folder)  \n",
        "parent_dir = os.path.dirname(current_dir)\n",
        "\n",
        "# Step 3: Point to main data folder: /path/to/Plotbot/data/\n",
        "main_data_dir = os.path.join(parent_dir, 'data')\n",
        "\n",
        "# Step 4: Configure plotbot to use main data directory instead of creating ./data/\n",
        "config.data_dir = main_data_dir\n",
        "\n",
        "print(f\"📁 Data directory configured: {config.data_dir}\")\n",
        "print(f\"   (instead of creating data/ in the default location: {current_dir})\")\n"
      ]
    },
    {
      "cell_type": "code",
      "execution_count": null,
      "metadata": {},
      "outputs": [
        {
          "name": "stdout",
          "output_type": "stream",
          "text": [
            "📁 Data directory configured: /Users/robertalexander/GitHub/Plotbot/data\n",
            "   (instead of creating data/ in the default location: /Users/robertalexander/GitHub/Plotbot/example_notebooks)\n"
          ]
        }
      ],
      "source": [
        "# 📁 DATA DIRECTORY CONFIGURATION\n",
        "# Point plotbot to the main project's data directory\n",
        "\n",
        "import os\n",
        "\n",
        "# Step 1: Get current directory (example_notebooks/)\n",
        "current_dir = os.getcwd()\n",
        "\n",
        "# Step 2: Get parent directory (main Plotbot project folder)  \n",
        "parent_dir = os.path.dirname(current_dir)\n",
        "\n",
        "# Step 3: Point to main data folder: /path/to/Plotbot/data/\n",
        "main_data_dir = os.path.join(parent_dir, 'data')\n",
        "\n",
        "# Step 4: Configure plotbot to use main data directory instead of creating ./data/\n",
        "config.data_dir = main_data_dir\n",
        "\n",
        "print(f\"📁 Data directory configured: {config.data_dir}\")\n",
        "print(f\"   (instead of creating data/ in the default location: {current_dir})\")"
      ]
    },
    {
      "cell_type": "code",
      "execution_count": 3,
      "metadata": {},
      "outputs": [],
      "source": [
        "config.data_server = 'berkeley'"
      ]
    },
    {
      "cell_type": "markdown",
      "metadata": {
        "vscode": {
          "languageId": "raw"
        }
      },
      "source": [
        "## 🔧 Audifier Setup and Configuration\n",
        "\n",
        "First, we'll configure the audifier with optimal settings for perihelion data analysis.\n"
      ]
    },
    {
      "cell_type": "code",
      "execution_count": 4,
      "metadata": {},
      "outputs": [
        {
          "name": "stdout",
          "output_type": "stream",
          "text": [
            "Prompting for new save directory (force_new=True). Current: 'audio_files'\n"
          ]
        },
        {
          "name": "stderr",
          "output_type": "stream",
          "text": [
            "2025-09-11 16:57:18.684 python[42217:2079548] The class 'NSOpenPanel' overrides the method identifier.  This method is implemented by class 'NSWindow'\n"
          ]
        },
        {
          "name": "stdout",
          "output_type": "stream",
          "text": [
            "New save directory set: /Users/robertalexander/Dropbox/__Collaborations/_NASA/_HCS_Crossing_Catalogue/HCS_Crossings/E24\n"
          ]
        },
        {
          "data": {
            "application/vnd.jupyter.widget-view+json": {
              "model_id": "66f76219683b4a6a8f11c3e77d499642",
              "version_major": 2,
              "version_minor": 0
            },
            "text/plain": [
              "Button(button_style='info', description='Open Save Directory', style=ButtonStyle(), tooltip='Click to open the…"
            ]
          },
          "metadata": {},
          "output_type": "display_data"
        },
        {
          "name": "stdout",
          "output_type": "stream",
          "text": [
            "\n"
          ]
        }
      ],
      "source": [
        "# Configure save directory for audio files\n",
        "SET_NEW_SAVE_DIRECTORY = True  # Set to True to choose a new save directory\n",
        "audifier.select_save_dir(force_new=SET_NEW_SAVE_DIRECTORY)\n",
        "print()\n"
      ]
    },
    {
      "cell_type": "code",
      "execution_count": 5,
      "metadata": {},
      "outputs": [],
      "source": [
        "print_manager.show_status = True"
      ]
    },
    {
      "cell_type": "code",
      "execution_count": null,
      "metadata": {},
      "outputs": [
        {
          "name": "stdout",
          "output_type": "stream",
          "text": [
            "['2025/06/16 09:31:00.000', '2025/06/22 09:31:00.000']\n",
            "🔊 Audifier configured:\n",
            "   Markers per hour: 6\n",
            "   Sample rate: 22000 Hz\n",
            "   Channels: 1\n",
            "   Markers only: False\n",
            "Starting audification process...\n",
            "🕒 TimeRangeTracker: Stored trange ['2025/06/16 09:31:00.000', '2025/06/22 09:31:00.000']\n",
            "Authentication required for https://sprg.ssl.berkeley.edu/data/psp/data/sci/fields/l2/mag_RTN/2025/06/\n",
            "Downloading https://sprg.ssl.berkeley.edu/data/psp/data/sci/fields/l2/mag_RTN/2025/06/psp_fld_l2_mag_RTN_2025061806_v02.cdf\n",
            "File /Users/robertalexander/GitHub/Plotbot/data/psp/fields/l2/mag_rtn/2025/psp_fld_l2_mag_RTN_2025061806_v02.cdf downloaded successfully.\n",
            "Downloading https://sprg.ssl.berkeley.edu/data/psp/data/sci/fields/l2/mag_RTN/2025/06/psp_fld_l2_mag_RTN_2025061812_v02.cdf\n",
            "File /Users/robertalexander/GitHub/Plotbot/data/psp/fields/l2/mag_rtn/2025/psp_fld_l2_mag_RTN_2025061812_v02.cdf downloaded successfully.\n",
            "Downloading https://sprg.ssl.berkeley.edu/data/psp/data/sci/fields/l2/mag_RTN/2025/06/psp_fld_l2_mag_RTN_2025061818_v02.cdf\n",
            "File /Users/robertalexander/GitHub/Plotbot/data/psp/fields/l2/mag_rtn/2025/psp_fld_l2_mag_RTN_2025061818_v02.cdf downloaded successfully.\n",
            "Downloading https://sprg.ssl.berkeley.edu/data/psp/data/sci/fields/l2/mag_RTN/2025/06/psp_fld_l2_mag_RTN_2025061900_v02.cdf\n",
            "File /Users/robertalexander/GitHub/Plotbot/data/psp/fields/l2/mag_rtn/2025/psp_fld_l2_mag_RTN_2025061900_v02.cdf downloaded successfully.\n",
            "Downloading https://sprg.ssl.berkeley.edu/data/psp/data/sci/fields/l2/mag_RTN/2025/06/psp_fld_l2_mag_RTN_2025061906_v02.cdf\n",
            "File /Users/robertalexander/GitHub/Plotbot/data/psp/fields/l2/mag_rtn/2025/psp_fld_l2_mag_RTN_2025061906_v02.cdf downloaded successfully.\n",
            "Downloading https://sprg.ssl.berkeley.edu/data/psp/data/sci/fields/l2/mag_RTN/2025/06/psp_fld_l2_mag_RTN_2025061912_v02.cdf\n",
            "File /Users/robertalexander/GitHub/Plotbot/data/psp/fields/l2/mag_rtn/2025/psp_fld_l2_mag_RTN_2025061912_v02.cdf downloaded successfully.\n",
            "Downloading https://sprg.ssl.berkeley.edu/data/psp/data/sci/fields/l2/mag_RTN/2025/06/psp_fld_l2_mag_RTN_2025061918_v02.cdf\n",
            "File /Users/robertalexander/GitHub/Plotbot/data/psp/fields/l2/mag_rtn/2025/psp_fld_l2_mag_RTN_2025061918_v02.cdf downloaded successfully.\n",
            "Downloading https://sprg.ssl.berkeley.edu/data/psp/data/sci/fields/l2/mag_RTN/2025/06/psp_fld_l2_mag_RTN_2025062000_v02.cdf\n",
            "File /Users/robertalexander/GitHub/Plotbot/data/psp/fields/l2/mag_rtn/2025/psp_fld_l2_mag_RTN_2025062000_v02.cdf downloaded successfully.\n",
            "Downloading https://sprg.ssl.berkeley.edu/data/psp/data/sci/fields/l2/mag_RTN/2025/06/psp_fld_l2_mag_RTN_2025062006_v02.cdf\n",
            "File /Users/robertalexander/GitHub/Plotbot/data/psp/fields/l2/mag_rtn/2025/psp_fld_l2_mag_RTN_2025062006_v02.cdf downloaded successfully.\n",
            "Downloading https://sprg.ssl.berkeley.edu/data/psp/data/sci/fields/l2/mag_RTN/2025/06/psp_fld_l2_mag_RTN_2025062012_v02.cdf\n",
            "File /Users/robertalexander/GitHub/Plotbot/data/psp/fields/l2/mag_rtn/2025/psp_fld_l2_mag_RTN_2025062012_v02.cdf downloaded successfully.\n",
            "Downloading https://sprg.ssl.berkeley.edu/data/psp/data/sci/fields/l2/mag_RTN/2025/06/psp_fld_l2_mag_RTN_2025062018_v02.cdf\n",
            "File /Users/robertalexander/GitHub/Plotbot/data/psp/fields/l2/mag_rtn/2025/psp_fld_l2_mag_RTN_2025062018_v02.cdf downloaded successfully.\n",
            "Downloading https://sprg.ssl.berkeley.edu/data/psp/data/sci/fields/l2/mag_RTN/2025/06/psp_fld_l2_mag_RTN_2025062100_v02.cdf\n",
            "File /Users/robertalexander/GitHub/Plotbot/data/psp/fields/l2/mag_rtn/2025/psp_fld_l2_mag_RTN_2025062100_v02.cdf downloaded successfully.\n",
            "Downloading https://sprg.ssl.berkeley.edu/data/psp/data/sci/fields/l2/mag_RTN/2025/06/psp_fld_l2_mag_RTN_2025062106_v02.cdf\n",
            "File /Users/robertalexander/GitHub/Plotbot/data/psp/fields/l2/mag_rtn/2025/psp_fld_l2_mag_RTN_2025062106_v02.cdf downloaded successfully.\n",
            "Downloading https://sprg.ssl.berkeley.edu/data/psp/data/sci/fields/l2/mag_RTN/2025/06/psp_fld_l2_mag_RTN_2025062112_v02.cdf\n",
            "File /Users/robertalexander/GitHub/Plotbot/data/psp/fields/l2/mag_rtn/2025/psp_fld_l2_mag_RTN_2025062112_v02.cdf downloaded successfully.\n",
            "Downloading https://sprg.ssl.berkeley.edu/data/psp/data/sci/fields/l2/mag_RTN/2025/06/psp_fld_l2_mag_RTN_2025062118_v02.cdf\n",
            "File /Users/robertalexander/GitHub/Plotbot/data/psp/fields/l2/mag_rtn/2025/psp_fld_l2_mag_RTN_2025062118_v02.cdf downloaded successfully.\n",
            "Downloading https://sprg.ssl.berkeley.edu/data/psp/data/sci/fields/l2/mag_RTN/2025/06/psp_fld_l2_mag_RTN_2025062200_v02.cdf\n",
            "File /Users/robertalexander/GitHub/Plotbot/data/psp/fields/l2/mag_rtn/2025/psp_fld_l2_mag_RTN_2025062200_v02.cdf downloaded successfully.\n",
            "Downloading https://sprg.ssl.berkeley.edu/data/psp/data/sci/fields/l2/mag_RTN/2025/06/psp_fld_l2_mag_RTN_2025062206_v02.cdf\n",
            "File /Users/robertalexander/GitHub/Plotbot/data/psp/fields/l2/mag_rtn/2025/psp_fld_l2_mag_RTN_2025062206_v02.cdf downloaded successfully.\n",
            "☑️ - CDF Data import complete for mag_RTN range ['2025/06/16 09:31:00', '2025/06/22 09:31:00'].\n",
            "\n",
            "📡 mag_RTN - Local .cdf files already exist:\n",
            "📂 /Users/robertalexander/GitHub/Plotbot/data/psp/fields/l2/mag_rtn/2025/psp_fld_l2_mag_RTN_2025061606_v00.cdf, /Users/robertalexander/GitHub/Plotbot/data/psp/fields/l2/mag_rtn/2025/psp_fld_l2_mag_RTN_2025061606_v02.cdf, /Users/robertalexander/GitHub/Plotbot/data/psp/fields/l2/mag_rtn/2025/psp_fld_l2_mag_RTN_2025061612_v00.cdf, /Users/robertalexander/GitHub/Plotbot/data/psp/fields/l2/mag_rtn/2025/psp_fld_l2_mag_RTN_2025061612_v02.cdf, /Users/robertalexander/GitHub/Plotbot/data/psp/fields/l2/mag_rtn/2025/psp_fld_l2_mag_RTN_2025061618_v00.cdf, /Users/robertalexander/GitHub/Plotbot/data/psp/fields/l2/mag_rtn/2025/psp_fld_l2_mag_RTN_2025061618_v02.cdf, /Users/robertalexander/GitHub/Plotbot/data/psp/fields/l2/mag_rtn/2025/psp_fld_l2_mag_RTN_2025061700_v00.cdf, /Users/robertalexander/GitHub/Plotbot/data/psp/fields/l2/mag_rtn/2025/psp_fld_l2_mag_RTN_2025061700_v02.cdf, /Users/robertalexander/GitHub/Plotbot/data/psp/fields/l2/mag_rtn/2025/psp_fld_l2_mag_RTN_2025061706_v00.cdf, /Users/robertalexander/GitHub/Plotbot/data/psp/fields/l2/mag_rtn/2025/psp_fld_l2_mag_RTN_2025061706_v02.cdf, /Users/robertalexander/GitHub/Plotbot/data/psp/fields/l2/mag_rtn/2025/psp_fld_l2_mag_RTN_2025061712_v00.cdf, /Users/robertalexander/GitHub/Plotbot/data/psp/fields/l2/mag_rtn/2025/psp_fld_l2_mag_RTN_2025061712_v02.cdf, /Users/robertalexander/GitHub/Plotbot/data/psp/fields/l2/mag_rtn/2025/psp_fld_l2_mag_RTN_2025061718_v00.cdf, /Users/robertalexander/GitHub/Plotbot/data/psp/fields/l2/mag_rtn/2025/psp_fld_l2_mag_RTN_2025061718_v02.cdf, /Users/robertalexander/GitHub/Plotbot/data/psp/fields/l2/mag_rtn/2025/psp_fld_l2_mag_RTN_2025061800_v02.cdf, /Users/robertalexander/GitHub/Plotbot/data/psp/fields/l2/mag_rtn/2025/psp_fld_l2_mag_RTN_2025061800_v00.cdf, /Users/robertalexander/GitHub/Plotbot/data/psp/fields/l2/mag_rtn/2025/psp_fld_l2_mag_RTN_2025061806_v02.cdf, /Users/robertalexander/GitHub/Plotbot/data/psp/fields/l2/mag_rtn/2025/psp_fld_l2_mag_RTN_2025061806_v00.cdf, /Users/robertalexander/GitHub/Plotbot/data/psp/fields/l2/mag_rtn/2025/psp_fld_l2_mag_RTN_2025061812_v02.cdf, /Users/robertalexander/GitHub/Plotbot/data/psp/fields/l2/mag_rtn/2025/psp_fld_l2_mag_RTN_2025061812_v00.cdf, /Users/robertalexander/GitHub/Plotbot/data/psp/fields/l2/mag_rtn/2025/psp_fld_l2_mag_RTN_2025061818_v02.cdf, /Users/robertalexander/GitHub/Plotbot/data/psp/fields/l2/mag_rtn/2025/psp_fld_l2_mag_RTN_2025061818_v00.cdf, /Users/robertalexander/GitHub/Plotbot/data/psp/fields/l2/mag_rtn/2025/psp_fld_l2_mag_RTN_2025061900_v02.cdf, /Users/robertalexander/GitHub/Plotbot/data/psp/fields/l2/mag_rtn/2025/psp_fld_l2_mag_RTN_2025061900_v00.cdf, /Users/robertalexander/GitHub/Plotbot/data/psp/fields/l2/mag_rtn/2025/psp_fld_l2_mag_RTN_2025061906_v02.cdf, /Users/robertalexander/GitHub/Plotbot/data/psp/fields/l2/mag_rtn/2025/psp_fld_l2_mag_RTN_2025061906_v00.cdf, /Users/robertalexander/GitHub/Plotbot/data/psp/fields/l2/mag_rtn/2025/psp_fld_l2_mag_RTN_2025061912_v02.cdf, /Users/robertalexander/GitHub/Plotbot/data/psp/fields/l2/mag_rtn/2025/psp_fld_l2_mag_RTN_2025061912_v00.cdf, /Users/robertalexander/GitHub/Plotbot/data/psp/fields/l2/mag_rtn/2025/psp_fld_l2_mag_RTN_2025061918_v02.cdf, /Users/robertalexander/GitHub/Plotbot/data/psp/fields/l2/mag_rtn/2025/psp_fld_l2_mag_RTN_2025061918_v00.cdf, /Users/robertalexander/GitHub/Plotbot/data/psp/fields/l2/mag_rtn/2025/psp_fld_l2_mag_RTN_2025062000_v00.cdf, /Users/robertalexander/GitHub/Plotbot/data/psp/fields/l2/mag_rtn/2025/psp_fld_l2_mag_RTN_2025062000_v02.cdf, /Users/robertalexander/GitHub/Plotbot/data/psp/fields/l2/mag_rtn/2025/psp_fld_l2_mag_RTN_2025062006_v00.cdf, /Users/robertalexander/GitHub/Plotbot/data/psp/fields/l2/mag_rtn/2025/psp_fld_l2_mag_RTN_2025062006_v02.cdf, /Users/robertalexander/GitHub/Plotbot/data/psp/fields/l2/mag_rtn/2025/psp_fld_l2_mag_RTN_2025062012_v00.cdf, /Users/robertalexander/GitHub/Plotbot/data/psp/fields/l2/mag_rtn/2025/psp_fld_l2_mag_RTN_2025062012_v02.cdf, /Users/robertalexander/GitHub/Plotbot/data/psp/fields/l2/mag_rtn/2025/psp_fld_l2_mag_RTN_2025062018_v00.cdf, /Users/robertalexander/GitHub/Plotbot/data/psp/fields/l2/mag_rtn/2025/psp_fld_l2_mag_RTN_2025062018_v02.cdf, /Users/robertalexander/GitHub/Plotbot/data/psp/fields/l2/mag_rtn/2025/psp_fld_l2_mag_RTN_2025062100_v02.cdf, /Users/robertalexander/GitHub/Plotbot/data/psp/fields/l2/mag_rtn/2025/psp_fld_l2_mag_RTN_2025062106_v02.cdf, /Users/robertalexander/GitHub/Plotbot/data/psp/fields/l2/mag_rtn/2025/psp_fld_l2_mag_RTN_2025062112_v02.cdf, /Users/robertalexander/GitHub/Plotbot/data/psp/fields/l2/mag_rtn/2025/psp_fld_l2_mag_RTN_2025062118_v02.cdf, /Users/robertalexander/GitHub/Plotbot/data/psp/fields/l2/mag_rtn/2025/psp_fld_l2_mag_RTN_2025062200_v02.cdf, /Users/robertalexander/GitHub/Plotbot/data/psp/fields/l2/mag_rtn/2025/psp_fld_l2_mag_RTN_2025062206_v02.cdf\n",
            "📡 mag_RTN - Local .cdf files already exist:\n",
            "📂 /Users/robertalexander/GitHub/Plotbot/data/psp/fields/l2/mag_rtn/2025/psp_fld_l2_mag_RTN_2025061606_v00.cdf, /Users/robertalexander/GitHub/Plotbot/data/psp/fields/l2/mag_rtn/2025/psp_fld_l2_mag_RTN_2025061606_v02.cdf, /Users/robertalexander/GitHub/Plotbot/data/psp/fields/l2/mag_rtn/2025/psp_fld_l2_mag_RTN_2025061612_v00.cdf, /Users/robertalexander/GitHub/Plotbot/data/psp/fields/l2/mag_rtn/2025/psp_fld_l2_mag_RTN_2025061612_v02.cdf, /Users/robertalexander/GitHub/Plotbot/data/psp/fields/l2/mag_rtn/2025/psp_fld_l2_mag_RTN_2025061618_v00.cdf, /Users/robertalexander/GitHub/Plotbot/data/psp/fields/l2/mag_rtn/2025/psp_fld_l2_mag_RTN_2025061618_v02.cdf, /Users/robertalexander/GitHub/Plotbot/data/psp/fields/l2/mag_rtn/2025/psp_fld_l2_mag_RTN_2025061700_v00.cdf, /Users/robertalexander/GitHub/Plotbot/data/psp/fields/l2/mag_rtn/2025/psp_fld_l2_mag_RTN_2025061700_v02.cdf, /Users/robertalexander/GitHub/Plotbot/data/psp/fields/l2/mag_rtn/2025/psp_fld_l2_mag_RTN_2025061706_v00.cdf, /Users/robertalexander/GitHub/Plotbot/data/psp/fields/l2/mag_rtn/2025/psp_fld_l2_mag_RTN_2025061706_v02.cdf, /Users/robertalexander/GitHub/Plotbot/data/psp/fields/l2/mag_rtn/2025/psp_fld_l2_mag_RTN_2025061712_v00.cdf, /Users/robertalexander/GitHub/Plotbot/data/psp/fields/l2/mag_rtn/2025/psp_fld_l2_mag_RTN_2025061712_v02.cdf, /Users/robertalexander/GitHub/Plotbot/data/psp/fields/l2/mag_rtn/2025/psp_fld_l2_mag_RTN_2025061718_v00.cdf, /Users/robertalexander/GitHub/Plotbot/data/psp/fields/l2/mag_rtn/2025/psp_fld_l2_mag_RTN_2025061718_v02.cdf, /Users/robertalexander/GitHub/Plotbot/data/psp/fields/l2/mag_rtn/2025/psp_fld_l2_mag_RTN_2025061800_v02.cdf, /Users/robertalexander/GitHub/Plotbot/data/psp/fields/l2/mag_rtn/2025/psp_fld_l2_mag_RTN_2025061800_v00.cdf, /Users/robertalexander/GitHub/Plotbot/data/psp/fields/l2/mag_rtn/2025/psp_fld_l2_mag_RTN_2025061806_v02.cdf, /Users/robertalexander/GitHub/Plotbot/data/psp/fields/l2/mag_rtn/2025/psp_fld_l2_mag_RTN_2025061806_v00.cdf, /Users/robertalexander/GitHub/Plotbot/data/psp/fields/l2/mag_rtn/2025/psp_fld_l2_mag_RTN_2025061812_v02.cdf, /Users/robertalexander/GitHub/Plotbot/data/psp/fields/l2/mag_rtn/2025/psp_fld_l2_mag_RTN_2025061812_v00.cdf, /Users/robertalexander/GitHub/Plotbot/data/psp/fields/l2/mag_rtn/2025/psp_fld_l2_mag_RTN_2025061818_v02.cdf, /Users/robertalexander/GitHub/Plotbot/data/psp/fields/l2/mag_rtn/2025/psp_fld_l2_mag_RTN_2025061818_v00.cdf, /Users/robertalexander/GitHub/Plotbot/data/psp/fields/l2/mag_rtn/2025/psp_fld_l2_mag_RTN_2025061900_v02.cdf, /Users/robertalexander/GitHub/Plotbot/data/psp/fields/l2/mag_rtn/2025/psp_fld_l2_mag_RTN_2025061900_v00.cdf, /Users/robertalexander/GitHub/Plotbot/data/psp/fields/l2/mag_rtn/2025/psp_fld_l2_mag_RTN_2025061906_v02.cdf, /Users/robertalexander/GitHub/Plotbot/data/psp/fields/l2/mag_rtn/2025/psp_fld_l2_mag_RTN_2025061906_v00.cdf, /Users/robertalexander/GitHub/Plotbot/data/psp/fields/l2/mag_rtn/2025/psp_fld_l2_mag_RTN_2025061912_v02.cdf, /Users/robertalexander/GitHub/Plotbot/data/psp/fields/l2/mag_rtn/2025/psp_fld_l2_mag_RTN_2025061912_v00.cdf, /Users/robertalexander/GitHub/Plotbot/data/psp/fields/l2/mag_rtn/2025/psp_fld_l2_mag_RTN_2025061918_v02.cdf, /Users/robertalexander/GitHub/Plotbot/data/psp/fields/l2/mag_rtn/2025/psp_fld_l2_mag_RTN_2025061918_v00.cdf, /Users/robertalexander/GitHub/Plotbot/data/psp/fields/l2/mag_rtn/2025/psp_fld_l2_mag_RTN_2025062000_v00.cdf, /Users/robertalexander/GitHub/Plotbot/data/psp/fields/l2/mag_rtn/2025/psp_fld_l2_mag_RTN_2025062000_v02.cdf, /Users/robertalexander/GitHub/Plotbot/data/psp/fields/l2/mag_rtn/2025/psp_fld_l2_mag_RTN_2025062006_v00.cdf, /Users/robertalexander/GitHub/Plotbot/data/psp/fields/l2/mag_rtn/2025/psp_fld_l2_mag_RTN_2025062006_v02.cdf, /Users/robertalexander/GitHub/Plotbot/data/psp/fields/l2/mag_rtn/2025/psp_fld_l2_mag_RTN_2025062012_v00.cdf, /Users/robertalexander/GitHub/Plotbot/data/psp/fields/l2/mag_rtn/2025/psp_fld_l2_mag_RTN_2025062012_v02.cdf, /Users/robertalexander/GitHub/Plotbot/data/psp/fields/l2/mag_rtn/2025/psp_fld_l2_mag_RTN_2025062018_v00.cdf, /Users/robertalexander/GitHub/Plotbot/data/psp/fields/l2/mag_rtn/2025/psp_fld_l2_mag_RTN_2025062018_v02.cdf, /Users/robertalexander/GitHub/Plotbot/data/psp/fields/l2/mag_rtn/2025/psp_fld_l2_mag_RTN_2025062100_v02.cdf, /Users/robertalexander/GitHub/Plotbot/data/psp/fields/l2/mag_rtn/2025/psp_fld_l2_mag_RTN_2025062106_v02.cdf, /Users/robertalexander/GitHub/Plotbot/data/psp/fields/l2/mag_rtn/2025/psp_fld_l2_mag_RTN_2025062112_v02.cdf, /Users/robertalexander/GitHub/Plotbot/data/psp/fields/l2/mag_rtn/2025/psp_fld_l2_mag_RTN_2025062118_v02.cdf, /Users/robertalexander/GitHub/Plotbot/data/psp/fields/l2/mag_rtn/2025/psp_fld_l2_mag_RTN_2025062200_v02.cdf, /Users/robertalexander/GitHub/Plotbot/data/psp/fields/l2/mag_rtn/2025/psp_fld_l2_mag_RTN_2025062206_v02.cdf\n",
            "📡 mag_RTN - Local .cdf files already exist:\n",
            "📂 /Users/robertalexander/GitHub/Plotbot/data/psp/fields/l2/mag_rtn/2025/psp_fld_l2_mag_RTN_2025061606_v00.cdf, /Users/robertalexander/GitHub/Plotbot/data/psp/fields/l2/mag_rtn/2025/psp_fld_l2_mag_RTN_2025061606_v02.cdf, /Users/robertalexander/GitHub/Plotbot/data/psp/fields/l2/mag_rtn/2025/psp_fld_l2_mag_RTN_2025061612_v00.cdf, /Users/robertalexander/GitHub/Plotbot/data/psp/fields/l2/mag_rtn/2025/psp_fld_l2_mag_RTN_2025061612_v02.cdf, /Users/robertalexander/GitHub/Plotbot/data/psp/fields/l2/mag_rtn/2025/psp_fld_l2_mag_RTN_2025061618_v00.cdf, /Users/robertalexander/GitHub/Plotbot/data/psp/fields/l2/mag_rtn/2025/psp_fld_l2_mag_RTN_2025061618_v02.cdf, /Users/robertalexander/GitHub/Plotbot/data/psp/fields/l2/mag_rtn/2025/psp_fld_l2_mag_RTN_2025061700_v00.cdf, /Users/robertalexander/GitHub/Plotbot/data/psp/fields/l2/mag_rtn/2025/psp_fld_l2_mag_RTN_2025061700_v02.cdf, /Users/robertalexander/GitHub/Plotbot/data/psp/fields/l2/mag_rtn/2025/psp_fld_l2_mag_RTN_2025061706_v00.cdf, /Users/robertalexander/GitHub/Plotbot/data/psp/fields/l2/mag_rtn/2025/psp_fld_l2_mag_RTN_2025061706_v02.cdf, /Users/robertalexander/GitHub/Plotbot/data/psp/fields/l2/mag_rtn/2025/psp_fld_l2_mag_RTN_2025061712_v00.cdf, /Users/robertalexander/GitHub/Plotbot/data/psp/fields/l2/mag_rtn/2025/psp_fld_l2_mag_RTN_2025061712_v02.cdf, /Users/robertalexander/GitHub/Plotbot/data/psp/fields/l2/mag_rtn/2025/psp_fld_l2_mag_RTN_2025061718_v00.cdf, /Users/robertalexander/GitHub/Plotbot/data/psp/fields/l2/mag_rtn/2025/psp_fld_l2_mag_RTN_2025061718_v02.cdf, /Users/robertalexander/GitHub/Plotbot/data/psp/fields/l2/mag_rtn/2025/psp_fld_l2_mag_RTN_2025061800_v02.cdf, /Users/robertalexander/GitHub/Plotbot/data/psp/fields/l2/mag_rtn/2025/psp_fld_l2_mag_RTN_2025061800_v00.cdf, /Users/robertalexander/GitHub/Plotbot/data/psp/fields/l2/mag_rtn/2025/psp_fld_l2_mag_RTN_2025061806_v02.cdf, /Users/robertalexander/GitHub/Plotbot/data/psp/fields/l2/mag_rtn/2025/psp_fld_l2_mag_RTN_2025061806_v00.cdf, /Users/robertalexander/GitHub/Plotbot/data/psp/fields/l2/mag_rtn/2025/psp_fld_l2_mag_RTN_2025061812_v02.cdf, /Users/robertalexander/GitHub/Plotbot/data/psp/fields/l2/mag_rtn/2025/psp_fld_l2_mag_RTN_2025061812_v00.cdf, /Users/robertalexander/GitHub/Plotbot/data/psp/fields/l2/mag_rtn/2025/psp_fld_l2_mag_RTN_2025061818_v02.cdf, /Users/robertalexander/GitHub/Plotbot/data/psp/fields/l2/mag_rtn/2025/psp_fld_l2_mag_RTN_2025061818_v00.cdf, /Users/robertalexander/GitHub/Plotbot/data/psp/fields/l2/mag_rtn/2025/psp_fld_l2_mag_RTN_2025061900_v02.cdf, /Users/robertalexander/GitHub/Plotbot/data/psp/fields/l2/mag_rtn/2025/psp_fld_l2_mag_RTN_2025061900_v00.cdf, /Users/robertalexander/GitHub/Plotbot/data/psp/fields/l2/mag_rtn/2025/psp_fld_l2_mag_RTN_2025061906_v02.cdf, /Users/robertalexander/GitHub/Plotbot/data/psp/fields/l2/mag_rtn/2025/psp_fld_l2_mag_RTN_2025061906_v00.cdf, /Users/robertalexander/GitHub/Plotbot/data/psp/fields/l2/mag_rtn/2025/psp_fld_l2_mag_RTN_2025061912_v02.cdf, /Users/robertalexander/GitHub/Plotbot/data/psp/fields/l2/mag_rtn/2025/psp_fld_l2_mag_RTN_2025061912_v00.cdf, /Users/robertalexander/GitHub/Plotbot/data/psp/fields/l2/mag_rtn/2025/psp_fld_l2_mag_RTN_2025061918_v02.cdf, /Users/robertalexander/GitHub/Plotbot/data/psp/fields/l2/mag_rtn/2025/psp_fld_l2_mag_RTN_2025061918_v00.cdf, /Users/robertalexander/GitHub/Plotbot/data/psp/fields/l2/mag_rtn/2025/psp_fld_l2_mag_RTN_2025062000_v00.cdf, /Users/robertalexander/GitHub/Plotbot/data/psp/fields/l2/mag_rtn/2025/psp_fld_l2_mag_RTN_2025062000_v02.cdf, /Users/robertalexander/GitHub/Plotbot/data/psp/fields/l2/mag_rtn/2025/psp_fld_l2_mag_RTN_2025062006_v00.cdf, /Users/robertalexander/GitHub/Plotbot/data/psp/fields/l2/mag_rtn/2025/psp_fld_l2_mag_RTN_2025062006_v02.cdf, /Users/robertalexander/GitHub/Plotbot/data/psp/fields/l2/mag_rtn/2025/psp_fld_l2_mag_RTN_2025062012_v00.cdf, /Users/robertalexander/GitHub/Plotbot/data/psp/fields/l2/mag_rtn/2025/psp_fld_l2_mag_RTN_2025062012_v02.cdf, /Users/robertalexander/GitHub/Plotbot/data/psp/fields/l2/mag_rtn/2025/psp_fld_l2_mag_RTN_2025062018_v00.cdf, /Users/robertalexander/GitHub/Plotbot/data/psp/fields/l2/mag_rtn/2025/psp_fld_l2_mag_RTN_2025062018_v02.cdf, /Users/robertalexander/GitHub/Plotbot/data/psp/fields/l2/mag_rtn/2025/psp_fld_l2_mag_RTN_2025062100_v02.cdf, /Users/robertalexander/GitHub/Plotbot/data/psp/fields/l2/mag_rtn/2025/psp_fld_l2_mag_RTN_2025062106_v02.cdf, /Users/robertalexander/GitHub/Plotbot/data/psp/fields/l2/mag_rtn/2025/psp_fld_l2_mag_RTN_2025062112_v02.cdf, /Users/robertalexander/GitHub/Plotbot/data/psp/fields/l2/mag_rtn/2025/psp_fld_l2_mag_RTN_2025062118_v02.cdf, /Users/robertalexander/GitHub/Plotbot/data/psp/fields/l2/mag_rtn/2025/psp_fld_l2_mag_RTN_2025062200_v02.cdf, /Users/robertalexander/GitHub/Plotbot/data/psp/fields/l2/mag_rtn/2025/psp_fld_l2_mag_RTN_2025062206_v02.cdf\n",
            "Save directory already ends with encounter 'E24'. Using: /Users/robertalexander/Dropbox/__Collaborations/_NASA/_HCS_Crossing_Catalogue/HCS_Crossings/E24\n",
            "Output directory: /Users/robertalexander/Dropbox/__Collaborations/_NASA/_HCS_Crossing_Catalogue/HCS_Crossings/E24/E24_2025_06_16_0931_to_2025_06_22_0931\n",
            "Generating markers for time range: 2025/06/16 09:31:00.000 to 2025/06/22 09:31:00.000\n",
            "Number of time points: 263367102\n",
            "Data time range: 2025-06-16 09:31:00.001845760 to 2025-06-22 09:30:59.998945024\n",
            "Total markers generated: 864\n",
            "Marker file created: /Users/robertalexander/Dropbox/__Collaborations/_NASA/_HCS_Crossing_Catalogue/HCS_Crossings/E24/E24_2025_06_16_0931_to_2025_06_22_0931/E24_PSP_FIELDS_MARKER_SET_2025-06-16_0931_to_2025-06-22_0931_6_per_hour.txt\n",
            "Saved mono audio file: /Users/robertalexander/Dropbox/__Collaborations/_NASA/_HCS_Crossing_Catalogue/HCS_Crossings/E24/E24_2025_06_16_0931_to_2025_06_22_0931/E24_PSP_MAG_RTN_2025-06-16_0931_to_2025-06-22_0931_22000SR_Br.wav\n",
            "Saved mono audio file: /Users/robertalexander/Dropbox/__Collaborations/_NASA/_HCS_Crossing_Catalogue/HCS_Crossings/E24/E24_2025_06_16_0931_to_2025_06_22_0931/E24_PSP_MAG_RTN_2025-06-16_0931_to_2025-06-22_0931_22000SR_Bt.wav\n",
            "Saved mono audio file: /Users/robertalexander/Dropbox/__Collaborations/_NASA/_HCS_Crossing_Catalogue/HCS_Crossings/E24/E24_2025_06_16_0931_to_2025_06_22_0931/E24_PSP_MAG_RTN_2025-06-16_0931_to_2025-06-22_0931_22000SR_Bn.wav\n",
            "Saved mono audio file: /Users/robertalexander/Dropbox/__Collaborations/_NASA/_HCS_Crossing_Catalogue/HCS_Crossings/E24/E24_2025_06_16_0931_to_2025_06_22_0931/E24_PSP_MAG_RTN_2025-06-16_0931_to_2025-06-22_0931_22000SR_Bmag.wav\n"
          ]
        },
        {
          "data": {
            "application/vnd.jupyter.widget-view+json": {
              "model_id": "782158b618e94e5b969b807d7a0fc93b",
              "version_major": 2,
              "version_minor": 0
            },
            "text/plain": [
              "Button(description='Show Directory', style=ButtonStyle())"
            ]
          },
          "metadata": {},
          "output_type": "display_data"
        },
        {
          "data": {
            "application/vnd.jupyter.widget-view+json": {
              "model_id": "622213ff079f4d7cbb272c21612f743e",
              "version_major": 2,
              "version_minor": 0
            },
            "text/plain": [
              "Button(description='Open markers', style=ButtonStyle())"
            ]
          },
          "metadata": {},
          "output_type": "display_data"
        },
        {
          "data": {
            "application/vnd.jupyter.widget-view+json": {
              "model_id": "d8f8151252754195a76987e768b22a6f",
              "version_major": 2,
              "version_minor": 0
            },
            "text/plain": [
              "Button(description='Open br', style=ButtonStyle())"
            ]
          },
          "metadata": {},
          "output_type": "display_data"
        },
        {
          "data": {
            "application/vnd.jupyter.widget-view+json": {
              "model_id": "04c6c5fa9339493c94a4fd2730509d24",
              "version_major": 2,
              "version_minor": 0
            },
            "text/plain": [
              "Button(description='Open bt', style=ButtonStyle())"
            ]
          },
          "metadata": {},
          "output_type": "display_data"
        },
        {
          "data": {
            "application/vnd.jupyter.widget-view+json": {
              "model_id": "5d1a3187323e4c589a521315c546e26e",
              "version_major": 2,
              "version_minor": 0
            },
            "text/plain": [
              "Button(description='Open bn', style=ButtonStyle())"
            ]
          },
          "metadata": {},
          "output_type": "display_data"
        },
        {
          "data": {
            "application/vnd.jupyter.widget-view+json": {
              "model_id": "1b24713ed5864021a5fb7e3602d98a8a",
              "version_major": 2,
              "version_minor": 0
            },
            "text/plain": [
              "Button(description='Open bmag', style=ButtonStyle())"
            ]
          },
          "metadata": {},
          "output_type": "display_data"
        },
        {
          "data": {
            "text/plain": [
              "{'markers': '/Users/robertalexander/Dropbox/__Collaborations/_NASA/_HCS_Crossing_Catalogue/HCS_Crossings/E24/E24_2025_06_16_0931_to_2025_06_22_0931/E24_PSP_FIELDS_MARKER_SET_2025-06-16_0931_to_2025-06-22_0931_6_per_hour.txt',\n",
              " 'br': '/Users/robertalexander/Dropbox/__Collaborations/_NASA/_HCS_Crossing_Catalogue/HCS_Crossings/E24/E24_2025_06_16_0931_to_2025_06_22_0931/E24_PSP_MAG_RTN_2025-06-16_0931_to_2025-06-22_0931_22000SR_Br.wav',\n",
              " 'bt': '/Users/robertalexander/Dropbox/__Collaborations/_NASA/_HCS_Crossing_Catalogue/HCS_Crossings/E24/E24_2025_06_16_0931_to_2025_06_22_0931/E24_PSP_MAG_RTN_2025-06-16_0931_to_2025-06-22_0931_22000SR_Bt.wav',\n",
              " 'bn': '/Users/robertalexander/Dropbox/__Collaborations/_NASA/_HCS_Crossing_Catalogue/HCS_Crossings/E24/E24_2025_06_16_0931_to_2025_06_22_0931/E24_PSP_MAG_RTN_2025-06-16_0931_to_2025-06-22_0931_22000SR_Bn.wav',\n",
              " 'bmag': '/Users/robertalexander/Dropbox/__Collaborations/_NASA/_HCS_Crossing_Catalogue/HCS_Crossings/E24/E24_2025_06_16_0931_to_2025_06_22_0931/E24_PSP_MAG_RTN_2025-06-16_0931_to_2025-06-22_0931_22000SR_Bmag.wav'}"
            ]
          },
          "execution_count": 6,
          "metadata": {},
          "output_type": "execute_result"
        },
        {
          "ename": "",
          "evalue": "",
          "output_type": "error",
          "traceback": [
            "\u001b[1;31mThe Kernel crashed while executing code in the current cell or a previous cell. \n",
            "\u001b[1;31mPlease review the code in the cell(s) to identify a possible cause of the failure. \n",
            "\u001b[1;31mClick <a href='https://aka.ms/vscodeJupyterKernelCrash'>here</a> for more info. \n",
            "\u001b[1;31mView Jupyter <a href='command:jupyter.viewOutput'>log</a> for further details."
          ]
        }
      ],
      "source": [
        "# Optionally change markers per hour from default 120\n",
        "audifier.markers_per_hour = 6  # 1 marker every 10 seconds = 360 markers per hour,\n",
        "audifier.markers_only = False  # Default setting\n",
        "audifier.quantize_markers = True  # hourly\n",
        "audifier.sample_rate = 22000 # Or try 16000 to slow down playback\n",
        "\n",
        "audifier.channels = 1\n",
        "\n",
        "# trange = ['2024-09-27/05:15.000', '2024-10-03/05:15.000']  # Enc 21\n",
        "\n",
        "# trange = ['2025-03-23/17:30:00.000', '2025-03-23/18:30:00.000']  # Enc 23 Flapping Proof?\n",
        "# trange = ['2025-03-23 17:56:00.000', '2025-03-23 18:06:00.000']  # Enc 23 Flapping Proof Zoom\n",
        "# trange = ['2021/04/29 07:45:00.000', '2021/04/29 08:20:00.000'] # Jaye's E8 Region\n",
        "# trange = ['2021/04/28 07:45:00.000', '2021/04/28 08:20:00.000'] # Jaye's E8 Region\n",
        "trange = ['2025/06/16 09:31:00.000', '2025/06/22 09:31:00.000']  # Enc 24 perihelion +/- 3 days\n",
        "\n",
        "\n",
        "print(trange)\n",
        "print(f\"🔊 Audifier configured:\")\n",
        "print(f\"   Markers per hour: {audifier.markers_per_hour}\")\n",
        "print(f\"   Sample rate: {audifier.sample_rate} Hz\")\n",
        "print(f\"   Channels: {audifier.channels}\")\n",
        "print(f\"   Markers only: {audifier.markers_only}\")\n",
        "\n",
        "\n",
        "# Create audio files and markers from any components\n",
        "# audifier.audify(trange, mag_rtn_4sa.br, mag_rtn_4sa.bt, mag_rtn_4sa.bn, mag_rtn_4sa.bmag)\n",
        "# plotbot(trange, mag_rtn.br, 1, mag_rtn.bt, 2, mag_rtn.bn, 3, mag_rtn.bmag, 4)\n",
        "audifier.audify(trange, mag_rtn.br, mag_rtn.bt, mag_rtn.bn, mag_rtn.bmag)\n"
      ]
    }
  ],
  "metadata": {
    "kernelspec": {
      "display_name": "Python 3",
      "language": "python",
      "name": "python3"
    },
    "language_info": {
      "codemirror_mode": {
        "name": "ipython",
        "version": 3
      },
      "file_extension": ".py",
      "mimetype": "text/x-python",
      "name": "python",
      "nbconvert_exporter": "python",
      "pygments_lexer": "ipython3",
      "version": "3.12.4"
    }
  },
  "nbformat": 4,
  "nbformat_minor": 2
}
