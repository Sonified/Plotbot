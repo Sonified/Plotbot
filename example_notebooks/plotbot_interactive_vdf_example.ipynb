{
  "cells": [
    {
      "cell_type": "markdown",
      "metadata": {},
      "source": [
        "# 🤖 Plotbot Interactive VDF Example - ⚠️ WORK IN PROGRESS ⚠️\n",
        "\n",
        "This notebook demonstrates the new `plotbot_interactive_vdf()` function with time slider functionality.\n",
        "\n",
        "## Features:\n",
        "- **Interactive time navigation** - Slider to navigate through VDF data over time\n",
        "- **Real-time parameter controls** - Adjust VDF bounds, colormaps, and settings\n",
        "- **Publication-ready styling** - Maintains Plotbot's clean aesthetic\n",
        "- **3-panel VDF layout** - 1D collapsed, theta-plane, phi-plane views\n",
        "- **Web-based interface** - Runs in browser for smooth interaction\n"
      ]
    },
    {
      "cell_type": "code",
      "execution_count": 1,
      "metadata": {},
      "outputs": [
        {
          "name": "stdout",
          "output_type": "stream",
          "text": [
            "\n",
            "🕒 Starting import timing session: plotbot_full_initialization\n",
            "  ✅ matplotlib.pyplot: 0.255s\n",
            "  ✅ numpy: 0.000s\n",
            "  🔧 Starting block: core_components\n",
            "initialized server_access\n",
            "initialized global_tracker\n",
            "initialized ploptions\n",
            "initialized plot_manager\n",
            "initialized epad class\n",
            "initialized epad_hr class\n",
            "initialized proton class\n",
            "initialized proton_hr class\n",
            "initialized ham_class\n",
            "initialized psp_alpha class\n",
            "initialized psp_qtn class\n",
            "initialized psp_orbit class\n",
            "initialized psp_span_vdf class\n",
            "initialized data_cubby.\n",
            "CDF classes added to data_cubby type map.\n",
            "  ✅ Block 'core_components' completed in 0.713s\n",
            "  🔧 Starting block: psp_data_classes\n",
            "initialized proton_fits class\n",
            "initialized alpha_fits class\n",
            "  ✅ Block 'psp_data_classes' completed in 0.001s\n",
            "  🔧 Starting block: wind_data_classes\n",
            "  ✅ Block 'wind_data_classes' completed in 0.000s\n",
            "  🔧 Starting block: data_cubby_registration\n",
            "  ✅ Block 'data_cubby_registration' completed in 0.001s\n",
            "  🔧 Starting block: auto_register_custom_classes\n",
            "  ✅ Block 'auto_register_custom_classes' completed in 0.002s\n",
            "  🔧 Starting block: custom_variables\n",
            "  ✅ Block 'custom_variables' completed in 0.000s\n",
            "🔉 initialized audifier\n",
            "  ✅ from plotbot import audifier: 0.106s\n",
            "  🔧 Starting block: enhanced_plt\n",
            "  ✅ Block 'enhanced_plt' completed in 0.000s\n",
            "  🔧 Starting block: main_plotting_functions\n",
            "\n",
            "Importing libraries, this may take a moment. Hold tight... \n",
            "\n",
            "✅ Imported standard libraries and utilities.\n",
            "✅ Deferred numpy, pandas, and scipy libraries (loaded when needed).\n",
            "✅ Deferred matplotlib libraries (loaded when needed).\n",
            "✅ Imported cdflib, BeautifulSoup, requests, dateutil, and datetime libraries.\n",
            "\n",
            "🤖 Plotbot Initialized\n",
            "✨ Showdahodo initialized\n",
            "Positional Data Helper Initialized\n",
            "📈📉 Multiplot Initialized\n",
            "  ✅ Block 'main_plotting_functions' completed in 0.412s\n",
            "  🔧 Starting block: cdf_functions\n",
            "  ✅ Block 'cdf_functions' completed in 0.001s\n",
            "\n",
            "🤖 Plotbot Initialized\n",
            "📈📉 Multiplot Initialized\n",
            "   Version: 2025_09_10_v3.29\n",
            "   Commit: v3.29 Config: Set default data directory to 'default' in Plotbot.ipynb\n",
            "\n",
            "\n",
            "🏁 Session 'plotbot_full_initialization' completed in 1.490s\n",
            "\n",
            "============================================================\n",
            "📊 IMPORT TIMING REPORT - plotbot_full_initialization\n",
            "============================================================\n",
            "Total session time: 1.490s\n",
            "\n",
            "🐌 SLOWEST IMPORTS (Top 3):\n",
            "--------------------------------------------------\n",
            " 1. matplotlib.pyplot               0.255s (70.6%)\n",
            " 2. from plotbot import audifier    0.106s (29.3%)\n",
            " 3. numpy                           0.000s ( 0.0%)\n",
            "\n",
            "🔧 BLOCK TIMING SUMMARY:\n",
            "--------------------------------------------------\n",
            "core_components                 0.713s (avg: 0.713s, runs: 1)\n",
            "psp_data_classes                0.001s (avg: 0.001s, runs: 1)\n",
            "wind_data_classes               0.000s (avg: 0.000s, runs: 1)\n",
            "data_cubby_registration         0.001s (avg: 0.001s, runs: 1)\n",
            "auto_register_custom_classes    0.002s (avg: 0.002s, runs: 1)\n",
            "custom_variables                0.000s (avg: 0.000s, runs: 1)\n",
            "enhanced_plt                    0.000s (avg: 0.000s, runs: 1)\n",
            "main_plotting_functions         0.412s (avg: 0.412s, runs: 1)\n",
            "cdf_functions                   0.001s (avg: 0.001s, runs: 1)\n",
            "\n",
            "⏰ IMPORT TIMELINE:\n",
            "--------------------------------------------------\n",
            " 0.000s: matplotlib.pyplot              (+0.255s)\n",
            " 0.255s: numpy                          (+0.000s)\n",
            " 0.971s: from plotbot import audifier   (+0.106s)\n",
            "\n",
            "💡 OPTIMIZATION SUGGESTIONS:\n",
            "--------------------------------------------------\n",
            "• Matplotlib imports: 0.3s - good candidate for lazy loading\n",
            "• Focus optimization on imports >0.5s for maximum impact\n"
          ]
        }
      ],
      "source": [
        "# Import Plotbot with new interactive VDF functionality\n",
        "from plotbot import *\n"
      ]
    },
    {
      "cell_type": "markdown",
      "metadata": {},
      "source": [
        "## Basic Interactive VDF\n",
        "\n",
        "Create an interactive VDF plot with time slider controls:\n"
      ]
    },
    {
      "cell_type": "code",
      "execution_count": 2,
      "metadata": {},
      "outputs": [
        {
          "name": "stdout",
          "output_type": "stream",
          "text": [
            "📁 Plotbot data directory changed: data → ../data\n",
            "🔧 SPEDAS_DATA_DIR updated for pyspedas compatibility\n",
            "📁 Data directory absolute path: /Users/robertalexander/GitHub/Plotbot/data\n"
          ]
        }
      ],
      "source": [
        "# ------- 💽 CONFIGURE THE DEFAULT DATA DIRECTORY 💽 -------//\n",
        "# This must be set before pyspedas is imported/run, as pyspedas caches configuration at import time.\n",
        "\n",
        "config.data_dir = '../data'  # Go up one level to Plotbot/data/\n",
        "\n",
        "import os\n",
        "print(f\"📁 Data directory absolute path: {os.path.abspath(config.data_dir)}\")\n",
        "\n",
        "# ------- 📡 CONFIGURE THE DEFAULT DATA SERVER 📡 -------//\n",
        "\n",
        "config.data_server = 'berkeley'\n",
        "# config.data_server = 'spdf'\n",
        "# config.data_server = 'dynamic' #Will attempt to download from spdf first and then try berkeley\n",
        "\n",
        "# ------- 🖨️ CONFIGURE PRINT MANAGER 🖨️ -------//\n",
        "print_manager.show_status = True\n",
        "# pm.show_debug = True      # Optional: uncomment for maximum detail\n",
        "# pm.show_processing = True # Optional: uncomment for processing steps\n",
        "# pm.show_datacubby = True  # Optional: uncomment for data caching steps\n"
      ]
    },
    {
      "cell_type": "code",
      "execution_count": 3,
      "metadata": {},
      "outputs": [
        {
          "name": "stdout",
          "output_type": "stream",
          "text": [
            "📅 Time range: 2020-01-29/18:00:00.000 to 2020-01-29/18:30:00.000\n",
            "🚀 Creating interactive VDF plot with time slider...\n",
            "🚀 plotbot_interactive_vdf() starting...\n",
            "🚀 Numba available - VDF processing will be optimized!\n"
          ]
        },
        {
          "name": "stderr",
          "output_type": "stream",
          "text": [
            "18-Sep-25 17:08:50: Local files found: ['/Users/robertalexander/GitHub/Plotbot/data/psp/sweap/spi/l2/spi_sf00_8dx32ex8a/2020/psp_swp_spi_sf00_l2_8dx32ex8a_20200129_v04.cdf', '/Users/robertalexander/GitHub/Plotbot/data/psp/sweap/spi/l3/spi_sf00_l3_mom/2020/psp_swp_spi_sf00_L3_mom_20200129_v04.cdf']\n"
          ]
        },
        {
          "name": "stdout",
          "output_type": "stream",
          "text": [
            "📡 Downloading PSP SPAN-I VDF data using pyspedas...\n",
            "✅ Using cached VDF files (no download needed)\n",
            "📁 VDF file: /Users/robertalexander/GitHub/Plotbot/data/psp/sweap/spi/l2/spi_sf00_8dx32ex8a/2020/psp_swp_spi_sf00_l2_8dx32ex8a_20200129_v04.cdf\n",
            "✅ VDF data loaded: 257 time points in requested range\n",
            "📅 Available VDF times: 2020-01-29 18:00:04.909538 to 2020-01-29 18:29:54.485314\n",
            "🔍 DEBUG: About to create VDF Dash app...\n",
            "🎛️ Creating interactive VDF Dash application...\n",
            "🎛️ Creating VDF Dash application...\n",
            "🚀 Using smart on-demand computation for instant startup...\n",
            "✅ VDF functions compiled with Numba JIT (object mode)!\n",
            "⚡ Pre-computing ONLY first time slice for instant startup...\n",
            "🔍 DEBUG: About to call fast_vdf_processing...\n",
            "VDF processing: 0.264s\n",
            "🔍 DEBUG: VDF processing complete. Theta shape: (32, 8), Phi shape: (8, 32)\n",
            "✅ First VDF slice computed in 0.26s - ready for instant startup!\n",
            "💡 Additional slices will be computed on-demand when you move the slider\n",
            "Creating FIXED Mesh3d plot for θ-plane\n",
            "  Input shapes: vx=(32, 8), vy=(32, 8), vdf=(32, 8)\n",
            "  ✅ Regular grid detected: 32×8 points\n",
            "  ✅ Created 179 grid-structured triangles (preserves smoothness)\n",
            "  Valid data points: 119/256\n",
            "  ✅ Grid-structured Mesh3d plot created for θ-plane\n",
            "Creating FIXED Mesh3d plot for φ-plane\n",
            "  Input shapes: vx=(8, 32), vy=(8, 32), vdf=(8, 32)\n",
            "  ✅ Regular grid detected: 8×32 points\n",
            "  ✅ Created 172 grid-structured triangles (preserves smoothness)\n",
            "  Valid data points: 118/256\n",
            "  ✅ Grid-structured Mesh3d plot created for φ-plane\n",
            "✅ VDF Dash app created successfully\n",
            "🔍 DEBUG: Dash app created, about to launch...\n",
            "🌐 Launching interactive VDF plot...\n",
            "🚀 Starting Dash server on port 8051...\n"
          ]
        },
        {
          "data": {
            "text/html": [
              "\n",
              "        <iframe\n",
              "            width=\"100%\"\n",
              "            height=\"650\"\n",
              "            src=\"http://127.0.0.1:8051/\"\n",
              "            frameborder=\"0\"\n",
              "            allowfullscreen\n",
              "            \n",
              "        ></iframe>\n",
              "        "
            ],
            "text/plain": [
              "<IPython.lib.display.IFrame at 0x1674d7590>"
            ]
          },
          "metadata": {},
          "output_type": "display_data"
        },
        {
          "name": "stdout",
          "output_type": "stream",
          "text": [
            "🌐 Opened browser to http://127.0.0.1:8051\n",
            "🔍 DEBUG: VDF Dash app should be running!\n",
            "✅ plotbot_interactive_vdf() complete!\n",
            "📌 Use the time slider to navigate through VDF data!\n",
            "🌐 Running at: http://127.0.0.1:8051\n",
            "🌐 Interactive VDF plot running at: http://127.0.0.1:8051\n",
            "📌 Use the time slider to navigate through VDF data!\n",
            "⚙️ Adjust parameters in real-time using the controls below the plot\n"
          ]
        }
      ],
      "source": [
        "# Define time range with multiple VDF time points\n",
        "# Using known working time range from plotbot_vdf_examples.ipynb\n",
        "trange = ['2020-01-29/18:00:00.000', '2020-01-29/18:30:00.000']\n",
        "\n",
        "print(f\"📅 Time range: {trange[0]} to {trange[1]}\")\n",
        "print(\"🚀 Creating interactive VDF plot with time slider...\")\n",
        "\n",
        "# Create interactive VDF plot\n",
        "# This will open in your browser with time slider controls\n",
        "app = plotbot_interactive_vdf(trange)\n",
        "\n",
        "# The app runs on port 8051 by default\n",
        "print(\"🌐 Interactive VDF plot running at: http://127.0.0.1:8051\")\n",
        "print(\"📌 Use the time slider to navigate through VDF data!\")\n",
        "print(\"⚙️ Adjust parameters in real-time using the controls below the plot\")\n"
      ]
    }
  ],
  "metadata": {
    "kernelspec": {
      "display_name": "Python 3",
      "language": "python",
      "name": "python3"
    },
    "language_info": {
      "codemirror_mode": {
        "name": "ipython",
        "version": 3
      },
      "file_extension": ".py",
      "mimetype": "text/x-python",
      "name": "python",
      "nbconvert_exporter": "python",
      "pygments_lexer": "ipython3",
      "version": "3.12.4"
    }
  },
  "nbformat": 4,
  "nbformat_minor": 2
}
