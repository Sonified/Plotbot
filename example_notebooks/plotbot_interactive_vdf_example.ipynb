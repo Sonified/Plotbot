{
  "cells": [
    {
      "cell_type": "markdown",
      "metadata": {},
      "source": [
        "# 🤖 Plotbot Interactive VDF Example\n",
        "\n",
        "This notebook demonstrates the new `plotbot_interactive_vdf()` function with time slider functionality.\n",
        "\n",
        "## Features:\n",
        "- **Interactive time navigation** - Slider to navigate through VDF data over time\n",
        "- **Real-time parameter controls** - Adjust VDF bounds, colormaps, and settings\n",
        "- **Publication-ready styling** - Maintains Plotbot's clean aesthetic\n",
        "- **3-panel VDF layout** - 1D collapsed, theta-plane, phi-plane views\n",
        "- **Web-based interface** - Runs in browser for smooth interaction\n"
      ]
    },
    {
      "cell_type": "code",
      "execution_count": 1,
      "metadata": {},
      "outputs": [
        {
          "name": "stdout",
          "output_type": "stream",
          "text": [
            "\n",
            "🕒 Starting import timing session: plotbot_full_initialization\n",
            "  ✅ matplotlib.pyplot: 0.423s\n",
            "  ✅ numpy: 0.000s\n",
            "  🔧 Starting block: core_components\n",
            "initialized server_access\n",
            "initialized global_tracker\n",
            "initialized ploptions\n",
            "initialized plot_manager\n",
            "initialized epad class\n",
            "initialized epad_hr class\n",
            "initialized proton class\n",
            "initialized proton_hr class\n",
            "initialized ham_class\n",
            "initialized psp_alpha class\n",
            "initialized psp_qtn class\n",
            "initialized psp_orbit class\n",
            "initialized psp_span_vdf class\n",
            "initialized data_cubby.\n",
            "CDF classes added to data_cubby type map.\n",
            "  ✅ Block 'core_components' completed in 0.741s\n",
            "  🔧 Starting block: psp_data_classes\n",
            "initialized proton_fits class\n",
            "initialized alpha_fits class\n",
            "  ✅ Block 'psp_data_classes' completed in 0.001s\n",
            "  🔧 Starting block: wind_data_classes\n",
            "  ✅ Block 'wind_data_classes' completed in 0.000s\n",
            "  🔧 Starting block: data_cubby_registration\n",
            "  ✅ Block 'data_cubby_registration' completed in 0.001s\n",
            "  🔧 Starting block: auto_register_custom_classes\n",
            "  ✅ Block 'auto_register_custom_classes' completed in 0.002s\n",
            "  🔧 Starting block: custom_variables\n",
            "  ✅ Block 'custom_variables' completed in 0.000s\n",
            "🔉 initialized audifier\n",
            "  ✅ from plotbot import audifier: 0.110s\n",
            "  🔧 Starting block: enhanced_plt\n",
            "  ✅ Block 'enhanced_plt' completed in 0.000s\n",
            "  🔧 Starting block: main_plotting_functions\n",
            "\n",
            "Importing libraries, this may take a moment. Hold tight... \n",
            "\n",
            "✅ Imported standard libraries and utilities.\n",
            "✅ Deferred numpy, pandas, and scipy libraries (loaded when needed).\n",
            "✅ Deferred matplotlib libraries (loaded when needed).\n",
            "✅ Imported cdflib, BeautifulSoup, requests, dateutil, and datetime libraries.\n",
            "\n",
            "🤖 Plotbot Initialized\n",
            "✨ Showdahodo initialized\n",
            "Positional Data Helper Initialized\n",
            "📈📉 Multiplot Initialized\n",
            "  ✅ Block 'main_plotting_functions' completed in 0.949s\n",
            "  🔧 Starting block: cdf_functions\n",
            "  ✅ Block 'cdf_functions' completed in 0.001s\n",
            "\n",
            "🤖 Plotbot Initialized\n",
            "📈📉 Multiplot Initialized\n",
            "   Version: 2025_09_10_v3.29\n",
            "   Commit: v3.29 Config: Set default data directory to 'default' in Plotbot.ipynb\n",
            "\n",
            "\n",
            "🏁 Session 'plotbot_full_initialization' completed in 2.228s\n",
            "\n",
            "============================================================\n",
            "📊 IMPORT TIMING REPORT - plotbot_full_initialization\n",
            "============================================================\n",
            "Total session time: 2.228s\n",
            "\n",
            "🐌 SLOWEST IMPORTS (Top 3):\n",
            "--------------------------------------------------\n",
            " 1. matplotlib.pyplot               0.423s (79.4%)\n",
            " 2. from plotbot import audifier    0.110s (20.6%)\n",
            " 3. numpy                           0.000s ( 0.0%)\n",
            "\n",
            "🔧 BLOCK TIMING SUMMARY:\n",
            "--------------------------------------------------\n",
            "core_components                 0.741s (avg: 0.741s, runs: 1)\n",
            "psp_data_classes                0.001s (avg: 0.001s, runs: 1)\n",
            "wind_data_classes               0.000s (avg: 0.000s, runs: 1)\n",
            "data_cubby_registration         0.001s (avg: 0.001s, runs: 1)\n",
            "auto_register_custom_classes    0.002s (avg: 0.002s, runs: 1)\n",
            "custom_variables                0.000s (avg: 0.000s, runs: 1)\n",
            "enhanced_plt                    0.000s (avg: 0.000s, runs: 1)\n",
            "main_plotting_functions         0.949s (avg: 0.949s, runs: 1)\n",
            "cdf_functions                   0.001s (avg: 0.001s, runs: 1)\n",
            "\n",
            "⏰ IMPORT TIMELINE:\n",
            "--------------------------------------------------\n",
            " 0.000s: matplotlib.pyplot              (+0.423s)\n",
            " 0.423s: numpy                          (+0.000s)\n",
            " 1.168s: from plotbot import audifier   (+0.110s)\n",
            "\n",
            "💡 OPTIMIZATION SUGGESTIONS:\n",
            "--------------------------------------------------\n",
            "• Matplotlib imports: 0.4s - good candidate for lazy loading\n",
            "• Focus optimization on imports >0.5s for maximum impact\n"
          ]
        }
      ],
      "source": [
        "# Import Plotbot with new interactive VDF functionality\n",
        "from plotbot import *\n"
      ]
    },
    {
      "cell_type": "markdown",
      "metadata": {},
      "source": [
        "## Basic Interactive VDF\n",
        "\n",
        "Create an interactive VDF plot with time slider controls:\n"
      ]
    },
    {
      "cell_type": "code",
      "execution_count": 2,
      "metadata": {},
      "outputs": [
        {
          "name": "stdout",
          "output_type": "stream",
          "text": [
            "📁 Data directory configured: /Users/robertalexander/GitHub/Plotbot/data\n",
            "   (instead of creating data/ in the default location: /Users/robertalexander/GitHub/Plotbot/example_notebooks)\n"
          ]
        }
      ],
      "source": [
        "# 📁 DATA DIRECTORY CONFIGURATION\n",
        "# Point plotbot to the main project's data directory\n",
        "\n",
        "import os\n",
        "\n",
        "# Step 1: Get current directory (example_notebooks/)\n",
        "current_dir = os.getcwd()\n",
        "\n",
        "# Step 2: Get parent directory (main Plotbot project folder)  \n",
        "parent_dir = os.path.dirname(current_dir)\n",
        "\n",
        "# Step 3: Point to main data folder: /path/to/Plotbot/data/\n",
        "main_data_dir = os.path.join(parent_dir, 'data')\n",
        "\n",
        "# Step 4: Configure plotbot to use main data directory instead of creating ./data/\n",
        "config.data_dir = main_data_dir\n",
        "\n",
        "print(f\"📁 Data directory configured: {config.data_dir}\")\n",
        "print(f\"   (instead of creating data/ in the default location: {current_dir})\")"
      ]
    },
    {
      "cell_type": "code",
      "execution_count": 3,
      "metadata": {},
      "outputs": [
        {
          "name": "stderr",
          "output_type": "stream",
          "text": [
            "15-Sep-25 12:49:52: Local files found: ['data/psp/sweap/spi/l3/spi_sf00_l3_mom/2020/psp_swp_spi_sf00_l3_mom_20200129_v04.cdf']\n",
            "Traceback (most recent call last):\n",
            "  File \"/Users/robertalexander/GitHub/Plotbot/plotbot/plotbot_interactive_vdf.py\", line 150, in plotbot_interactive_vdf\n",
            "    app = create_vdf_dash_app(dat, available_times, available_indices, trange)\n",
            "          ^^^^^^^^^^^^^^^^^^^^^^^^^^^^^^^^^^^^^^^^^^^^^^^^^^^^^^^^^^^^^^^^^^^^\n",
            "  File \"/Users/robertalexander/GitHub/Plotbot/plotbot/plotbot_dash_vdf.py\", line 118, in create_vdf_dash_app\n",
            "    vdf_data, theta_data, phi_data = fast_vdf_processing(dat, available_indices[0])\n",
            "                                     ^^^^^^^^^^^^^^^^^^^^^^^^^^^^^^^^^^^^^^^^^^^^^^\n",
            "  File \"/Users/robertalexander/GitHub/Plotbot/plotbot/plotbot_dash_vdf.py\", line 555, in fast_vdf_processing\n",
            "    vdf_data = extract_and_process_vdf_timeslice_EXACT(dat, time_idx)\n",
            "               ^^^^^^^^^^^^^^^^^^^^^^^^^^^^^^^^^^^^^^^^^^^^^^^^^^^^^^\n",
            "  File \"/Users/robertalexander/GitHub/Plotbot/plotbot/../tests/test_VDF_smart_bounds_debug.py\", line 22, in extract_and_process_vdf_timeslice_EXACT\n",
            "    thetaSlice = dat['THETA'][tSliceIndex, :]\n",
            "                 ~~~^^^^^^^^^\n",
            "  File \"/Users/robertalexander/micromamba/envs/plotbot_micromamba/lib/python3.12/site-packages/cdflib/cdfread.py\", line 177, in __getitem__\n",
            "    return self.varget(variable)\n",
            "           ^^^^^^^^^^^^^^^^^^^^^\n",
            "  File \"/Users/robertalexander/micromamba/envs/plotbot_micromamba/lib/python3.12/site-packages/cdflib/cdfread.py\", line 434, in varget\n",
            "    vdr_info = self.vdr_info(variable)\n",
            "               ^^^^^^^^^^^^^^^^^^^^^^^\n",
            "  File \"/Users/robertalexander/micromamba/envs/plotbot_micromamba/lib/python3.12/site-packages/cdflib/cdfread.py\", line 466, in vdr_info\n",
            "    raise ValueError(f\"Variable name '{variable}' not found.\")\n",
            "ValueError: Variable name 'THETA' not found.\n",
            "15-Sep-25 12:49:53: Local files found: ['data/psp/sweap/spi/l3/spi_sf00_l3_mom/2020/psp_swp_spi_sf00_l3_mom_20200129_v04.cdf']\n"
          ]
        },
        {
          "name": "stdout",
          "output_type": "stream",
          "text": [
            "📅 Time range: 2020-01-29/18:00:00.000 to 2020-01-29/18:30:00.000\n",
            "🚀 Creating interactive VDF plot with time slider...\n",
            "🔍 DEBUG: About to create VDF Dash app...\n",
            "🔍 DEBUG: About to call fast_vdf_processing...\n",
            "VDF processing failed: Variable name 'THETA' not found.\n",
            "🔍 DEBUG: Exception in VDF Dash creation: Variable name 'THETA' not found.\n",
            "🔍 DEBUG: Exception type: <class 'ValueError'>\n",
            "🔍 DEBUG: Full traceback:\n",
            "❌ Failed to create interactive VDF plot: Variable name 'THETA' not found.\n",
            "🔗 Button handlers connected successfully\n"
          ]
        },
        {
          "data": {
            "application/vnd.jupyter.widget-view+json": {
              "model_id": "5a216ec69d974d33893fa42e58b1d3b2",
              "version_major": 2,
              "version_minor": 0
            },
            "text/plain": [
              "VBox(children=(HBox(children=(Label(value='Time:', layout=Layout(width='50px')), IntSlider(value=0, layout=Lay…"
            ]
          },
          "metadata": {},
          "output_type": "display_data"
        },
        {
          "name": "stdout",
          "output_type": "stream",
          "text": [
            "🌐 Interactive VDF plot running at: http://127.0.0.1:8051\n",
            "📌 Use the time slider to navigate through VDF data!\n",
            "⚙️ Adjust parameters in real-time using the controls below the plot\n"
          ]
        }
      ],
      "source": [
        "# Define time range with multiple VDF time points\n",
        "# Using known working time range from plotbot_vdf_examples.ipynb\n",
        "trange = ['2020-01-29/18:00:00.000', '2020-01-29/18:30:00.000']\n",
        "\n",
        "print(f\"📅 Time range: {trange[0]} to {trange[1]}\")\n",
        "print(\"🚀 Creating interactive VDF plot with time slider...\")\n",
        "\n",
        "# Create interactive VDF plot\n",
        "# This will open in your browser with time slider controls\n",
        "app = plotbot_interactive_vdf(trange)\n",
        "\n",
        "# The app runs on port 8051 by default\n",
        "print(\"🌐 Interactive VDF plot running at: http://127.0.0.1:8051\")\n",
        "print(\"📌 Use the time slider to navigate through VDF data!\")\n",
        "print(\"⚙️ Adjust parameters in real-time using the controls below the plot\")\n"
      ]
    }
  ],
  "metadata": {
    "kernelspec": {
      "display_name": "Python 3",
      "language": "python",
      "name": "python3"
    },
    "language_info": {
      "codemirror_mode": {
        "name": "ipython",
        "version": 3
      },
      "file_extension": ".py",
      "mimetype": "text/x-python",
      "name": "python",
      "nbconvert_exporter": "python",
      "pygments_lexer": "ipython3",
      "version": "3.12.4"
    }
  },
  "nbformat": 4,
  "nbformat_minor": 2
}
