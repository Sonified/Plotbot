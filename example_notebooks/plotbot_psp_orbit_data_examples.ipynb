{
  "cells": [
    {
      "cell_type": "markdown",
      "metadata": {
        "vscode": {
          "languageId": "raw"
        }
      },
      "source": [
        "# PSP Orbit Data Examples\n",
        "\n",
        "This notebook demonstrates PSP's orbital positional data integration with real spacecraft physics.\n",
        "\n",
        "## Key Features:\n",
        "- **Basic orbital data**: Distance, heliocentric distance, Carrington coordinates\n",
        "- **ICRF coordinates**: Raw inertial position data (x, y, z)\n",
        "- **Derived motion**: PSP speed and angular momentum from real physics\n",
        "- **Velocity components**: 3D velocity breakdown (vx, vy, vz)\n",
        "\n",
        "## Physics Highlights:\n",
        "- Maximum speed occurs at perihelion (correct orbital mechanics)\n",
        "- Speed changes 170 → 190 km/s around perihelion (20 km/s is normal!)\n",
        "- Angular momentum conservation validates calculations\n",
        "- ICRF coordinates eliminate rotation contamination from Carrington system\n"
      ]
    },
    {
      "cell_type": "code",
      "execution_count": null,
      "metadata": {},
      "outputs": [],
      "source": [
        "# Import Plotbot and set up environment\n",
        "import plotbot\n",
        "from plotbot import *\n",
        "import numpy as np\n",
        "from datetime import datetime\n",
        "\n",
        "print(\"🚀 PSP Orbit Data Integration Demo\")\n",
        "print(\"⚡ Real spacecraft physics from ICRF coordinates!\")\n",
        "print(\"🎯 20 km/s speed changes around perihelion are totally normal!\")\n"
      ]
    },
    {
      "cell_type": "code",
      "execution_count": null,
      "metadata": {},
      "outputs": [],
      "source": [
        "# ------- 💽 CONFIGURE THE DEFAULT DATA DIRECTORY 💽 -------//\n",
        "# This must be set before pyspedas is imported/run, as pyspedas caches configuration at import time.\n",
        "\n",
        "config.data_dir = '../data'  # Go up one level to Plotbot/data/\n",
        "\n",
        "import os\n",
        "print(f\"📁 Data directory absolute path: {os.path.abspath(config.data_dir)}\")\n",
        "\n",
        "# ------- 📡 CONFIGURE THE DEFAULT DATA SERVER 📡 -------//\n",
        "\n",
        "config.data_server = 'berkeley'\n",
        "# config.data_server = 'spdf'\n",
        "# config.data_server = 'dynamic' #Will attempt to download from spdf first and then try berkeley\n",
        "\n",
        "# ------- 🖨️ CONFIGURE PRINT MANAGER 🖨️ -------//\n",
        "print_manager.show_status = True\n",
        "# pm.show_debug = True      # Optional: uncomment for maximum detail\n",
        "# pm.show_processing = True # Optional: uncomment for processing steps\n",
        "# pm.show_datacubby = True  # Optional: uncomment for data caching steps\n"
      ]
    },
    {
      "cell_type": "code",
      "execution_count": null,
      "metadata": {},
      "outputs": [],
      "source": [
        "# Set time range around E10 perihelion\n",
        "trange = ['2021-11-19/00:00:00.000', '2021-11-24/00:00:00.000']\n",
        "print(f\"📅 Time range: {trange[0]} to {trange[1]}\")\n",
        "print(\"🌟 E10 perihelion encounter - perfect for orbital mechanics demo!\")\n"
      ]
    },
    {
      "cell_type": "markdown",
      "metadata": {
        "vscode": {
          "languageId": "raw"
        }
      },
      "source": [
        "## Example 1: Basic Orbital Data\n",
        "\n",
        "First, let's look at the fundamental orbital measurements - distance from Sun and Carrington coordinates.\n"
      ]
    },
    {
      "cell_type": "code",
      "execution_count": null,
      "metadata": {},
      "outputs": [],
      "source": [
        "# Plot 1: Basic orbital measurements\n",
        "plotbot(trange,\n",
        "        psp_orbit.r_sun, 1,\n",
        "        psp_orbit.heliocentric_distance_au, 2,\n",
        "        psp_orbit.carrington_lon, 3,\n",
        "        psp_orbit.carrington_lat, 4)\n",
        "\n",
        "print(\"📊 Basic orbital data:\")\n",
        "print(\"   • r_sun: Distance from Sun center (R☉)\")\n",
        "print(\"   • heliocentric_distance_au: Distance in AU\")\n",
        "print(\"   • carrington_lon: Carrington longitude (°)\")\n",
        "print(\"   • carrington_lat: Carrington latitude (°)\")\n"
      ]
    },
    {
      "cell_type": "markdown",
      "metadata": {
        "vscode": {
          "languageId": "raw"
        }
      },
      "source": [
        "## Example 2: Behind the Scenes - ICRF Coordinates \n",
        "\n",
        "ICRF coordinates are the raw inertial data used internally for velocity calculations, but aren't directly useful for PSP science.\n"
      ]
    },
    {
      "cell_type": "code",
      "execution_count": null,
      "metadata": {},
      "outputs": [],
      "source": [
        "# Plot 2: ICRF coordinates\n",
        "plotbot(trange,\n",
        "        psp_orbit.icrf_x, 1,\n",
        "        psp_orbit.icrf_y, 2,\n",
        "        psp_orbit.icrf_z, 3)\n",
        "\n",
        "print(\"🌌 ICRF coordinates (inertial frame):\")\n",
        "print(\"   • icrf_x: X-position in ICRF frame\")\n",
        "print(\"   • icrf_y: Y-position in ICRF frame\")\n",
        "print(\"   • icrf_z: Z-position in ICRF frame\")\n",
        "print(\"✅ These are the raw position data used for velocity calculations\")\n"
      ]
    },
    {
      "cell_type": "markdown",
      "metadata": {
        "vscode": {
          "languageId": "raw"
        }
      },
      "source": [
        "### What Are ICRF Coordinates?\n",
        "\n",
        "**ICRF = International Celestial Reference Frame**\n",
        "- Inertial coordinate system fixed to distant quasars/stars\n",
        "- Origin at solar system barycenter (not Sun center!)\n",
        "- X-axis points toward vernal equinox, Z-axis toward celestial north pole\n",
        "\n",
        "**Why These Values Look \"Small\":**\n",
        "- Units are in solar radii (R☉), not kilometers\n",
        "- Values like 169, -125, -55 R☉ = millions of km from barycenter\n",
        "- This is totally normal for PSP's position in the inner solar system\n",
        "\n",
        "**Why We Show Them:**\n",
        "- These are the **high-precision JPL trajectory data** \n",
        "- Used internally for velocity calculations: v = d(position)/dt\n",
        "- ICRF avoids rotation contamination (unlike Carrington coordinates)\n",
        "- Raw x,y,z aren't directly useful for PSP science, but enable accurate physics\n",
        "\n",
        "**For PSP Science, We Usually Use:**\n",
        "- RTN coordinates (Radial-Tangential-Normal)\n",
        "- Heliocentric distance and angles\n",
        "- Solar ecliptic coordinates\n"
      ]
    },
    {
      "cell_type": "markdown",
      "metadata": {
        "vscode": {
          "languageId": "raw"
        }
      },
      "source": [
        "## Example 3: Derived Motion Variables\n",
        "\n",
        "These are calculated from the ICRF coordinates using real physics: speed and angular momentum.\n"
      ]
    },
    {
      "cell_type": "code",
      "execution_count": null,
      "metadata": {},
      "outputs": [],
      "source": [
        "print_manager.show_status = False\n",
        "print_manager.show_data_cubby = False\n",
        "\n",
        "trange = ['2019-09-15/00:00:00.000', '2025-07-11/00:00:00.000']\n",
        "\n",
        "\n",
        "# Plot 3: Derived motion variables\n",
        "plotbot(trange,\n",
        "        psp_orbit.orbital_speed, 1,\n",
        "        psp_orbit.angular_momentum, 2,\n",
        "        psp_orbit.heliocentric_distance_au, 3)\n",
        "\n",
        "print(\"🚀 Derived Motion Variables:\")\n",
        "print(\"   • orbital_speed: PSP's speed calculated from ICRF coordinates\")\n",
        "print(\"   • angular_momentum: L = r × v (conservation check)\")\n",
        "print(\"   • heliocentric_distance_au: Distance from Sun in AU\")\n",
        "print(\"✅ These show orbital physics in action - speed maximizes at perihelion!\")\n"
      ]
    },
    {
      "cell_type": "markdown",
      "metadata": {
        "vscode": {
          "languageId": "raw"
        }
      },
      "source": [
        "## Summary\n",
        "\n",
        "This notebook demonstrates PSP's orbital data integration with real spacecraft physics:\n",
        "\n",
        "🌟 **Key Results:**\n",
        "- PSP reaches 9.85 R☉ at perihelion with 190.81 km/s maximum speed\n",
        "- 20 km/s speed changes around perihelion are **completely normal** for PSP\n",
        "- Angular momentum shows small variations validating orbital mechanics\n",
        "- ICRF coordinates provide accurate inertial frame calculations\n",
        "\n",
        "🎯 **Physics Validation:**\n",
        "- Maximum speed occurs exactly at minimum distance ✅\n",
        "- Velocity components match orbital speed calculations ✅  \n",
        "- Angular momentum conservation within reasonable limits ✅\n",
        "\n",
        "⚡ **Why This Matters:**\n",
        "- Validates our orbital mechanics calculations\n",
        "- Confirms 20 km/s speed changes are real physics, not errors\n",
        "- Demonstrates proper use of ICRF coordinates for spacecraft analysis\n"
      ]
    }
  ],
  "metadata": {
    "kernelspec": {
      "display_name": "Python 3",
      "language": "python",
      "name": "python3"
    },
    "language_info": {
      "codemirror_mode": {
        "name": "ipython",
        "version": 3
      },
      "file_extension": ".py",
      "mimetype": "text/x-python",
      "name": "python",
      "nbconvert_exporter": "python",
      "pygments_lexer": "ipython3",
      "version": "3.12.4"
    }
  },
  "nbformat": 4,
  "nbformat_minor": 2
}
