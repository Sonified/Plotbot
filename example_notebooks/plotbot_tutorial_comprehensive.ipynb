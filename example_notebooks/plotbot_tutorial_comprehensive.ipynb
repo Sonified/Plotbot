{
  "cells": [
    {
      "cell_type": "markdown",
      "metadata": {},
      "source": [
        "# 🤖 Plotbot Comprehensive Tutorial\n",
        "\n",
        "## Welcome to Plotbot! 🌞\n",
        "\n",
        "**Plotbot** is a comprehensive tool for space physics data visualization, audification, and analysis for multiple spacecraft, currently featuring Parker Solar Probe and WIND. Created by Dr. Jaye Verniero and Dr. Robert Alexander.\n",
        "\n",
        "### What makes Plotbot special?\n",
        "- **Class-based architecture** enabling intuitive data access (`mag_rtn.br`)\n",
        "- **Automatic data downloading** from multiple servers\n",
        "- **Active calculation caching** - calculate once, reuse forever\n",
        "- **Multi-mission support** - PSP, WIND, and extensible framework\n",
        "- **Interactive capabilities** - web-based plotting and VDF analysis\n",
        "- **Publication-ready plots** with beautiful defaults\n",
        "\n",
        "### Core Philosophy\n",
        "```python\n",
        "plotbot(trange, mag_rtn.br, 1, proton.anisotropy, 2)\n",
        "```\n",
        "This simple call automatically downloads required data and generates professional plots!\n",
        "\n",
        "---\n",
        "\n",
        "**First:** Click in the upper right corner to select the **plotbot_env** environment (Python 3.12.4)\n",
        "\n",
        "**Then:** Run through this tutorial to learn plotbot's capabilities step by step!\n"
      ]
    },
    {
      "cell_type": "markdown",
      "metadata": {},
      "source": [
        "## 🚀 Initial Setup & Core Concepts\n"
      ]
    },
    {
      "cell_type": "code",
      "execution_count": null,
      "metadata": {},
      "outputs": [
        {
          "name": "stdout",
          "output_type": "stream",
          "text": [
            "\n",
            "🕒 Starting import timing session: plotbot_full_initialization\n",
            "  ✅ matplotlib.pyplot: 0.315s\n",
            "  ✅ numpy: 0.000s\n",
            "  🔧 Starting block: core_components\n",
            "initialized server_access\n",
            "initialized global_tracker\n",
            "initialized ploptions\n",
            "initialized plot_manager\n",
            "initialized epad class\n",
            "initialized epad_hr class\n",
            "initialized proton class\n",
            "initialized proton_hr class\n",
            "initialized ham_class\n",
            "initialized psp_alpha class\n",
            "initialized psp_qtn class\n",
            "initialized psp_orbit class\n",
            "initialized psp_span_vdf class\n",
            "initialized data_cubby.\n",
            "CDF classes added to data_cubby type map.\n",
            "  ✅ Block 'core_components' completed in 1.014s\n",
            "  🔧 Starting block: psp_data_classes\n",
            "initialized proton_fits class\n",
            "initialized alpha_fits class\n",
            "  ✅ Block 'psp_data_classes' completed in 0.002s\n",
            "  🔧 Starting block: wind_data_classes\n",
            "  ✅ Block 'wind_data_classes' completed in 0.000s\n",
            "  🔧 Starting block: data_cubby_registration\n",
            "  ✅ Block 'data_cubby_registration' completed in 0.001s\n",
            "  🔧 Starting block: auto_register_custom_classes\n",
            "  ✅ Block 'auto_register_custom_classes' completed in 0.002s\n",
            "  🔧 Starting block: custom_variables\n",
            "  ✅ Block 'custom_variables' completed in 0.000s\n",
            "🔉 initialized audifier\n",
            "  ✅ from plotbot import audifier: 0.126s\n",
            "  🔧 Starting block: enhanced_plt\n",
            "  ✅ Block 'enhanced_plt' completed in 0.000s\n",
            "  🔧 Starting block: main_plotting_functions\n",
            "\n",
            "Importing libraries, this may take a moment. Hold tight... \n",
            "\n",
            "✅ Imported standard libraries and utilities.\n",
            "✅ Deferred numpy, pandas, and scipy libraries (loaded when needed).\n",
            "✅ Deferred matplotlib libraries (loaded when needed).\n",
            "✅ Imported cdflib, BeautifulSoup, requests, dateutil, and datetime libraries.\n",
            "\n",
            "🤖 Plotbot Initialized\n",
            "✨ Showdahodo initialized\n",
            "Positional Data Helper Initialized\n",
            "📈📉 Multiplot Initialized\n",
            "  ✅ Block 'main_plotting_functions' completed in 0.483s\n",
            "  🔧 Starting block: cdf_functions\n",
            "  ✅ Block 'cdf_functions' completed in 0.001s\n",
            "\n",
            "🤖 Plotbot Initialized\n",
            "📈📉 Multiplot Initialized\n",
            "   Version: 2025_09_22_v3.33\n",
            "   Commit: v3.33 Fix: Ham data import path resolution and investigation of irregular time cadence issues\n",
            "\n",
            "\n",
            "🏁 Session 'plotbot_full_initialization' completed in 1.945s\n",
            "\n",
            "============================================================\n",
            "📊 IMPORT TIMING REPORT - plotbot_full_initialization\n",
            "============================================================\n",
            "Total session time: 1.945s\n",
            "\n",
            "🐌 SLOWEST IMPORTS (Top 3):\n",
            "--------------------------------------------------\n",
            " 1. matplotlib.pyplot               0.315s (71.4%)\n",
            " 2. from plotbot import audifier    0.126s (28.6%)\n",
            " 3. numpy                           0.000s ( 0.0%)\n",
            "\n",
            "🔧 BLOCK TIMING SUMMARY:\n",
            "--------------------------------------------------\n",
            "core_components                 1.014s (avg: 1.014s, runs: 1)\n",
            "psp_data_classes                0.002s (avg: 0.002s, runs: 1)\n",
            "wind_data_classes               0.000s (avg: 0.000s, runs: 1)\n",
            "data_cubby_registration         0.001s (avg: 0.001s, runs: 1)\n",
            "auto_register_custom_classes    0.002s (avg: 0.002s, runs: 1)\n",
            "custom_variables                0.000s (avg: 0.000s, runs: 1)\n",
            "enhanced_plt                    0.000s (avg: 0.000s, runs: 1)\n",
            "main_plotting_functions         0.483s (avg: 0.483s, runs: 1)\n",
            "cdf_functions                   0.001s (avg: 0.001s, runs: 1)\n",
            "\n",
            "⏰ IMPORT TIMELINE:\n",
            "--------------------------------------------------\n",
            " 0.000s: matplotlib.pyplot              (+0.315s)\n",
            " 0.315s: numpy                          (+0.000s)\n",
            " 1.334s: from plotbot import audifier   (+0.126s)\n",
            "\n",
            "💡 OPTIMIZATION SUGGESTIONS:\n",
            "--------------------------------------------------\n",
            "• Matplotlib imports: 0.3s - good candidate for lazy loading\n",
            "• Focus optimization on imports >0.5s for maximum impact\n"
          ]
        }
      ],
      "source": [
        "# Import plotbot - this initializes all the data classes and core functionality\n",
        "from plotbot import *\n"
      ]
    },
    {
      "cell_type": "markdown",
      "metadata": {},
      "source": [
        "### 🔧 Core Configuration & Print Manager\n",
        "\n",
        "Let's configure some key plotbot settings:\n"
      ]
    },
    {
      "cell_type": "code",
      "execution_count": null,
      "metadata": {},
      "outputs": [],
      "source": [
        "# 🖨️ PRINT MANAGER - Control what plotbot tells you\n",
        "print_manager.show_status = True     # Show basic status messages (recommended!)\n",
        "# print_manager.show_debug = True    # Uncomment for detailed debug info\n",
        "\n",
        "# 🌐 DATA SERVER CONFIGURATION\n",
        "# config.data_server = 'dynamic'     # Default: SPDF first, Berkeley fallback\n",
        "# config.data_server = 'spdf'        # SPDF/CDAWeb only (public data)\n",
        "# config.data_server = 'berkeley'    # Berkeley server only (latest data)\n",
        "\n",
        "# 📁 CUSTOM DATA DIRECTORY (optional)\n",
        "# You can point plotbot to a specific data directory:\n",
        "# import os\n",
        "# config.data_dir = '/path/to/your/data/folder'\n",
        "\n",
        "print(\"✅ Core configuration complete!\")\n",
        "print(f\"📂 Data server: {config.data_server}\")\n",
        "print(f\"📁 Data directory: {config.data_dir}\")\n",
        "print(f\"🖨️ Print manager status: {print_manager.show_status}\")\n"
      ]
    },
    {
      "cell_type": "markdown",
      "metadata": {},
      "source": [
        "## 📈 Basic Plotbot - Your First Plot\n",
        "\n",
        "Let's create a simple two-panel plot showing magnetic field and proton data:\n"
      ]
    },
    {
      "cell_type": "code",
      "execution_count": null,
      "metadata": {},
      "outputs": [],
      "source": [
        "# Define a time range during PSP Encounter 4\n",
        "trange = ['2020-01-29/18:00:00', '2020-01-29/20:00:00']\n",
        "\n",
        "# Create a basic two-panel plot\n",
        "plotbot(trange, \n",
        "        mag_rtn_4sa.br, 1,       # Radial magnetic field component on panel 1\n",
        "        proton.anisotropy, 2)    # Proton temperature anisotropy on panel 2\n",
        "\n",
        "print(\"🎉 Your first plotbot plot is complete!\")\n"
      ]
    },
    {
      "cell_type": "markdown",
      "metadata": {},
      "source": [
        "## 🌐 Interactive Plotting - plotbot_interactive()\n",
        "\n",
        "Create web-based interactive plots that run inside your notebook:\n"
      ]
    },
    {
      "cell_type": "code",
      "execution_count": null,
      "metadata": {},
      "outputs": [],
      "source": [
        "# Configure interactive plotting for notebook display\n",
        "pbi.enabled = True\n",
        "pbi.port = 8050\n",
        "# pbi.open_browser = False  # Keep plots in notebook instead of opening browser\n",
        "\n",
        "print(\"🌐 Interactive plotting configured!\")\n"
      ]
    },
    {
      "cell_type": "code",
      "execution_count": null,
      "metadata": {},
      "outputs": [],
      "source": [
        "# Create an interactive plot with both time series and spectral data\n",
        "plotbot_interactive(trange,\n",
        "                   mag_rtn_4sa.bt, 1,     # Tangential B-field (line plot)\n",
        "                   epad.strahl, 2)        # Electron strahl (spectrogram)\n",
        "\n",
        "print(\"✨ Interactive plot created! Try clicking on data points for VDF analysis.\")\n"
      ]
    },
    {
      "cell_type": "markdown",
      "metadata": {},
      "source": [
        "## 📊 Multiplot - Multi-Panel Time Analysis\n",
        "\n",
        "Compare the same variable across different encounters or time periods:\n"
      ]
    },
    {
      "cell_type": "code",
      "execution_count": null,
      "metadata": {},
      "outputs": [],
      "source": [
        "# Define encounter times (we'll focus on encounters 11-16)\n",
        "encounter_times = [\n",
        "    # '2021/08/09 19:08:00.000',  # Enc 8\n",
        "    # '2021/11/21 09:24:00.000',  # Enc 9  \n",
        "    # '2022/02/25 08:02:00.000',  # Enc 10\n",
        "    '2022/09/06 11:50:00.000',  # Enc 11\n",
        "    '2022/12/11 13:46:00.000',  # Enc 12\n",
        "    '2023/03/17 17:26:00.000',  # Enc 13\n",
        "    '2023/06/22 05:49:00.000',  # Enc 14\n",
        "    '2023/09/27 13:49:00.000',  # Enc 15\n",
        "    '2023/12/30 00:53:00.000',  # Enc 16\n",
        "]\n",
        "\n",
        "# Create plot_data list for multiplot\n",
        "plot_data = [(time, mag_rtn_4sa.bmag) for time in encounter_times]\n",
        "\n",
        "# Reset multiplot options for clean slate\n",
        "plt.options.reset()\n",
        "\n",
        "# Basic multiplot\n",
        "multiplot(plot_data)\n",
        "\n",
        "print(f\"📊 Multiplot created for {len(encounter_times)} encounters!\")\n"
      ]
    },
    {
      "cell_type": "markdown",
      "metadata": {},
      "source": [
        "## 🗂️ Data Cubby & Snapshots - Never Calculate Twice\n",
        "\n",
        "Plotbot's data cubby automatically caches calculations. You can also save snapshots for persistent storage:\n"
      ]
    },
    {
      "cell_type": "code",
      "execution_count": null,
      "metadata": {},
      "outputs": [],
      "source": [
        "# First, let's load some data to demonstrate caching\n",
        "print(\"🔄 Loading data for the first time...\")\n",
        "get_data(trange, 'proton')  # This will download and calculate\n",
        "\n",
        "print(\"✅ Data loaded and cached in data_cubby!\")\n",
        "print(\"🚀 Try running the same command again - it will be instant!\")\n",
        "\n",
        "# Demonstrate instant access\n",
        "get_data(trange, 'proton')  # This will use cached data\n",
        "print(\"⚡ That was instant - data retrieved from cache!\")\n"
      ]
    },
    {
      "cell_type": "code",
      "execution_count": null,
      "metadata": {},
      "outputs": [],
      "source": [
        "# Save a snapshot of your current session for future use\n",
        "snapshot_name = 'tutorial_session.pkl'\n",
        "\n",
        "# Save current calculations\n",
        "save_simple_snapshot(snapshot_name)\n",
        "print(f\"💾 Session saved as {snapshot_name}\")\n",
        "\n",
        "# You can load this snapshot later with:\n",
        "# load_simple_snapshot(snapshot_name)\n",
        "print(\"💡 Use load_simple_snapshot() to restore this session later!\")\n"
      ]
    },
    {
      "cell_type": "markdown",
      "metadata": {},
      "source": [
        "## 🔄 Showdahodo - Hodogram/Scatter Analysis\n",
        "\n",
        "Visualize relationships between variables with hodogram (scatter) plots:\n"
      ]
    },
    {
      "cell_type": "code",
      "execution_count": null,
      "metadata": {},
      "outputs": [],
      "source": [
        "# Create a 2D hodogram showing magnetic field components\n",
        "showdahodo(trange, \n",
        "           mag_rtn_4sa.br,        # X-axis: Radial B-field\n",
        "           mag_rtn_4sa.bt,        # Y-axis: Tangential B-field\n",
        "           color_var=proton.temperature)  # Color by proton temperature\n",
        "\n",
        "print(\"🔄 Hodogram complete! Notice how variables relate to each other.\")\n"
      ]
    },
    {
      "cell_type": "markdown",
      "metadata": {},
      "source": [
        "## 🌪️ VDF Analysis - Velocity Distribution Functions\n",
        "\n",
        "Analyze particle velocity distributions with the `vdyes()` function:\n"
      ]
    },
    {
      "cell_type": "code",
      "execution_count": null,
      "metadata": {},
      "outputs": [],
      "source": [
        "# Single time point for VDF analysis - creates static 3-panel plot\n",
        "vdf_time = '2020/01/29 18:30:00.000'\n",
        "\n",
        "# Configure VDF parameters\n",
        "psp_span_vdf.theta_smart_padding = 150\n",
        "psp_span_vdf.enable_zero_clipping = False\n",
        "psp_span_vdf.vdf_colormap = 'plasma'\n",
        "\n",
        "# Create VDF plot\n",
        "fig = vdyes([vdf_time, vdf_time])  # Same time twice for single plot\n",
        "\n",
        "print(\"🌪️ VDF plot created showing theta-plane, phi-plane, and collapsed distributions!\")\n"
      ]
    },
    {
      "cell_type": "markdown",
      "metadata": {},
      "source": [
        "## 🔊 Audification - Hear Your Data\n",
        "\n",
        "Convert time series data into audio for sonification analysis:\n"
      ]
    },
    {
      "cell_type": "code",
      "execution_count": null,
      "metadata": {},
      "outputs": [],
      "source": [
        "# Create audio from magnetic field data\n",
        "# Note: This creates WAV files in your audio_files directory\n",
        "\n",
        "# Configure audification parameters\n",
        "audifier.audio_duration = 10.0    # 10 second audio file\n",
        "audifier.sample_rate = 44100      # Standard audio sample rate\n",
        "audifier.frequency_range = (200, 2000)  # Audible frequency range\n",
        "\n",
        "# Create audio from magnetic field magnitude\n",
        "# audifier(mag_rtn_4sa.bmag, trange)  # Uncomment to create audio file\n",
        "\n",
        "print(\"🔊 Audification configured!\")\n",
        "print(\"💡 Uncomment the audifier() line above to create audio files\")\n",
        "print(\"📁 Audio files will be saved to the audio_files/ directory\")\n"
      ]
    },
    {
      "cell_type": "markdown",
      "metadata": {},
      "source": [
        "## 🎨 Custom Variables - Create Your Own Quantities\n",
        "\n",
        "Combine existing variables to create new derived quantities:\n"
      ]
    },
    {
      "cell_type": "code",
      "execution_count": null,
      "metadata": {},
      "outputs": [],
      "source": [
        "# Import custom variable function\n",
        "from plotbot.data_classes.custom_variables import custom_variable\n",
        "\n",
        "# Create a custom variable: Temperature anisotropy normalized by B magnitude\n",
        "ta_over_b = custom_variable('TempAniso_over_Bmag', \n",
        "                           proton.anisotropy / mag_rtn_4sa.bmag)\n",
        "\n",
        "# Customize its appearance\n",
        "ta_over_b.y_label = 'T⊥/T∥ / |B|'\n",
        "ta_over_b.color = 'purple'\n",
        "\n",
        "# Plot it like any other variable!\n",
        "plotbot(trange, ta_over_b, 1)\n",
        "\n",
        "print(\"🎨 Custom variable created and plotted!\")\n",
        "print(f\"📊 Your custom variable is now globally accessible as: {ta_over_b.name}\")\n"
      ]
    },
    {
      "cell_type": "markdown",
      "metadata": {},
      "source": [
        "## 📋 CDF Import - Automatic Class Generation\n",
        "\n",
        "Plotbot can automatically generate classes from any CDF (Common Data Format) files:\n"
      ]
    },
    {
      "cell_type": "code",
      "execution_count": null,
      "metadata": {},
      "outputs": [],
      "source": [
        "# Demonstrate CDF integration capabilities\n",
        "# Note: This shows the functions - you would need actual CDF files to run\n",
        "\n",
        "print(\"📋 CDF Integration Features:\")\n",
        "print(\"\")\n",
        "print(\"🔍 scan_cdf_directory('path/to/cdf/files/')\")\n",
        "print(\"   → Automatically scans directory and generates classes\")\n",
        "print(\"\")\n",
        "print(\"📄 cdf_to_plotbot('specific_file.cdf')\")\n",
        "print(\"   → Generates class for a specific CDF file\")\n",
        "print(\"\")\n",
        "print(\"💡 Generated classes work identically to built-in plotbot classes!\")\n",
        "print(\"\")\n",
        "print(\"Example usage after generating CDF classes:\")\n",
        "print(\"plotbot(trange, my_cdf_class.my_variable, 1)\")\n",
        "\n",
        "# Show where CDF files should be placed\n",
        "import os\n",
        "cdf_path = os.path.join(config.data_dir, 'cdf_files')\n",
        "print(f\"\")\n",
        "print(f\"📁 Place your CDF files in: {cdf_path}\")\n"
      ]
    },
    {
      "cell_type": "markdown",
      "metadata": {},
      "source": [
        "## 🚀 Advanced Multiplot - Positional Plotting & Presets\n",
        "\n",
        "Explore advanced multiplot features including positional x-axes and preset configurations:\n"
      ]
    },
    {
      "cell_type": "markdown",
      "metadata": {},
      "source": [
        "### 📍 Positional X-Axes - Plot vs Distance/Position\n",
        "\n",
        "Instead of time, plot against spacecraft position:\n"
      ]
    },
    {
      "cell_type": "code",
      "execution_count": null,
      "metadata": {},
      "outputs": [],
      "source": [
        "# Reset options for clean slate\n",
        "plt.options.reset()\n",
        "\n",
        "# ✨ ACTIVATE degrees from perihelion plotting ✨\n",
        "plt.options.use_degrees_from_perihelion = True\n",
        "\n",
        "# Ensure other positional options are disabled (mutually exclusive)\n",
        "# plt.options.x_axis_r_sun = True              # Uncomment to plot vs radial distance\n",
        "# plt.options.x_axis_carrington_lon = True     # Uncomment to plot vs Carrington longitude\n",
        "# plt.options.x_axis_carrington_lat = True     # Uncomment to plot vs Carrington latitude\n",
        "\n",
        "# Advanced positioning options\n",
        "# plt.options.x_axis_positional_range = (0, 360)  # Uncomment to set fixed range\n",
        "# plt.options.use_single_x_axis = True             # Uncomment for common x-axis\n",
        "# plt.options.positional_tick_density = 2         # Uncomment for denser ticks\n",
        "\n",
        "# Color options\n",
        "plt.options.color_mode = 'rainbow'\n",
        "# plt.options.color_mode = 'single'      # Uncomment for single color\n",
        "# plt.options.single_color = 'blue'      # Uncomment to set specific color\n",
        "\n",
        "# Create positional multiplot\n",
        "plot_data = [(time, mag_rtn_4sa.bmag) for time in encounter_times]\n",
        "multiplot(plot_data)\n",
        "\n",
        "print(\"📍 Advanced positional multiplot created!\")\n",
        "print(\"💡 Try uncommenting different positional options above to experiment!\")\n"
      ]
    },
    {
      "cell_type": "markdown",
      "metadata": {},
      "source": [
        "### 🎛️ Plot Presets - Professional Configurations\n",
        "\n",
        "Use predefined presets for different output types:\n"
      ]
    },
    {
      "cell_type": "code",
      "execution_count": null,
      "metadata": {},
      "outputs": [],
      "source": [
        "# Reset options\n",
        "plt.options.reset()\n",
        "\n",
        "# ✨ SAVE OUTPUT PRESETS ✨\n",
        "plt.options.save_output = True\n",
        "\n",
        "# Preset options (uncomment one to try):\n",
        "plt.options.save_preset = 'medium'        # Medium resolution (default)\n",
        "# plt.options.save_preset = 'high_res'    # High resolution for publications\n",
        "# plt.options.save_preset = 'poster'      # Large format for posters\n",
        "# plt.options.save_preset = 'presentation' # Optimized for presentations\n",
        "\n",
        "# Custom dimensions (alternative to presets)\n",
        "# plt.options.output_dimensions = (1920, 1080)  # Custom width x height\n",
        "\n",
        "# Additional save options\n",
        "plt.options.save_bbox_inches = 'tight'\n",
        "plt.options.save_dpi = 300\n",
        "# plt.options.save_format = 'png'         # Default format\n",
        "# plt.options.save_format = 'pdf'         # Vector format\n",
        "\n",
        "# Create a plot with preset applied\n",
        "plotbot(trange, \n",
        "        mag_rtn_4sa.bmag, 1,\n",
        "        proton.temperature, 2)\n",
        "\n",
        "print(f\"🎛️ Plot created with '{plt.options.save_preset}' preset!\")\n",
        "print(\"💡 Try uncommenting different presets above to see the differences\")\n",
        "print(\"📁 Output files saved to plots/ directory\")\n"
      ]
    },
    {
      "cell_type": "markdown",
      "metadata": {},
      "source": [
        "## 🎉 Tutorial Complete!\n",
        "\n",
        "Congratulations! You've now explored the core capabilities of Plotbot:\n",
        "\n",
        "✅ **Basic plotting** - Simple, beautiful time series plots  \n",
        "✅ **Interactive plotting** - Web-based analysis with click-to-VDF  \n",
        "✅ **Multiplot** - Multi-panel time comparisons  \n",
        "✅ **Data management** - Caching and snapshots  \n",
        "✅ **Hodograms** - Variable relationship analysis  \n",
        "✅ **VDF analysis** - Velocity distribution functions  \n",
        "✅ **Audification** - Audio representation of data  \n",
        "✅ **Custom variables** - Create derived quantities  \n",
        "✅ **CDF integration** - Automatic class generation  \n",
        "✅ **Advanced features** - Positional plotting and presets  \n",
        "\n",
        "### 🚀 Next Steps\n",
        "\n",
        "Explore the specific example notebooks for deeper dives into each capability:\n",
        "\n",
        "- `plotbot_interactive_example.ipynb` - Advanced interactive features\n",
        "- `plotbot_multiplot_examples.ipynb` - Comprehensive multiplot options\n",
        "- `plotbot_vdf_examples.ipynb` - Detailed VDF analysis\n",
        "- `plotbot_custom_variable_examples.ipynb` - Advanced custom variables\n",
        "- `plotbot_cdf_import_examples.ipynb` - CDF integration workflows\n",
        "- And many more in the `example_notebooks/` directory!\n",
        "\n",
        "### 💡 Tips for Success\n",
        "\n",
        "1. **Use `print_manager.show_status = True`** to see what plotbot is doing\n",
        "2. **Save snapshots** of your work with `save_simple_snapshot()`\n",
        "3. **Experiment with presets** for different output needs\n",
        "4. **Combine features** - use custom variables in multiplots, create interactive hodograms, etc.\n",
        "5. **Check the documentation** in the README files for comprehensive details\n",
        "\n",
        "**Happy Plotbotting!** 🤖✨\n"
      ]
    }
  ],
  "metadata": {
    "kernelspec": {
      "display_name": "Python 3",
      "language": "python",
      "name": "python3"
    },
    "language_info": {
      "codemirror_mode": {
        "name": "ipython",
        "version": 3
      },
      "file_extension": ".py",
      "mimetype": "text/x-python",
      "name": "python",
      "nbconvert_exporter": "python",
      "pygments_lexer": "ipython3",
      "version": "3.12.4"
    }
  },
  "nbformat": 4,
  "nbformat_minor": 2
}
