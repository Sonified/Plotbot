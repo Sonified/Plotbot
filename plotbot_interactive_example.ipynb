{
  "cells": [
    {
      "cell_type": "markdown",
      "metadata": {},
      "source": [
        "# 🤖 Plotbot Interactive Example\n",
        "\n",
        "This notebook demonstrates the new `plotbot_interactive()` function with click-to-VDF functionality.\n",
        "\n",
        "## Features:\n",
        "- **Publication-ready styling** - Maintains Plotbot's clean matplotlib aesthetic\n",
        "- **Click-to-VDF** - Click any data point to generate VDF analysis\n",
        "- **Fading text overlays** - Interactive elements fade after user interaction\n",
        "- **Web-based interface** - Runs in browser for smooth interaction\n"
      ]
    },
    {
      "cell_type": "markdown",
      "metadata": {},
      "source": [
        "## Installation\n",
        "\n",
        "First, install the interactive dependencies:\n"
      ]
    },
    {
      "cell_type": "code",
      "execution_count": 1,
      "metadata": {},
      "outputs": [],
      "source": [
        "# Run this cell if you haven't updated your environment yet\n",
        "# !pip install dash plotly jupyter-dash\n"
      ]
    },
    {
      "cell_type": "code",
      "execution_count": 2,
      "metadata": {},
      "outputs": [
        {
          "name": "stdout",
          "output_type": "stream",
          "text": [
            "initialized server_access\n",
            "initialized global_tracker\n",
            "initialized ploptions\n",
            "initialized plot_manager\n",
            "initialized epad class\n",
            "initialized epad_hr class\n",
            "initialized proton class\n",
            "initialized proton_hr class\n",
            "initialized ham_class\n",
            "initialized psp_alpha class\n",
            "initialized psp_qtn class\n",
            "initialized psp_orbit class\n",
            "initialized psp_span_vdf class\n",
            "initialized data_cubby.\n",
            "CDF classes added to data_cubby type map.\n",
            "initialized proton_fits class\n",
            "initialized alpha_fits class\n",
            "🔉 initialized audifier\n",
            "\n",
            "Importing libraries, this may take a moment. Hold tight... \n",
            "\n",
            "✅ Imported standard libraries and utilities.\n",
            "✅ Imported numpy, pandas, and scipy libraries.\n",
            "✅ Imported matplotlib libraries.\n",
            "✅ Imported cdflib, BeautifulSoup, requests, dateutil, and datetime libraries.\n",
            "\n",
            "🤖 Plotbot Initialized\n",
            "✨ Showdahodo initialized\n",
            "Positional Data Helper Initialized\n",
            "📈📉 Multiplot Initialized\n",
            "\n",
            "🤖 Plotbot Initialized\n",
            "📈📉 Multiplot Initialized\n",
            "   Version: 2025_08_18_v3.14\n",
            "   Commit: v3.14 Feat: Implemented plotbot_interactive() with click-to-VDF and scientific plot controls\n",
            "\n"
          ]
        }
      ],
      "source": [
        "from plotbot import *"
      ]
    },
    {
      "cell_type": "code",
      "execution_count": null,
      "metadata": {},
      "outputs": [
        {
          "data": {
            "text/html": [
              "\n",
              "        <iframe\n",
              "            width=\"100%\"\n",
              "            height=\"650\"\n",
              "            src=\"http://127.0.0.1:8050/\"\n",
              "            frameborder=\"0\"\n",
              "            allowfullscreen\n",
              "            \n",
              "        ></iframe>\n",
              "        "
            ],
            "text/plain": [
              "<IPython.lib.display.IFrame at 0x11136d250>"
            ]
          },
          "metadata": {},
          "output_type": "display_data"
        },
        {
          "name": "stderr",
          "output_type": "stream",
          "text": [
            "18-Aug-25 21:12:41: Local files found: ['data/psp/sweap/spi/l2/spi_sf00_8dx32ex8a/2020/psp_swp_spi_sf00_l2_8dx32ex8a_20200129_v04.cdf', 'data/psp/sweap/spi/l3/spi_sf00_l3_mom/2020/psp_swp_spi_sf00_L3_mom_20200129_v04.cdf']\n"
          ]
        },
        {
          "name": "stdout",
          "output_type": "stream",
          "text": [
            "🔗 Button handlers connected successfully\n"
          ]
        },
        {
          "data": {
            "application/vnd.jupyter.widget-view+json": {
              "model_id": "2bf39098f31c4d53b228acb19022c147",
              "version_major": 2,
              "version_minor": 0
            },
            "text/plain": [
              "VBox(children=(HBox(children=(Label(value='Time:', layout=Layout(width='50px')), IntSlider(value=0, layout=Lay…"
            ]
          },
          "metadata": {},
          "output_type": "display_data"
        }
      ],
      "source": [
        "\n",
        "# Define time range\n",
        "trange = ['2020-01-29/15:00:00.000', '2020-01-29/22:00:00.000']\n",
        "\n",
        "pbi.options.web_display = False\n",
        "\n",
        "# Create interactive plot with click-to-VDF\n",
        "# This will open in your browser\n",
        "# app = plotbot_interactive(trange, \n",
        "#                          mag_rtn_4sa.br, 1,      # Magnetic field Br on panel 1\n",
        "#                          mag_rtn_4sa.bt, 1,      # Magnetic field Bt on panel 1  \n",
        "#                          mag_rtn_4sa.bn, 1,      # Magnetic field Bn on panel 1\n",
        "#                          proton.anisotropy, 2,\n",
        "#                          epad.strahl, 3)   # Proton anisotropy on panel 2\n",
        "\n",
        "app = plotbot_interactive(trange, \n",
        "                         mag_rtn_4sa.br, 1,      # Magnetic field Br on panel 1\n",
        "                         mag_rtn_4sa.bt, 1,      # Magnetic field Bt on panel 1  \n",
        "                         mag_rtn_4sa.bn, 1,      # Magnetic field Bn on panel 1\n",
        "                         proton.anisotropy, 2)   # Proton anisotropy on panel 2"
      ]
    }
  ],
  "metadata": {
    "kernelspec": {
      "display_name": "plotbot_env",
      "language": "python",
      "name": "python3"
    },
    "language_info": {
      "codemirror_mode": {
        "name": "ipython",
        "version": 3
      },
      "file_extension": ".py",
      "mimetype": "text/x-python",
      "name": "python",
      "nbconvert_exporter": "python",
      "pygments_lexer": "ipython3",
      "version": "3.12.4"
    }
  },
  "nbformat": 4,
  "nbformat_minor": 2
}
