{
  "cells": [
    {
      "cell_type": "markdown",
      "metadata": {},
      "source": [
        "# 🤖 Plotbot Interactive Example\n",
        "\n",
        "This notebook demonstrates the new `plotbot_interactive()` function with click-to-VDF functionality.\n",
        "\n",
        "## Features:\n",
        "- **Publication-ready styling** - Maintains Plotbot's clean matplotlib aesthetic\n",
        "- **Click-to-VDF** - Click any data point to generate VDF analysis\n",
        "- **Fading text overlays** - Interactive elements fade after user interaction\n",
        "- **Web-based interface** - Runs in browser for smooth interaction\n"
      ]
    },
    {
      "cell_type": "markdown",
      "metadata": {},
      "source": [
        "## NEW: Spectral Data Support! 📊\n",
        "\n",
        "The interactive system now supports **2D spectral data** rendering:\n",
        "\n",
        "- **EPAD Strahl**: Electron pitch angle distributions as interactive heatmaps\n",
        "- **Automatic Detection**: Detects `plot_type='spectral'` and renders with Plotly heatmaps\n",
        "- **Publication Ready**: Maintains matplotlib aesthetic with proper colorbars and labels\n",
        "- **Log/Linear Scaling**: Supports both logarithmic and linear color scaling\n",
        "- **Interactive**: Full pan/zoom/hover functionality for spectral data\n",
        "\n",
        "This bridges matplotlib `pcolormesh` functionality to Plotly for seamless interactive spectrograms!\n"
      ]
    },
    {
      "cell_type": "markdown",
      "metadata": {},
      "source": [
        "## Installation\n",
        "\n",
        "First, install the interactive dependencies:\n"
      ]
    },
    {
      "cell_type": "code",
      "execution_count": 1,
      "metadata": {},
      "outputs": [],
      "source": [
        "# Run this cell if you haven't updated your environment yet\n",
        "# !pip install dash plotly jupyter-dash"
      ]
    },
    {
      "cell_type": "code",
      "execution_count": 2,
      "metadata": {},
      "outputs": [
        {
          "name": "stdout",
          "output_type": "stream",
          "text": [
            "initialized server_access\n",
            "initialized global_tracker\n",
            "initialized ploptions\n",
            "initialized plot_manager\n",
            "initialized epad class\n",
            "initialized epad_hr class\n",
            "initialized proton class\n",
            "initialized proton_hr class\n",
            "initialized ham_class\n",
            "initialized psp_alpha class\n",
            "initialized psp_qtn class\n",
            "initialized psp_orbit class\n",
            "initialized psp_span_vdf class\n",
            "initialized data_cubby.\n",
            "CDF classes added to data_cubby type map.\n",
            "initialized proton_fits class\n",
            "initialized alpha_fits class\n",
            "🔉 initialized audifier\n",
            "\n",
            "Importing libraries, this may take a moment. Hold tight... \n",
            "\n",
            "✅ Imported standard libraries and utilities.\n",
            "✅ Imported numpy, pandas, and scipy libraries.\n",
            "✅ Imported matplotlib libraries.\n",
            "✅ Imported cdflib, BeautifulSoup, requests, dateutil, and datetime libraries.\n",
            "\n",
            "🤖 Plotbot Initialized\n",
            "✨ Showdahodo initialized\n",
            "Positional Data Helper Initialized\n",
            "📈📉 Multiplot Initialized\n",
            "\n",
            "🤖 Plotbot Initialized\n",
            "📈📉 Multiplot Initialized\n",
            "   Version: 2025_08_27_v3.17\n",
            "   Commit: v3.17 Feat: Implemented 2D spectral data support for plotbot_interactive with Plotly heatmaps\n",
            "\n"
          ]
        }
      ],
      "source": [
        "from plotbot import *"
      ]
    },
    {
      "cell_type": "code",
      "execution_count": 4,
      "metadata": {},
      "outputs": [
        {
          "name": "stdout",
          "output_type": "stream",
          "text": [
            "🚀 plotbot_interactive() starting...\n",
            "🌐 Web display enabled - will open in browser\n",
            "🛰️ mag_RTN_4sa - acquiring data...\n",
            "🛰️ spe_sf0_pad - acquiring data...\n",
            "🛰️ spi_sf00_l3_mom - acquiring data...\n",
            "📥 Acquiring data for 6 variables...\n",
            "🕒 TimeRangeTracker: Stored trange ['2020-01-29/15:00:00.000', '2020-01-29/22:00:00.000']\n",
            "🛰️ mag_RTN_4sa - acquiring variables: br, bt, bn\n",
            "🛰️ spe_sf0_pad - acquiring variables: strahl\n",
            "🛰️ spi_sf00_l3_mom - acquiring variables: anisotropy, energy_flux\n",
            "mag_RTN_4sa already calculated for the time range: 2020-01-29/15:00:00.000 to 2020-01-29/22:00:00.000\n",
            "📤 Using existing mag_RTN_4sa data, calculation/import not needed.\n",
            "spe_sf0_pad already calculated for the time range: 2020-01-29/15:00:00.000 to 2020-01-29/22:00:00.000\n",
            "📤 Using existing spe_sf0_pad data, calculation/import not needed.\n",
            "spi_sf00_l3_mom already calculated for the time range: 2020-01-29/15:00:00.000 to 2020-01-29/22:00:00.000\n",
            "📤 Using existing spi_sf00_l3_mom data, calculation/import not needed.\n",
            "✅ Complete\n",
            "🎛️ Creating interactive Dash application...\n",
            "🎛️ Creating interactive Dash application...\n",
            "🔍 [DATA DEBUG] var.subclass_name: strahl\n",
            "🔍 [DATA DEBUG] z_data shape: (21624, 12)\n",
            "🔍 [DATA DEBUG] z_data.T shape: (12, 21624)\n",
            "🔍 [DATA DEBUG] z_data range: 8.37e+00 to 1.02e+01\n",
            "🔍 [Y-AXIS DEBUG] additional_data shape: (1802, 12)\n",
            "🔍 [Y-AXIS DEBUG] additional_data ndim: 2\n",
            "🔍 [Y-AXIS DEBUG] First 5 values: [ 7.5 22.5 37.5 52.5 67.5]\n",
            "🔍 [Y-AXIS DEBUG] Last 5 values: [112.5 127.5 142.5 157.5 172.5]\n",
            "🔍 [Y-AXIS DEBUG] Using first row: [ 7.5 22.5 37.5 52.5 67.5] ... [112.5 127.5 142.5 157.5 172.5]\n",
            "✅ Created spectral heatmap for strahl\n",
            "🔍 [DATA DEBUG] var.subclass_name: energy_flux\n",
            "🔍 [DATA DEBUG] z_data shape: (115360, 32)\n",
            "🔍 [DATA DEBUG] z_data.T shape: (32, 115360)\n",
            "🔍 [DATA DEBUG] z_data range: 0.00e+00 to 5.16e+11\n",
            "🔍 [Y-AXIS DEBUG] additional_data shape: (3605, 32)\n",
            "🔍 [Y-AXIS DEBUG] additional_data ndim: 2\n",
            "🔍 [Y-AXIS DEBUG] First 5 values: [18131.69  15453.077 13170.851 11224.952  9566.333]\n",
            "🔍 [Y-AXIS DEBUG] Last 5 values: [242.23633 206.20117 176.17188 150.14648 128.125  ]\n",
            "🔍 [Y-AXIS DEBUG] Using first row: [18131.69  15453.077 13170.851 11224.952  9566.333] ... [242.23633 206.20117 176.17188 150.14648 128.125  ]\n",
            "🔄 Detected descending y-axis values (18131.7 → 128.1), reversing for proper display\n",
            "🔄 After reversal: (128.1 → 18131.7)\n",
            "🎯 Applying y_limit: [50, 5000]\n",
            "✅ Created spectral heatmap for energy_flux\n",
            "✅ Dash app created successfully!\n",
            "🌐 Launching interactive plot...\n"
          ]
        },
        {
          "data": {
            "text/html": [
              "\n",
              "        <iframe\n",
              "            width=\"100%\"\n",
              "            height=\"650\"\n",
              "            src=\"http://127.0.0.1:8050/\"\n",
              "            frameborder=\"0\"\n",
              "            allowfullscreen\n",
              "            \n",
              "        ></iframe>\n",
              "        "
            ],
            "text/plain": [
              "<IPython.lib.display.IFrame at 0x30dbc2570>"
            ]
          },
          "metadata": {},
          "output_type": "display_data"
        },
        {
          "name": "stdout",
          "output_type": "stream",
          "text": [
            "🌐 Browser opened at http://127.0.0.1:8050\n",
            "✅ plotbot_interactive() complete!\n",
            "📌 Click on any data point to generate VDF analysis!\n",
            "🌐 Running at: http://127.0.0.1:8050\n"
          ]
        }
      ],
      "source": [
        "\n",
        "# Define time range\n",
        "trange = ['2020-01-29/15:00:00.000', '2020-01-29/22:00:00.000']\n",
        "\n",
        "print_manager.show_status = True\n",
        "pbi.options.web_display = True\n",
        "\n",
        "# Create interactive plot with spectral data (EPAD strahl)\n",
        "# Test 2D spectral heatmap rendering in Plotly\n",
        "app = plotbot_interactive(trange, \n",
        "                         mag_rtn_4sa.br, 1,      # Magnetic field Br on panel 1\n",
        "                         mag_rtn_4sa.bt, 1,      # Magnetic field Bt on panel 1  \n",
        "                         mag_rtn_4sa.bn, 1,      # Magnetic field Bn on panel 1\n",
        "                         proton.anisotropy, 2,    # Proton anisotropy on panel 2\n",
        "                         epad.strahl, 3,\n",
        "                         proton.energy_flux, 4)         # 🎯 NEW: EPAD strahl spectral data"
      ]
    }
  ],
  "metadata": {
    "kernelspec": {
      "display_name": "plotbot_env",
      "language": "python",
      "name": "python3"
    },
    "language_info": {
      "codemirror_mode": {
        "name": "ipython",
        "version": 3
      },
      "file_extension": ".py",
      "mimetype": "text/x-python",
      "name": "python",
      "nbconvert_exporter": "python",
      "pygments_lexer": "ipython3",
      "version": "3.12.4"
    }
  },
  "nbformat": 4,
  "nbformat_minor": 2
}
