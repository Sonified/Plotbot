{
  "cells": [
    {
      "cell_type": "markdown",
      "metadata": {},
      "source": [
        "# 🤖 Plotbot Interactive Example\n",
        "\n",
        "This notebook demonstrates the new `plotbot_interactive()` function with click-to-VDF functionality.\n",
        "\n",
        "## Features:\n",
        "- **Publication-ready styling** - Maintains Plotbot's clean matplotlib aesthetic\n",
        "- **Click-to-VDF** - Click any data point to generate VDF analysis\n",
        "- **Fading text overlays** - Interactive elements fade after user interaction\n",
        "- **Web-based interface** - Runs in browser for smooth interaction\n"
      ]
    },
    {
      "cell_type": "markdown",
      "metadata": {},
      "source": [
        "## NEW: Spectral Data Support! 📊\n",
        "\n",
        "The interactive system now supports **2D spectral data** rendering:\n",
        "\n",
        "- **EPAD Strahl**: Electron pitch angle distributions as interactive heatmaps\n",
        "- **Automatic Detection**: Detects `plot_type='spectral'` and renders with Plotly heatmaps\n",
        "- **Publication Ready**: Maintains matplotlib aesthetic with proper colorbars and labels\n",
        "- **Log/Linear Scaling**: Supports both logarithmic and linear color scaling\n",
        "- **Interactive**: Full pan/zoom/hover functionality for spectral data\n",
        "\n",
        "This bridges matplotlib `pcolormesh` functionality to Plotly for seamless interactive spectrograms!\n"
      ]
    },
    {
      "cell_type": "markdown",
      "metadata": {},
      "source": [
        "## Installation\n",
        "\n",
        "First, install the interactive dependencies:\n"
      ]
    },
    {
      "cell_type": "code",
      "execution_count": 1,
      "metadata": {},
      "outputs": [],
      "source": [
        "# Run this cell if you haven't updated your environment yet\n",
        "# !pip install dash plotly jupyter-dash"
      ]
    },
    {
      "cell_type": "code",
      "execution_count": 2,
      "metadata": {},
      "outputs": [
        {
          "name": "stdout",
          "output_type": "stream",
          "text": [
            "initialized server_access\n",
            "initialized global_tracker\n",
            "initialized ploptions\n",
            "initialized plot_manager\n",
            "initialized epad class\n",
            "initialized epad_hr class\n",
            "initialized proton class\n",
            "initialized proton_hr class\n",
            "initialized ham_class\n",
            "initialized psp_alpha class\n",
            "initialized psp_qtn class\n",
            "initialized psp_orbit class\n",
            "initialized psp_span_vdf class\n",
            "initialized data_cubby.\n",
            "CDF classes added to data_cubby type map.\n",
            "initialized proton_fits class\n",
            "initialized alpha_fits class\n",
            "🔉 initialized audifier\n",
            "\n",
            "Importing libraries, this may take a moment. Hold tight... \n",
            "\n",
            "✅ Imported standard libraries and utilities.\n",
            "✅ Imported numpy, pandas, and scipy libraries.\n",
            "✅ Imported matplotlib libraries.\n",
            "✅ Imported cdflib, BeautifulSoup, requests, dateutil, and datetime libraries.\n",
            "\n",
            "🤖 Plotbot Initialized\n",
            "✨ Showdahodo initialized\n",
            "Positional Data Helper Initialized\n",
            "📈📉 Multiplot Initialized\n",
            "\n",
            "🤖 Plotbot Initialized\n",
            "📈📉 Multiplot Initialized\n",
            "   Version: 2025_08_26_v3.16\n",
            "   Commit: v3.16 Develop: Plotly VDF interactive implementation - scatter approach (branch for development)\n",
            "\n"
          ]
        }
      ],
      "source": [
        "from plotbot import *"
      ]
    },
    {
      "cell_type": "code",
      "execution_count": 3,
      "metadata": {},
      "outputs": [
        {
          "data": {
            "text/html": [
              "\n",
              "        <iframe\n",
              "            width=\"100%\"\n",
              "            height=\"650\"\n",
              "            src=\"http://127.0.0.1:8050/\"\n",
              "            frameborder=\"0\"\n",
              "            allowfullscreen\n",
              "            \n",
              "        ></iframe>\n",
              "        "
            ],
            "text/plain": [
              "<IPython.lib.display.IFrame at 0x30b9cbe00>"
            ]
          },
          "metadata": {},
          "output_type": "display_data"
        }
      ],
      "source": [
        "\n",
        "# Define time range\n",
        "trange = ['2020-01-29/15:00:00.000', '2020-01-29/22:00:00.000']\n",
        "\n",
        "pbi.options.web_display = False\n",
        "\n",
        "# Create interactive plot with spectral data (EPAD strahl)\n",
        "# Test 2D spectral heatmap rendering in Plotly\n",
        "app = plotbot_interactive(trange, \n",
        "                         mag_rtn_4sa.br, 1,      # Magnetic field Br on panel 1\n",
        "                         mag_rtn_4sa.bt, 1,      # Magnetic field Bt on panel 1  \n",
        "                         mag_rtn_4sa.bn, 1,      # Magnetic field Bn on panel 1\n",
        "                         proton.anisotropy, 2,    # Proton anisotropy on panel 2\n",
        "                         epad.strahl, 3)         # 🎯 NEW: EPAD strahl spectral data"
      ]
    }
  ],
  "metadata": {
    "kernelspec": {
      "display_name": "plotbot_env",
      "language": "python",
      "name": "python3"
    },
    "language_info": {
      "codemirror_mode": {
        "name": "ipython",
        "version": 3
      },
      "file_extension": ".py",
      "mimetype": "text/x-python",
      "name": "python",
      "nbconvert_exporter": "python",
      "pygments_lexer": "ipython3",
      "version": "3.12.4"
    }
  },
  "nbformat": 4,
  "nbformat_minor": 2
}
