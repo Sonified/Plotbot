{
  "cells": [
    {
      "cell_type": "markdown",
      "metadata": {},
      "source": [
        "# 🤖 Plotbot Interactive Example\n",
        "\n",
        "This notebook demonstrates the new `plotbot_interactive()` function with click-to-VDF functionality.\n",
        "\n",
        "## Features:\n",
        "- **Publication-ready styling** - Maintains Plotbot's clean matplotlib aesthetic\n",
        "- **Click-to-VDF** - Click any data point to generate VDF analysis\n",
        "- **Fading text overlays** - Interactive elements fade after user interaction\n",
        "- **Web-based interface** - Runs in browser for smooth interaction\n"
      ]
    },
    {
      "cell_type": "markdown",
      "metadata": {},
      "source": [
        "## Installation\n",
        "\n",
        "First, install the interactive dependencies:\n"
      ]
    },
    {
      "cell_type": "code",
      "execution_count": 1,
      "metadata": {},
      "outputs": [],
      "source": [
        "# Run this cell if you haven't updated your environment yet\n",
        "# !pip install dash plotly jupyter-dash\n"
      ]
    },
    {
      "cell_type": "code",
      "execution_count": 2,
      "metadata": {},
      "outputs": [
        {
          "name": "stdout",
          "output_type": "stream",
          "text": [
            "initialized server_access\n",
            "initialized global_tracker\n",
            "initialized ploptions\n",
            "initialized plot_manager\n",
            "initialized epad class\n",
            "initialized epad_hr class\n",
            "initialized proton class\n",
            "initialized proton_hr class\n",
            "initialized ham_class\n",
            "initialized psp_alpha class\n",
            "initialized psp_qtn class\n",
            "initialized psp_orbit class\n",
            "initialized psp_span_vdf class\n",
            "initialized data_cubby.\n",
            "CDF classes added to data_cubby type map.\n",
            "initialized proton_fits class\n",
            "initialized alpha_fits class\n",
            "🔉 initialized audifier\n",
            "\n",
            "Importing libraries, this may take a moment. Hold tight... \n",
            "\n",
            "✅ Imported standard libraries and utilities.\n",
            "✅ Imported numpy, pandas, and scipy libraries.\n",
            "✅ Imported matplotlib libraries.\n",
            "✅ Imported cdflib, BeautifulSoup, requests, dateutil, and datetime libraries.\n",
            "\n",
            "🤖 Plotbot Initialized\n",
            "✨ Showdahodo initialized\n",
            "Positional Data Helper Initialized\n",
            "📈📉 Multiplot Initialized\n",
            "\n",
            "🤖 Plotbot Initialized\n",
            "📈📉 Multiplot Initialized\n",
            "   Version: 2025_08_18_v3.13\n",
            "   Commit: v3.13 Feat: Enhanced VDF widget with step controls and improved layout alignment\n",
            "\n"
          ]
        }
      ],
      "source": [
        "from plotbot import *"
      ]
    },
    {
      "cell_type": "code",
      "execution_count": 3,
      "metadata": {},
      "outputs": [
        {
          "data": {
            "text/html": [
              "\n",
              "        <iframe\n",
              "            width=\"100%\"\n",
              "            height=\"650\"\n",
              "            src=\"http://127.0.0.1:8050/\"\n",
              "            frameborder=\"0\"\n",
              "            allowfullscreen\n",
              "            \n",
              "        ></iframe>\n",
              "        "
            ],
            "text/plain": [
              "<IPython.lib.display.IFrame at 0x30dc703e0>"
            ]
          },
          "metadata": {},
          "output_type": "display_data"
        }
      ],
      "source": [
        "# Define time range\n",
        "trange = ['2020-01-29/17:00:00.000', '2020-01-29/19:00:00.000']\n",
        "\n",
        "# Create interactive plot with click-to-VDF\n",
        "# This will open in your browser\n",
        "app = plotbot_interactive(trange, \n",
        "                         mag_rtn_4sa.br, 1,      # Magnetic field Br on panel 1\n",
        "                         mag_rtn_4sa.bt, 1,      # Magnetic field Bt on panel 1  \n",
        "                         mag_rtn_4sa.bn, 1,      # Magnetic field Bn on panel 1\n",
        "                         proton.anisotropy, 2)   # Proton anisotropy on panel 2\n"
      ]
    }
  ],
  "metadata": {
    "kernelspec": {
      "display_name": "plotbot_env",
      "language": "python",
      "name": "python3"
    },
    "language_info": {
      "codemirror_mode": {
        "name": "ipython",
        "version": 3
      },
      "file_extension": ".py",
      "mimetype": "text/x-python",
      "name": "python",
      "nbconvert_exporter": "python",
      "pygments_lexer": "ipython3",
      "version": "3.12.4"
    }
  },
  "nbformat": 4,
  "nbformat_minor": 2
}
