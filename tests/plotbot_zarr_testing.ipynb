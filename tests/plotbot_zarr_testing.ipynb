{
 "cells": [
  {
   "cell_type": "code",
   "execution_count": 5,
   "metadata": {},
   "outputs": [
    {
     "name": "stdout",
     "output_type": "stream",
     "text": [
      "initialized server_access\n",
      "initialized global_tracker\n",
      "initialized ploptions\n",
      "initialized data_cubby\n",
      "initialized plot_manager\n",
      "initialized mag_rtn_4sa class\n",
      "initialized mag_rtn class\n",
      "initialized mag_sc_4sa class\n",
      "initialized mag_sc class\n",
      "initialized epad class\n",
      "initialized epad_hr class\n",
      "initialized proton class\n",
      "initialized proton_hr class\n",
      "initialized proton_fits class\n",
      "initialized ham_class\n",
      "No save directory previously set. Defaulting to: ./audio_files\n",
      "🔉 initialized audifier\n",
      "\n",
      "Importing libraries, this may take a moment. Hold tight... \n",
      "\n",
      "✅ Imported standard libraries and utilities.\n",
      "✅ Imported numpy, pandas, and scipy libraries.\n",
      "✅ Imported matplotlib libraries.\n",
      "✅ Imported cdflib, BeautifulSoup, requests, dateutil, and datetime libraries.\n",
      "\n",
      "🤖 Plotbot Initialized\n",
      "✨ Showdahodo initialized\n",
      "Positional Data Helper Initialized\n",
      "📈📉 Multiplot Initialized\n",
      "\u001b[94m   Version: 2025_05_04_v2.01\u001b[0m\n",
      "Commit: v2.01: chore: add multiplot_ham_tests and data_cubby_zarr_testing to .gitignore and remove from repo tracking\n",
      "\n",
      "\u001b[94m🤖 Plotbot Initialized\u001b[0m\n"
     ]
    }
   ],
   "source": [
    "import sys\n",
    "sys.path.append('..')\n",
    "import plotbot as pb\n",
    "from plotbot import get_data"
   ]
  },
  {
   "cell_type": "code",
   "execution_count": 2,
   "metadata": {},
   "outputs": [
    {
     "name": "stdout",
     "output_type": "stream",
     "text": [
      "br: shape = (16479,), first 3 values = [-559.9504  -545.551   -551.91864]\n",
      "bt: shape = (16479,), first 3 values = [-125.6601  -134.86739 -160.42174]\n",
      "bn: shape = (16479,), first 3 values = [-173.14844 -209.96484 -168.59773]\n",
      "bmag: shape = (16479,), first 3 values = [599.42914 599.917   598.9779 ]\n",
      "pmag: shape = (16479,), first 3 values = [142.96701 143.19983 142.75186]\n"
     ]
    }
   ],
   "source": [
    "trange_test = ['2022-02-25 12:00:00', '2022-02-25 13:00:00']\n",
    "\n",
    "# Call get_data on the actual data arrays, not the parent container\n",
    "get_data(\n",
    "    trange_test,\n",
    "    pb.mag_rtn_4sa.br,\n",
    "    pb.mag_rtn_4sa.bt,\n",
    "    pb.mag_rtn_4sa.bn,\n",
    "    pb.mag_rtn_4sa.bmag,\n",
    "    pb.mag_rtn_4sa.pmag\n",
    ")\n",
    "\n",
    "# Print info about each component\n",
    "for comp in ['br', 'bt', 'bn', 'bmag', 'pmag']:\n",
    "    arr = getattr(pb.mag_rtn_4sa, comp, None)\n",
    "    if arr is not None and hasattr(arr, 'shape'):\n",
    "        print(f\"{comp}: shape = {arr.shape}, first 3 values = {arr[:3]}\")\n",
    "    else:\n",
    "        print(f\"{comp}: not found or not loaded\")"
   ]
  },
  {
   "cell_type": "code",
   "execution_count": 3,
   "metadata": {},
   "outputs": [
    {
     "name": "stderr",
     "output_type": "stream",
     "text": [
      "03-May-25 19:30:09: Downloading https://spdf.gsfc.nasa.gov/pub/data/psp/fields/l2/mag_rtn_4_per_cycle/2022/psp_fld_l2_mag_rtn_4_sa_per_cyc_20220225_v02.cdf to psp_data/fields/l2/mag_rtn_4_per_cycle/2022/psp_fld_l2_mag_rtn_4_sa_per_cyc_20220225_v02.cdf\n",
      "03-May-25 19:30:36: Download complete: psp_data/fields/l2/mag_rtn_4_per_cycle/2022/psp_fld_l2_mag_rtn_4_sa_per_cyc_20220225_v02.cdf\n"
     ]
    },
    {
     "name": "stdout",
     "output_type": "stream",
     "text": [
      "\u001b[35m[ZARR] Using plot_options: data_type=mag_RTN_4sa, class=mag_rtn_4sa, subclass=all\u001b[0m\n",
      "\u001b[35m[ZARR] Using plot_options: data_type=mag_RTN_4sa, class=mag_rtn_4sa, subclass=br\u001b[0m\n",
      "\u001b[35m[ZARR] Using plot_options: data_type=mag_RTN_4sa, class=mag_rtn_4sa, subclass=bt\u001b[0m\n",
      "\u001b[35m[ZARR] Using plot_options: data_type=mag_RTN_4sa, class=mag_rtn_4sa, subclass=bn\u001b[0m\n",
      "\u001b[35m[ZARR] Using plot_options: data_type=mag_RTN_4sa, class=mag_rtn_4sa, subclass=bmag\u001b[0m\n",
      "\u001b[35m[ZARR] Using plot_options: data_type=mag_RTN_4sa, class=mag_rtn_4sa, subclass=pmag\u001b[0m\n",
      "br: shape = (16479,), first 3 values = [-559.9504  -545.551   -551.91864]\n",
      "bt: shape = (16479,), first 3 values = [-125.6601  -134.86739 -160.42174]\n",
      "bn: shape = (16479,), first 3 values = [-173.14844 -209.96484 -168.59773]\n",
      "bmag: shape = (16479,), first 3 values = [599.42914 599.917   598.9779 ]\n",
      "pmag: shape = (16479,), first 3 values = [142.96701 143.19983 142.75186]\n"
     ]
    }
   ],
   "source": [
    "trange_test = ['2022-02-25 12:00:00', '2022-02-25 13:00:00']\n",
    "\n",
    "# Call get_data on the actual data arrays, not the parent container\n",
    "get_data(\n",
    "    trange_test,\n",
    "    pb.mag_rtn_4sa.br,\n",
    "    pb.mag_rtn_4sa.bt,\n",
    "    pb.mag_rtn_4sa.bn,\n",
    "    pb.mag_rtn_4sa.bmag,\n",
    "    pb.mag_rtn_4sa.pmag\n",
    ")\n",
    "\n",
    "# Print info about each component\n",
    "for comp in ['br', 'bt', 'bn', 'bmag', 'pmag']:\n",
    "    arr = getattr(pb.mag_rtn_4sa, comp, None)\n",
    "    if arr is not None and hasattr(arr, 'shape'):\n",
    "        print(f\"{comp}: shape = {arr.shape}, first 3 values = {arr[:3]}\")\n",
    "    else:\n",
    "        print(f\"{comp}: not found or not loaded\")"
   ]
  },
  {
   "cell_type": "code",
   "execution_count": null,
   "metadata": {},
   "outputs": [
    {
     "name": "stderr",
     "output_type": "stream",
     "text": [
      "03-May-25 19:30:09: Downloading https://spdf.gsfc.nasa.gov/pub/data/psp/fields/l2/mag_rtn_4_per_cycle/2022/psp_fld_l2_mag_rtn_4_sa_per_cyc_20220225_v02.cdf to psp_data/fields/l2/mag_rtn_4_per_cycle/2022/psp_fld_l2_mag_rtn_4_sa_per_cyc_20220225_v02.cdf\n",
      "03-May-25 19:30:36: Download complete: psp_data/fields/l2/mag_rtn_4_per_cycle/2022/psp_fld_l2_mag_rtn_4_sa_per_cyc_20220225_v02.cdf\n"
     ]
    },
    {
     "name": "stdout",
     "output_type": "stream",
     "text": [
      "\u001b[35m[ZARR] Using plot_options: data_type=mag_RTN_4sa, class=mag_rtn_4sa, subclass=all\u001b[0m\n",
      "\u001b[35m[ZARR] Using plot_options: data_type=mag_RTN_4sa, class=mag_rtn_4sa, subclass=br\u001b[0m\n",
      "\u001b[35m[ZARR] Using plot_options: data_type=mag_RTN_4sa, class=mag_rtn_4sa, subclass=bt\u001b[0m\n",
      "\u001b[35m[ZARR] Using plot_options: data_type=mag_RTN_4sa, class=mag_rtn_4sa, subclass=bn\u001b[0m\n",
      "\u001b[35m[ZARR] Using plot_options: data_type=mag_RTN_4sa, class=mag_rtn_4sa, subclass=bmag\u001b[0m\n",
      "\u001b[35m[ZARR] Using plot_options: data_type=mag_RTN_4sa, class=mag_rtn_4sa, subclass=pmag\u001b[0m\n",
      "br: shape = (16479,), first 3 values = [-559.9504  -545.551   -551.91864]\n",
      "bt: shape = (16479,), first 3 values = [-125.6601  -134.86739 -160.42174]\n",
      "bn: shape = (16479,), first 3 values = [-173.14844 -209.96484 -168.59773]\n",
      "bmag: shape = (16479,), first 3 values = [599.42914 599.917   598.9779 ]\n",
      "pmag: shape = (16479,), first 3 values = [142.96701 143.19983 142.75186]\n"
     ]
    }
   ],
   "source": [
    "trange_test = ['2022-02-25 12:00:00', '2022-02-25 13:00:00']\n",
    "\n",
    "# Call get_data on the actual data arrays, not the parent container\n",
    "get_data(\n",
    "    trange_test,\n",
    "    pb.mag_rtn_4sa.br,\n",
    "    pb.mag_rtn_4sa.bt,\n",
    "    pb.mag_rtn_4sa.bn,\n",
    "    pb.mag_rtn_4sa.bmag,\n",
    "    pb.mag_rtn_4sa.pmag\n",
    ")\n",
    "\n",
    "# Print info about each component\n",
    "for comp in ['br', 'bt', 'bn', 'bmag', 'pmag']:\n",
    "    arr = getattr(pb.mag_rtn_4sa, comp, None)\n",
    "    if arr is not None and hasattr(arr, 'shape'):\n",
    "        print(f\"{comp}: shape = {arr.shape}, first 3 values = {arr[:3]}\")\n",
    "    else:\n",
    "        print(f\"{comp}: not found or not loaded\")"
   ]
  }
 ],
 "metadata": {
  "kernelspec": {
   "display_name": "plotbot_env",
   "language": "python",
   "name": "python3"
  },
  "language_info": {
   "codemirror_mode": {
    "name": "ipython",
    "version": 3
   },
   "file_extension": ".py",
   "mimetype": "text/x-python",
   "name": "python",
   "nbconvert_exporter": "python",
   "pygments_lexer": "ipython3",
   "version": "3.12.4"
  }
 },
 "nbformat": 4,
 "nbformat_minor": 2
}
