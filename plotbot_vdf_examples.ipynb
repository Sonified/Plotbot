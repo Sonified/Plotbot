{
  "cells": [
    {
      "cell_type": "markdown",
      "metadata": {
        "vscode": {
          "languageId": "raw"
        }
      },
      "source": [
        "# PSP SPAN-I VDF Plotting Examples\n",
        "\n",
        "This notebook demonstrates how to create beautiful Velocity Distribution Function (VDF) plots using Plotbot's `vdyes()` function.\n",
        "\n",
        "## What You'll Learn:\n",
        "- How to use `vdyes()` for PSP SPAN-I VDF plotting\n",
        "- Parameter system for customizing VDF plots (smart bounds, colormaps, axis limits)\n",
        "- Different VDF views: theta-plane, phi-plane, and collapsed distributions\n",
        "- Real examples with PSP solar wind data showing the famous \"hammerhead\" distribution\n",
        "\n",
        "## About VDFs:\n",
        "Velocity Distribution Functions show how particles are distributed in velocity space. For PSP SPAN-I:\n",
        "- **Theta-plane**: Vx vs Vz (field-parallel vs field-perpendicular structure)\n",
        "- **Phi-plane**: Vx vs Vy (azimuthal velocity space)\n",
        "- **Collapsed**: 1D distribution summed over angles\n",
        "\n",
        "The VDF integration uses Jaye's proven algorithms and reproduces the exact results from the original SPAN-I tutorial.\n"
      ]
    },
    {
      "cell_type": "code",
      "execution_count": 1,
      "metadata": {},
      "outputs": [
        {
          "name": "stdout",
          "output_type": "stream",
          "text": [
            "initialized server_access\n",
            "initialized global_tracker\n",
            "initialized ploptions\n",
            "initialized plot_manager\n",
            "initialized epad class\n",
            "initialized epad_hr class\n",
            "initialized proton class\n",
            "initialized proton_hr class\n",
            "initialized ham_class\n",
            "initialized psp_alpha class\n",
            "initialized psp_qtn class\n",
            "initialized psp_orbit class\n",
            "initialized psp_span_vdf class\n",
            "initialized data_cubby.\n",
            "CDF classes added to data_cubby type map.\n",
            "initialized proton_fits class\n",
            "initialized alpha_fits class\n",
            "🔉 initialized audifier\n",
            "\n",
            "Importing libraries, this may take a moment. Hold tight... \n",
            "\n",
            "✅ Imported standard libraries and utilities.\n",
            "✅ Imported numpy, pandas, and scipy libraries.\n",
            "✅ Imported matplotlib libraries.\n",
            "✅ Imported cdflib, BeautifulSoup, requests, dateutil, and datetime libraries.\n",
            "\n",
            "🤖 Plotbot Initialized\n",
            "✨ Showdahodo initialized\n",
            "Positional Data Helper Initialized\n",
            "📈📉 Multiplot Initialized\n",
            "\n",
            "🤖 Plotbot Initialized\n",
            "📈📉 Multiplot Initialized\n",
            "   Version: 2025_08_06_v3.05\n",
            "   Commit: v3.05 Enhancement: Major VDF widget UX improvements - status system, background fixes, directory dialog, warning suppression\n",
            "\n",
            "🚀 PSP SPAN-I VDF Plotting Demo\n",
            "Using vdyes() - VDF plotting the fine way!\n"
          ]
        }
      ],
      "source": [
        "# Import Plotbot\n",
        "from plotbot import *\n",
        "\n",
        "print(\"🚀 PSP SPAN-I VDF Plotting Demo\")\n",
        "print(\"Using vdyes() - VDF plotting the fine way!\")\n"
      ]
    },
    {
      "cell_type": "markdown",
      "metadata": {},
      "source": [
        "## 1. Basic VDF Plotting\n",
        "\n",
        "The simplest way to create VDF plots is with `vdyes(trange)`:\n",
        "\n",
        "```python\n",
        "# Basic usage (uses default parameters)\n",
        "fig = vdyes(['2020/01/29 00:00:00.000', '2020/01/30 00:00:00.000'])\n",
        "```\n",
        "\n",
        "This creates a 3-panel plot with:\n",
        "- Left: 1D collapsed VDF\n",
        "- Middle: Theta-plane (Vx vs Vz) \n",
        "- Right: Phi-plane (Vx vs Vy)\n"
      ]
    },
    {
      "cell_type": "code",
      "execution_count": 2,
      "metadata": {},
      "outputs": [],
      "source": [
        "print_manager.show_status = False"
      ]
    },
    {
      "cell_type": "code",
      "execution_count": 3,
      "metadata": {},
      "outputs": [
        {
          "name": "stdout",
          "output_type": "stream",
          "text": [
            "📊 Example 1: Basic VDF Plot\n",
            "Using default parameters...\n",
            "🔗 Button handlers connected successfully\n"
          ]
        },
        {
          "data": {
            "application/vnd.jupyter.widget-view+json": {
              "model_id": "15387c74857e469b97282c1daefb5f05",
              "version_major": 2,
              "version_minor": 0
            },
            "text/plain": [
              "VBox(children=(HBox(children=(IntSlider(value=0, description='Time:', layout=Layout(width='600px'), max=16, st…"
            ]
          },
          "metadata": {},
          "output_type": "display_data"
        },
        {
          "name": "stdout",
          "output_type": "stream",
          "text": [
            "✅ VDF plot created!\n",
            "This shows PSP solar wind proton distributions\n",
            "Look for the characteristic 'hammerhead' shape in the theta-plane\n"
          ]
        }
      ],
      "source": [
        "# Example 1: Basic VDF plot with default settings\n",
        "print(\"📊 Example 1: Basic VDF Plot\")\n",
        "print(\"Using default parameters...\")\n",
        "\n",
        "# Create basic VDF plot\n",
        "trange = ['2020/01/29 18:00:00.000', '2020/01/29 18:02:00.000']\n",
        "fig = vdyes(trange)\n",
        "\n",
        "print(\"✅ VDF plot created!\")\n",
        "print(\"This shows PSP solar wind proton distributions\")\n",
        "print(\"Look for the characteristic 'hammerhead' shape in the theta-plane\")\n",
        "\n",
        "##------->> 🌟 LOOK in your bottom application bar for the CHANGE SAVE DIRECTORY dialogue box 🌟 <<------"
      ]
    },
    {
      "cell_type": "markdown",
      "metadata": {},
      "source": [
        "## 2. VDF Parameter System\n",
        "\n",
        "VDF plots are controlled by parameters set on the global `psp_span_vdf` instance, just like other Plotbot classes:\n",
        "\n",
        "```python\n",
        "# Set parameters before calling vdyes()\n",
        "psp_span_vdf.parameter_name = value\n",
        "fig = vdyes(trange)\n",
        "```\n",
        "\n",
        "### Available Parameters:\n",
        "\n",
        "#### Smart Bounds System (Auto-Zoom):\n",
        "- `enable_smart_padding` - Enable intelligent auto-zoom (True/False)\n",
        "- `theta_smart_padding` - Single padding for theta-plane (square, zero-centered)\n",
        "- `phi_x_smart_padding` - Vx padding for phi-plane (km/s) \n",
        "- `phi_y_smart_padding` - Vy padding for phi-plane (km/s)\n",
        "- `phi_peak_centered` - If True, centers phi bounds on density peak (fixes FOV cutoff)  \n",
        "- `enable_zero_clipping` - Auto-clip X at zero when bulk is one-sided (preserves phi Y)\n",
        "\n",
        "#### Manual Axis Limits (Override Smart Bounds):\n",
        "- `theta_x_axis_limits` - Manual X-axis for theta-plane, e.g., (-800, 0)\n",
        "- `theta_y_axis_limits` - Manual Y-axis for theta-plane, e.g., (-400, 400)\n",
        "- `phi_x_axis_limits` - Manual X-axis for phi-plane\n",
        "- `phi_y_axis_limits` - Manual Y-axis for phi-plane\n",
        "\n",
        "#### Visual Settings:\n",
        "- `vdf_colormap` - Colormap: 'cool', 'viridis', 'plasma', 'jet', etc.\n"
      ]
    },
    {
      "cell_type": "code",
      "execution_count": 4,
      "metadata": {},
      "outputs": [
        {
          "name": "stdout",
          "output_type": "stream",
          "text": [
            "📊 Example 2: Custom Smart Bounds\n",
            "Demonstrating smart padding control...\n",
            "✅ Smart bounds configured:\n",
            "   Theta padding: 200 km/s (square, zero-centered)\n",
            "   Phi padding: X=300, Y=300 km/s\n",
            "   🎯 Phi peak-centered: True\n",
            "   Zero clipping: True\n",
            "   Colormap: cool\n",
            "🔗 Button handlers connected successfully\n"
          ]
        },
        {
          "data": {
            "application/vnd.jupyter.widget-view+json": {
              "model_id": "1561e72a6b1f4553a590e2d4f01e7de1",
              "version_major": 2,
              "version_minor": 0
            },
            "text/plain": [
              "VBox(children=(HBox(children=(IntSlider(value=0, description='Time:', layout=Layout(width='600px'), max=170, s…"
            ]
          },
          "metadata": {},
          "output_type": "display_data"
        },
        {
          "name": "stdout",
          "output_type": "stream",
          "text": [
            "✅ VDF plot with custom smart bounds created!\n",
            "Notice the tighter zoom focusing on the bulk data distribution\n"
          ]
        }
      ],
      "source": [
        "\n",
        "# Example 2: Custom Smart Bounds (with peak-centered phi)\n",
        "print(\"📊 Example 2: Custom Smart Bounds\")\n",
        "print(\"Demonstrating smart padding control...\")\n",
        "\n",
        "trange = ['2020/01/29 18:00:00.000', '2020/01/29 18:20:00.000']\n",
        "\n",
        "# Clear all manual limits\n",
        "psp_span_vdf.theta_x_axis_limits = None\n",
        "psp_span_vdf.theta_y_axis_limits = None\n",
        "psp_span_vdf.phi_x_axis_limits = None\n",
        "psp_span_vdf.phi_y_axis_limits = None\n",
        "\n",
        "# Configure smart bounds\n",
        "psp_span_vdf.enable_smart_padding = True\n",
        "psp_span_vdf.theta_smart_padding = 200     # Square, zero-centered theta\n",
        "psp_span_vdf.phi_x_smart_padding = 300     # Phi paddings around peak\n",
        "psp_span_vdf.phi_y_smart_padding = 300\n",
        "psp_span_vdf.phi_peak_centered = True      # Center phi on density peak\n",
        "psp_span_vdf.enable_zero_clipping = True   # Clamp X at zero when one-sided\n",
        "psp_span_vdf.vdf_colormap = 'cool'\n",
        "\n",
        "# Configure plot size (NEW!)\n",
        "psp_span_vdf.vdf_figure_width = 18         # Larger width for better visibility (default: 15)\n",
        "psp_span_vdf.vdf_figure_height = 5         # Taller height for better aspect ratio (default: 5)\n",
        "\n",
        "\n",
        "print(\"✅ Smart bounds configured:\")\n",
        "print(f\"   Theta padding: {psp_span_vdf.theta_smart_padding} km/s (square, zero-centered)\")\n",
        "print(f\"   Phi padding: X={psp_span_vdf.phi_x_smart_padding}, Y={psp_span_vdf.phi_y_smart_padding} km/s\")\n",
        "print(f\"   🎯 Phi peak-centered: {psp_span_vdf.phi_peak_centered}\")\n",
        "print(f\"   Zero clipping: {psp_span_vdf.enable_zero_clipping}\")\n",
        "print(f\"   Colormap: {psp_span_vdf.vdf_colormap}\")\n",
        "\n",
        "# Create plot\n",
        "fig = vdyes(trange)\n",
        "\n",
        "print(\"✅ VDF plot with custom smart bounds created!\")\n",
        "print(\"Notice the tighter zoom focusing on the bulk data distribution\")\n"
      ]
    },
    {
      "cell_type": "code",
      "execution_count": 5,
      "metadata": {},
      "outputs": [
        {
          "name": "stdout",
          "output_type": "stream",
          "text": [
            "📊 Example 3: Manual Axis Limits\n",
            "Using Jaye's original bounds for comparison...\n",
            "✅ Manual axis limits set (Jaye's original):\n",
            "   Theta-plane: X=(-800, 0), Y=(-400, 400)\n",
            "   Phi-plane: X=(-800, 0), Y=(-200, 600)\n",
            "🔗 Button handlers connected successfully\n"
          ]
        },
        {
          "data": {
            "application/vnd.jupyter.widget-view+json": {
              "model_id": "2e39a261d651416aa8c9de01aa354b03",
              "version_major": 2,
              "version_minor": 0
            },
            "text/plain": [
              "VBox(children=(HBox(children=(IntSlider(value=0, description='Time:', layout=Layout(width='600px'), max=170, s…"
            ]
          },
          "metadata": {},
          "output_type": "display_data"
        },
        {
          "name": "stdout",
          "output_type": "stream",
          "text": [
            "✅ VDF plot with Jaye's original bounds created!\n",
            "This reproduces the exact view from the original SPAN-I tutorial\n"
          ]
        }
      ],
      "source": [
        "# Example 3: Manual Axis Control (Jaye's Original Bounds)\n",
        "print(\"📊 Example 3: Manual Axis Limits\")\n",
        "print(\"Using Jaye's original bounds for comparison...\")\n",
        "\n",
        "# Reset to use manual limits (overrides smart bounds)\n",
        "psp_span_vdf.enable_smart_padding = False  # Disable smart bounds\n",
        "psp_span_vdf.theta_x_axis_limits = (-800, 0)    # Jaye's theta-plane X bounds\n",
        "psp_span_vdf.theta_y_axis_limits = (-400, 400)  # Jaye's theta-plane Y bounds\n",
        "psp_span_vdf.phi_x_axis_limits = (-800, 0)      # Jaye's phi-plane X bounds  \n",
        "psp_span_vdf.phi_y_axis_limits = (-200, 600)    # Jaye's phi-plane Y bounds\n",
        "\n",
        "print(\"✅ Manual axis limits set (Jaye's original):\")\n",
        "print(f\"   Theta-plane: X={psp_span_vdf.theta_x_axis_limits}, Y={psp_span_vdf.theta_y_axis_limits}\")\n",
        "print(f\"   Phi-plane: X={psp_span_vdf.phi_x_axis_limits}, Y={psp_span_vdf.phi_y_axis_limits}\")\n",
        "\n",
        "# Create plot with Jaye's exact bounds\n",
        "fig = vdyes(trange)\n",
        "\n",
        "print(\"✅ VDF plot with Jaye's original bounds created!\")\n",
        "print(\"This reproduces the exact view from the original SPAN-I tutorial\")\n"
      ]
    }
  ],
  "metadata": {
    "kernelspec": {
      "display_name": "plotbot_env",
      "language": "python",
      "name": "python3"
    },
    "language_info": {
      "codemirror_mode": {
        "name": "ipython",
        "version": 3
      },
      "file_extension": ".py",
      "mimetype": "text/x-python",
      "name": "python",
      "nbconvert_exporter": "python",
      "pygments_lexer": "ipython3",
      "version": "3.12.4"
    }
  },
  "nbformat": 4,
  "nbformat_minor": 2
}
