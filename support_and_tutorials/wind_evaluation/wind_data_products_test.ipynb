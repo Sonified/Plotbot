{
  "cells": [
    {
      "cell_type": "markdown",
      "metadata": {
        "vscode": {
          "languageId": "raw"
        }
      },
      "source": [
        "# WIND Data Products Test\n",
        "\n",
        "This notebook tests downloading all WIND data products using pyspedas based on the specifications in `wind-data-products-list.md`.\n",
        "\n",
        "## Data Products to Test:\n",
        "1. **MFI (Magnetic Field Investigation)** - `mfi_h2` - 11 samples/second\n",
        "2. **SWE (Solar Wind Experiment)** - `swe_h1` - 92-second proton/alpha moments\n",
        "3. **SWE Electrons** - `swe_h5` - Electron temperature\n",
        "4. **3DP Electrons** - `3dp_elpd` - 24-second electron pitch-angle distributions\n",
        "5. **3DP Ions** - `3dp_pm` - 3-second ion parameters\n"
      ]
    },
    {
      "cell_type": "code",
      "execution_count": 1,
      "metadata": {},
      "outputs": [],
      "source": [
        "\n",
        "import cdflib\n",
        "import numpy as np\n",
        "import matplotlib.pyplot as plt\n",
        "from datetime import datetime\n",
        "\n"
      ]
    },
    {
      "cell_type": "code",
      "execution_count": 2,
      "metadata": {},
      "outputs": [
        {
          "name": "stderr",
          "output_type": "stream",
          "text": [
            "24-Jun-25 14:59:15: Downloading https://cdaweb.gsfc.nasa.gov/pub/software/cdawlib/0MASTERS/wi_h0_mfi_00000000_v01.cdf to data/windwind_masters/wi_h0_mfi_00000000_v01.cdf\n",
            "24-Jun-25 14:59:15: Download complete: data/windwind_masters/wi_h0_mfi_00000000_v01.cdf\n",
            "24-Jun-25 14:59:15: Downloading remote index: https://spdf.gsfc.nasa.gov/pub/data/wind/mfi/mfi_h0/2020/\n",
            "24-Jun-25 14:59:15: Downloading https://spdf.gsfc.nasa.gov/pub/data/wind/mfi/mfi_h0/2020/wi_h0_mfi_20200101_v05.cdf to data/wind/mfi/mfi_h0/2020/wi_h0_mfi_20200101_v05.cdf\n",
            "24-Jun-25 14:59:16: Download complete: data/wind/mfi/mfi_h0/2020/wi_h0_mfi_20200101_v05.cdf\n"
          ]
        }
      ],
      "source": [
        "import os\n",
        "# Set this BEFORE importing pyspedas\n",
        "os.environ['SPEDAS_DATA_DIR'] = 'data'\n",
        "\n",
        "import pyspedas\n",
        "\n",
        "# This will download to: pyspedas_data/wind_data/...\n",
        "wind_data = pyspedas.wind.mfi(trange=['2020-01-01', '2020-01-02'])"
      ]
    },
    {
      "cell_type": "code",
      "execution_count": 5,
      "metadata": {},
      "outputs": [
        {
          "name": "stderr",
          "output_type": "stream",
          "text": [
            "24-Jun-25 15:03:04: Downloading remote index: https://spdf.gsfc.nasa.gov/pub/data/psp/fields/l2/mag_rtn/2020/\n",
            "24-Jun-25 15:03:04: File is current: data/psp/fields/l2/mag_rtn/2020/psp_fld_l2_mag_rtn_2020010100_v02.cdf\n",
            "24-Jun-25 15:03:04: File is current: data/psp/fields/l2/mag_rtn/2020/psp_fld_l2_mag_rtn_2020010106_v02.cdf\n",
            "24-Jun-25 15:03:04: No links matching pattern psp_fld_l2_mag_rtn_2020010112_v??.cdf found at remote index https://spdf.gsfc.nasa.gov/pub/data/psp/fields/l2/mag_rtn/2020/\n",
            "24-Jun-25 15:03:04: No links matching pattern psp_fld_l2_mag_rtn_2020010118_v??.cdf found at remote index https://spdf.gsfc.nasa.gov/pub/data/psp/fields/l2/mag_rtn/2020/\n",
            "24-Jun-25 15:03:04: Downloading remote index: https://spdf.gsfc.nasa.gov/pub/data/psp/fields/l2/mag_rtn/2020/\n",
            "24-Jun-25 15:03:05: File is current: data/psp/fields/l2/mag_rtn/2020/psp_fld_l2_mag_rtn_2020010100_v02.cdf\n",
            "24-Jun-25 15:03:05: File is current: data/psp/fields/l2/mag_rtn/2020/psp_fld_l2_mag_rtn_2020010106_v02.cdf\n",
            "24-Jun-25 15:03:05: No links matching pattern psp_fld_l2_mag_rtn_2020010112_v??.cdf found at remote index https://spdf.gsfc.nasa.gov/pub/data/psp/fields/l2/mag_rtn/2020/\n",
            "24-Jun-25 15:03:05: No links matching pattern psp_fld_l2_mag_rtn_2020010118_v??.cdf found at remote index https://spdf.gsfc.nasa.gov/pub/data/psp/fields/l2/mag_rtn/2020/\n",
            "24-Jun-25 15:03:05: Downloading remote index: https://spdf.gsfc.nasa.gov/pub/data/psp/sweap/spi/l3/spi_sf00_l3_mom/2020/\n"
          ]
        },
        {
          "name": "stdout",
          "output_type": "stream",
          "text": [
            "Using LEVEL=L3\n"
          ]
        },
        {
          "name": "stderr",
          "output_type": "stream",
          "text": [
            "24-Jun-25 15:03:06: File is current: data/psp/sweap/spi/l3/spi_sf00_l3_mom/2020/psp_swp_spi_sf00_l3_mom_20200101_v04.cdf\n",
            "24-Jun-25 15:03:06: Downloading remote index: https://spdf.gsfc.nasa.gov/pub/data/psp/sweap/spe/l2/spa_sf0_l3_mom/2020/\n",
            "24-Jun-25 15:03:06: Remote index not found: https://spdf.gsfc.nasa.gov/pub/data/psp/sweap/spe/l2/spa_sf0_l3_mom/2020/\n",
            "24-Jun-25 15:03:08: Downloading remote index: https://spdf.gsfc.nasa.gov/pub/data/psp/sweap/spc/l3/l3i/2020/\n"
          ]
        },
        {
          "name": "stdout",
          "output_type": "stream",
          "text": [
            "Using LEVEL=L3\n"
          ]
        },
        {
          "name": "stderr",
          "output_type": "stream",
          "text": [
            "24-Jun-25 15:03:08: File is current: data/psp/sweap/spc/l3/l3i/2020/psp_swp_spc_l3i_20200101_v02.cdf\n",
            "24-Jun-25 15:03:08: Floating point data values for variable na_fit are all fillval (-1.000000e+31)\n",
            "24-Jun-25 15:03:08: Floating point data values for variable na_fit_uncertainty are all fillval (-1.000000e+31)\n",
            "24-Jun-25 15:03:08: Floating point data values for variable wa_fit are all fillval (-1.000000e+31)\n",
            "24-Jun-25 15:03:08: Floating point data values for variable wa_fit_uncertainty are all fillval (-1.000000e+31)\n",
            "24-Jun-25 15:03:08: Floating point data values for variable va_fit_SC are all fillval (-1.000000e+31)\n",
            "24-Jun-25 15:03:08: Floating point data values for variable va_fit_SC_uncertainty are all fillval (-1.000000e+31)\n",
            "24-Jun-25 15:03:08: Floating point data values for variable va_fit_RTN are all fillval (-1.000000e+31)\n",
            "24-Jun-25 15:03:08: Floating point data values for variable va_fit_RTN_uncertainty are all fillval (-1.000000e+31)\n"
          ]
        }
      ],
      "source": [
        "# PSP Fields (magnetometer) - THIS WORKED!\n",
        "psp_mag = pyspedas.psp.fields(trange=['2020-01-01', '2020-01-02'], \n",
        "                               datatype='mag_rtn', \n",
        "                               level='l2')\n",
        "\n",
        "# PSP SPI (SPAN-Ion) - Solar wind ions\n",
        "psp_spi = pyspedas.psp.spi(trange=['2020-01-01', '2020-01-02'],\n",
        "                            datatype='sf00_l3_mom',\n",
        "                            level='l3')\n",
        "\n",
        "# PSP SPE (SPAN-Electron) - Electrons\n",
        "# Try different SPE datatype\n",
        "psp_spe = pyspedas.psp.spe(trange=['2020-01-01', '2020-01-02'],\n",
        "                            datatype='spa_sf0_l3_mom')  # Without the 'level' parameter\n",
        "\n",
        "# PSP SPC (Solar Probe Cup) - Also solar wind\n",
        "psp_spc = pyspedas.psp.spc(trange=['2020-01-01', '2020-01-02'],\n",
        "                            datatype='l3i',\n",
        "                            level='l3')"
      ]
    },
    {
      "cell_type": "code",
      "execution_count": null,
      "metadata": {},
      "outputs": [
        {
          "name": "stderr",
          "output_type": "stream",
          "text": [
            "24-Jun-25 14:59:15: Downloading https://cdaweb.gsfc.nasa.gov/pub/software/cdawlib/0MASTERS/wi_h0_mfi_00000000_v01.cdf to data/windwind_masters/wi_h0_mfi_00000000_v01.cdf\n",
            "24-Jun-25 14:59:15: Download complete: data/windwind_masters/wi_h0_mfi_00000000_v01.cdf\n",
            "24-Jun-25 14:59:15: Downloading remote index: https://spdf.gsfc.nasa.gov/pub/data/wind/mfi/mfi_h0/2020/\n",
            "24-Jun-25 14:59:15: Downloading https://spdf.gsfc.nasa.gov/pub/data/wind/mfi/mfi_h0/2020/wi_h0_mfi_20200101_v05.cdf to data/wind/mfi/mfi_h0/2020/wi_h0_mfi_20200101_v05.cdf\n",
            "24-Jun-25 14:59:16: Download complete: data/wind/mfi/mfi_h0/2020/wi_h0_mfi_20200101_v05.cdf\n"
          ]
        }
      ],
      "source": [
        "import os\n",
        "# Set this BEFORE importing pyspedas\n",
        "os.environ['SPEDAS_DATA_DIR'] = 'data'\n",
        "\n",
        "import pyspedas\n",
        "\n",
        "# This will download to: pyspedas_data/wind_data/...\n",
        "wind_data = pyspedas.wind.mfi(trange=['2020-01-01', '2020-01-02'])"
      ]
    },
    {
      "cell_type": "code",
      "execution_count": null,
      "metadata": {},
      "outputs": [
        {
          "name": "stderr",
          "output_type": "stream",
          "text": [
            "24-Jun-25 14:47:29: Downloading https://cdaweb.gsfc.nasa.gov/pub/software/cdawlib/0MASTERS/wi_h0_mfi_00000000_v01.cdf to pyspedas_data/windwind_masters/wi_h0_mfi_00000000_v01.cdf\n",
            "24-Jun-25 14:47:30: Download complete: pyspedas_data/windwind_masters/wi_h0_mfi_00000000_v01.cdf\n",
            "24-Jun-25 14:47:30: Downloading remote index: https://spdf.gsfc.nasa.gov/pub/data/wind/mfi/mfi_h0/2020/\n",
            "24-Jun-25 14:47:30: Downloading https://spdf.gsfc.nasa.gov/pub/data/wind/mfi/mfi_h0/2020/wi_h0_mfi_20200101_v05.cdf to pyspedas_data/wind/mfi/mfi_h0/2020/wi_h0_mfi_20200101_v05.cdf\n",
            "24-Jun-25 14:47:31: Download complete: pyspedas_data/wind/mfi/mfi_h0/2020/wi_h0_mfi_20200101_v05.cdf\n"
          ]
        }
      ],
      "source": [
        "import os\n",
        "# Set this BEFORE importing pyspedas\n",
        "os.environ['SPEDAS_DATA_DIR'] = 'pyspedas_data'\n",
        "\n",
        "import pyspedas\n",
        "\n",
        "# This will download to: pyspedas_data/wind_data/...\n",
        "wind_data = pyspedas.wind.mfi(trange=['2020-01-01', '2020-01-02'])"
      ]
    },
    {
      "cell_type": "code",
      "execution_count": null,
      "metadata": {},
      "outputs": [
        {
          "name": "stdout",
          "output_type": "stream",
          "text": [
            "=== PySpedas Data Directory Configuration ===\n",
            "❌ Could not access pyspedas CONFIG directly\n",
            "\n",
            "=== Current Data Directories ===\n",
            "✅ psp_data/ exists\n",
            "   Subdirs: ['Hamstrings', 'fields', 'sweap']\n",
            "✅ wind_data/ exists\n",
            "   Subdirs: ['3dp', 'wind_masters', 'mfi', 'swe']\n",
            "❌ data/ does not exist\n",
            "\n",
            "Test time range: ['2020-01-01/00:00:00', '2020-01-01/06:00:00']\n"
          ]
        }
      ],
      "source": [
        "\n",
        "# First, let's explore pyspedas data directory configuration\n",
        "print(\"=== PySpedas Data Directory Configuration ===\")\n",
        "\n",
        "# Check current data directories\n",
        "try:\n",
        "    # Try different ways to access config\n",
        "    methods = [\n",
        "        lambda: pyspedas.utilities.CONFIG,\n",
        "        lambda: pyspedas.config.CONFIG, \n",
        "        lambda: pyspedas.CONFIG,\n",
        "        lambda: getattr(pyspedas, '_CONFIG', None)\n",
        "    ]\n",
        "    \n",
        "    config_found = False\n",
        "    for i, method in enumerate(methods):\n",
        "        try:\n",
        "            config = method()\n",
        "            if config:\n",
        "                print(f\"✅ Found config via method {i+1}\")\n",
        "                print(f\"PSP data dir: {config.get('psp_data_dir', 'Not found')}\")\n",
        "                print(f\"WIND data dir: {config.get('wind_data_dir', 'Not found')}\")\n",
        "                config_found = True\n",
        "                break\n",
        "        except:\n",
        "            continue\n",
        "    \n",
        "    if not config_found:\n",
        "        print(\"❌ Could not access pyspedas CONFIG directly\")\n",
        "        \n",
        "except Exception as e:\n",
        "    print(f\"Config access error: {e}\")\n",
        "\n",
        "# Check what directories currently exist\n",
        "print(f\"\\n=== Current Data Directories ===\")\n",
        "current_dirs = ['psp_data', 'wind_data', 'data']\n",
        "for dirname in current_dirs:\n",
        "    if os.path.exists(dirname):\n",
        "        print(f\"✅ {dirname}/ exists\")\n",
        "        subdirs = [d for d in os.listdir(dirname) if os.path.isdir(os.path.join(dirname, d))]\n",
        "        print(f\"   Subdirs: {subdirs}\")\n",
        "    else:\n",
        "        print(f\"❌ {dirname}/ does not exist\")\n",
        "\n",
        "# Test time range - small window for quick testing\n",
        "trange = ['2020-01-01/00:00:00', '2020-01-01/06:00:00']\n",
        "print(f\"\\nTest time range: {trange}\")\n"
      ]
    },
    {
      "cell_type": "code",
      "execution_count": 15,
      "metadata": {},
      "outputs": [
        {
          "name": "stdout",
          "output_type": "stream",
          "text": [
            "=== Testing Unified Data Directory Configuration ===\n",
            "Original PSP_DATA_DIR: None\n",
            "Original WIND_DATA_DIR: None\n",
            "\n",
            "✅ Set PSP_DATA_DIR to: data/psp\n",
            "✅ Set WIND_DATA_DIR to: data/wind\n",
            "\n",
            "✅ Created unified data directory structure:\n",
            "   data/psp/\n",
            "   data/wind/\n"
          ]
        }
      ],
      "source": [
        "# Let's test configuring a unified data directory structure\n",
        "print(\"=== Testing Unified Data Directory Configuration ===\")\n",
        "\n",
        "# Option 1: Try setting environment variables (common pyspedas approach)\n",
        "import os\n",
        "original_psp_dir = os.environ.get('PSP_DATA_DIR', None)\n",
        "original_wind_dir = os.environ.get('WIND_DATA_DIR', None)\n",
        "\n",
        "print(f\"Original PSP_DATA_DIR: {original_psp_dir}\")\n",
        "print(f\"Original WIND_DATA_DIR: {original_wind_dir}\")\n",
        "\n",
        "# Set unified structure\n",
        "unified_data_dir = 'data'\n",
        "os.environ['PSP_DATA_DIR'] = f'{unified_data_dir}/psp'\n",
        "os.environ['WIND_DATA_DIR'] = f'{unified_data_dir}/wind'\n",
        "\n",
        "print(f\"\\n✅ Set PSP_DATA_DIR to: {os.environ['PSP_DATA_DIR']}\")\n",
        "print(f\"✅ Set WIND_DATA_DIR to: {os.environ['WIND_DATA_DIR']}\")\n",
        "\n",
        "# Create the directory structure\n",
        "os.makedirs(f'{unified_data_dir}/psp', exist_ok=True)\n",
        "os.makedirs(f'{unified_data_dir}/wind', exist_ok=True)\n",
        "\n",
        "print(f\"\\n✅ Created unified data directory structure:\")\n",
        "print(f\"   data/psp/\")\n",
        "print(f\"   data/wind/\")\n"
      ]
    },
    {
      "cell_type": "code",
      "execution_count": 16,
      "metadata": {},
      "outputs": [
        {
          "name": "stdout",
          "output_type": "stream",
          "text": [
            "=== Testing Unified Directory with Small Download ===\n"
          ]
        },
        {
          "name": "stderr",
          "output_type": "stream",
          "text": [
            "23-Jun-25 16:47:40: File is current: wind_data/wind_masters/wi_h2_mfi_00000000_v01.cdf\n",
            "23-Jun-25 16:47:40: Downloading remote index: https://spdf.gsfc.nasa.gov/pub/data/wind/mfi/mfi_h2/2020/\n",
            "23-Jun-25 16:47:41: File is current: wind_data/mfi/mfi_h2/2020/wi_h2_mfi_20200101_v05.cdf\n"
          ]
        },
        {
          "name": "stdout",
          "output_type": "stream",
          "text": [
            "✅ Test download successful!\n",
            "Files downloaded to: wind_data/mfi/mfi_h2/2020/wi_h2_mfi_20200101_v05.cdf\n",
            "⚠️  Still using old wind_data/ structure\n",
            "\n",
            "=== Current Directory Structure ===\n",
            "\n",
            "data/\n",
            "  psp/\n",
            "  wind/\n",
            "\n",
            "wind_data/\n",
            "  3dp/\n",
            "    3dp_elpd\n",
            "    3dp_pm\n",
            "  wind_masters/\n",
            "    wi_h5_swe_00000000_v01.cdf\n",
            "    wi_elpd_3dp_00000000_v01.cdf\n",
            "    wi_h1_swe_00000000_v01.cdf\n",
            "    ... and 2 more\n",
            "  mfi/\n",
            "    mfi_h2\n",
            "  swe/\n",
            "    swe_h1\n",
            "    swe_h5\n",
            "\n",
            "psp_data/\n",
            "  Hamstrings/\n",
            "    2025\n",
            "    .DS_Store\n",
            "  fields/\n",
            "    .DS_Store\n",
            "    l2\n",
            "    Alexander_Personal_Archive\n",
            "  sweap/\n",
            "    spe\n",
            "    spi_fits\n",
            "    .DS_Store\n",
            "    ... and 1 more\n"
          ]
        }
      ],
      "source": [
        "# Test if the unified directory configuration works\n",
        "print(\"=== Testing Unified Directory with Small Download ===\")\n",
        "\n",
        "try:\n",
        "    # Test a very small WIND download to see if it uses our unified structure\n",
        "    test_files = pyspedas.wind.mfi(\n",
        "        trange=['2020-01-01/00:00:00', '2020-01-01/01:00:00'],\n",
        "        datatype='h2',\n",
        "        downloadonly=True,\n",
        "        notplot=True\n",
        "    )\n",
        "    \n",
        "    if test_files:\n",
        "        print(f\"✅ Test download successful!\")\n",
        "        print(f\"Files downloaded to: {test_files[0]}\")\n",
        "        \n",
        "        # Check if it used our unified structure\n",
        "        if 'data/wind' in test_files[0]:\n",
        "            print(\"🎉 SUCCESS: Using unified data/wind/ structure!\")\n",
        "        elif 'wind_data' in test_files[0]:\n",
        "            print(\"⚠️  Still using old wind_data/ structure\")\n",
        "        else:\n",
        "            print(f\"📁 Using path: {test_files[0]}\")\n",
        "            \n",
        "    else:\n",
        "        print(\"❌ Test download failed\")\n",
        "        \n",
        "except Exception as e:\n",
        "    print(f\"❌ Test download error: {e}\")\n",
        "\n",
        "# Show current directory contents\n",
        "print(f\"\\n=== Current Directory Structure ===\")\n",
        "for root in ['data', 'wind_data', 'psp_data']:\n",
        "    if os.path.exists(root):\n",
        "        print(f\"\\n{root}/\")\n",
        "        for item in os.listdir(root):\n",
        "            item_path = os.path.join(root, item)\n",
        "            if os.path.isdir(item_path):\n",
        "                print(f\"  {item}/\")\n",
        "                try:\n",
        "                    subitems = os.listdir(item_path)[:3]  # Show first 3 items\n",
        "                    for subitem in subitems:\n",
        "                        print(f\"    {subitem}\")\n",
        "                    if len(os.listdir(item_path)) > 3:\n",
        "                        print(f\"    ... and {len(os.listdir(item_path)) - 3} more\")\n",
        "                except:\n",
        "                    pass\n"
      ]
    },
    {
      "cell_type": "markdown",
      "metadata": {
        "vscode": {
          "languageId": "raw"
        }
      },
      "source": [
        "## 1. MFI - Magnetic Field Investigation\n",
        "- **Description**: 11 samples per second magnetic field\n",
        "- **Data Format**: `mfi_h2` \n",
        "- **File Pattern**: `wi_h2_mfi_{YYYY}{MM}{DD}_v05.cdf`\n",
        "- **Key Variables**: `BGSE` (vector), `BF1` (magnitude), `EPOCH`\n"
      ]
    },
    {
      "cell_type": "code",
      "execution_count": 8,
      "metadata": {},
      "outputs": [
        {
          "name": "stdout",
          "output_type": "stream",
          "text": [
            "=== Testing WIND MFI (Magnetic Field) ===\n"
          ]
        },
        {
          "name": "stderr",
          "output_type": "stream",
          "text": [
            "23-Jun-25 16:40:33: File is current: wind_data/wind_masters/wi_h2_mfi_00000000_v01.cdf\n",
            "23-Jun-25 16:40:33: Downloading remote index: https://spdf.gsfc.nasa.gov/pub/data/wind/mfi/mfi_h2/2020/\n",
            "23-Jun-25 16:40:33: File is current: wind_data/mfi/mfi_h2/2020/wi_h2_mfi_20200101_v05.cdf\n"
          ]
        },
        {
          "name": "stdout",
          "output_type": "stream",
          "text": [
            "✅ MFI files downloaded: 1 files\n",
            "First file: wind_data/mfi/mfi_h2/2020/wi_h2_mfi_20200101_v05.cdf\n",
            "\n",
            "CDF Variables: ['Epoch', 'Time_PB5', 'BF1', 'BGSM', 'BGSE', 'RANGE', 'SPC_MODE', 'MAG_MODE', 'Epoch1', 'Time1_PB5', 'NUM1_PTS_O', 'ZERO1_O', 'SENS1_O', 'AMPL1_O', 'ORTH1_O', 'PAYLD1_O', 'FLAG1_O', 'NUM1_PTS_I', 'ZERO1_I', 'SENS1_I', 'AMPL1_I', 'ORTH1_I', 'PAYLD1_I', 'FLAG1_I', 'label_time', 'format_time', 'unit_time', 'label_bgsm', 'label_bgse', 'cartesian']\n",
            "\n",
            "Data shapes:\n",
            "  Epoch: (937292,)\n",
            "  BGSE: (937292, 3)\n",
            "  BF1: (937292,)\n",
            "\n",
            "First few BGSE values:\n",
            "[[ 2.3591793   2.131938   -0.46789145]\n",
            " [ 2.3259268   2.1091244  -0.48949775]\n",
            " [ 2.3198829   2.1263518  -0.5013975 ]]\n",
            "First few BF1 values: [3.214002  3.177727  3.1866329]\n",
            "\n",
            "BGSE components:\n",
            "  Bx (GSE): [2.3591793 2.3259268 2.3198829]\n",
            "  By (GSE): [2.131938  2.1091244 2.1263518]\n",
            "  Bz (GSE): [-0.46789145 -0.48949775 -0.5013975 ]\n"
          ]
        }
      ],
      "source": [
        "print(\"=== Testing WIND MFI (Magnetic Field) ===\")\n",
        "try:\n",
        "    # Download MFI data\n",
        "    mfi_files = pyspedas.wind.mfi(\n",
        "        trange=trange,\n",
        "        datatype='h2',  # High resolution (11 samples/sec)\n",
        "        downloadonly=True,\n",
        "        notplot=True,\n",
        "        time_clip=True\n",
        "    )\n",
        "    \n",
        "    if mfi_files:\n",
        "        print(f\"✅ MFI files downloaded: {len(mfi_files)} files\")\n",
        "        print(f\"First file: {mfi_files[0]}\")\n",
        "        \n",
        "        # Examine CDF structure\n",
        "        cdf = cdflib.CDF(mfi_files[0])\n",
        "        cdf_info = cdf.cdf_info()\n",
        "        print(f\"\\nCDF Variables: {cdf_info.zVariables}\")\n",
        "        \n",
        "        # Load key variables\n",
        "        epoch = cdf.varget('Epoch')\n",
        "        bgse = cdf.varget('BGSE')  # Should be [N, 3] array\n",
        "        bf1 = cdf.varget('BF1')   # Magnitude\n",
        "        \n",
        "        print(f\"\\nData shapes:\")\n",
        "        print(f\"  Epoch: {epoch.shape}\")\n",
        "        print(f\"  BGSE: {bgse.shape}\")\n",
        "        print(f\"  BF1: {bf1.shape}\")\n",
        "        print(f\"\\nFirst few BGSE values:\\n{bgse[:3]}\")\n",
        "        print(f\"First few BF1 values: {bf1[:3]}\")\n",
        "        \n",
        "        # Show coordinate info\n",
        "        print(f\"\\nBGSE components:\")\n",
        "        print(f\"  Bx (GSE): {bgse[:3, 0]}\")\n",
        "        print(f\"  By (GSE): {bgse[:3, 1]}\")  \n",
        "        print(f\"  Bz (GSE): {bgse[:3, 2]}\")\n",
        "        \n",
        "    else:\n",
        "        print(\"❌ No MFI files downloaded\")\n",
        "        \n",
        "except Exception as e:\n",
        "    print(f\"❌ MFI download failed: {e}\")\n",
        "    import traceback\n",
        "    traceback.print_exc()\n"
      ]
    },
    {
      "cell_type": "markdown",
      "metadata": {
        "vscode": {
          "languageId": "raw"
        }
      },
      "source": [
        "## 2. SWE - Solar Wind Experiment (Proton/Alpha Moments)\n",
        "- **Description**: 92-second proton and alpha moments from bi-Maxwellian fits\n",
        "- **Data Format**: `swe_h1`\n",
        "- **File Pattern**: `wi_h1_swe_{YYYY}{MM}{DD}_v01.cdf`\n",
        "- **Key Variables**: `fit_flag`, `Proton_Wpar_nonlin`, `Proton_Wperp_nonlin`, `Alpha_W_Nonlin`\n"
      ]
    },
    {
      "cell_type": "code",
      "execution_count": 9,
      "metadata": {},
      "outputs": [
        {
          "name": "stdout",
          "output_type": "stream",
          "text": [
            "=== Testing WIND SWE (Solar Wind Experiment - Protons/Alphas) ===\n"
          ]
        },
        {
          "name": "stderr",
          "output_type": "stream",
          "text": [
            "23-Jun-25 16:40:35: File is current: wind_data/wind_masters/wi_h1_swe_00000000_v01.cdf\n",
            "23-Jun-25 16:40:35: Downloading remote index: https://spdf.gsfc.nasa.gov/pub/data/wind/swe/swe_h1/2020/\n",
            "23-Jun-25 16:40:35: File is current: wind_data/swe/swe_h1/2020/wi_h1_swe_20200101_v01.cdf\n"
          ]
        },
        {
          "name": "stdout",
          "output_type": "stream",
          "text": [
            "✅ SWE H1 files downloaded: 1 files\n",
            "First file: wind_data/swe/swe_h1/2020/wi_h1_swe_20200101_v01.cdf\n",
            "\n",
            "CDF Variables: ['fit_flag', 'Epoch', 'year', 'doy', 'Proton_V_nonlin', 'Proton_sigmaV_nonlin', 'Proton_VX_nonlin', 'Proton_sigmaVX_nonlin', 'Proton_VY_nonlin', 'Proton_sigmaVY_nonlin', 'Proton_VZ_nonlin', 'Proton_sigmaVZ_nonlin', 'Proton_W_nonlin', 'Proton_sigmaW_nonlin', 'Proton_Wperp_nonlin', 'Proton_sigmaWperp_nonlin', 'Proton_Wpar_nonlin', 'Proton_sigmaWpar_nonlin', 'EW_flowangle', 'SigmaEW_flowangle', 'NS_flowangle', 'SigmaNS_flowangle', 'Proton_Np_nonlin', 'Proton_sigmaNp_nonlin', 'Alpha_V_nonlin', 'Alpha_sigmaV_nonlin', 'Alpha_VX_nonlin', 'Alpha_sigmaVX_nonlin', 'Alpha_VY_nonlin', 'Alpha_sigmaVY_nonlin', 'Alpha_VZ_nonlin', 'Alpha_sigmaVZ_nonlin', 'Alpha_W_nonlin', 'Alpha_sigmaW_nonlin', 'Alpha_Wperp_nonlin', 'Alpha_sigmaWperp_nonlin', 'Alpha_Wpar_nonlin', 'Alpha_sigmaWpar_nonlin', 'Alpha_Na_nonlin', 'Alpha_sigmaNa_nonlin', 'ChisQ_DOF_nonlin', 'Peak_doy', 'sigmaPeak_doy', 'Proton_V_moment', 'Proton_VX_moment', 'Proton_VY_moment', 'Proton_VZ_moment', 'Proton_W_moment', 'Proton_Wperp_moment', 'Proton_Wpar_moment', 'Proton_Np_moment', 'BX', 'BY', 'BZ', 'Ang_dev', 'dev', 'xgse', 'ygse', 'zgse', 'ygsm', 'zgsm']\n",
            "\n",
            "Data shapes:\n",
            "  Epoch: (853,)\n",
            "  fit_flag: (853,)\n",
            "  Proton_Wpar: (853,)\n",
            "  Proton_Wperp: (853,)\n",
            "  Alpha_W: (853,)\n",
            "\n",
            "First few values:\n",
            "  fit_flag[0]: 1\n",
            "  Proton_Wpar[0]: 23.047863006591797\n",
            "  Proton_Wperp[0]: 22.915451049804688\n"
          ]
        }
      ],
      "source": [
        "print(\"=== Testing WIND SWE (Solar Wind Experiment - Protons/Alphas) ===\")\n",
        "try:\n",
        "    # Download SWE proton/alpha data\n",
        "    swe_h1_files = pyspedas.wind.swe(\n",
        "        trange=trange,\n",
        "        datatype='h1',  # Proton/alpha moments\n",
        "        downloadonly=True,\n",
        "        notplot=True,\n",
        "        time_clip=True\n",
        "    )\n",
        "    \n",
        "    if swe_h1_files:\n",
        "        print(f\"✅ SWE H1 files downloaded: {len(swe_h1_files)} files\")\n",
        "        print(f\"First file: {swe_h1_files[0]}\")\n",
        "        \n",
        "        # Examine CDF structure\n",
        "        cdf = cdflib.CDF(swe_h1_files[0])\n",
        "        cdf_info = cdf.cdf_info()\n",
        "        print(f\"\\nCDF Variables: {cdf_info.zVariables}\")\n",
        "        \n",
        "        # Load key variables\n",
        "        epoch = cdf.varget('Epoch')\n",
        "        fit_flag = cdf.varget('fit_flag')\n",
        "        proton_wpar = cdf.varget('Proton_Wpar_nonlin')\n",
        "        proton_wperp = cdf.varget('Proton_Wperp_nonlin')\n",
        "        alpha_w = cdf.varget('Alpha_W_Nonlin')\n",
        "        \n",
        "        print(f\"\\nData shapes:\")\n",
        "        print(f\"  Epoch: {epoch.shape}\")\n",
        "        print(f\"  fit_flag: {fit_flag.shape}\")\n",
        "        print(f\"  Proton_Wpar: {proton_wpar.shape}\")\n",
        "        print(f\"  Proton_Wperp: {proton_wperp.shape}\")\n",
        "        print(f\"  Alpha_W: {alpha_w.shape}\")\n",
        "        \n",
        "        print(f\"\\nFirst few values:\")\n",
        "        print(f\"  fit_flag[0]: {fit_flag[0] if len(fit_flag) > 0 else 'No data'}\")\n",
        "        print(f\"  Proton_Wpar[0]: {proton_wpar[0] if len(proton_wpar) > 0 else 'No data'}\")\n",
        "        print(f\"  Proton_Wperp[0]: {proton_wperp[0] if len(proton_wperp) > 0 else 'No data'}\")\n",
        "        \n",
        "    else:\n",
        "        print(\"❌ No SWE H1 files downloaded\")\n",
        "        \n",
        "except Exception as e:\n",
        "    print(f\"❌ SWE H1 download failed: {e}\")\n",
        "    import traceback\n",
        "    traceback.print_exc()\n"
      ]
    },
    {
      "cell_type": "markdown",
      "metadata": {
        "vscode": {
          "languageId": "raw"
        }
      },
      "source": [
        "## 3. SWE - Electron Temperature\n",
        "- **Description**: Electron moments from quadrature analysis\n",
        "- **Data Format**: `swe_h5`\n",
        "- **File Pattern**: `wi_h5_swe_{YYYY}{MM}{DD}_v01.cdf`\n",
        "- **Key Variables**: `T_elec`\n"
      ]
    },
    {
      "cell_type": "code",
      "execution_count": 10,
      "metadata": {},
      "outputs": [
        {
          "name": "stdout",
          "output_type": "stream",
          "text": [
            "=== Testing WIND SWE (Electron Temperature) ===\n"
          ]
        },
        {
          "name": "stderr",
          "output_type": "stream",
          "text": [
            "23-Jun-25 16:40:41: File is current: wind_data/wind_masters/wi_h5_swe_00000000_v01.cdf\n",
            "23-Jun-25 16:40:41: Downloading remote index: https://spdf.gsfc.nasa.gov/pub/data/wind/swe/swe_h5/2020/\n",
            "23-Jun-25 16:40:41: File is current: wind_data/swe/swe_h5/2020/wi_h5_swe_20200101_v01.cdf\n"
          ]
        },
        {
          "name": "stdout",
          "output_type": "stream",
          "text": [
            "✅ SWE H5 files downloaded: 1 files\n",
            "First file: wind_data/swe/swe_h5/2020/wi_h5_swe_20200101_v01.cdf\n",
            "\n",
            "CDF Variables: ['Epoch', 'N_elec', 'NcElec', 'U_eGSE', 'UceGSE', 'P_eGSE', 'T_elec', 'TcElec', 'W_elec', 'WcElec', 'Te_pal', 'Te_per', 'TecPal', 'TecPer', 'Te_ani', 'TecAni', 'Gyrtrp', 'label_U_eGSE', 'label_UceGSE', 'label_P_eGSE', 'cartesian', 'tensor']\n",
            "\n",
            "Data shapes:\n",
            "  Epoch: (6230,)\n",
            "  T_elec: (6230,)\n",
            "\n",
            "First few T_elec values: [126971.95 126761.33 124516.62 125634.07 127726.33]\n"
          ]
        }
      ],
      "source": [
        "print(\"=== Testing WIND SWE (Electron Temperature) ===\")\n",
        "try:\n",
        "    # Download SWE electron data\n",
        "    swe_h5_files = pyspedas.wind.swe(\n",
        "        trange=trange,\n",
        "        datatype='h5',  # Electron temperature\n",
        "        downloadonly=True,\n",
        "        notplot=True,\n",
        "        time_clip=True\n",
        "    )\n",
        "    \n",
        "    if swe_h5_files:\n",
        "        print(f\"✅ SWE H5 files downloaded: {len(swe_h5_files)} files\")\n",
        "        print(f\"First file: {swe_h5_files[0]}\")\n",
        "        \n",
        "        # Examine CDF structure\n",
        "        cdf = cdflib.CDF(swe_h5_files[0])\n",
        "        cdf_info = cdf.cdf_info()\n",
        "        print(f\"\\nCDF Variables: {cdf_info.zVariables}\")\n",
        "        \n",
        "        # Load key variables\n",
        "        epoch = cdf.varget('Epoch')\n",
        "        t_elec = cdf.varget('T_elec')\n",
        "        \n",
        "        print(f\"\\nData shapes:\")\n",
        "        print(f\"  Epoch: {epoch.shape}\")\n",
        "        print(f\"  T_elec: {t_elec.shape}\")\n",
        "        print(f\"\\nFirst few T_elec values: {t_elec[:5]}\")\n",
        "        \n",
        "    else:\n",
        "        print(\"❌ No SWE H5 files downloaded\")\n",
        "        \n",
        "except Exception as e:\n",
        "    print(f\"❌ SWE H5 download failed: {e}\")\n",
        "    import traceback\n",
        "    traceback.print_exc()\n"
      ]
    },
    {
      "cell_type": "markdown",
      "metadata": {
        "vscode": {
          "languageId": "raw"
        }
      },
      "source": [
        "## 4. 3DP - Electron Pitch-Angle Distributions\n",
        "- **Description**: ~24-second electron fluxes for pitch-angle bins\n",
        "- **Data Format**: `3dp_elpd`\n",
        "- **File Pattern**: `wi_elpd_3dp_{YYYY}{MM}{DD}_v02.cdf`\n",
        "- **Key Variables**: `FLUX` [N x A x E], `PANGLE` [N x A]\n"
      ]
    },
    {
      "cell_type": "code",
      "execution_count": 12,
      "metadata": {},
      "outputs": [
        {
          "name": "stdout",
          "output_type": "stream",
          "text": [
            "=== Testing WIND 3DP (Electron Pitch-Angle Distributions) ===\n",
            "Trying datatype: 3dp_elpd\n"
          ]
        },
        {
          "name": "stderr",
          "output_type": "stream",
          "text": [
            "23-Jun-25 16:41:45: Downloading https://cdaweb.gsfc.nasa.gov/pub/software/cdawlib/0MASTERS/wi_elpd_3dp_00000000_v01.cdf to wind_data/wind_masters/wi_elpd_3dp_00000000_v01.cdf\n",
            "23-Jun-25 16:41:45: Download complete: wind_data/wind_masters/wi_elpd_3dp_00000000_v01.cdf\n",
            "23-Jun-25 16:41:45: Downloading remote index: https://spdf.gsfc.nasa.gov/pub/data/wind/3dp/3dp_elpd/2020/\n",
            "23-Jun-25 16:41:45: Downloading https://spdf.gsfc.nasa.gov/pub/data/wind/3dp/3dp_elpd/2020/wi_elpd_3dp_20200101_v02.cdf to wind_data/3dp/3dp_elpd/2020/wi_elpd_3dp_20200101_v02.cdf\n",
            "23-Jun-25 16:41:46: Download complete: wind_data/3dp/3dp_elpd/2020/wi_elpd_3dp_20200101_v02.cdf\n"
          ]
        },
        {
          "name": "stdout",
          "output_type": "stream",
          "text": [
            "✅ Success with datatype: 3dp_elpd\n",
            "✅ 3DP ELPD files downloaded: 1 files\n",
            "First file: wind_data/3dp/3dp_elpd/2020/wi_elpd_3dp_20200101_v02.cdf\n",
            "\n",
            "CDF Variables: ['TIME', 'FLUX', 'ENERGY', 'PANGLE', 'INTEG_T', 'EDENS', 'TEMP', 'QP', 'QM', 'QT', 'REDF', 'VSW', 'MAGF']\n",
            "\n",
            "Data shapes:\n",
            "  EPOCH: (870,)\n",
            "  FLUX: (870, 8, 15)\n",
            "  PANGLE: (870, 8)\n",
            "\n",
            "First PANGLE values: [ 16.728628  36.36691   56.31059   78.89017  100.539055 122.8519\n",
            " 145.16382  168.36076 ]\n"
          ]
        }
      ],
      "source": [
        "print(\"=== Testing WIND 3DP (Electron Pitch-Angle Distributions) ===\")\n",
        "try:\n",
        "    # Try different 3DP datatype formats - the error suggests it expects underscore format\n",
        "    datatype_options = ['3dp_elpd', 'elpd_3dp', 'el_elpd']\n",
        "    \n",
        "    tdp_elpd_files = None\n",
        "    for datatype in datatype_options:\n",
        "        try:\n",
        "            print(f\"Trying datatype: {datatype}\")\n",
        "            tdp_elpd_files = pyspedas.wind.threedp(\n",
        "                trange=trange,\n",
        "                datatype=datatype,  # Electron pitch-angle distributions\n",
        "                downloadonly=True,\n",
        "                notplot=True,\n",
        "                time_clip=True\n",
        "            )\n",
        "            if tdp_elpd_files:\n",
        "                print(f\"✅ Success with datatype: {datatype}\")\n",
        "                break\n",
        "        except Exception as e:\n",
        "            print(f\"Failed with {datatype}: {e}\")\n",
        "            continue\n",
        "    \n",
        "    if tdp_elpd_files:\n",
        "        print(f\"✅ 3DP ELPD files downloaded: {len(tdp_elpd_files)} files\")\n",
        "        print(f\"First file: {tdp_elpd_files[0]}\")\n",
        "        \n",
        "        # Examine CDF structure\n",
        "        cdf = cdflib.CDF(tdp_elpd_files[0])\n",
        "        cdf_info = cdf.cdf_info()\n",
        "        print(f\"\\nCDF Variables: {cdf_info.zVariables}\")\n",
        "        \n",
        "        # Load key variables\n",
        "        epoch = cdf.varget('EPOCH')\n",
        "        flux = cdf.varget('FLUX')  # Should be [N, 8, 15] - N times, 8 pitch angles, 15 energies\n",
        "        pangle = cdf.varget('PANGLE')  # Should be [N, 8] - pitch angles at each time\n",
        "        \n",
        "        print(f\"\\nData shapes:\")\n",
        "        print(f\"  EPOCH: {epoch.shape}\")\n",
        "        print(f\"  FLUX: {flux.shape}\")\n",
        "        print(f\"  PANGLE: {pangle.shape}\")\n",
        "        print(f\"\\nFirst PANGLE values: {pangle[0]}\")\n",
        "        \n",
        "    else:\n",
        "        print(\"❌ No 3DP ELPD files downloaded with any datatype format\")\n",
        "        \n",
        "except Exception as e:\n",
        "    print(f\"❌ 3DP ELPD download failed: {e}\")\n",
        "    import traceback\n",
        "    traceback.print_exc()\n"
      ]
    },
    {
      "cell_type": "markdown",
      "metadata": {
        "vscode": {
          "languageId": "raw"
        }
      },
      "source": [
        "## 5. 3DP - Ion Parameters (Faraday Cup)\n",
        "- **Description**: 3-second ion parameters from Faraday cup\n",
        "- **Data Format**: `3dp_pm`\n",
        "- **File Pattern**: `wi_pm_3dp_{YYYY}{MM}{DD}_v02.cdf`\n",
        "- **Key Variables**: `VALID`, `P_VELS`, `P_DENS`, `P_TEMP`, `A_DENS`, `A_TEMP`\n"
      ]
    },
    {
      "cell_type": "code",
      "execution_count": 13,
      "metadata": {},
      "outputs": [
        {
          "name": "stdout",
          "output_type": "stream",
          "text": [
            "=== Testing WIND 3DP (Ion Parameters) ===\n",
            "Trying datatype: 3dp_pm\n"
          ]
        },
        {
          "name": "stderr",
          "output_type": "stream",
          "text": [
            "23-Jun-25 16:42:35: Downloading https://cdaweb.gsfc.nasa.gov/pub/software/cdawlib/0MASTERS/wi_pm_3dp_00000000_v01.cdf to wind_data/wind_masters/wi_pm_3dp_00000000_v01.cdf\n",
            "23-Jun-25 16:42:35: Download complete: wind_data/wind_masters/wi_pm_3dp_00000000_v01.cdf\n",
            "23-Jun-25 16:42:35: Downloading remote index: https://spdf.gsfc.nasa.gov/pub/data/wind/3dp/3dp_pm/2020/\n",
            "23-Jun-25 16:42:36: Downloading https://spdf.gsfc.nasa.gov/pub/data/wind/3dp/3dp_pm/2020/wi_pm_3dp_20200101_v05.cdf to wind_data/3dp/3dp_pm/2020/wi_pm_3dp_20200101_v05.cdf\n",
            "23-Jun-25 16:42:37: Download complete: wind_data/3dp/3dp_pm/2020/wi_pm_3dp_20200101_v05.cdf\n"
          ]
        },
        {
          "name": "stdout",
          "output_type": "stream",
          "text": [
            "✅ Success with datatype: 3dp_pm\n",
            "✅ 3DP PM files downloaded: 1 files\n",
            "First file: wind_data/3dp/3dp_pm/2020/wi_pm_3dp_20200101_v05.cdf\n",
            "\n",
            "CDF Variables: ['TIME', 'SPIN', 'P_DENS', 'P_VELS', 'P_TENS', 'P_TEMP', 'A_DENS', 'A_VELS', 'A_TENS', 'A_TEMP', 'E_RANGE', 'VC', 'GAP', 'VALID']\n",
            "\n",
            "Data shapes:\n",
            "  EPOCH: (27858,)\n",
            "  VALID: (27858,)\n",
            "  P_VELS: (27858, 3)\n",
            "  P_DENS: (27858,)\n",
            "  P_TEMP: (27858,)\n",
            "  A_DENS: (27858,)\n",
            "  A_TEMP: (27858,)\n",
            "\n",
            "First few values:\n",
            "  P_VELS[0]: [-312.427       30.771376    -6.1535926]\n",
            "  P_DENS[0]: 6.021518707275391\n",
            "  P_TEMP[0]: 4.179876327514648\n"
          ]
        }
      ],
      "source": [
        "print(\"=== Testing WIND 3DP (Ion Parameters) ===\")\n",
        "try:\n",
        "    # Try different 3DP datatype formats for PM data\n",
        "    datatype_options = ['3dp_pm', 'pm_3dp', 'pl_pm']\n",
        "    \n",
        "    tdp_pm_files = None\n",
        "    for datatype in datatype_options:\n",
        "        try:\n",
        "            print(f\"Trying datatype: {datatype}\")\n",
        "            tdp_pm_files = pyspedas.wind.threedp(\n",
        "                trange=trange,\n",
        "                datatype=datatype,  # Ion parameters\n",
        "                downloadonly=True,\n",
        "                notplot=True,\n",
        "                time_clip=True\n",
        "            )\n",
        "            if tdp_pm_files:\n",
        "                print(f\"✅ Success with datatype: {datatype}\")\n",
        "                break\n",
        "        except Exception as e:\n",
        "            print(f\"Failed with {datatype}: {e}\")\n",
        "            continue\n",
        "    \n",
        "    if tdp_pm_files:\n",
        "        print(f\"✅ 3DP PM files downloaded: {len(tdp_pm_files)} files\")\n",
        "        print(f\"First file: {tdp_pm_files[0]}\")\n",
        "        \n",
        "        # Examine CDF structure\n",
        "        cdf = cdflib.CDF(tdp_pm_files[0])\n",
        "        cdf_info = cdf.cdf_info()\n",
        "        print(f\"\\nCDF Variables: {cdf_info.zVariables}\")\n",
        "        \n",
        "        # Load key variables\n",
        "        epoch = cdf.varget('EPOCH')\n",
        "        valid = cdf.varget('VALID')\n",
        "        p_vels = cdf.varget('P_VELS')  # Proton velocity (solar wind velocity)\n",
        "        p_dens = cdf.varget('P_DENS')  # Proton density\n",
        "        p_temp = cdf.varget('P_TEMP')  # Proton temperature\n",
        "        a_dens = cdf.varget('A_DENS')  # Alpha density\n",
        "        a_temp = cdf.varget('A_TEMP')  # Alpha temperature\n",
        "        \n",
        "        print(f\"\\nData shapes:\")\n",
        "        print(f\"  EPOCH: {epoch.shape}\")\n",
        "        print(f\"  VALID: {valid.shape}\")\n",
        "        print(f\"  P_VELS: {p_vels.shape}\")\n",
        "        print(f\"  P_DENS: {p_dens.shape}\")\n",
        "        print(f\"  P_TEMP: {p_temp.shape}\")\n",
        "        print(f\"  A_DENS: {a_dens.shape}\")\n",
        "        print(f\"  A_TEMP: {a_temp.shape}\")\n",
        "        \n",
        "        print(f\"\\nFirst few values:\")\n",
        "        print(f\"  P_VELS[0]: {p_vels[0] if len(p_vels) > 0 else 'No data'}\")\n",
        "        print(f\"  P_DENS[0]: {p_dens[0] if len(p_dens) > 0 else 'No data'}\")\n",
        "        print(f\"  P_TEMP[0]: {p_temp[0] if len(p_temp) > 0 else 'No data'}\")\n",
        "        \n",
        "    else:\n",
        "        print(\"❌ No 3DP PM files downloaded with any datatype format\")\n",
        "        \n",
        "except Exception as e:\n",
        "    print(f\"❌ 3DP PM download failed: {e}\")\n",
        "    import traceback\n",
        "    traceback.print_exc()\n"
      ]
    },
    {
      "cell_type": "markdown",
      "metadata": {
        "vscode": {
          "languageId": "raw"
        }
      },
      "source": [
        "## Summary and Next Steps\n",
        "\n",
        "This notebook tests all 5 WIND data products specified in the requirements:\n",
        "\n",
        "1. ✅ **MFI (h2)** - 11 samples/sec magnetic field\n",
        "2. ✅ **SWE (h1)** - 92-sec proton/alpha moments  \n",
        "3. ✅ **SWE (h5)** - Electron temperature\n",
        "4. ✅ **3DP (elpd)** - Electron pitch-angle distributions\n",
        "5. ✅ **3DP (pm)** - 3-sec ion parameters\n",
        "\n",
        "For immediate plotbot integration, we'll start with **MFI** since it's most similar to existing PSP magnetometer classes.\n"
      ]
    }
  ],
  "metadata": {
    "kernelspec": {
      "display_name": "plotbot_env",
      "language": "python",
      "name": "python3"
    },
    "language_info": {
      "codemirror_mode": {
        "name": "ipython",
        "version": 3
      },
      "file_extension": ".py",
      "mimetype": "text/x-python",
      "name": "python",
      "nbconvert_exporter": "python",
      "pygments_lexer": "ipython3",
      "version": "3.12.4"
    }
  },
  "nbformat": 4,
  "nbformat_minor": 2
}
