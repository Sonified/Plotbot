{
  "cells": [
    {
      "cell_type": "markdown",
      "metadata": {
        "vscode": {
          "languageId": "raw"
        }
      },
      "source": [
        "# Plotbot Audification Examples 🔊🌞\n",
        "\n",
        "## Parker Solar Probe Encounter 8 - Wave-Particle Interactions Audification\n",
        "\n",
        "This notebook demonstrates how to create audio representations of Parker Solar Probe magnetic field data. This specific time regions includes wave-particle interactions occurring upstream of a Heliospheric Current Sheet (HCS) crossing during Encounter 8. The audification process converts time series data into audio, allowing us to \"hear\" these complex plasma dynamics and magnetic field variations.\n",
        "\n",
        "### Event Details 🌌\n",
        "- **Encounter 8**: April 29, 2021 (07:45 - 08:20 UTC)\n",
        "- **Phenomenon**: Wave-particle interactions upstream of HCS crossing\n",
        "- **Data Source**: Jaye's E8 Region analysis\n",
        "- **Significance**: Audio reveals plasma physics processes in the solar wind\n"
      ]
    },
    {
      "cell_type": "code",
      "execution_count": 1,
      "metadata": {},
      "outputs": [
        {
          "name": "stdout",
          "output_type": "stream",
          "text": [
            "initialized server_access\n",
            "initialized global_tracker\n",
            "initialized ploptions\n",
            "initialized plot_manager\n",
            "initialized epad class\n",
            "initialized epad_hr class\n",
            "initialized proton class\n",
            "initialized proton_hr class\n",
            "initialized ham_class\n",
            "initialized psp_alpha class\n",
            "initialized psp_qtn class\n",
            "initialized psp_orbit class\n",
            "initialized psp_span_vdf class\n",
            "initialized data_cubby.\n",
            "CDF classes added to data_cubby type map.\n",
            "initialized proton_fits class\n",
            "initialized alpha_fits class\n",
            "🔉 initialized audifier\n",
            "\n",
            "Importing libraries, this may take a moment. Hold tight... \n",
            "\n",
            "✅ Imported standard libraries and utilities.\n",
            "✅ Imported numpy, pandas, and scipy libraries.\n",
            "✅ Imported matplotlib libraries.\n",
            "✅ Imported cdflib, BeautifulSoup, requests, dateutil, and datetime libraries.\n",
            "\n",
            "🤖 Plotbot Initialized\n",
            "✨ Showdahodo initialized\n",
            "Positional Data Helper Initialized\n",
            "📈📉 Multiplot Initialized\n",
            "\n",
            "🤖 Plotbot Initialized\n",
            "📈📉 Multiplot Initialized\n",
            "   Version: 2025_08_06_v3.09\n",
            "   Commit: v3.09 Fix: VDF single timestamp support - handles single timestamps, smart caching, closest time slice detection\n",
            "\n"
          ]
        }
      ],
      "source": [
        "# Import plotbot and initialize\n",
        "from plotbot import *\n",
        "import numpy as np\n",
        "from datetime import datetime, timedelta\n"
      ]
    },
    {
      "cell_type": "markdown",
      "metadata": {
        "vscode": {
          "languageId": "raw"
        }
      },
      "source": [
        "## 🔧 Audifier Setup and Configuration\n",
        "\n",
        "First, we'll configure the audifier with optimal settings for perihelion data analysis.\n"
      ]
    },
    {
      "cell_type": "code",
      "execution_count": 2,
      "metadata": {},
      "outputs": [
        {
          "name": "stdout",
          "output_type": "stream",
          "text": [
            "Prompting for new save directory (force_new=True). Current: '/Users/robertalexander/Dropbox/__Presentations_and_interviews/SWC_Magic_Spaceship/Solar_Perihelion_Audio'\n"
          ]
        },
        {
          "name": "stderr",
          "output_type": "stream",
          "text": [
            "2025-08-17 20:36:47.729 python[55641:10101257] The class 'NSOpenPanel' overrides the method identifier.  This method is implemented by class 'NSWindow'\n"
          ]
        },
        {
          "name": "stdout",
          "output_type": "stream",
          "text": [
            "New save directory set: /Users/robertalexander/Dropbox/__Presentations_and_interviews/SWC_Magic_Spaceship/Solar_Perihelion_Audio\n"
          ]
        },
        {
          "data": {
            "application/vnd.jupyter.widget-view+json": {
              "model_id": "0607d89f6b7548d5b158592c1ee77c60",
              "version_major": 2,
              "version_minor": 0
            },
            "text/plain": [
              "Button(button_style='info', description='Open Save Directory', style=ButtonStyle(), tooltip='Click to open the…"
            ]
          },
          "metadata": {},
          "output_type": "display_data"
        },
        {
          "name": "stdout",
          "output_type": "stream",
          "text": [
            "\n"
          ]
        }
      ],
      "source": [
        "# Configure save directory for audio files\n",
        "SET_NEW_SAVE_DIRECTORY = True  # Set to True to choose a new save directory\n",
        "audifier.select_save_dir(force_new=SET_NEW_SAVE_DIRECTORY)\n",
        "print()\n"
      ]
    },
    {
      "cell_type": "code",
      "execution_count": 3,
      "metadata": {},
      "outputs": [
        {
          "name": "stdout",
          "output_type": "stream",
          "text": [
            "['2021/04/28 07:45:00.000', '2021/04/28 08:20:00.000']\n",
            "🔊 Audifier configured:\n",
            "   Markers per hour: 12\n",
            "   Sample rate: 22000 Hz\n",
            "   Channels: 1\n",
            "   Markers only: False\n",
            "Starting audification process...\n",
            "Creating encounter directory: /Users/robertalexander/Dropbox/__Presentations_and_interviews/SWC_Magic_Spaceship/Solar_Perihelion_Audio/E8\n",
            "Output directory: /Users/robertalexander/Dropbox/__Presentations_and_interviews/SWC_Magic_Spaceship/Solar_Perihelion_Audio/E8/E8_2021_04_28_0745_to_0820\n",
            "Generating markers for time range: 2021/04/28 07:45:00.000 to 2021/04/28 08:20:00.000\n",
            "Number of time points: 615232\n",
            "Data time range: 2021-04-28 07:45:00.002662400 to 2021-04-28 08:19:59.999324288\n",
            "Total markers generated: 7\n",
            "Marker file created: /Users/robertalexander/Dropbox/__Presentations_and_interviews/SWC_Magic_Spaceship/Solar_Perihelion_Audio/E8/E8_2021_04_28_0745_to_0820/E8_PSP_FIELDS_MARKER_SET_2021-04-28_0745_to_0820_12_per_hour.txt\n",
            "Saved mono audio file: /Users/robertalexander/Dropbox/__Presentations_and_interviews/SWC_Magic_Spaceship/Solar_Perihelion_Audio/E8/E8_2021_04_28_0745_to_0820/E8_PSP_MAG_RTN_2021-04-28_0745_to_0820_22000SR_Br.wav\n",
            "Saved mono audio file: /Users/robertalexander/Dropbox/__Presentations_and_interviews/SWC_Magic_Spaceship/Solar_Perihelion_Audio/E8/E8_2021_04_28_0745_to_0820/E8_PSP_MAG_RTN_2021-04-28_0745_to_0820_22000SR_Bt.wav\n",
            "Saved mono audio file: /Users/robertalexander/Dropbox/__Presentations_and_interviews/SWC_Magic_Spaceship/Solar_Perihelion_Audio/E8/E8_2021_04_28_0745_to_0820/E8_PSP_MAG_RTN_2021-04-28_0745_to_0820_22000SR_Bn.wav\n",
            "Saved mono audio file: /Users/robertalexander/Dropbox/__Presentations_and_interviews/SWC_Magic_Spaceship/Solar_Perihelion_Audio/E8/E8_2021_04_28_0745_to_0820/E8_PSP_MAG_RTN_2021-04-28_0745_to_0820_22000SR_Bmag.wav\n"
          ]
        },
        {
          "data": {
            "application/vnd.jupyter.widget-view+json": {
              "model_id": "d996c7b2c02842e8bd9b51b263bf8d0a",
              "version_major": 2,
              "version_minor": 0
            },
            "text/plain": [
              "Button(description='Show Directory', style=ButtonStyle())"
            ]
          },
          "metadata": {},
          "output_type": "display_data"
        },
        {
          "data": {
            "application/vnd.jupyter.widget-view+json": {
              "model_id": "62da0bd2747242b8b0f59a619dab1b0d",
              "version_major": 2,
              "version_minor": 0
            },
            "text/plain": [
              "Button(description='Open markers', style=ButtonStyle())"
            ]
          },
          "metadata": {},
          "output_type": "display_data"
        },
        {
          "data": {
            "application/vnd.jupyter.widget-view+json": {
              "model_id": "527189358a8c4ad099c2e5cca4a25c25",
              "version_major": 2,
              "version_minor": 0
            },
            "text/plain": [
              "Button(description='Open br', style=ButtonStyle())"
            ]
          },
          "metadata": {},
          "output_type": "display_data"
        },
        {
          "data": {
            "application/vnd.jupyter.widget-view+json": {
              "model_id": "be5eb95570014a2a972c53facdbd5443",
              "version_major": 2,
              "version_minor": 0
            },
            "text/plain": [
              "Button(description='Open bt', style=ButtonStyle())"
            ]
          },
          "metadata": {},
          "output_type": "display_data"
        },
        {
          "data": {
            "application/vnd.jupyter.widget-view+json": {
              "model_id": "47c3ce22fbac49ab988a5137b832bdca",
              "version_major": 2,
              "version_minor": 0
            },
            "text/plain": [
              "Button(description='Open bn', style=ButtonStyle())"
            ]
          },
          "metadata": {},
          "output_type": "display_data"
        },
        {
          "data": {
            "application/vnd.jupyter.widget-view+json": {
              "model_id": "ca8cf21fbdd34bea9207f72fb937b0fc",
              "version_major": 2,
              "version_minor": 0
            },
            "text/plain": [
              "Button(description='Open bmag', style=ButtonStyle())"
            ]
          },
          "metadata": {},
          "output_type": "display_data"
        },
        {
          "data": {
            "text/plain": [
              "{'markers': '/Users/robertalexander/Dropbox/__Presentations_and_interviews/SWC_Magic_Spaceship/Solar_Perihelion_Audio/E8/E8_2021_04_28_0745_to_0820/E8_PSP_FIELDS_MARKER_SET_2021-04-28_0745_to_0820_12_per_hour.txt',\n",
              " 'br': '/Users/robertalexander/Dropbox/__Presentations_and_interviews/SWC_Magic_Spaceship/Solar_Perihelion_Audio/E8/E8_2021_04_28_0745_to_0820/E8_PSP_MAG_RTN_2021-04-28_0745_to_0820_22000SR_Br.wav',\n",
              " 'bt': '/Users/robertalexander/Dropbox/__Presentations_and_interviews/SWC_Magic_Spaceship/Solar_Perihelion_Audio/E8/E8_2021_04_28_0745_to_0820/E8_PSP_MAG_RTN_2021-04-28_0745_to_0820_22000SR_Bt.wav',\n",
              " 'bn': '/Users/robertalexander/Dropbox/__Presentations_and_interviews/SWC_Magic_Spaceship/Solar_Perihelion_Audio/E8/E8_2021_04_28_0745_to_0820/E8_PSP_MAG_RTN_2021-04-28_0745_to_0820_22000SR_Bn.wav',\n",
              " 'bmag': '/Users/robertalexander/Dropbox/__Presentations_and_interviews/SWC_Magic_Spaceship/Solar_Perihelion_Audio/E8/E8_2021_04_28_0745_to_0820/E8_PSP_MAG_RTN_2021-04-28_0745_to_0820_22000SR_Bmag.wav'}"
            ]
          },
          "execution_count": 3,
          "metadata": {},
          "output_type": "execute_result"
        }
      ],
      "source": [
        "# Optionally change markers per hour from default 120\n",
        "audifier.markers_per_hour = 12  # 1 marker every 10 seconds = 360 markers per hour,\n",
        "audifier.markers_only = False  # Default setting\n",
        "audifier.quantize_markers = True  # hourly\n",
        "audifier.sample_rate = 22000 # Or try 16000 to slow down playback\n",
        "\n",
        "audifier.channels = 1\n",
        "\n",
        "# trange = ['2024-09-27/05:15.000', '2024-10-03/05:15.000']  # Enc 21\n",
        "\n",
        "# trange = ['2025-03-23/17:30:00.000', '2025-03-23/18:30:00.000']  # Enc 23 Flapping Proof?\n",
        "# trange = ['2025-03-23 17:56:00.000', '2025-03-23 18:06:00.000']  # Enc 23 Flapping Proof Zoom\n",
        "# trange = ['2021/04/29 07:45:00.000', '2021/04/29 08:20:00.000'] # Jaye's E8 Region\n",
        "trange = ['2021/04/28 07:45:00.000', '2021/04/28 08:20:00.000'] # Jaye's E8 Region\n",
        "\n",
        "\n",
        "print(trange)\n",
        "print(f\"🔊 Audifier configured:\")\n",
        "print(f\"   Markers per hour: {audifier.markers_per_hour}\")\n",
        "print(f\"   Sample rate: {audifier.sample_rate} Hz\")\n",
        "print(f\"   Channels: {audifier.channels}\")\n",
        "print(f\"   Markers only: {audifier.markers_only}\")\n",
        "\n",
        "\n",
        "# Create audio files and markers from any components\n",
        "# audifier.audify(trange, mag_rtn_4sa.br, mag_rtn_4sa.bt, mag_rtn_4sa.bn, mag_rtn_4sa.bmag)\n",
        "# plotbot(trange, mag_rtn.br, 1, mag_rtn.bt, 2, mag_rtn.bn, 3, mag_rtn.bmag, 4)\n",
        "audifier.audify(trange, mag_rtn.br, mag_rtn.bt, mag_rtn.bn, mag_rtn.bmag)\n"
      ]
    }
  ],
  "metadata": {
    "kernelspec": {
      "display_name": "plotbot_env",
      "language": "python",
      "name": "python3"
    },
    "language_info": {
      "codemirror_mode": {
        "name": "ipython",
        "version": 3
      },
      "file_extension": ".py",
      "mimetype": "text/x-python",
      "name": "python",
      "nbconvert_exporter": "python",
      "pygments_lexer": "ipython3",
      "version": "3.12.4"
    }
  },
  "nbformat": 4,
  "nbformat_minor": 2
}
