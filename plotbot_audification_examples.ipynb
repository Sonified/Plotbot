{
  "cells": [
    {
      "cell_type": "markdown",
      "metadata": {
        "vscode": {
          "languageId": "raw"
        }
      },
      "source": [
        "# Plotbot Audification Examples 🔊🌞\n",
        "\n",
        "## Parker Solar Probe Encounter 24 - Perihelion Audification\n",
        "\n",
        "**Encounter 24**: June 19, 2025 at 09:09 UTC  \n",
        "**Distance**: ~3.8 million miles from Sun's surface (~0.046 AU, 9.9 solar radii)  \n",
        "**Time Range**: June 16-22, 2025 (±3 days from perihelion)\n",
        "\n",
        "This notebook demonstrates how to create audio representations of Parker Solar Probe magnetic field data during its closest approach to the Sun. The audification process converts time series data into audio, allowing us to \"hear\" the solar wind and magnetic field variations.\n",
        "\n",
        "### Data Availability Note 📊\n",
        "- **Encounter 24 data**: May still be processing (typical latency: few months to 1 year)\n",
        "- **Internal servers**: May have preliminary data sooner than public release\n",
        "- **Fallback**: Will attempt Encounter 23 (March 22, 2025) if E24 data unavailable\n"
      ]
    },
    {
      "cell_type": "code",
      "execution_count": null,
      "metadata": {},
      "outputs": [
        {
          "name": "stdout",
          "output_type": "stream",
          "text": [
            "initialized server_access\n",
            "initialized global_tracker\n",
            "initialized ploptions\n",
            "initialized plot_manager\n",
            "initialized epad class\n",
            "initialized epad_hr class\n",
            "initialized proton class\n",
            "initialized proton_hr class\n",
            "initialized ham_class\n",
            "initialized psp_alpha class\n",
            "initialized psp_qtn class\n",
            "initialized data_cubby.\n",
            "initialized proton_fits class\n",
            "initialized alpha_fits class\n",
            "🔉 initialized audifier\n",
            "\n",
            "Importing libraries, this may take a moment. Hold tight... \n",
            "\n",
            "✅ Imported standard libraries and utilities.\n",
            "✅ Imported numpy, pandas, and scipy libraries.\n",
            "✅ Imported matplotlib libraries.\n",
            "✅ Imported cdflib, BeautifulSoup, requests, dateutil, and datetime libraries.\n",
            "\n",
            "🤖 Plotbot Initialized\n",
            "✨ Showdahodo initialized\n",
            "Positional Data Helper Initialized\n",
            "📈📉 Multiplot Initialized\n",
            "\n",
            "🤖 Plotbot Initialized\n",
            "📈📉 Multiplot Initialized\n",
            "   Version: 2025_07_07_v2.82\n",
            "   Commit: v2.82 DOCS: Update electric field example notebook (plotbot_dfb_electric_field_examples.ipynb)\n",
            "\n"
          ]
        }
      ],
      "source": [
        "# Import plotbot and initialize\n",
        "from plotbot import *\n",
        "import numpy as np\n",
        "from datetime import datetime, timedelta\n"
      ]
    },
    {
      "cell_type": "markdown",
      "metadata": {
        "vscode": {
          "languageId": "raw"
        }
      },
      "source": [
        "## 🔧 Audifier Setup and Configuration\n",
        "\n",
        "First, we'll configure the audifier with optimal settings for perihelion data analysis.\n"
      ]
    },
    {
      "cell_type": "code",
      "execution_count": null,
      "metadata": {},
      "outputs": [
        {
          "name": "stdout",
          "output_type": "stream",
          "text": [
            "Prompting for new save directory (force_new=True). Current: '/Users/robertalexander/Dropbox/__Collaborations/_NASA/__HCS_Crossing_Catalogue/HCS_Crossings/E23'\n"
          ]
        },
        {
          "name": "stderr",
          "output_type": "stream",
          "text": [
            "2025-07-08 14:30:00.029 python[78801:18830706] The class 'NSOpenPanel' overrides the method identifier.  This method is implemented by class 'NSWindow'\n"
          ]
        },
        {
          "name": "stdout",
          "output_type": "stream",
          "text": [
            "New save directory set: /Users/robertalexander/Dropbox/__Presentations_and_interviews/SWC_Magic_Spaceship/Solar_Perihelion_Audio\n"
          ]
        },
        {
          "data": {
            "application/vnd.jupyter.widget-view+json": {
              "model_id": "f4cbd2d0a5c347f5bafe54a394f88d1f",
              "version_major": 2,
              "version_minor": 0
            },
            "text/plain": [
              "Button(button_style='info', description='Open Save Directory', style=ButtonStyle(), tooltip='Click to open the…"
            ]
          },
          "metadata": {},
          "output_type": "display_data"
        },
        {
          "name": "stdout",
          "output_type": "stream",
          "text": [
            "\n"
          ]
        }
      ],
      "source": [
        "# Configure save directory for audio files\n",
        "SET_NEW_SAVE_DIRECTORY = False  # Set to True to choose a new save directory\n",
        "audifier.select_save_dir(force_new=SET_NEW_SAVE_DIRECTORY)\n",
        "print()\n"
      ]
    },
    {
      "cell_type": "code",
      "execution_count": 5,
      "metadata": {},
      "outputs": [
        {
          "name": "stdout",
          "output_type": "stream",
          "text": [
            "🔊 Audifier configured:\n",
            "   Markers per hour: 6\n",
            "   Sample rate: 22000 Hz\n",
            "   Channels: 1\n",
            "   Markers only: False\n"
          ]
        }
      ],
      "source": [
        "# Audifier configuration for perihelion data\n",
        "audifier.markers_per_hour = 6  # Default: 1 marker every 30 seconds\n",
        "audifier.markers_only = False   # Generate full audio, not just markers\n",
        "audifier.quantize_markers = True  # Align markers to hourly boundaries\n",
        "audifier.sample_rate = 22000     # Audio sample rate (Hz)\n",
        "audifier.channels = 1            # Mono audio\n",
        "\n",
        "print(f\"🔊 Audifier configured:\")\n",
        "print(f\"   Markers per hour: {audifier.markers_per_hour}\")\n",
        "print(f\"   Sample rate: {audifier.sample_rate} Hz\")\n",
        "print(f\"   Channels: {audifier.channels}\")\n",
        "print(f\"   Markers only: {audifier.markers_only}\")\n"
      ]
    },
    {
      "cell_type": "markdown",
      "metadata": {
        "vscode": {
          "languageId": "raw"
        }
      },
      "source": [
        "## 🎯 Encounter 24 Time Ranges\n",
        "\n",
        "Define multiple time ranges around the perihelion for different audification perspectives.\n"
      ]
    },
    {
      "cell_type": "code",
      "execution_count": 6,
      "metadata": {},
      "outputs": [
        {
          "name": "stdout",
          "output_type": "stream",
          "text": [
            "🎯 Encounter 24 Time Ranges:\n",
            "   full_week      : 2025-06-16 00:00:00.000 to 2025-06-22 23:59:59.000\n",
            "   perihelion_day : 2025-06-19 00:00:00.000 to 2025-06-19 23:59:59.000\n",
            "   perihelion_6h  : 2025-06-19 06:09:00.000 to 2025-06-19 12:09:00.000\n",
            "   perihelion_2h  : 2025-06-19 08:09:00.000 to 2025-06-19 10:09:00.000\n",
            "   perihelion_30m : 2025-06-19 08:54:00.000 to 2025-06-19 09:24:00.000\n"
          ]
        }
      ],
      "source": [
        "# Encounter 24 perihelion: June 19, 2025 at 09:09 UTC\n",
        "perihelion_time = '2025-06-19 09:09:00.000'\n",
        "\n",
        "# Define multiple time ranges for audification\n",
        "time_ranges = {\n",
        "    'full_week': ['2025-06-16 00:00:00.000', '2025-06-22 23:59:59.000'],  # ±3 days full range\n",
        "    'perihelion_day': ['2025-06-19 00:00:00.000', '2025-06-19 23:59:59.000'],  # Full perihelion day\n",
        "    'perihelion_6h': ['2025-06-19 06:09:00.000', '2025-06-19 12:09:00.000'],   # ±3 hours around perihelion\n",
        "    'perihelion_2h': ['2025-06-19 08:09:00.000', '2025-06-19 10:09:00.000'],   # ±1 hour around perihelion\n",
        "    'perihelion_30m': ['2025-06-19 08:54:00.000', '2025-06-19 09:24:00.000'],  # ±15 minutes around perihelion\n",
        "}\n",
        "\n",
        "print(\"🎯 Encounter 24 Time Ranges:\")\n",
        "for name, trange in time_ranges.items():\n",
        "    print(f\"   {name:15s}: {trange[0]} to {trange[1]}\")\n"
      ]
    },
    {
      "cell_type": "markdown",
      "metadata": {
        "vscode": {
          "languageId": "raw"
        }
      },
      "source": [
        "## 🧲 Magnetic Field Data Loading\n",
        "\n",
        "Load magnetic field data for the perihelion period. We'll try high-resolution RTN coordinates first.\n"
      ]
    },
    {
      "cell_type": "code",
      "execution_count": 11,
      "metadata": {},
      "outputs": [
        {
          "name": "stdout",
          "output_type": "stream",
          "text": [
            "🔍 Attempting to load Encounter 24 magnetic field data...\n",
            "   Time range: 2025-06-16 00:00:00.000 to 2025-06-22 23:59:59.000\n",
            "🤖 Plotbot starting...\n",
            "🛰️ mag_RTN - acquiring variables: br\n",
            " \n",
            "📥 Acquiring data for 1 regular variables...\n",
            "🛰️ mag_RTN - acquiring variables: br\n",
            "Attempting Berkeley acquisition path for mag_RTN...\n",
            "Downloading https://sprg.ssl.berkeley.edu/data/psp/data/sci/fields/l2/mag_RTN/2025/06/psp_fld_l2_mag_RTN_2025061600_v00.cdf\n",
            "File data/psp/fields/l2/mag_rtn/2025/psp_fld_l2_mag_RTN_2025061600_v00.cdf downloaded successfully.\n",
            "Downloading https://sprg.ssl.berkeley.edu/data/psp/data/sci/fields/l2/mag_RTN/2025/06/psp_fld_l2_mag_RTN_2025061606_v00.cdf\n",
            "File data/psp/fields/l2/mag_rtn/2025/psp_fld_l2_mag_RTN_2025061606_v00.cdf downloaded successfully.\n",
            "Downloading https://sprg.ssl.berkeley.edu/data/psp/data/sci/fields/l2/mag_RTN/2025/06/psp_fld_l2_mag_RTN_2025061612_v00.cdf\n",
            "File data/psp/fields/l2/mag_rtn/2025/psp_fld_l2_mag_RTN_2025061612_v00.cdf downloaded successfully.\n",
            "Downloading https://sprg.ssl.berkeley.edu/data/psp/data/sci/fields/l2/mag_RTN/2025/06/psp_fld_l2_mag_RTN_2025061618_v00.cdf\n",
            "File data/psp/fields/l2/mag_rtn/2025/psp_fld_l2_mag_RTN_2025061618_v00.cdf downloaded successfully.\n",
            "Downloading https://sprg.ssl.berkeley.edu/data/psp/data/sci/fields/l2/mag_RTN/2025/06/psp_fld_l2_mag_RTN_2025061700_v00.cdf\n",
            "File data/psp/fields/l2/mag_rtn/2025/psp_fld_l2_mag_RTN_2025061700_v00.cdf downloaded successfully.\n",
            "Downloading https://sprg.ssl.berkeley.edu/data/psp/data/sci/fields/l2/mag_RTN/2025/06/psp_fld_l2_mag_RTN_2025061706_v00.cdf\n",
            "File data/psp/fields/l2/mag_rtn/2025/psp_fld_l2_mag_RTN_2025061706_v00.cdf downloaded successfully.\n",
            "Downloading https://sprg.ssl.berkeley.edu/data/psp/data/sci/fields/l2/mag_RTN/2025/06/psp_fld_l2_mag_RTN_2025061712_v00.cdf\n",
            "File data/psp/fields/l2/mag_rtn/2025/psp_fld_l2_mag_RTN_2025061712_v00.cdf downloaded successfully.\n",
            "Downloading https://sprg.ssl.berkeley.edu/data/psp/data/sci/fields/l2/mag_RTN/2025/06/psp_fld_l2_mag_RTN_2025061718_v00.cdf\n",
            "File data/psp/fields/l2/mag_rtn/2025/psp_fld_l2_mag_RTN_2025061718_v00.cdf downloaded successfully.\n",
            "No files found for date 20250618 hour 00\n",
            "No files found for date 20250618 hour 06\n",
            "No files found for date 20250618 hour 12\n",
            "No files found for date 20250618 hour 18\n",
            "No files found for date 20250619 hour 00\n",
            "No files found for date 20250619 hour 06\n",
            "No files found for date 20250619 hour 12\n",
            "No files found for date 20250619 hour 18\n",
            "No files found for date 20250620 hour 00\n",
            "No files found for date 20250620 hour 06\n",
            "No files found for date 20250620 hour 12\n",
            "No files found for date 20250620 hour 18\n",
            "No files found for date 20250621 hour 00\n",
            "No files found for date 20250621 hour 06\n",
            "No files found for date 20250621 hour 12\n",
            "No files found for date 20250621 hour 18\n",
            "No files found for date 20250622 hour 00\n",
            "No files found for date 20250622 hour 06\n",
            "No files found for date 20250622 hour 12\n",
            "No files found for date 20250622 hour 18\n",
            "☑️ - CDF Data import complete for mag_RTN range ['2025-06-16 00:00:00', '2025-06-22 23:59:59'].\n",
            "\n",
            "📥 Requesting DataCubby to update/merge global instance for mag_rtn...\n",
            "✅ DataCubby processed update for mag_rtn.\n",
            "✅ Complete\n",
            "📈 Plotting mag_rtn.br\n"
          ]
        },
        {
          "data": {
            "image/png": "[encoded data removed]",
            "text/plain": [
              "<Figure size 1200x200 with 1 Axes>"
            ]
          },
          "metadata": {},
          "output_type": "display_data"
        },
        {
          "name": "stdout",
          "output_type": "stream",
          "text": [
            "✅ Successfully loaded mag_rtn (high-res RTN)\n"
          ]
        }
      ],
      "source": [
        "# Try to load Encounter 24 data - high resolution magnetic field in RTN coordinates\n",
        "\n",
        "print_manager.show_status = True\n",
        "# print_manager.show_status = True\n",
        "\n",
        "\n",
        "trange_full = time_ranges['full_week']\n",
        "print(f\"🔍 Attempting to load Encounter 24 magnetic field data...\")\n",
        "print(f\"   Time range: {trange_full[0]} to {trange_full[1]}\")\n",
        "\n",
        "config.data_server = \"berkeley\"\n",
        "\n",
        "# Attempt high-resolution RTN magnetic field data\n",
        "plotbot(trange_full, mag_rtn.br, 1)\n",
        "mag_data_available = True\n",
        "mag_source = \"mag_rtn (high-res RTN)\"\n",
        "print(f\"✅ Successfully loaded {mag_source}\")\n",
        "# except Exception as e:\n",
        "#     print(f\"❌ mag_rtn_4sa failed: {e}\")\n",
        "#     try:\n",
        "#         # Fallback to standard resolution RTN\n",
        "#         plotbot(trange_full, mag_rtn.br, 1)\n",
        "#         mag_data_available = True\n",
        "#         mag_source = \"mag_rtn (standard RTN)\"\n",
        "#         print(f\"✅ Successfully loaded {mag_source}\")\n",
        "#     except Exception as e2:\n",
        "#         print(f\"❌ mag_rtn also failed: {e2}\")\n",
        "#         mag_data_available = False\n",
        "#         mag_source = None\n"
      ]
    },
    {
      "cell_type": "raw",
      "metadata": {
        "vscode": {
          "languageId": "raw"
        }
      },
      "source": [
        "## 🎵 Audification Examples\n",
        "\n",
        "If Encounter 24 data is available, we'll create multiple audifications with different time resolutions to hear various aspects of the solar wind during perihelion.\n",
        "\n",
        "### 1. 🌟 Perihelion Moment - Ultra High Resolution (±15 minutes)\n"
      ]
    },
    {
      "cell_type": "code",
      "execution_count": null,
      "metadata": {},
      "outputs": [],
      "source": [
        "if mag_data_available:\n",
        "    # Ultra-high resolution around perihelion moment\n",
        "    trange = time_ranges['perihelion_30m']\n",
        "    print(f\"🎵 Creating perihelion moment audification...\")\n",
        "    print(f\"   Time range: {trange[0]} to {trange[1]}\")\n",
        "    print(f\"   Duration: 30 minutes centered on perihelion\")\n",
        "    \n",
        "    # Configure for high-time-resolution audio\n",
        "    audifier.markers_per_hour = 240  # More markers for detailed time resolution\n",
        "    \n",
        "    if 'mag_rtn_4sa' in mag_source:\n",
        "        # Use high-resolution data\n",
        "        audifier.audify(trange, mag_rtn_4sa.br, mag_rtn_4sa.bt, mag_rtn_4sa.bn, mag_rtn_4sa.bmag)\n",
        "    else:\n",
        "        # Use standard resolution data\n",
        "        audifier.audify(trange, mag_rtn.br, mag_rtn.bt, mag_rtn.bn, mag_rtn.bmag)\n",
        "    \n",
        "    print(\"✅ Perihelion moment audification complete!\")\n",
        "else:\n",
        "    print(\"❌ Cannot create audification - no magnetic field data available\")\n"
      ]
    },
    {
      "cell_type": "raw",
      "metadata": {
        "vscode": {
          "languageId": "raw"
        }
      },
      "source": [
        "### 2. 🕐 Perihelion Context - Extended View (±3 hours)\n"
      ]
    },
    {
      "cell_type": "code",
      "execution_count": null,
      "metadata": {},
      "outputs": [],
      "source": [
        "if mag_data_available:\n",
        "    # Extended context around perihelion\n",
        "    trange = time_ranges['perihelion_6h']\n",
        "    print(f\"🎵 Creating perihelion context audification...\")\n",
        "    print(f\"   Time range: {trange[0]} to {trange[1]}\")\n",
        "    print(f\"   Duration: 6 hours centered on perihelion\")\n",
        "    \n",
        "    # Standard marker resolution for longer duration\n",
        "    audifier.markers_per_hour = 120  # Standard resolution\n",
        "    \n",
        "    if 'mag_rtn_4sa' in mag_source:\n",
        "        audifier.audify(trange, mag_rtn_4sa.br, mag_rtn_4sa.bt, mag_rtn_4sa.bn, mag_rtn_4sa.bmag)\n",
        "    else:\n",
        "        audifier.audify(trange, mag_rtn.br, mag_rtn.bt, mag_rtn.bn, mag_rtn.bmag)\n",
        "    \n",
        "    print(\"✅ Perihelion context audification complete!\")\n",
        "else:\n",
        "    print(\"❌ Cannot create audification - no magnetic field data available\")\n"
      ]
    },
    {
      "cell_type": "raw",
      "metadata": {
        "vscode": {
          "languageId": "raw"
        }
      },
      "source": [
        "## 🔄 Fallback: Encounter 23 Audification\n",
        "\n",
        "If Encounter 24 data is not yet available, we'll create audifications using Encounter 23 data (March 22, 2025) as a demonstration.\n"
      ]
    },
    {
      "cell_type": "code",
      "execution_count": null,
      "metadata": {},
      "outputs": [],
      "source": [
        "if not mag_data_available:\n",
        "    print(\"🔄 Attempting fallback to Encounter 23 (March 22, 2025)...\")\n",
        "    \n",
        "    # Encounter 23 time ranges  \n",
        "    e23_ranges = {\n",
        "        'perihelion_moment': ['2025-03-22 17:30:00.000', '2025-03-22 18:30:00.000'],\n",
        "        'perihelion_day': ['2025-03-22 00:00:00.000', '2025-03-22 23:59:59.000'],\n",
        "    }\n",
        "    \n",
        "    try:\n",
        "        # Try Encounter 23 data\n",
        "        trange_e23 = e23_ranges['perihelion_moment']\n",
        "        print(f\"🔍 Loading Encounter 23 data: {trange_e23[0]} to {trange_e23[1]}\")\n",
        "        \n",
        "        plotbot(trange_e23, mag_rtn_4sa.br)\n",
        "        \n",
        "        print(\"✅ Encounter 23 data loaded successfully!\")\n",
        "        print(\"🎵 Creating Encounter 23 perihelion audification...\")\n",
        "        \n",
        "        # Configure audifier for E23\n",
        "        audifier.markers_per_hour = 120\n",
        "        audifier.audify(trange_e23, mag_rtn_4sa.br, mag_rtn_4sa.bt, mag_rtn_4sa.bn, mag_rtn_4sa.bmag)\n",
        "        \n",
        "        print(\"✅ Encounter 23 audification complete!\")\n",
        "        \n",
        "    except Exception as e:\n",
        "        print(f\"❌ Encounter 23 also failed: {e}\")\n",
        "        print(\"💡 Suggestion: Check data availability or try earlier encounters\")\n",
        "else:\n",
        "    print(\"✅ Encounter 24 data was available - no fallback needed\")\n"
      ]
    },
    {
      "cell_type": "raw",
      "metadata": {
        "vscode": {
          "languageId": "raw"
        }
      },
      "source": [
        "## 🎧 Listening Guide\n",
        "\n",
        "### What to Listen For:\n",
        "\n",
        "**🧲 Magnetic Field Components:**\n",
        "- **Br (Radial)**: Changes as PSP moves closer/farther from Sun\n",
        "- **Bt (Tangential)**: Parker spiral field variations\n",
        "- **Bn (Normal)**: Out-of-ecliptic field fluctuations\n",
        "- **Bmag (Total)**: Overall magnetic field strength\n",
        "\n",
        "**🌊 Solar Wind Features:**\n",
        "- **High-frequency variations**: Turbulence and waves\n",
        "- **Low-frequency trends**: Large-scale solar wind structures\n",
        "- **Sudden changes**: Potential magnetic reconnection events\n",
        "- **Periodic patterns**: Spacecraft rotation or orbital effects\n",
        "\n",
        "**🌞 Perihelion Characteristics:**\n",
        "- **Increased field strength**: Closer to Sun = stronger magnetic field\n",
        "- **Enhanced turbulence**: More active plasma environment\n",
        "- **Rapid variations**: Higher time resolution reveals fine structure\n",
        "\n",
        "### Audio File Locations:\n",
        "Check the audifier save directory for generated WAV files with timestamps corresponding to each time range.\n"
      ]
    },
    {
      "cell_type": "raw",
      "metadata": {
        "vscode": {
          "languageId": "raw"
        }
      },
      "source": [
        "## 📊 Summary\n",
        "\n",
        "This notebook provides a comprehensive framework for audifying Parker Solar Probe perihelion data. The multi-scale approach allows listening to both fine-scale turbulence and large-scale solar wind evolution during the spacecraft's closest approaches to the Sun.\n",
        "\n",
        "**Key Features:**\n",
        "- ✅ Multiple time scales (15 minutes to full week)\n",
        "- ✅ Automatic fallback to available encounters\n",
        "- ✅ Configurable audifier settings\n",
        "- ✅ Scientific listening guide\n",
        "- ✅ Ready for both Encounter 24 and historical data\n",
        "\n",
        "**Next Steps:**\n",
        "- 🔊 Listen to generated audio files\n",
        "- 📈 Compare audifications across different encounters\n",
        "- 🔬 Correlate audio features with scientific phenomena\n",
        "- 🎛️ Experiment with advanced audifier configurations\n",
        "\n",
        "**Advanced Configuration Examples:**\n",
        "```python\n",
        "# High-frequency focus (faster playback)\n",
        "audifier.sample_rate = 16000  # Slower playback to hear high-frequency details\n",
        "audifier.markers_per_hour = 360  # More time markers\n",
        "\n",
        "# Low-frequency focus (longer trends)\n",
        "audifier.sample_rate = 44100  # Higher quality for trend analysis\n",
        "audifier.markers_per_hour = 30   # Fewer markers for longer-term patterns\n",
        "\n",
        "# Markers only (timing reference)\n",
        "audifier.markers_only = True  # Generate only time markers, no data audio\n",
        "```\n"
      ]
    }
  ],
  "metadata": {
    "kernelspec": {
      "display_name": "plotbot_env",
      "language": "python",
      "name": "python3"
    },
    "language_info": {
      "codemirror_mode": {
        "name": "ipython",
        "version": 3
      },
      "file_extension": ".py",
      "mimetype": "text/x-python",
      "name": "python",
      "nbconvert_exporter": "python",
      "pygments_lexer": "ipython3",
      "version": "3.12.4"
    }
  },
  "nbformat": 4,
  "nbformat_minor": 2
}
