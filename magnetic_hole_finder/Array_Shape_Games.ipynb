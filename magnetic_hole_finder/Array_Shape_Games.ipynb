{
 "cells": [
  {
   "cell_type": "markdown",
   "metadata": {},
   "source": [
    "## The Matrix Dimension Game"
   ]
  },
  {
   "cell_type": "code",
   "execution_count": null,
   "metadata": {},
   "outputs": [],
   "source": [
    "# Install ipywidgets, if you haven't already\n",
    "#!pip install ipywidgets\n",
    "#Optional: Install JupyterLab widget extension if widgets are not displaying correctly"
   ]
  },
  {
   "cell_type": "code",
   "execution_count": null,
   "metadata": {},
   "outputs": [],
   "source": [
    "#Optional: Install JupyterLab widget extension if widgets are not displaying correctly\n",
    "#This step may not be necessary, but if the code below is not working you can try it!\n",
    "#!jupyter labextension install @jupyter-widgets/jupyterlab-manager"
   ]
  },
  {
   "cell_type": "code",
   "execution_count": 3,
   "metadata": {},
   "outputs": [],
   "source": [
    "#Imports\n",
    "import ipywidgets as widgets\n",
    "from IPython.display import display, clear_output\n",
    "import random\n",
    "import time"
   ]
  },
  {
   "cell_type": "code",
   "execution_count": 5,
   "metadata": {},
   "outputs": [
    {
     "name": "stdout",
     "output_type": "stream",
     "text": [
      "✅ Fantastic job! 🎉\n",
      "\n",
      "Congratulations! 🎉 You've completed all 10 levels in a row!\n",
      "You've mastered 2D matrix dimensions. Feel free to move on to the next game or challenge yourself again!\n"
     ]
    }
   ],
   "source": [
    "#Run level 1!\n",
    "\n",
    "# Configuration variables\n",
    "MAX_DIMENSION_SIZE = 5  # Maximum size for each dimension\n",
    "LEVELS_TO_WIN = 10  # Number of correct answers needed to win the game\n",
    "CORRECT_WAIT_TIME = 2  # Number of seconds to wait between challenges after a correct answer\n",
    "INCORRECT_WAIT_TIME = 10  # Number of seconds to wait between challenges after an incorrect answer\n",
    "\n",
    "# Feedback messages\n",
    "CORRECT_RESPONSES = [\n",
    "    \"✅ Correct! Nice work 👍\",\n",
    "    \"✅ Yesss! You're amazing 🤩\",\n",
    "    \"✅ Spot on! Keep it up 🌟\",\n",
    "    \"✅ Fantastic job! 🎉\",\n",
    "    \"✅ You've got this! Great work 💪\",\n",
    "    \"✅ Brilliant! You're on fire 🔥\",\n",
    "    \"✅ Absolutely right! Well done\",\n",
    "    \"✅ Perfect! You're a natural 🏆\",\n",
    "    \"✅ Correct! You're crushing it 💯\",\n",
    "    \"✅ Excellent work! Keep shining ✨\"\n",
    "]\n",
    "\n",
    "INCORRECT_RESPONSES = [\n",
    "    \"❌ Incorrect, but keep at it!\",\n",
    "    \"❌ Wrong, but you're making progress!\",\n",
    "    \"❌ Keep trying, you're learning!\",\n",
    "    \"❌ Nope. But don't give up!\",\n",
    "    \"❌ Not this time, but you're getting there!\",\n",
    "    \"❌ Oops! Remember, mistakes help us learn 📚\",\n",
    "    \"❌ Not correct, but stay positive!\",\n",
    "    \"❌ Wrong answer, but keep pushing 🚀\",\n",
    "    \"❌ Incorrect, but every attempt makes you stronger 💪\",\n",
    "    \"❌ Not right, but your persistence will pay off!\"\n",
    "]\n",
    "\n",
    "def generate_shape():\n",
    "    shape = [random.randint(1, MAX_DIMENSION_SIZE), random.randint(1, MAX_DIMENSION_SIZE)]\n",
    "    if shape[0] == shape[1]:\n",
    "        shape[1] = (shape[1] % MAX_DIMENSION_SIZE) + 1\n",
    "    return tuple(shape)\n",
    "\n",
    "def generate_options(correct_shape):\n",
    "    transposed_shape = (correct_shape[1], correct_shape[0])\n",
    "    options = [correct_shape, transposed_shape]\n",
    "    \n",
    "    while len(options) < 4:\n",
    "        new_option = generate_shape()\n",
    "        if new_option not in options and new_option != correct_shape:\n",
    "            options.append(new_option)\n",
    "    \n",
    "    random.shuffle(options)\n",
    "    return options\n",
    "\n",
    "def render_matrix(shape):\n",
    "    rows, cols = shape\n",
    "    matrix = []\n",
    "    for _ in range(rows):\n",
    "        row = ['T' for _ in range(cols)]\n",
    "        matrix.append(', '.join(row))\n",
    "    return '\\n'.join(matrix)\n",
    "\n",
    "def create_option_button(option, correct_shape, index, current_level):\n",
    "    button = widgets.Button(description=f\"Option {index + 1}\")\n",
    "    button.style.button_color = 'lightblue'\n",
    "    \n",
    "    def on_button_click(b):\n",
    "        clear_output(wait=True)\n",
    "        if option == correct_shape:\n",
    "            print(random.choice(CORRECT_RESPONSES))\n",
    "            next_level = current_level + 1\n",
    "            wait_time = CORRECT_WAIT_TIME\n",
    "        else:\n",
    "            print(random.choice(INCORRECT_RESPONSES))\n",
    "            print(f\"\\nThe correct answer was {correct_shape}.\")\n",
    "            print(f\"That's {correct_shape[0]} rows and {correct_shape[1]} columns.\")\n",
    "            print(\"\\nCorrect matrix representation:\")\n",
    "            print(render_matrix(correct_shape))\n",
    "            print(\"\\nYour choice:\")\n",
    "            print(render_matrix(option))\n",
    "            print(\"\\nLet's start again from question 1. You've got this!\")\n",
    "            next_level = 1  # Reset to level 1 on incorrect answer\n",
    "            wait_time = INCORRECT_WAIT_TIME\n",
    "\n",
    "        if next_level > LEVELS_TO_WIN:\n",
    "            print(f\"\\nCongratulations! 🎉 You've completed all {LEVELS_TO_WIN} levels in a row!\")\n",
    "            print(\"You've mastered 2D matrix dimensions. Feel free to move on to the next game or challenge yourself again!\")\n",
    "        else:\n",
    "            print(f\"\\nStarting {'next' if option == correct_shape else 'new'} challenge in {wait_time} seconds... (Level: {next_level}/{LEVELS_TO_WIN})\")\n",
    "            time.sleep(wait_time)\n",
    "            matrix_dimension_game(next_level)\n",
    "    \n",
    "    button.on_click(on_button_click)\n",
    "    return button\n",
    "\n",
    "def matrix_dimension_game(current_level=1):\n",
    "    clear_output(wait=True)\n",
    "    correct_shape = generate_shape()\n",
    "    options = generate_options(correct_shape)\n",
    "    \n",
    "    print(f\"Question {current_level}/{LEVELS_TO_WIN}:\")\n",
    "    print(f\"Given the shape: {correct_shape}\\n\")\n",
    "    print(\"Select the array that matches this shape:\\n\")\n",
    "    \n",
    "    for i, option in enumerate(options):\n",
    "        print(f\"Option {i+1}:\")\n",
    "        print(render_matrix(option))\n",
    "        print()\n",
    "    \n",
    "    option_buttons = [create_option_button(option, correct_shape, i, current_level) for i, option in enumerate(options)]\n",
    "    display(widgets.HBox(option_buttons))\n",
    "\n",
    "# Start the game\n",
    "matrix_dimension_game()"
   ]
  }
 ],
 "metadata": {
  "kernelspec": {
   "display_name": "base",
   "language": "python",
   "name": "python3"
  },
  "language_info": {
   "codemirror_mode": {
    "name": "ipython",
    "version": 3
   },
   "file_extension": ".py",
   "mimetype": "text/x-python",
   "name": "python",
   "nbconvert_exporter": "python",
   "pygments_lexer": "ipython3",
   "version": "3.12.4"
  }
 },
 "nbformat": 4,
 "nbformat_minor": 2
}
