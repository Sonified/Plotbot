{
 "cells": [
  {
   "attachments": {},
   "cell_type": "markdown",
   "metadata": {},
   "source": [
    "# Parker Solar Probe Data Download Example\n",
    "\n",
    "Tamar Ervin\n",
    "\n",
    "- Downloading [PSP](https://link.springer.com/article/10.1007/s11214-015-0211-6) data with [PySPEDAS](https://pyspedas.readthedocs.io/en/latest/)\n",
    "- Using [pyTplot](https://pytplot.readthedocs.io/en/latest/) to plot the data\n"
   ]
  },
  {
   "cell_type": "code",
   "execution_count": null,
   "metadata": {},
   "outputs": [],
   "source": [
    "\n",
    "import pyspedas\n",
    "from pyspedas import time_string\n",
    "from pytplot import tplot, get_data\n",
    "import astrospice\n",
    "import sunpy \n",
    "import sunpy.coordinates as scoords\n",
    "import sys, os\n",
    "import datetime\n",
    "import pandas as pd\n",
    "import astropy.units as u\n",
    "import matplotlib.pyplot as plt\n",
    "\n",
    "for sc in ['psp','solar orbiter'] : kernels = astrospice.registry.get_kernels(sc,'predict') \n"
   ]
  },
  {
   "attachments": {},
   "cell_type": "markdown",
   "metadata": {},
   "source": [
    "## Download and Plot the Data\n",
    "\n",
    "Example data to download:\n",
    "- [FIELDS](https://link.springer.com/article/10.1007/s11214-016-0244-5): Radial, Tangential, Normal (RTN) magnetic field data\n",
    "- [SWEAP/SPAN-I](https://iopscience.iop.org/article/10.3847/1538-4357/ac93f5) Proton: Radial, Tangential, Normal (RTN) proton velocity and proton density data\n",
    "- [SWEAP/SPAN-I](https://iopscience.iop.org/article/10.3847/1538-4357/ac93f5) Alpha Particle: Radial, Tangential, Normal (RTN) alpha particle velocity and density\n",
    "\n",
    "Data will download to a folder titled 'psp_data' in this same repo!\n",
    "\n",
    "Don't worry if this takes a while to run! The data is at a very high cadence and takes a bit to download depending on the time range\n",
    "\n",
    "## Plot the data using pyTplot\n",
    "\n",
    "[pyTplot](https://pytplot.readthedocs.io/en/latest/) is a Python package that works with PySPEDAS to plot space physics data! It already has all the information needed to plot observables in terms of their units! You can also create your own plots of the data using matplotlib.\n"
   ]
  },
  {
   "cell_type": "code",
   "execution_count": null,
   "metadata": {},
   "outputs": [],
   "source": [
    "### ------- TIME PERIOD OF INTEREST ------- ###\n",
    "# this is an example of data from the heliospheric current sheet (HCS) crossing during PSP Encounter 15\n",
    "time_range = ['2023-03-17/12:00', '2023-03-18/12:00']"
   ]
  },
  {
   "cell_type": "code",
   "execution_count": null,
   "metadata": {},
   "outputs": [],
   "source": [
    "### ------- FIELDS: MAG RTN DATA ------- ###\n",
    "fields_vars = pyspedas.psp.fields(trange=time_range, datatype='mag_RTN_4_Sa_per_Cyc')\n",
    "\n",
    "### print out the variables stored in the magnetic field data\n",
    "print(fields_vars)\n",
    "\n",
    "### get the RTN magnetic field\n",
    "B_RTN = get_data('psp_fld_l2_mag_RTN_4_Sa_per_Cyc')\n",
    "\n",
    "### plot the data!\n",
    "tplot(['psp_fld_l2_mag_RTN_4_Sa_per_Cyc'])\n",
    "\n",
    "### CONVERT TIME FROM JULIAN TIME TO DATETIME OBJECT\n",
    "date_obj = [datetime.datetime.strptime(time_string(d), '%Y-%m-%d %H:%M:%S.%f') for d in B_RTN.times]\n",
    "\n",
    "### CREATE DATAFRAME\n",
    "rd = {'Time': date_obj, 'Br': B_RTN.y[:, 0], 'Bt': B_RTN.y[:, 1], 'Bn': B_RTN.y[:, 2]}\n",
    "fields = pd.DataFrame(data=rd)\n",
    "\n",
    "### SAVE DATAFRAME AS CSV\n",
    "fields.to_csv(os.path.join('results', 'fields.csv')) "
   ]
  },
  {
   "cell_type": "code",
   "execution_count": null,
   "metadata": {},
   "outputs": [],
   "source": [
    "### ------- SPAN-I: PROTON (HYDROGEN) MOMENTS ------- ###\n",
    "### download proton data\n",
    "proton_vars = pyspedas.psp.spi(trange=time_range, datatype='sf00_l3_mom', level='l3')\n",
    "\n",
    "### print out the variables stored in the proton data\n",
    "print(proton_vars)\n",
    "\n",
    "### get the RTN velocity, density, and temperature\n",
    "Np = get_data('psp_spi_DENS')\n",
    "vp_RTN = get_data('psp_spi_VEL_RTN_SUN')\n",
    "Tp = get_data('psp_spi_TEMP')\n",
    "\n",
    "### CONVERT TIME FROM JULIAN TIME TO DATETIME OBJECT\n",
    "date_obj = [datetime.datetime.strptime(time_string(d), '%Y-%m-%d %H:%M:%S.%f') for d in Np.times]\n",
    "\n",
    "### CREATE DATAFRAME\n",
    "rd = {'Time': date_obj, 'vr': vp_RTN.y[:, 0], 'vt': vp_RTN.y[:, 1], 'vn': vp_RTN.y[:, 2], 'Np': Np.y, 'Tp': Tp.y}\n",
    "protons = pd.DataFrame(data=rd)\n",
    "\n",
    "### SAVE DATAFRAME AS CSV\n",
    "protons.to_csv(os.path.join('results', 'protons.csv'))\n",
    "\n",
    "### plot the data!\n",
    "tplot(['psp_spi_DENS', 'psp_spi_VEL_RTN_SUN', 'psp_spi_TEMP'])"
   ]
  },
  {
   "cell_type": "code",
   "execution_count": null,
   "metadata": {},
   "outputs": [],
   "source": [
    "### ------- SPAN-I: ALPHA PARTICLE (HELIUM) MOMENTS ------- ###\n",
    "### download alpha particle data\n",
    "alpha_vars = pyspedas.psp.spi(trange=time_range, datatype='sf0a_l3_mom', level='l3')\n",
    "\n",
    "### print out the variables stored in the alpha particle data\n",
    "print(alpha_vars)\n",
    "\n",
    "### READ IN SWEAP VELOCITY (RTN), DENSITY, AND TEMPERATURE DATA\n",
    "Na = get_data('psp_spi_DENS')\n",
    "va_RTN = get_data('psp_spi_VEL_RTN_SUN')\n",
    "Ta = get_data('psp_spi_TEMP')\n",
    "\n",
    "### CONVERT TIME FROM JULIAN TIME TO DATETIME OBJECT\n",
    "date_obj = [datetime.datetime.strptime(time_string(d), '%Y-%m-%d %H:%M:%S.%f') for d in Na.times]\n",
    "\n",
    "### CREATE DATAFRAME\n",
    "rd = {'Time': date_obj, 'vr': va_RTN.y[:, 0], 'vt': va_RTN.y[:, 1], 'vn': va_RTN.y[:, 2], 'Na': Na.y, 'Ta': Ta.y}\n",
    "alphas = pd.DataFrame(data=rd)\n",
    "\n",
    "### SAVE DATAFRAME AS CSV\n",
    "alphas.to_csv(os.path.join('results', 'alphas.csv'))\n",
    "\n",
    "### plot the data!\n",
    "tplot(['psp_spi_DENS', 'psp_spi_VEL_RTN_SUN', 'psp_spi_TEMP'])"
   ]
  },
  {
   "attachments": {},
   "cell_type": "markdown",
   "metadata": {},
   "source": [
    "# Create Parker FIELDS/SWEAP Dataframe\n",
    "\n",
    "Now that we have a dataframe for each instrument, we then use pandas to merge the dataframes as a function of time.\n",
    "\n"
   ]
  },
  {
   "cell_type": "code",
   "execution_count": null,
   "metadata": {},
   "outputs": [],
   "source": [
    "### merge the PAS and MAG dataframes\n",
    "merged_df = pd.merge_asof(fields, protons, on='Time', direction='backward')\n",
    "\n",
    "### merge the HIS and newly merged dataframe\n",
    "merged_df = pd.merge_asof(alphas, merged_df, on='Time', direction='backward')\n",
    "merged_df = merged_df.set_index('Time')"
   ]
  },
  {
   "attachments": {},
   "cell_type": "markdown",
   "metadata": {},
   "source": [
    "## Find the spacecraft trajectory\n",
    "\n",
    "Now we will use astrospice to generate the trajectory of the spacecraft. We transform from inertial coordinates to the solar co-rotating (Carrington) frame!"
   ]
  },
  {
   "cell_type": "code",
   "execution_count": null,
   "metadata": {},
   "outputs": [],
   "source": [
    "### Create SkyCoord for Parker in the inertial (J2000) frame\n",
    "psp_inertial = astrospice.generate_coords(\n",
    "    'SOLAR PROBE PLUS', pd.to_datetime(merged_df.index.to_list())\n",
    "\n",
    ")\n",
    "\n",
    "### Transform to solar co-rotating frame \n",
    "psp_carrington = psp_inertial.transform_to(\n",
    "    scoords.HeliographicCarrington(observer=\"self\")\n",
    ")"
   ]
  },
  {
   "attachments": {},
   "cell_type": "markdown",
   "metadata": {},
   "source": [
    "Now we will add the position information to our merged dataframe and save as a CSV file!"
   ]
  },
  {
   "cell_type": "code",
   "execution_count": null,
   "metadata": {},
   "outputs": [],
   "source": [
    "### ADD POSITION INFORMAITON AND SAVE\n",
    "parker = merged_df.copy()\n",
    "parker['lon'] = psp_carrington.lon.value\n",
    "parker['lat'] = psp_carrington.lat.value\n",
    "parker['rAU'] = psp_carrington.radius.to(u.AU).value\n",
    "parker['NpR2'] = parker.Np * (parker.rAU ** 2)\n",
    "parker['BrR2'] = parker.Br * (parker.rAU ** 2)\n",
    "parker.to_csv(os.path.join('results', 'parker.csv'))\n",
    "parker"
   ]
  },
  {
   "cell_type": "code",
   "execution_count": null,
   "metadata": {},
   "outputs": [],
   "source": []
  }
 ],
 "metadata": {
  "kernelspec": {
   "display_name": "Python 3 (ipykernel)",
   "language": "python",
   "name": "python3"
  },
  "language_info": {
   "codemirror_mode": {
    "name": "ipython",
    "version": 3
   },
   "file_extension": ".py",
   "mimetype": "text/x-python",
   "name": "python",
   "nbconvert_exporter": "python",
   "pygments_lexer": "ipython3",
   "version": "3.11.0"
  },
  "vscode": {
   "interpreter": {
    "hash": "ff33bd1c68fd18cad7c7dda42a3b2eabf8f517631236701e465b5d513c967cbf"
   }
  }
 },
 "nbformat": 4,
 "nbformat_minor": 4
}
