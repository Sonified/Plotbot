{
 "cells": [
  {
   "cell_type": "code",
   "execution_count": 11,
   "metadata": {},
   "outputs": [],
   "source": [
    "# Cell 1: Imports and Initial Setup\n",
    "import pyspedas\n",
    "from pyspedas import time_string\n",
    "from pytplot import tplot, get_data\n",
    "import numpy as np\n",
    "import pandas as pd\n",
    "import scipy.io.wavfile as wavfile\n",
    "import os\n",
    "from datetime import datetime\n",
    "import sys, os\n",
    "import astropy.units as u\n",
    "\n",
    "# Keep your existing imports and directory setup code here\n",
    "from data_management import *\n",
    "from buttons import *\n",
    "\n",
    "global save_dir"
   ]
  },
  {
   "cell_type": "code",
   "execution_count": 3,
   "metadata": {},
   "outputs": [
    {
     "data": {
      "application/vnd.jupyter.widget-view+json": {
       "model_id": "cfccf8083b874ab4bd83504383211dd4",
       "version_major": 2,
       "version_minor": 0
      },
      "text/plain": [
       "Button(description='Show Directory', style=ButtonStyle())"
      ]
     },
     "metadata": {},
     "output_type": "display_data"
    },
    {
     "name": "stdout",
     "output_type": "stream",
     "text": [
      "2024-09-16 23:02:45 - 🛟 Save Directory Set: /Users/robertalexander/Dropbox/__Collaborations/_NASA/_Tamar_E15_Event\n"
     ]
    }
   ],
   "source": [
    "# Cell 2: Set Save Directory\n",
    "last_dir_file = \"last_selected_dir.txt\"\n",
    "save_dir = set_save_directory(last_dir_file)\n",
    "\n",
    "show_directory_button(save_dir)\n",
    "\n",
    "print(f'{datetime.now().strftime(\"%Y-%m-%d %H:%M:%S\")} - 🛟 Save Directory Set: {save_dir}')"
   ]
  },
  {
   "cell_type": "code",
   "execution_count": 37,
   "metadata": {},
   "outputs": [],
   "source": [
    "# Cell 3: Helper Functions\n",
    "def interpolate_nans(data):\n",
    "    \"\"\"Interpolate NaN values in data.\"\"\"\n",
    "    nan_mask = np.isnan(data)\n",
    "    data[nan_mask] = np.interp(np.flatnonzero(nan_mask), np.flatnonzero(~nan_mask), data[~nan_mask])\n",
    "    return data\n",
    "\n",
    "def normalize_to_int16(data):\n",
    "    \"\"\"Normalize data to int16 range.\"\"\"\n",
    "    data = interpolate_nans(data)\n",
    "    data_max, data_min = np.max(data), np.min(data)\n",
    "    if data_max == data_min:\n",
    "        return np.zeros(data.shape, dtype=np.int16)\n",
    "    normalized_data = (2 * (data - data_min) / (data_max - data_min) - 1) * 32767\n",
    "    return normalized_data.astype(np.int16)\n",
    "\n",
    "def audify_mag_data(trange, save_dir, fs_aud, bmag, br, bt, bn, rsquared_normalized=False, custom_suffix=''):\n",
    "    \"\"\"Audify magnetic field data.\"\"\"\n",
    "    print(\"Starting audification process...\")\n",
    "\n",
    "    component_mapping = {'|B|': '001', 'Br': '002', 'Bt': '003', 'Bn': '004'}\n",
    "    components = {'|B|': bmag, 'Br': br, 'Bt': bt, 'Bn': bn}\n",
    "\n",
    "    start_time = pd.to_datetime(trange[0])\n",
    "    end_time = pd.to_datetime(trange[1])\n",
    "\n",
    "    for component, data in components.items():\n",
    "        audio_data = normalize_to_int16(data)\n",
    "        suffix = \"_rsquared_normalized\" if rsquared_normalized else \"\"\n",
    "        file_name = f\"{save_dir}/PSP_FIELDS_{component_mapping[component]}_{start_time.strftime('%Y-%m-%d_%H%M')}_to_{end_time.strftime('%m-%d_%H%M')}_{component}{suffix}{custom_suffix}.wav\"\n",
    "        wavfile.write(file_name, fs_aud, audio_data)\n",
    "        print(f\"Saved audio file: {file_name}\")\n",
    "\n",
    "    print(\"Audification process completed.\")\n",
    "\n",
    "# Cell 3: Helper Functions (modified)\n",
    "\n",
    "def generate_markers(times, trange, markers_per_hour, save_dir, custom_suffix=''):\n",
    "    \"\"\"Generate markers for the audified data.\"\"\"\n",
    "    print(f\"Generating markers for time range: {trange[0]} to {trange[1]}\")\n",
    "    print(f\"Number of time points: {len(times)}\")\n",
    "    \n",
    "    start_time = pd.to_datetime(trange[0])\n",
    "    end_time = pd.to_datetime(trange[1])\n",
    "    \n",
    "    times_datetime = pd.to_datetime(times, unit='s')\n",
    "    \n",
    "    print(f\"Data time range: {times_datetime.min()} to {times_datetime.max()}\")\n",
    "    \n",
    "    marker_times = pd.date_range(start=start_time, end=end_time, freq=f'{60/markers_per_hour}min')\n",
    "    \n",
    "    closest_indices = np.searchsorted(times_datetime, marker_times)\n",
    "    \n",
    "    valid_markers = closest_indices < len(times)\n",
    "    marker_times = marker_times[valid_markers]\n",
    "    closest_indices = closest_indices[valid_markers]\n",
    "    \n",
    "    print(f\"Total markers generated: {len(marker_times)}\")\n",
    "    \n",
    "    filename = f\"{save_dir}/PSP_FIELDS_MARKER_SET_{start_time.strftime('%Y-%m-%d_%H%M')}_to_{end_time.strftime('%Y-%m-%d_%H%M')}_{markers_per_hour}_per_hour{custom_suffix}.txt\"\n",
    "    \n",
    "    with open(filename, 'w') as f:\n",
    "        for marker_time, sample_number in zip(marker_times, closest_indices):\n",
    "            time_str = marker_time.strftime('%H:%M:%S.%f')[:12]\n",
    "            date_str = marker_time.strftime('(%Y-%m-%d)')\n",
    "            f.write(f\"{time_str} {date_str}\\t{sample_number}\\n\")\n",
    "    \n",
    "    print(f\"Marker file created: {filename}\")\n",
    "    return filename"
   ]
  },
  {
   "cell_type": "code",
   "execution_count": 18,
   "metadata": {},
   "outputs": [
    {
     "name": "stderr",
     "output_type": "stream",
     "text": [
      "16-Sep-24 23:14:43: Downloading remote index: https://spdf.gsfc.nasa.gov/pub/data/psp/fields/l2/mag_rtn/2023/\n",
      "16-Sep-24 23:14:43: File is current: psp_data/fields/l2/mag_rtn/2023/psp_fld_l2_mag_rtn_2023031600_v02.cdf\n",
      "16-Sep-24 23:14:43: File is current: psp_data/fields/l2/mag_rtn/2023/psp_fld_l2_mag_rtn_2023031606_v02.cdf\n",
      "16-Sep-24 23:14:44: File is current: psp_data/fields/l2/mag_rtn/2023/psp_fld_l2_mag_rtn_2023031612_v02.cdf\n",
      "16-Sep-24 23:14:44: File is current: psp_data/fields/l2/mag_rtn/2023/psp_fld_l2_mag_rtn_2023031618_v02.cdf\n",
      "16-Sep-24 23:14:45: File is current: psp_data/fields/l2/mag_rtn/2023/psp_fld_l2_mag_rtn_2023031700_v02.cdf\n",
      "16-Sep-24 23:14:45: File is current: psp_data/fields/l2/mag_rtn/2023/psp_fld_l2_mag_rtn_2023031706_v02.cdf\n",
      "16-Sep-24 23:14:45: File is current: psp_data/fields/l2/mag_rtn/2023/psp_fld_l2_mag_rtn_2023031712_v02.cdf\n",
      "16-Sep-24 23:14:46: File is current: psp_data/fields/l2/mag_rtn/2023/psp_fld_l2_mag_rtn_2023031718_v02.cdf\n",
      "16-Sep-24 23:16:06: Downloading remote index: https://spdf.gsfc.nasa.gov/pub/data/psp/sweap/spi/l3/spi_sf00_l3_mom/2023/\n",
      "16-Sep-24 23:16:06: File is current: psp_data/sweap/spi/l3/spi_sf00_l3_mom/2023/psp_swp_spi_sf00_l3_mom_20230316_v04.cdf\n",
      "16-Sep-24 23:16:06: File is current: psp_data/sweap/spi/l3/spi_sf00_l3_mom/2023/psp_swp_spi_sf00_l3_mom_20230317_v04.cdf\n"
     ]
    }
   ],
   "source": [
    "# Cell 4: Data Download and Processing\n",
    "# Define the requested date range\n",
    "trange = ['2023-03-16/00:00:00', '2023-03-18/00:00:00']\n",
    "\n",
    "# Load magnetic field data\n",
    "mag_vars = pyspedas.psp.fields(trange=trange, datatype='mag_rtn', level='l2', time_clip=True, get_support_data=True)\n",
    "\n",
    "# Load solar wind proton data (which includes sun distance)\n",
    "spi_vars = pyspedas.psp.spi(trange=trange, datatype='spi_sf00_l3_mom', level='l3', time_clip=True)\n",
    "\n",
    "# Get magnetic field and time data\n",
    "mag_data = get_data('psp_fld_l2_mag_RTN')\n",
    "times, mag_field = mag_data.times, mag_data.y\n",
    "\n",
    "# Get sun distance and time data\n",
    "sun_dist_data = get_data('psp_spi_SUN_DIST')\n",
    "sun_dist_time, sun_dist = sun_dist_data.times, sun_dist_data.y"
   ]
  },
  {
   "cell_type": "code",
   "execution_count": 28,
   "metadata": {},
   "outputs": [
    {
     "name": "stdout",
     "output_type": "stream",
     "text": [
      "Normalized magnetic field shape: (50624304, 3)\n",
      "Original B magnitude range: 0.95 - 803.68 nT\n",
      "Normalized B magnitude range: 0.01 - 3.44 nT*AU^2\n"
     ]
    }
   ],
   "source": [
    "# Cell 5: Solar Distance Calculation and R-squared Normalization\n",
    "\n",
    "# Create an interpolation function\n",
    "sun_dist_interp = interpolate.interp1d(sun_dist_time, sun_dist, kind='linear', bounds_error=False, fill_value=\"extrapolate\")\n",
    "\n",
    "# Interpolate sun distance to match magnetic field data times\n",
    "sun_dist_interpolated = sun_dist_interp(times)\n",
    "\n",
    "# Convert kilometers to astronomical units (AU)\n",
    "au_in_km = 149597870.7\n",
    "sun_dist_au = sun_dist_interpolated / au_in_km\n",
    "\n",
    "# Calculate R squared (distance in AU squared)\n",
    "r_squared = sun_dist_au ** 2\n",
    "\n",
    "# Normalize magnetic field components\n",
    "normalized_mag_field = mag_field * r_squared[:, np.newaxis]\n",
    "\n",
    "print(f\"Normalized magnetic field shape: {normalized_mag_field.shape}\")\n",
    "\n",
    "# Calculate the magnitude of the original and normalized magnetic field\n",
    "mag_field_magnitude = np.linalg.norm(mag_field, axis=1)\n",
    "normalized_mag_field_magnitude = np.linalg.norm(normalized_mag_field, axis=1)\n",
    "\n",
    "print(f\"Original B magnitude range: {mag_field_magnitude.min():.2f} - {mag_field_magnitude.max():.2f} nT\")\n",
    "print(f\"Normalized B magnitude range: {normalized_mag_field_magnitude.min():.2f} - {normalized_mag_field_magnitude.max():.2f} nT*AU^2\")\n",
    "\n",
    "# Extract normalized magnetic field components\n",
    "br_normalized, bt_normalized, bn_normalized = normalized_mag_field[:, 0], normalized_mag_field[:, 1], normalized_mag_field[:, 2]\n",
    "bmag_normalized = normalized_mag_field_magnitude"
   ]
  },
  {
   "cell_type": "code",
   "execution_count": 38,
   "metadata": {},
   "outputs": [
    {
     "name": "stdout",
     "output_type": "stream",
     "text": [
      "Generating markers for time range: 2023-03-16/11:00:00 to 2023-03-17/07:00:00\n",
      "Number of time points: 21093677\n",
      "Data time range: 2023-03-16 11:00:00.001713753 to 2023-03-17 06:59:59.998590946\n",
      "Total markers generated: 120\n",
      "Marker file created: /Users/robertalexander/Dropbox/__Collaborations/_NASA/_Tamar_E15_Event/PSP_FIELDS_MARKER_SET_2023-03-16_1100_to_2023-03-17_0700_6_per_hour_SA_STREAM.txt\n",
      "Starting audification process...\n",
      "Saved audio file: /Users/robertalexander/Dropbox/__Collaborations/_NASA/_Tamar_E15_Event/PSP_FIELDS_001_2023-03-16_1100_to_03-17_0700_|B|_rsquared_normalized_SA_STREAM.wav\n",
      "Saved audio file: /Users/robertalexander/Dropbox/__Collaborations/_NASA/_Tamar_E15_Event/PSP_FIELDS_002_2023-03-16_1100_to_03-17_0700_Br_rsquared_normalized_SA_STREAM.wav\n",
      "Saved audio file: /Users/robertalexander/Dropbox/__Collaborations/_NASA/_Tamar_E15_Event/PSP_FIELDS_003_2023-03-16_1100_to_03-17_0700_Bt_rsquared_normalized_SA_STREAM.wav\n",
      "Saved audio file: /Users/robertalexander/Dropbox/__Collaborations/_NASA/_Tamar_E15_Event/PSP_FIELDS_004_2023-03-16_1100_to_03-17_0700_Bn_rsquared_normalized_SA_STREAM.wav\n",
      "Audification process completed.\n",
      "Data processed for time range: 2023-03-16/11:00:00 to 2023-03-17/07:00:00\n",
      "Marker file created: /Users/robertalexander/Dropbox/__Collaborations/_NASA/_Tamar_E15_Event/PSP_FIELDS_MARKER_SET_2023-03-16_1100_to_2023-03-17_0700_6_per_hour_SA_STREAM.txt\n",
      "R-squared normalization: Applied\n",
      "Custom suffix applied: '_SA_STREAM'\n"
     ]
    }
   ],
   "source": [
    "# Cell 6: Main Execution (modified)\n",
    "trange = ['2023-03-16/11:00:00', '2023-03-17/07:00:00']\n",
    "\n",
    "# Set audio sampling rate and markers per hour\n",
    "fs_aud = 22000\n",
    "markers_per_hour = 1\n",
    "\n",
    "# Set R-squared normalization flag\n",
    "rsquared_normalized = True  # Set to False for normal data, True for R-squared normalized data\n",
    "\n",
    "# Set custom suffix\n",
    "custom_suffix = '_SA_STREAM'  # You can modify this line to add your desired suffix\n",
    "\n",
    "# Convert trange to datetime objects\n",
    "start_time = pd.to_datetime(trange[0])\n",
    "end_time = pd.to_datetime(trange[1])\n",
    "\n",
    "# Filter data based on the new time range\n",
    "mask = (times >= start_time.timestamp()) & (times <= end_time.timestamp())\n",
    "times_filtered = times[mask]\n",
    "\n",
    "# Filter and use normalized or original data based on the flag\n",
    "if rsquared_normalized:\n",
    "    br_to_use = br_normalized[mask]\n",
    "    bt_to_use = bt_normalized[mask]\n",
    "    bn_to_use = bn_normalized[mask]\n",
    "    bmag_to_use = bmag_normalized[mask]\n",
    "else:\n",
    "    br_to_use = br[mask]\n",
    "    bt_to_use = bt[mask]\n",
    "    bn_to_use = bn[mask]\n",
    "    bmag_to_use = mag_field_magnitude[mask]\n",
    "\n",
    "# Generate markers\n",
    "marker_file = generate_markers(times_filtered, trange, markers_per_hour, save_dir, custom_suffix)\n",
    "\n",
    "# Audify the magnetic field data with custom suffix\n",
    "audify_mag_data(trange, save_dir, fs_aud, bmag_to_use, br_to_use, bt_to_use, bn_to_use, rsquared_normalized, custom_suffix)\n",
    "\n",
    "# Print summary\n",
    "print(f\"Data processed for time range: {trange[0]} to {trange[1]}\")\n",
    "print(f\"Marker file created: {marker_file}\")\n",
    "print(f\"R-squared normalization: {'Applied' if rsquared_normalized else 'Not applied'}\")\n",
    "print(f\"Custom suffix applied: '{custom_suffix}'\")"
   ]
  }
 ],
 "metadata": {
  "kernelspec": {
   "display_name": "base",
   "language": "python",
   "name": "python3"
  },
  "language_info": {
   "codemirror_mode": {
    "name": "ipython",
    "version": 3
   },
   "file_extension": ".py",
   "mimetype": "text/x-python",
   "name": "python",
   "nbconvert_exporter": "python",
   "pygments_lexer": "ipython3",
   "version": "3.12.4"
  }
 },
 "nbformat": 4,
 "nbformat_minor": 2
}
