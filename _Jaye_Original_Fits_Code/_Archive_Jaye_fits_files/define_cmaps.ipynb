{
 "cells": [
  {
   "cell_type": "code",
   "execution_count": null,
   "id": "f28b3bf6-9226-43d0-9156-65df69a22b30",
   "metadata": {},
   "outputs": [],
   "source": [
    "# Define a palette with more navy blue and a smooth transition to white\n",
    "palette = [\n",
    "    (0, 0, 0.5),             # Navy blue (lowest values)\n",
    "    (0.1, 0.05, 0.4),        # Dark purplish-blue\n",
    "    (0.3, 0.2, 0.5),         # Muted blue-purple\n",
    "    (0.5, 0.3, 0.4),         # Dark ham pink\n",
    "    (0.75, 0.45, 0.45),      # Medium ham pink\n",
    "    (0.85, 0.6, 0.6),        # Light ham pink\n",
    "    (0.95, 0.75, 0.75),      # Very light ham pink\n",
    "    (1, 0.92, 0.92),         # Pale pink-white\n",
    "    (1, 1, 1),               # White (highest values)\n",
    "]\n",
    "\n",
    "# Adjust the distribution to emphasize navy blue on the lower end\n",
    "nodes = [\n",
    "    0.0, 0.001, 0.4, 0.6, 0.7, 0.8, 0.9, 0.95, 1.0\n",
    "]\n",
    "\n",
    "# Create the custom colormap with non-linear spacing\n",
    "cmap1 = colors.LinearSegmentedColormap.from_list(\"navy_to_ham_white\", list(zip(nodes, palette)), N=256)"
   ]
  },
  {
   "cell_type": "code",
   "execution_count": null,
   "id": "5f552f15-1737-430a-b8a6-f0994f7ac7d4",
   "metadata": {},
   "outputs": [],
   "source": [
    "# Define colors transitioning from navy blue to lighter blue, ham shades, and white\n",
    "palette = [\n",
    "    (0, 0, 0.5),             # Navy blue (lowest values)\n",
    "    (0.2, 0.4, 0.8),         # Lighter blue\n",
    "    (0.5, 0.7, 0.9),         # Very light blue\n",
    "    (0.75, 0.45, 0.45),      # Medium ham pink\n",
    "    (0.85, 0.6, 0.6),        # Light ham pink\n",
    "    (0.95, 0.75, 0.75),      # Very light ham pink\n",
    "    (1, 0.92, 0.92),         # Pale pink-white\n",
    "    (1, 1, 1),               # Pure white (highest values)\n",
    "]\n",
    "\n",
    "# Adjust the distribution to emphasize transitions from blue to ham and then to white\n",
    "nodes = [\n",
    "    0.0, 0.2, 0.4, 0.6, 0.75, 0.85, 0.95, 1.0\n",
    "]\n",
    "\n",
    "# Create the custom colormap with non-linear spacing\n",
    "cmap2 = colors.LinearSegmentedColormap.from_list(\"blue_to_ham_white\", list(zip(nodes, palette)), N=256)"
   ]
  },
  {
   "cell_type": "code",
   "execution_count": null,
   "id": "40e09789-9487-4413-a027-9f28a41f3cf9",
   "metadata": {},
   "outputs": [],
   "source": [
    "# Define colors transitioning from navy blue to purple, ham, and white\n",
    "palette = [\n",
    "    (0, 0, 0),                # Black\n",
    "    (0, 0, 0.5),             # Navy blue (lowest values)\n",
    "    (0.2, 0.1, 0.6),         # Dark purple\n",
    "    (0.5, 0.3, 0.7),         # Medium purple\n",
    "    (0.75, 0.5, 0.8),        # Soft lavender-purple\n",
    "    (0.85, 0.6, 0.6),        # Light ham pink\n",
    "    (0.95, 0.75, 0.75),      # Very light ham pink\n",
    "    (1, 0.92, 0.92),         # Pale pink-white\n",
    "    (1, 1, 1),               # Pure white (highest values)\n",
    "]\n",
    "\n",
    "# Adjust the distribution to emphasize navy, purple, and ham\n",
    "nodes = [\n",
    "    0.0, 0.01, 0.3, 0.5, 0.6, 0.75, 0.85, 0.95, 1.0\n",
    "]\n",
    "\n",
    "# Create the custom colormap with non-linear spacing\n",
    "cmap3 = colors.LinearSegmentedColormap.from_list(\"navy_to_purple_ham_white\", list(zip(nodes, palette)), N=256)"
   ]
  },
  {
   "cell_type": "code",
   "execution_count": null,
   "id": "20718de6-4b6d-4c0a-899c-426e737e9120",
   "metadata": {},
   "outputs": [],
   "source": []
  }
 ],
 "metadata": {
  "kernelspec": {
   "display_name": "Python 3 (ipykernel)",
   "language": "python",
   "name": "python3"
  },
  "language_info": {
   "codemirror_mode": {
    "name": "ipython",
    "version": 3
   },
   "file_extension": ".py",
   "mimetype": "text/x-python",
   "name": "python",
   "nbconvert_exporter": "python",
   "pygments_lexer": "ipython3",
   "version": "3.10.8"
  }
 },
 "nbformat": 4,
 "nbformat_minor": 5
}
