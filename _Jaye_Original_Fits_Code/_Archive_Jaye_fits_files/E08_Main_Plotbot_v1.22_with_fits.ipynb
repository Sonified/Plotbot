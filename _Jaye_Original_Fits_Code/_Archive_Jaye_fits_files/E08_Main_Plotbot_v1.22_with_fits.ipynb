{
 "cells": [
  {
   "cell_type": "code",
   "execution_count": null,
   "id": "adb9d48b-95df-41c3-aacd-2b6d9dfa23af",
   "metadata": {},
   "outputs": [],
   "source": [
    "dates = ['2021-04-28', '2021-04-29', '2021-04-30']\n",
    "\n",
    "strahl_energy_index = 8\n",
    "trange_full = [dates[0] + '/00:00:00', dates[-1] + '/23:59:59']\n",
    "trange = trange_full\n",
    "\n",
    "wavpow = True\n",
    "mag_rtn = None\n",
    "apply_fov_nans = True\n",
    "sf00_fits = None\n",
    "sf01_fits = None\n",
    "\n",
    "#Read in your local fits file\n",
    "#protons\n",
    "sf00_fits_dir = '/home/jovyan/SPAN_fits/'\n",
    "sf00_fits_prefix = 'spp_swp_spi_sf00_'\n",
    "sf00_fits_suffix = '_v00_driftswitch.csv'\n",
    "sf00_fits_fnames = []\n",
    "for d in range(len(dates)):\n",
    "    sf00_fits_fnames_ = sf00_fits_dir + sf00_fits_prefix + dates[d] + sf00_fits_suffix\n",
    "    sf00_fits_fnames.append(sf00_fits_fnames_)\n",
    "#alphas\n",
    "sf01_fits_dir = '/home/jovyan/SPAN_fits/'\n",
    "sf01_fits_prefix = 'spp_swp_spi_sf01_'\n",
    "sf01_fits_suffix = '_v00.csv'\n",
    "sf01_fits_fnames = []\n",
    "for d in range(len(dates)):\n",
    "    sf01_fits_fnames_ = sf01_fits_dir + sf01_fits_prefix + dates[d] + sf01_fits_suffix\n",
    "    sf01_fits_fnames.append(sf01_fits_fnames_)\n",
    "\n",
    "wavePower_dir = '/home/jovyan/PSP_wavePower/'\n",
    "wavePower_fnames = []\n",
    "for d in range(len(dates)):\n",
    "    wavePower_fnames_ = wavePower_dir + 'PSP_wavePower_' + dates[d] + '_v1.3.cdf'\n",
    "    wavePower_fnames.append(wavePower_fnames_)\n",
    "\n",
    "%run '/home/jovyan/plotbot_HCS/🍀 Main_Plotbot_v1.22_with_fits.ipynb'"
   ]
  },
  {
   "cell_type": "code",
   "execution_count": null,
   "id": "2894cbe1-268b-45a8-80c6-9bed0c7f75c9",
   "metadata": {},
   "outputs": [],
   "source": [
    "#Plot with Plotbot!\n",
    "plt.rcParams.update({'font.size': 12})\n",
    "\n",
    "\n",
    "trange=trange_full\n",
    "\n",
    "#This example includes a little bit of everything:\n",
    "# ploptions('bmag_RTN_4sa', 'line_color', ['blue'])\n",
    "#ploptions('epad_strahl', 'colorbar_limits', [7, 10.5])  # Adjusted colorbar limits\n",
    "\n",
    "#ploptions('T_par', 'y_lim', [0, 400]) \n",
    "#ploptions('T_perp', 'y_lim', [0, 400]) \n",
    "#ploptions('Anisotropy', 'y_lim', [0, 6]) \n",
    "\n",
    "\n",
    "trange = ['2021-04-29/07:00', '2021-04-29/08:40']\n",
    "trange = ['2021-04-29/09:15', '2021-04-29/10:30']\n",
    "trange = ['2021-04-28/00:00','2021-04-30/00:00']\n",
    "\n",
    "\n",
    "\n",
    "plotbot(trange, #Testing Mag, Strahl, Proton Energy Flux, Protons + All fits\n",
    "        'bmag_RTN_4sa', 1,\n",
    "        'mag_RTN_4sa', 2,\n",
    "        'epad_strahl', 3,\n",
    "        'proton_energy_flux', 4,\n",
    "        'dens_spi', 5,\n",
    "        'velp_RTN_spi', 6,\n",
    "        'M_alfven_spi', '6r',\n",
    "        'T_par', 7,\n",
    "        'T_perp', 7,\n",
    "        'Anisotropy', '7r',\n",
    "        'beta_ppar_spi', 8,\n",
    "        'beta_pperp_spi', 8,\n",
    "        'wvpow_LH', 9,\n",
    "        'wvpow_RH', 9\n",
    "    \n",
    ")\n"
   ]
  },
  {
   "cell_type": "code",
   "execution_count": null,
   "id": "60404969-7bfc-40be-90be-d1d022ad85e1",
   "metadata": {},
   "outputs": [],
   "source": [
    "#Plot with Plotbot!\n",
    "plt.rcParams.update({'font.size': 12})\n",
    "\n",
    "\n",
    "trange=trange_full\n",
    "\n",
    "#This example includes a little bit of everything:\n",
    "# ploptions('bmag_RTN_4sa', 'line_color', ['blue'])\n",
    "ploptions('epad_strahl', 'colorbar_limits', [7, 10.5])  # Adjusted colorbar limits\n",
    "\n",
    "#ploptions('T_par', 'y_lim', [0, 400]) \n",
    "#ploptions('T_perp', 'y_lim', [0, 400]) \n",
    "#ploptions('Anisotropy', 'y_lim', [0, 6]) \n",
    "\n",
    "\n",
    "trange = ['2021-04-29/07:00', '2021-04-29/08:40']\n",
    "trange = ['2021-04-29/09:15', '2021-04-29/10:30']\n",
    "trange = ['2021-04-28/00:00','2021-04-30/00:00']\n",
    "trange = ['2021-04-28/18:00','2021-04-29/18:00']\n",
    "\n",
    "\n",
    "plotbot(trange, #Testing Mag, Strahl, Proton Energy Flux, Protons + All fits\n",
    "        'bmag_RTN_4sa', 1,\n",
    "        'mag_RTN_4sa', 2,\n",
    "        'epad_strahl', 3,\n",
    "        'proton_energy_flux', 4,\n",
    "        'dens_spi', 5,\n",
    "        'velp_RTN_spi', 6,\n",
    "        'M_alfven_spi', '6r',\n",
    "        'T_par', 7,\n",
    "        'T_perp', 7,\n",
    "        'Anisotropy', '7r',\n",
    "        'beta_ppar_spi', 8,\n",
    "        'beta_pperp_spi', 8,\n",
    "        'wvpow_LH', 9,\n",
    "        'wvpow_RH', 9\n",
    "    \n",
    ")\n"
   ]
  },
  {
   "cell_type": "code",
   "execution_count": null,
   "id": "ecaa5b77-8855-4b1a-b01d-ae2424bed776",
   "metadata": {},
   "outputs": [],
   "source": [
    "trange = ['2021-04-29/07:00', '2021-04-29/08:40']\n",
    "showdahodo_brazil(trange, 'beta_ppar_spi', 'Anisotropy', xlim_ = [1e-1, 1e3], ylim_ = [1e-1,2e0], alpha_ = .9)\n"
   ]
  },
  {
   "cell_type": "code",
   "execution_count": null,
   "id": "318a318b-a7c1-498b-abcb-6590311c716a",
   "metadata": {},
   "outputs": [],
   "source": [
    "trange = ['2021-04-29/09:15', '2021-04-29/10:30']\n",
    "showdahodo_brazil(trange, 'beta_ppar_spi', 'Anisotropy', xlim_ = [1e-1, 1e3], ylim_ = [1e-1,2e0], alpha_ = .9)\n"
   ]
  },
  {
   "cell_type": "code",
   "execution_count": null,
   "id": "589a35f0-b23c-4457-94bc-b61711ce8057",
   "metadata": {},
   "outputs": [],
   "source": [
    "\n",
    "showdahodo_brazil_wvpow(trange, xlim_ = [1e-1, 1e3], ylim_ = [1e-1,2e0], alpha_ = .9,vmin_ = -2, vmax_ = 2, s_ = 100)"
   ]
  },
  {
   "cell_type": "code",
   "execution_count": null,
   "id": "c92ee84a-f9d2-4a0a-8a5b-87c2a9778128",
   "metadata": {},
   "outputs": [],
   "source": [
    "showdahodo_brazil_wvpow(trange_full, xlim_ = [1e-2, 1e2], ylim_ = [1e-1,5e0], alpha_ = .1,vmin_ = -3, vmax_ = 2, s_ = 100)"
   ]
  },
  {
   "cell_type": "code",
   "execution_count": null,
   "id": "2e7af1fe-17b5-4b50-ba2f-f31473e67af4",
   "metadata": {},
   "outputs": [],
   "source": [
    "trange = ['2021-04-28/00:00','2021-04-30/00:00']\n",
    "showdahodo_brazil_wvpow(trange, xlim_ = [1e-2, 1e2], ylim_ = [1e-1,5e0], alpha_ = .1,vmin_ = -3, vmax_ = 2, s_ = 100)"
   ]
  },
  {
   "cell_type": "code",
   "execution_count": null,
   "id": "7d5755de-850c-4f72-9614-2e0e9eb51eee",
   "metadata": {},
   "outputs": [],
   "source": [
    "trange = ['2021-04-28/18:00','2021-04-29/18:00']\n",
    "showdahodo_brazil_wvpow(trange, xlim_ = [1e-2, 1e2], ylim_ = [1e-1,5e0], alpha_ = .1,vmin_ = -3, vmax_ = 2, s_ = 100)"
   ]
  },
  {
   "cell_type": "code",
   "execution_count": null,
   "id": "cddbb1fd-a1d9-459b-ae00-68488e3cf745",
   "metadata": {},
   "outputs": [],
   "source": [
    "showdahodo_brazil(trange_full, 'beta_ppar_spi', 'Anisotropy',xlim_ = [1e-2, 1e2], ylim_ = [1e-1,5e0], alpha_ = .2)"
   ]
  },
  {
   "cell_type": "code",
   "execution_count": null,
   "id": "0f1b3c51-a3c5-491d-9fab-6e9ccaa4d28b",
   "metadata": {},
   "outputs": [],
   "source": [
    "trange = ['2021-04-28/00:00','2021-04-30/00:00']\n",
    "showdahodo_brazil(trange, 'beta_ppar_spi', 'Anisotropy',xlim_ = [1e-2, 1e2], ylim_ = [1e-1,5e0], alpha_ = .2)"
   ]
  },
  {
   "cell_type": "code",
   "execution_count": null,
   "id": "ee1750e6-91cc-4559-a097-b6ddbc20aad7",
   "metadata": {},
   "outputs": [],
   "source": [
    "trange = ['2021-04-28/18:00','2021-04-29/18:00']\n",
    "showdahodo_brazil(trange, 'beta_ppar_spi', 'Anisotropy',xlim_ = [1e-2, 1e2], ylim_ = [1e-1,5e0], alpha_ = .2)"
   ]
  },
  {
   "cell_type": "code",
   "execution_count": null,
   "id": "5381f4f5-00e6-41cd-bea6-3081758c270c",
   "metadata": {},
   "outputs": [],
   "source": [
    "trange = ['2021-04-29/08:14', '2021-04-29/08:40']\n",
    "showdahodo_brazil(trange, 'beta_ppar_spi', 'Anisotropy', xlim_ = [1e-1, 1e3], ylim_ = [1e-1,2e0], alpha_ = .9)\n"
   ]
  },
  {
   "cell_type": "code",
   "execution_count": null,
   "id": "b07bdf16-f88a-4709-838b-f58b3dcd7d8c",
   "metadata": {},
   "outputs": [],
   "source": [
    "trange = ['2021-04-29/08:28', '2021-04-29/08:38']\n",
    "showdahodo_brazil(trange, 'beta_ppar_spi', 'Anisotropy', xlim_ = [1e-1, 1e3], ylim_ = [1e-1,2e0], alpha_ = .9)\n"
   ]
  },
  {
   "cell_type": "code",
   "execution_count": null,
   "id": "6bfb60d6-73fa-46bd-9134-0cdeabaf8086",
   "metadata": {},
   "outputs": [],
   "source": [
    "#Plot with Plotbot!\n",
    "plt.rcParams.update({'font.size': 12})\n",
    "\n",
    "\n",
    "trange=trange\n",
    "\n",
    "#This example includes a little bit of everything:\n",
    "# ploptions('bmag_RTN_4sa', 'line_color', ['blue'])\n",
    "#ploptions('epad_strahl', 'colorbar_limits', [7, 10.5])  # Adjusted colorbar limits\n",
    "\n",
    "#ploptions('T_par', 'y_lim', [0, 400]) \n",
    "#ploptions('T_perp', 'y_lim', [0, 400]) \n",
    "#ploptions('Anisotropy', 'y_lim', [0, 6]) \n",
    "\n",
    "\n",
    "\n",
    "\n",
    "plotbot(trange, #Testing Mag, Strahl, Proton Energy Flux, Protons + All fits\n",
    "        'bmag_RTN_4sa', 1,\n",
    "        'mag_RTN_4sa', 2,\n",
    "        'epad_strahl', 3,\n",
    "        'proton_energy_flux', 4,\n",
    "        'dens_spi', 5,\n",
    "        'velp_RTN_spi', 6,\n",
    "        'M_alfven_spi', '6r',\n",
    "        'T_par', 7,\n",
    "        'T_perp', 7,\n",
    "        'Anisotropy', '7r',\n",
    "        'beta_ppar_spi', 8,\n",
    "        'beta_pperp_spi', 8,\n",
    "        'wvpow_LH', 9,\n",
    "        'wvpow_RH', 9\n",
    "    \n",
    ")\n"
   ]
  },
  {
   "cell_type": "code",
   "execution_count": null,
   "id": "d1e444a9-8085-410c-9320-1f1c78f8fb7f",
   "metadata": {},
   "outputs": [],
   "source": [
    "trange = ['2021-04-29/08:33', '2021-04-29/08:36']\n",
    "showdahodo_brazil(trange, 'beta_ppar_spi', 'Anisotropy', xlim_ = [1e-1, 1e3], ylim_ = [1e-1,2e0], alpha_ = .9)\n"
   ]
  },
  {
   "cell_type": "code",
   "execution_count": null,
   "id": "a5082717-574d-463a-a224-6d8bceb78b2c",
   "metadata": {},
   "outputs": [],
   "source": [
    "trange = ['2021-04-29/07:00', '2021-04-29/08:14']\n",
    "showdahodo_brazil(trange, 'beta_ppar_spi', 'Anisotropy', xlim_ = [1e-1, 1e3], ylim_ = [1e-1,2e0], alpha_ = .9)\n"
   ]
  },
  {
   "cell_type": "code",
   "execution_count": null,
   "id": "9c468c1c-8bae-4436-83e1-1eb3ec80260e",
   "metadata": {},
   "outputs": [],
   "source": [
    "trange = ['2021-04-29/07:51', '2021-04-29/08:02']\n",
    "showdahodo_brazil(trange, 'beta_ppar_spi', 'Anisotropy', xlim_ = [4e-1, 1e0], ylim_ = [1.75e-1,2.5e-1], alpha_ = .9, s_ = 50)\n"
   ]
  },
  {
   "cell_type": "code",
   "execution_count": null,
   "id": "32e34228-8790-44fa-ae38-b2ee1cc1d3cd",
   "metadata": {},
   "outputs": [],
   "source": []
  }
 ],
 "metadata": {
  "kernelspec": {
   "display_name": "Python 3 (ipykernel)",
   "language": "python",
   "name": "python3"
  },
  "language_info": {
   "codemirror_mode": {
    "name": "ipython",
    "version": 3
   },
   "file_extension": ".py",
   "mimetype": "text/x-python",
   "name": "python",
   "nbconvert_exporter": "python",
   "pygments_lexer": "ipython3",
   "version": "3.10.8"
  }
 },
 "nbformat": 4,
 "nbformat_minor": 5
}
