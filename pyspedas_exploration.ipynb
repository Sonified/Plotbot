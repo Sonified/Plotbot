{
 "cells": [
  {
   "cell_type": "markdown",
   "metadata": {
    "vscode": {
     "languageId": "raw"
    }
   },
   "source": [
    "# Pyspedas Interactive Exploration\n",
    "\n",
    "This notebook is for interactively exploring the `pyspedas` library to discover available missions, instruments, and data products.\n"
   ]
  },
  {
   "cell_type": "code",
   "execution_count": 1,
   "metadata": {},
   "outputs": [],
   "source": [
    "import pyspedas\n"
   ]
  },
  {
   "cell_type": "markdown",
   "metadata": {
    "vscode": {
     "languageId": "raw"
    }
   },
   "source": [
    "## Discovering Missions\n",
    "\n",
    "You can see all the available missions (projects) by typing `pyspedas.projects.` and then hitting the `Tab` key. Jupyter will show you a list of all supported missions.\n"
   ]
  },
  {
   "cell_type": "code",
   "execution_count": null,
   "metadata": {},
   "outputs": [],
   "source": [
    "# Place your cursor after the dot and press Tab\n",
    "pyspedas.projects.wind.mfi.\n",
    "\n",
    "# This cell is meant for interactive exploration - uncomment the line above\n",
    "# and use Tab completion to see available missions\n"
   ]
  },
  {
   "cell_type": "markdown",
   "metadata": {
    "vscode": {
     "languageId": "raw"
    }
   },
   "source": [
    "## Discovering Instruments for a Mission\n",
    "\n",
    "Once you pick a mission, like `wind`, you can see the available instruments by typing `pyspedas.projects.wind.` and hitting `Tab`.\n"
   ]
  },
  {
   "cell_type": "code",
   "execution_count": null,
   "metadata": {},
   "outputs": [],
   "source": [
    "# Place your cursor after the dot and press Tab\n",
    "# pyspedas.projects.wind.\n",
    "\n",
    "# This cell is meant for interactive exploration - uncomment the line above\n",
    "# and use Tab completion to see available instruments for Wind\n"
   ]
  },
  {
   "cell_type": "markdown",
   "metadata": {
    "vscode": {
     "languageId": "raw"
    }
   },
   "source": [
    "## Finding Data Products (Datatypes)\n",
    "\n",
    "This is the key part. Each instrument function (like `mfi`, `swe`, etc.) takes a `datatype` parameter. The easiest way to see the valid options for `datatype` is to use the `help()` function on the instrument function itself. The docstring will list all valid data types.\n",
    "\n",
    "Here are a few examples for the **Wind** mission:\n"
   ]
  },
  {
   "cell_type": "code",
   "execution_count": 2,
   "metadata": {},
   "outputs": [
    {
     "name": "stdout",
     "output_type": "stream",
     "text": [
      "Help on function mfi in module pyspedas.projects.wind.mfi:\n",
      "\n",
      "mfi(trange=['2018-11-5', '2018-11-6'], datatype='h0', prefix='', suffix='', get_support_data=False, varformat=None, varnames=[], downloadonly=False, force_download=False, notplot=False, no_update=False, time_clip=False, addmaster=True)\n",
      "    Load data from the WIND Fluxgate Magnetometer\n",
      "\n",
      "    Parameters\n",
      "    ----------\n",
      "        trange : list of str\n",
      "            time range of interest [starttime, endtime] with the format\n",
      "            'YYYY-MM-DD','YYYY-MM-DD'] or to specify more or less than a day\n",
      "            ['YYYY-MM-DD/hh:mm:ss','YYYY-MM-DD/hh:mm:ss']\n",
      "            Default: ['2018-11-5', '2018-11-6']\n",
      "\n",
      "        datatype: str\n",
      "            Data type; Valid options: 'h0', 'h1', 'h2', 'h3-rtn', 'h4-rtn', 'k0'\n",
      "            Default: 'h0'\n",
      "\n",
      "        prefix: str\n",
      "            The tplot variable names will be given this prefix.\n",
      "            Default: ''\n",
      "\n",
      "        suffix: str\n",
      "            The tplot variable names will be given this suffix.\n",
      "            Default: ''\n",
      "\n",
      "        get_support_data: bool\n",
      "            Data with an attribute \"VAR_TYPE\" with a value of \"support_data\"\n",
      "            will be loaded into tplot.\n",
      "            Default: False\n",
      "\n",
      "        varformat: str\n",
      "            The file variable formats to load into tplot.  Wildcard character\n",
      "            \"*\" is accepted.\n",
      "            Default: None (all variables will be loaded)\n",
      "\n",
      "        varnames: list of str\n",
      "            List of variable names to load (if empty list or not specified,\n",
      "            all data variables are loaded)\n",
      "            Default: [] (all variables will be loaded)\n",
      "\n",
      "        downloadonly: bool\n",
      "            Set this flag to download the CDF files, but not load them into\n",
      "            tplot variables\n",
      "            Default: False\n",
      "\n",
      "        force_download: bool\n",
      "            Set this flag to download the CDF files, even if the local copy is newer.\n",
      "            Default: False\n",
      "\n",
      "        notplot: bool\n",
      "            Return the data in hash tables instead of creating tplot variables\n",
      "            Default: False\n",
      "\n",
      "        no_update: bool\n",
      "            If set, only load data from your local cache\n",
      "            Default: False\n",
      "\n",
      "        time_clip: bool\n",
      "            Time clip the variables to exactly the range specified in the trange keyword\n",
      "            Default: False\n",
      "\n",
      "        addmaster: bool\n",
      "            If True, use the metadata from a master CDF at SPDF rather than the metadata in the data file\n",
      "            Default: True\n",
      "\n",
      "\n",
      "    Returns\n",
      "    ----------\n",
      "        List of tplot variables created.\n",
      "\n",
      "    Examples\n",
      "    --------\n",
      "\n",
      "    >>> import pyspedas\n",
      "    >>> from pyspedas import tplot\n",
      "    >>> vars = pyspedas.projects.wind.mfi(trange=['2018-11-5', '2018-11-6'],datatype='h0')\n",
      "    >>> tplot(vars)\n",
      "\n"
     ]
    }
   ],
   "source": [
    "# Magnetic Field Investigation (MFI)\n",
    "help(pyspedas.projects.wind.mfi)\n"
   ]
  },
  {
   "cell_type": "code",
   "execution_count": null,
   "metadata": {},
   "outputs": [],
   "source": [
    "# Solar Wind Experiment (SWE)\n",
    "help(pyspedas.projects.wind.swe)\n"
   ]
  },
  {
   "cell_type": "code",
   "execution_count": null,
   "metadata": {},
   "outputs": [],
   "source": [
    "# 3D Plasma Analyzer (3DP)\n",
    "help(pyspedas.projects.wind.threedp)\n"
   ]
  },
  {
   "cell_type": "code",
   "execution_count": null,
   "metadata": {},
   "outputs": [],
   "source": [
    "# Radio and Plasma Waves (WAVES)\n",
    "help(pyspedas.projects.wind.waves)\n"
   ]
  }
 ],
 "metadata": {
  "kernelspec": {
   "display_name": "plotbot_env",
   "language": "python",
   "name": "python3"
  },
  "language_info": {
   "codemirror_mode": {
    "name": "ipython",
    "version": 3
   },
   "file_extension": ".py",
   "mimetype": "text/x-python",
   "name": "python",
   "nbconvert_exporter": "python",
   "pygments_lexer": "ipython3",
   "version": "3.12.4"
  }
 },
 "nbformat": 4,
 "nbformat_minor": 2
}
