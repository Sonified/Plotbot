{
 "cells": [
  {
   "cell_type": "code",
   "execution_count": 1,
   "metadata": {},
   "outputs": [
    {
     "name": "stdout",
     "output_type": "stream",
     "text": [
      "DynamicDataHandler.pyi is already up-to-date.\n",
      "Instantiating dynamic class (no data yet)...\n",
      "Accessing dynamic_instance.var1 (before data): <SimplePlotManager for 'Variable 1', data shape: (0,), datetime len: 0>\n",
      "Accessing dynamic_instance.var2 (before data): <SimplePlotManager for 'Variable 2', data shape: (0,), datetime len: 0>\n",
      "Accessing dynamic_instance.var_sum (before data): <SimplePlotManager for 'Var1 + Var2', data shape: (0,), datetime len: 0>\n",
      "------------------------------\n",
      "Simulating data import...\n",
      "Updating dummy_inst_dummy_type1...\n",
      "  Updated datetime_array, length: 5\n",
      "Update for dummy_inst_dummy_type1 complete.\n",
      "------------------------------\n",
      "Accessing properties after data load:\n",
      "dynamic_instance.var1: <SimplePlotManager for 'Variable 1', data shape: (5,), datetime len: 5>\n",
      "  var1 data: [10 11 12 13 14]\n",
      "  var1 plot options: {'y_label': 'Var1 (dummy_units_1)', 'legend_label': 'Variable 1', 'color': 'blue'}\n",
      "dynamic_instance.var2: <SimplePlotManager for 'Variable 2', data shape: (5,), datetime len: 5>\n",
      "  var2 data: [20 22 24 26 28]\n",
      "dynamic_instance.var_sum: <SimplePlotManager for 'Var1 + Var2', data shape: (5,), datetime len: 5>\n",
      "  var_sum data: [30 33 36 39 42]\n",
      "  var_sum plot options: {'y_label': 'Sum (dummy_units_1)', 'legend_label': 'Var1 + Var2', 'color': 'green'}\n",
      "------------------------------\n",
      "\n",
      "Simulating data import with different length for one variable...\n",
      "Updating dummy_inst_dummy_type1...\n",
      "  Updated datetime_array, length: 3\n",
      "  Warning for 'var_sum': Input arrays have different lengths. Truncating for operation.\n",
      "  Warning: Length mismatch for PlotManager 'var1'. Datetime: 3, Data: 4. Adjusting data to datetime length.\n",
      "Update for dummy_inst_dummy_type1 complete.\n",
      "Accessing properties after second data load (with mismatched lengths):\n",
      "dynamic_instance.var1: <SimplePlotManager for 'Variable 1', data shape: (3,), datetime len: 3>\n",
      "  var1 data after second update: [100 110 120]\n",
      "dynamic_instance.var2: <SimplePlotManager for 'Variable 2', data shape: (3,), datetime len: 3>\n",
      "  var2 data after second update: [200 220 240]\n",
      "dynamic_instance.var_sum: <SimplePlotManager for 'Var1 + Var2', data shape: (3,), datetime len: 3>\n",
      "  var_sum data after second update: [300 330 360]\n",
      "\n",
      "Test complete.\n"
     ]
    }
   ],
   "source": [
    "from dynamic_class_test import *"
   ]
  },
  {
   "cell_type": "code",
   "execution_count": 2,
   "metadata": {},
   "outputs": [
    {
     "name": "stdout",
     "output_type": "stream",
     "text": [
      "Generating .pyi stub file from notebook...\n",
      "dynamic_class_test.pyi is already up-to-date.\n",
      "Generation complete. You might need to restart the VSCode window/Pylance and the Jupyter kernel for IDE changes to take effect.\n"
     ]
    }
   ],
   "source": [
    "    # --- Whenever you want to regenerate the .pyi file (e.g., after changing metadata) ---\n",
    "    print(\"Generating .pyi stub file from notebook...\")\n",
    "    generate_pyi_stub(\n",
    "        metadata=dummy_metadata,  # Or your current, potentially modified metadata\n",
    "        class_name_for_stub='DynamicDataHandler',\n",
    "        pyi_filename=\"dynamic_class_test.pyi\" # Ensure this path is correct relative to notebook or use absolute\n",
    "    )\n",
    "    print(\"Generation complete. You might need to restart the VSCode window/Pylance and the Jupyter kernel for IDE changes to take effect.\")\n",
    "    # ---\n"
   ]
  },
  {
   "cell_type": "code",
   "execution_count": 3,
   "metadata": {},
   "outputs": [
    {
     "name": "stdout",
     "output_type": "stream",
     "text": [
      "MyDynamicHandler.pyi is already up-to-date.\n",
      "Updating dummy_inst_dummy_type1...\n",
      "  Updated datetime_array, length: 5\n",
      "Update for dummy_inst_dummy_type1 complete.\n",
      "<SimplePlotManager for 'Variable 1', data shape: (5,), datetime len: 5>\n"
     ]
    },
    {
     "name": "stderr",
     "output_type": "stream",
     "text": [
      "/var/folders/3n/8nbttjbs573270nf5nvjg3cw0000gn/T/ipykernel_53076/2083550539.py:11: DeprecationWarning: parsing timezone aware datetimes is deprecated; this will raise an error in the future\n",
      "  simulated_times = np.array([f'2024-01-01T00:00:0{i}Z' for i in range(5)], dtype='datetime64[s]')\n"
     ]
    },
    {
     "ename": "AttributeError",
     "evalue": "'MyDynamicHandler' object has no attribute 'var3'",
     "output_type": "error",
     "traceback": [
      "\u001b[31m---------------------------------------------------------------------------\u001b[39m",
      "\u001b[31mAttributeError\u001b[39m                            Traceback (most recent call last)",
      "\u001b[36mCell\u001b[39m\u001b[36m \u001b[39m\u001b[32mIn[3]\u001b[39m\u001b[32m, line 22\u001b[39m\n\u001b[32m     20\u001b[39m \u001b[38;5;66;03m# Access properties\u001b[39;00m\n\u001b[32m     21\u001b[39m \u001b[38;5;28mprint\u001b[39m(instance.var1)\n\u001b[32m---> \u001b[39m\u001b[32m22\u001b[39m \u001b[38;5;28mprint\u001b[39m(\u001b[43minstance\u001b[49m\u001b[43m.\u001b[49m\u001b[43mvar3\u001b[49m)\n\u001b[32m     23\u001b[39m \u001b[38;5;28mprint\u001b[39m(instance.var_sum.data)\n",
      "\u001b[31mAttributeError\u001b[39m: 'MyDynamicHandler' object has no attribute 'var3'"
     ]
    }
   ],
   "source": [
    "# Use the imported metadata\n",
    "MyDynamicHandler = create_data_class(\"MyDynamicHandler\", dummy_metadata)\n",
    "instance = MyDynamicHandler()\n",
    "\n",
    "# Or define new metadata in the notebook\n",
    "# new_meta = { ... }\n",
    "# MyOtherHandler = create_data_class(\"MyOtherHandler\", new_meta)\n",
    "# other_instance = MyOtherHandler()\n",
    "\n",
    "# Example of updating with data:\n",
    "simulated_times = np.array([f'2024-01-01T00:00:0{i}Z' for i in range(5)], dtype='datetime64[s]')\n",
    "simulated_data_dict = {\n",
    "    'var1': np.array([10, 11, 12, 13, 14]),\n",
    "    'var2': np.array([20, 22, 24, 26, 28]),\n",
    "    'var3': np.array([20, 22, 24, 26, 28])\n",
    "}\n",
    "simulated_imported_data = TestDataObject(times=simulated_times, data=simulated_data_dict)\n",
    "instance.update(simulated_imported_data)\n",
    "\n",
    "# Access properties\n",
    "print(instance.var1)\n",
    "print(instance.var3)\n",
    "print(instance.var_sum.data)"
   ]
  },
  {
   "cell_type": "code",
   "execution_count": null,
   "metadata": {},
   "outputs": [
    {
     "name": "stdout",
     "output_type": "stream",
     "text": [
      "Instantiating dynamic class (no data yet)...\n",
      "Accessing dynamic_instance.var1 (before data): <SimplePlotManager for 'Variable 1', data shape: (0,), datetime len: 0>\n",
      "Accessing dynamic_instance.var2 (before data): <SimplePlotManager for 'Variable 2', data shape: (0,), datetime len: 0>\n",
      "Accessing dynamic_instance.var_sum (before data): <SimplePlotManager for 'Var1 + Var2', data shape: (0,), datetime len: 0>\n",
      "------------------------------\n",
      "Simulating data import...\n",
      "Updating dummy_inst_dummy_type1...\n",
      "  Updated datetime_array, length: 5\n",
      "Update for dummy_inst_dummy_type1 complete.\n",
      "------------------------------\n",
      "Accessing properties after data load:\n",
      "dynamic_instance.var1: <SimplePlotManager for 'Variable 1', data shape: (5,), datetime len: 5>\n",
      "  var1 data: [10 11 12 13 14]\n",
      "  var1 plot options: {'y_label': 'Var1 (dummy_units_1)', 'legend_label': 'Variable 1', 'color': 'blue'}\n",
      "dynamic_instance.var2: <SimplePlotManager for 'Variable 2', data shape: (5,), datetime len: 5>\n",
      "  var2 data: [20 22 24 26 28]\n",
      "dynamic_instance.var_sum: <SimplePlotManager for 'Var1 + Var2', data shape: (5,), datetime len: 5>\n",
      "  var_sum data: [30 33 36 39 42]\n",
      "  var_sum plot options: {'y_label': 'Sum (dummy_units_1)', 'legend_label': 'Var1 + Var2', 'color': 'green'}\n",
      "------------------------------\n",
      "\n",
      "Simulating data import with different length for one variable...\n",
      "Updating dummy_inst_dummy_type1...\n",
      "  Updated datetime_array, length: 3\n",
      "  Warning for 'var_sum': Input arrays have different lengths. Truncating for operation.\n",
      "  Warning: Length mismatch for PlotManager 'var1'. Datetime: 3, Data: 4. Adjusting data to datetime length.\n",
      "Update for dummy_inst_dummy_type1 complete.\n",
      "Accessing properties after second data load (with mismatched lengths):\n",
      "dynamic_instance.var1: <SimplePlotManager for 'Variable 1', data shape: (3,), datetime len: 3>\n",
      "  var1 data after second update: [100 110 120]\n",
      "dynamic_instance.var2: <SimplePlotManager for 'Variable 2', data shape: (3,), datetime len: 3>\n",
      "  var2 data after second update: [200 220 240]\n",
      "dynamic_instance.var_sum: <SimplePlotManager for 'Var1 + Var2', data shape: (3,), datetime len: 3>\n",
      "  var_sum data after second update: [300 330 360]\n",
      "\n",
      "Test complete.\n"
     ]
    }
   ],
   "source": [
    "from dynamic_class_test import *"
   ]
  }
 ],
 "metadata": {
  "kernelspec": {
   "display_name": "plotbot_env",
   "language": "python",
   "name": "python3"
  },
  "language_info": {
   "codemirror_mode": {
    "name": "ipython",
    "version": 3
   },
   "file_extension": ".py",
   "mimetype": "text/x-python",
   "name": "python",
   "nbconvert_exporter": "python",
   "pygments_lexer": "ipython3",
   "version": "3.12.4"
  }
 },
 "nbformat": 4,
 "nbformat_minor": 2
}
