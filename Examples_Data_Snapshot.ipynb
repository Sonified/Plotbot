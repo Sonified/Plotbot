{
 "cells": [
  {
   "cell_type": "code",
   "execution_count": 1,
   "metadata": {},
   "outputs": [
    {
     "name": "stdout",
     "output_type": "stream",
     "text": [
      "initialized server_access\n",
      "initialized global_tracker\n",
      "initialized ploptions\n",
      "initialized plot_manager\n",
      "initialized mag_rtn_4sa class\n",
      "initialized mag_rtn class\n",
      "initialized mag_sc_4sa class\n",
      "initialized mag_sc class\n",
      "initialized epad class\n",
      "initialized epad_hr class\n",
      "initialized proton class\n",
      "initialized proton_hr class\n",
      "initialized data_cubby\n",
      "initialized proton_fits class\n",
      "initialized ham_class\n",
      "🔉 initialized audifier\n",
      "\n",
      "Importing libraries, this may take a moment. Hold tight... \n",
      "\n",
      "✅ Imported standard libraries and utilities.\n",
      "✅ Imported numpy, pandas, and scipy libraries.\n",
      "✅ Imported matplotlib libraries.\n",
      "✅ Imported cdflib, BeautifulSoup, requests, dateutil, and datetime libraries.\n",
      "\n",
      "🤖 Plotbot Initialized\n",
      "✨ Showdahodo initialized\n",
      "Positional Data Helper Initialized\n",
      "📈📉 Multiplot Initialized\n",
      "\u001b[94m   Version: 2025_05_04_v2.03\u001b[0m\n",
      "Commit: v2.03: Clone of f186bfc, follows an accidental github compression command that was not pushed, restoring balance in the universe\n",
      "\n",
      "\u001b[94m🤖 Plotbot Initialized\u001b[0m\n"
     ]
    }
   ],
   "source": [
    "import plotbot as pb"
   ]
  }
 ],
 "metadata": {
  "kernelspec": {
   "display_name": "plotbot_env",
   "language": "python",
   "name": "python3"
  },
  "language_info": {
   "codemirror_mode": {
    "name": "ipython",
    "version": 3
   },
   "file_extension": ".py",
   "mimetype": "text/x-python",
   "name": "python",
   "nbconvert_exporter": "python",
   "pygments_lexer": "ipython3",
   "version": "3.12.4"
  }
 },
 "nbformat": 4,
 "nbformat_minor": 2
}
