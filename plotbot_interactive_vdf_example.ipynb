{
  "cells": [
    {
      "cell_type": "markdown",
      "metadata": {},
      "source": [
        "# 🤖 Plotbot Interactive VDF Example\n",
        "\n",
        "This notebook demonstrates the new `plotbot_interactive_vdf()` function with time slider functionality.\n",
        "\n",
        "## Features:\n",
        "- **Interactive time navigation** - Slider to navigate through VDF data over time\n",
        "- **Real-time parameter controls** - Adjust VDF bounds, colormaps, and settings\n",
        "- **Publication-ready styling** - Maintains Plotbot's clean aesthetic\n",
        "- **3-panel VDF layout** - 1D collapsed, theta-plane, phi-plane views\n",
        "- **Web-based interface** - Runs in browser for smooth interaction\n"
      ]
    },
    {
      "cell_type": "code",
      "execution_count": 1,
      "metadata": {},
      "outputs": [
        {
          "name": "stdout",
          "output_type": "stream",
          "text": [
            "initialized server_access\n",
            "initialized global_tracker\n",
            "initialized ploptions\n",
            "initialized plot_manager\n",
            "initialized epad class\n",
            "initialized epad_hr class\n",
            "initialized proton class\n",
            "initialized proton_hr class\n",
            "initialized ham_class\n",
            "initialized psp_alpha class\n",
            "initialized psp_qtn class\n",
            "initialized psp_orbit class\n",
            "initialized psp_span_vdf class\n",
            "initialized data_cubby.\n",
            "CDF classes added to data_cubby type map.\n",
            "initialized proton_fits class\n",
            "initialized alpha_fits class\n",
            "🔉 initialized audifier\n",
            "\n",
            "Importing libraries, this may take a moment. Hold tight... \n",
            "\n",
            "✅ Imported standard libraries and utilities.\n",
            "✅ Imported numpy, pandas, and scipy libraries.\n",
            "✅ Imported matplotlib libraries.\n",
            "✅ Imported cdflib, BeautifulSoup, requests, dateutil, and datetime libraries.\n",
            "\n",
            "🤖 Plotbot Initialized\n",
            "✨ Showdahodo initialized\n",
            "Positional Data Helper Initialized\n",
            "📈📉 Multiplot Initialized\n",
            "\n",
            "🤖 Plotbot Initialized\n",
            "📈📉 Multiplot Initialized\n",
            "   Version: 2025_08_18_v3.15\n",
            "   Commit: v3.15 Fix: Enhanced T⊥/T∥ LaTeX-to-Unicode conversion for both legend and y-axis labels\n",
            "\n"
          ]
        }
      ],
      "source": [
        "# Import Plotbot with new interactive VDF functionality\n",
        "from plotbot import *\n"
      ]
    },
    {
      "cell_type": "markdown",
      "metadata": {},
      "source": [
        "## Basic Interactive VDF\n",
        "\n",
        "Create an interactive VDF plot with time slider controls:\n"
      ]
    },
    {
      "cell_type": "code",
      "execution_count": 2,
      "metadata": {},
      "outputs": [
        {
          "name": "stderr",
          "output_type": "stream",
          "text": [
            "26-Aug-25 21:36:39: Local files found: ['data/psp/sweap/spi/l2/spi_sf00_8dx32ex8a/2020/psp_swp_spi_sf00_l2_8dx32ex8a_20200129_v04.cdf', 'data/psp/sweap/spi/l3/spi_sf00_l3_mom/2020/psp_swp_spi_sf00_L3_mom_20200129_v04.cdf']\n"
          ]
        },
        {
          "name": "stdout",
          "output_type": "stream",
          "text": [
            "📅 Time range: 2020-01-29/18:00:00.000 to 2020-01-29/18:30:00.000\n",
            "🚀 Creating interactive VDF plot with time slider...\n",
            "🔍 DEBUG: About to create VDF Dash app...\n",
            "🔍 DEBUG: About to call fast_vdf_processing...\n",
            "🔍 DEBUG: VDF processing complete. Theta shape: (32, 8), Phi shape: (8, 32)\n",
            "🔍 DEBUG create_plotly_vdf_plot: θ-plane\n",
            "  Input shapes: vx=(32, 8), vy=(32, 8), vdf=(32, 8)\n",
            "  Valid data points: 119/256 (46.5%)\n",
            "  Z range: 5.26e+01 to 2.33e+07\n",
            "  ✅ Scatter plot created with 119 points for θ-plane\n",
            "🔍 DEBUG create_plotly_vdf_plot: φ-plane\n",
            "  Input shapes: vx=(8, 32), vy=(8, 32), vdf=(8, 32)\n",
            "  Valid data points: 118/256 (46.1%)\n",
            "  Z range: 4.25e+01 to 1.97e+07\n",
            "  ✅ Scatter plot created with 118 points for φ-plane\n",
            "🔍 DEBUG: Dash app created, about to launch...\n",
            "🔍 DEBUG: VDF Dash app should be running!\n",
            "🌐 Interactive VDF plot running at: http://127.0.0.1:8051\n",
            "📌 Use the time slider to navigate through VDF data!\n",
            "⚙️ Adjust parameters in real-time using the controls below the plot\n"
          ]
        }
      ],
      "source": [
        "# Define time range with multiple VDF time points\n",
        "# Using known working time range from plotbot_vdf_examples.ipynb\n",
        "trange = ['2020-01-29/18:00:00.000', '2020-01-29/18:30:00.000']\n",
        "\n",
        "print(f\"📅 Time range: {trange[0]} to {trange[1]}\")\n",
        "print(\"🚀 Creating interactive VDF plot with time slider...\")\n",
        "\n",
        "# Create interactive VDF plot\n",
        "# This will open in your browser with time slider controls\n",
        "app = plotbot_interactive_vdf(trange)\n",
        "\n",
        "# The app runs on port 8051 by default\n",
        "print(\"🌐 Interactive VDF plot running at: http://127.0.0.1:8051\")\n",
        "print(\"📌 Use the time slider to navigate through VDF data!\")\n",
        "print(\"⚙️ Adjust parameters in real-time using the controls below the plot\")\n"
      ]
    }
  ],
  "metadata": {
    "kernelspec": {
      "display_name": "plotbot_env",
      "language": "python",
      "name": "python3"
    },
    "language_info": {
      "codemirror_mode": {
        "name": "ipython",
        "version": 3
      },
      "file_extension": ".py",
      "mimetype": "text/x-python",
      "name": "python",
      "nbconvert_exporter": "python",
      "pygments_lexer": "ipython3",
      "version": "3.12.4"
    }
  },
  "nbformat": 4,
  "nbformat_minor": 2
}
