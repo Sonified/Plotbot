{
  "cells": [
    {
      "cell_type": "markdown",
      "metadata": {},
      "source": [
        "# 🤖 Plotbot Interactive VDF Example\n",
        "\n",
        "This notebook demonstrates the new `plotbot_interactive_vdf()` function with time slider functionality.\n",
        "\n",
        "## Features:\n",
        "- **Interactive time navigation** - Slider to navigate through VDF data over time\n",
        "- **Real-time parameter controls** - Adjust VDF bounds, colormaps, and settings\n",
        "- **Publication-ready styling** - Maintains Plotbot's clean aesthetic\n",
        "- **3-panel VDF layout** - 1D collapsed, theta-plane, phi-plane views\n",
        "- **Web-based interface** - Runs in browser for smooth interaction\n"
      ]
    },
    {
      "cell_type": "code",
      "execution_count": 1,
      "metadata": {},
      "outputs": [
        {
          "name": "stdout",
          "output_type": "stream",
          "text": [
            "initialized server_access\n",
            "initialized global_tracker\n",
            "initialized ploptions\n",
            "initialized plot_manager\n",
            "initialized epad class\n",
            "initialized epad_hr class\n",
            "initialized proton class\n",
            "initialized proton_hr class\n",
            "initialized ham_class\n",
            "initialized psp_alpha class\n",
            "initialized psp_qtn class\n",
            "initialized psp_orbit class\n",
            "initialized psp_span_vdf class\n",
            "initialized data_cubby.\n",
            "CDF classes added to data_cubby type map.\n",
            "initialized proton_fits class\n",
            "initialized alpha_fits class\n",
            "🔉 initialized audifier\n",
            "\n",
            "Importing libraries, this may take a moment. Hold tight... \n",
            "\n",
            "✅ Imported standard libraries and utilities.\n",
            "✅ Imported numpy, pandas, and scipy libraries.\n",
            "✅ Imported matplotlib libraries.\n",
            "✅ Imported cdflib, BeautifulSoup, requests, dateutil, and datetime libraries.\n",
            "\n",
            "🤖 Plotbot Initialized\n",
            "✨ Showdahodo initialized\n",
            "Positional Data Helper Initialized\n",
            "📈📉 Multiplot Initialized\n",
            "\n",
            "🤖 Plotbot Initialized\n",
            "📈📉 Multiplot Initialized\n",
            "   Version: 2025_08_27_v3.18\n",
            "   Commit: v3.18 Fix: Added VS Code workspace configuration for enhanced syntax highlighting and fixed VDF module linter errors\n",
            "\n"
          ]
        }
      ],
      "source": [
        "# Import Plotbot with new interactive VDF functionality\n",
        "from plotbot import *\n"
      ]
    },
    {
      "cell_type": "markdown",
      "metadata": {},
      "source": [
        "## Basic Interactive VDF\n",
        "\n",
        "Create an interactive VDF plot with time slider controls:\n"
      ]
    },
    {
      "cell_type": "code",
      "execution_count": 2,
      "metadata": {},
      "outputs": [
        {
          "name": "stderr",
          "output_type": "stream",
          "text": [
            "27-Aug-25 15:23:12: Local files found: ['data/psp/sweap/spi/l2/spi_sf00_8dx32ex8a/2020/psp_swp_spi_sf00_l2_8dx32ex8a_20200129_v04.cdf', 'data/psp/sweap/spi/l3/spi_sf00_l3_mom/2020/psp_swp_spi_sf00_L3_mom_20200129_v04.cdf']\n"
          ]
        },
        {
          "name": "stdout",
          "output_type": "stream",
          "text": [
            "📅 Time range: 2020-01-29/18:00:00.000 to 2020-01-29/18:30:00.000\n",
            "🚀 Creating interactive VDF plot with time slider...\n",
            "🔍 DEBUG: About to create VDF Dash app...\n",
            "🔍 DEBUG: About to call fast_vdf_processing...\n",
            "VDF processing: 0.253s\n",
            "🔍 DEBUG: VDF processing complete. Theta shape: (32, 8), Phi shape: (8, 32)\n",
            "Creating FIXED Mesh3d plot for θ-plane\n",
            "  Input shapes: vx=(32, 8), vy=(32, 8), vdf=(32, 8)\n",
            "  ✅ Regular grid detected: 32×8 points\n",
            "  ✅ Created 179 grid-structured triangles (preserves smoothness)\n",
            "  Valid data points: 119/256\n",
            "  ✅ Grid-structured Mesh3d plot created for θ-plane\n",
            "Creating FIXED Mesh3d plot for φ-plane\n",
            "  Input shapes: vx=(8, 32), vy=(8, 32), vdf=(8, 32)\n",
            "  ✅ Regular grid detected: 8×32 points\n",
            "  ✅ Created 172 grid-structured triangles (preserves smoothness)\n",
            "  Valid data points: 118/256\n",
            "  ✅ Grid-structured Mesh3d plot created for φ-plane\n",
            "🔍 DEBUG: Dash app created, about to launch...\n"
          ]
        },
        {
          "data": {
            "text/html": [
              "\n",
              "        <iframe\n",
              "            width=\"100%\"\n",
              "            height=\"650\"\n",
              "            src=\"http://127.0.0.1:8051/\"\n",
              "            frameborder=\"0\"\n",
              "            allowfullscreen\n",
              "            \n",
              "        ></iframe>\n",
              "        "
            ],
            "text/plain": [
              "<IPython.lib.display.IFrame at 0x33fd51820>"
            ]
          },
          "metadata": {},
          "output_type": "display_data"
        },
        {
          "name": "stdout",
          "output_type": "stream",
          "text": [
            "🔍 DEBUG: VDF Dash app should be running!\n",
            "🌐 Interactive VDF plot running at: http://127.0.0.1:8051\n",
            "📌 Use the time slider to navigate through VDF data!\n",
            "⚙️ Adjust parameters in real-time using the controls below the plot\n"
          ]
        }
      ],
      "source": [
        "# Define time range with multiple VDF time points\n",
        "# Using known working time range from plotbot_vdf_examples.ipynb\n",
        "trange = ['2020-01-29/18:00:00.000', '2020-01-29/18:30:00.000']\n",
        "\n",
        "print(f\"📅 Time range: {trange[0]} to {trange[1]}\")\n",
        "print(\"🚀 Creating interactive VDF plot with time slider...\")\n",
        "\n",
        "# Create interactive VDF plot\n",
        "# This will open in your browser with time slider controls\n",
        "app = plotbot_interactive_vdf(trange)\n",
        "\n",
        "# The app runs on port 8051 by default\n",
        "print(\"🌐 Interactive VDF plot running at: http://127.0.0.1:8051\")\n",
        "print(\"📌 Use the time slider to navigate through VDF data!\")\n",
        "print(\"⚙️ Adjust parameters in real-time using the controls below the plot\")\n"
      ]
    }
  ],
  "metadata": {
    "kernelspec": {
      "display_name": "plotbot_env",
      "language": "python",
      "name": "python3"
    },
    "language_info": {
      "codemirror_mode": {
        "name": "ipython",
        "version": 3
      },
      "file_extension": ".py",
      "mimetype": "text/x-python",
      "name": "python",
      "nbconvert_exporter": "python",
      "pygments_lexer": "ipython3",
      "version": "3.12.4"
    }
  },
  "nbformat": 4,
  "nbformat_minor": 2
}
