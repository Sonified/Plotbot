{
  "cells": [
    {
      "cell_type": "markdown",
      "metadata": {
        "vscode": {
          "languageId": "raw"
        }
      },
      "source": [
        "# PSP SPAN-I VDF Plotting Examples\n",
        "\n",
        "This notebook demonstrates how to create beautiful Velocity Distribution Function (VDF) plots using Plotbot's `vdyes()` function.\n",
        "\n",
        "## What You'll Learn:\n",
        "- How to use `vdyes()` for PSP SPAN-I VDF plotting\n",
        "- Parameter system for customizing VDF plots (smart bounds, colormaps, axis limits)\n",
        "- Different VDF views: theta-plane, phi-plane, and collapsed distributions\n",
        "- Real examples with PSP solar wind data showing the famous \"hammerhead\" distribution\n",
        "\n",
        "## About VDFs:\n",
        "Velocity Distribution Functions show how particles are distributed in velocity space. For PSP SPAN-I:\n",
        "- **Theta-plane**: Vx vs Vz (field-parallel vs field-perpendicular structure)\n",
        "- **Phi-plane**: Vx vs Vy (azimuthal velocity space)\n",
        "- **Collapsed**: 1D distribution summed over angles\n",
        "\n",
        "The VDF integration uses Jaye's proven algorithms and reproduces the exact results from the original SPAN-I tutorial.\n"
      ]
    },
    {
      "cell_type": "code",
      "execution_count": 1,
      "metadata": {},
      "outputs": [
        {
          "name": "stdout",
          "output_type": "stream",
          "text": [
            "initialized server_access\n",
            "initialized global_tracker\n",
            "initialized ploptions\n",
            "initialized plot_manager\n",
            "initialized epad class\n",
            "initialized epad_hr class\n",
            "initialized proton class\n",
            "initialized proton_hr class\n",
            "initialized ham_class\n",
            "initialized psp_alpha class\n",
            "initialized psp_qtn class\n",
            "initialized psp_orbit class\n",
            "initialized psp_span_vdf class\n",
            "initialized data_cubby.\n",
            "CDF classes added to data_cubby type map.\n",
            "initialized proton_fits class\n",
            "initialized alpha_fits class\n",
            "🔉 initialized audifier\n",
            "\n",
            "Importing libraries, this may take a moment. Hold tight... \n",
            "\n",
            "✅ Imported standard libraries and utilities.\n",
            "✅ Imported numpy, pandas, and scipy libraries.\n",
            "✅ Imported matplotlib libraries.\n",
            "✅ Imported cdflib, BeautifulSoup, requests, dateutil, and datetime libraries.\n",
            "\n",
            "🤖 Plotbot Initialized\n",
            "✨ Showdahodo initialized\n",
            "Positional Data Helper Initialized\n",
            "📈📉 Multiplot Initialized\n",
            "\n",
            "🤖 Plotbot Initialized\n",
            "📈📉 Multiplot Initialized\n",
            "   Version: 2025_07_28_v3.04\n",
            "   Commit: v3.04 Fix: Updated showdahodo.py to use .all_data instead of .data for consistency with refactored data access patterns, consolidated test_class_data_alignment.py into test_stardust.py.\n",
            "\n",
            "🚀 PSP SPAN-I VDF Plotting Demo\n",
            "Using vdyes() - VDF plotting the fine way!\n"
          ]
        }
      ],
      "source": [
        "# Import Plotbot\n",
        "from plotbot import *\n",
        "\n",
        "print(\"🚀 PSP SPAN-I VDF Plotting Demo\")\n",
        "print(\"Using vdyes() - VDF plotting the fine way!\")\n"
      ]
    },
    {
      "cell_type": "markdown",
      "metadata": {},
      "source": [
        "## 1. Basic VDF Plotting\n",
        "\n",
        "The simplest way to create VDF plots is with `vdyes(trange)`:\n",
        "\n",
        "```python\n",
        "# Basic usage (uses default parameters)\n",
        "fig = vdyes(['2020/01/29 00:00:00.000', '2020/01/30 00:00:00.000'])\n",
        "```\n",
        "\n",
        "This creates a 3-panel plot with:\n",
        "- Left: 1D collapsed VDF\n",
        "- Middle: Theta-plane (Vx vs Vz) \n",
        "- Right: Phi-plane (Vx vs Vy)\n"
      ]
    },
    {
      "cell_type": "code",
      "execution_count": 2,
      "metadata": {},
      "outputs": [],
      "source": [
        "print_manager.show_status = False"
      ]
    },
    {
      "cell_type": "code",
      "execution_count": 3,
      "metadata": {},
      "outputs": [
        {
          "name": "stdout",
          "output_type": "stream",
          "text": [
            "📊 Example 1: Basic VDF Plot\n",
            "Using default parameters...\n",
            "🔗 Button handlers connected successfully\n"
          ]
        },
        {
          "data": {
            "application/vnd.jupyter.widget-view+json": {
              "model_id": "1e91abbee1cc404a9c5db60689cd9af3",
              "version_major": 2,
              "version_minor": 0
            },
            "text/plain": [
              "VBox(children=(HBox(children=(IntSlider(value=0, description='Time:', layout=Layout(width='600px'), max=16, st…"
            ]
          },
          "metadata": {},
          "output_type": "display_data"
        },
        {
          "name": "stdout",
          "output_type": "stream",
          "text": [
            "✅ VDF plot created!\n",
            "This shows PSP solar wind proton distributions\n",
            "Look for the characteristic 'hammerhead' shape in the theta-plane\n"
          ]
        }
      ],
      "source": [
        "# Example 1: Basic VDF plot with default settings\n",
        "print(\"📊 Example 1: Basic VDF Plot\")\n",
        "print(\"Using default parameters...\")\n",
        "\n",
        "# Create basic VDF plot\n",
        "trange = ['2020/01/29 18:00:00.000', '2020/01/29 18:02:00.000']\n",
        "fig = vdyes(trange)\n",
        "\n",
        "print(\"✅ VDF plot created!\")\n",
        "print(\"This shows PSP solar wind proton distributions\")\n",
        "print(\"Look for the characteristic 'hammerhead' shape in the theta-plane\")\n",
        "\n",
        "##------->> 🌟 LOOK in your bottom application bar for the CHANGE SAVE DIRECTORY dialogue box 🌟 <<------"
      ]
    },
    {
      "cell_type": "markdown",
      "metadata": {},
      "source": [
        "# PSP SPAN-I VDF Plotting Examples\n",
        "\n",
        "This notebook demonstrates how to create beautiful Velocity Distribution Function (VDF) plots using Plotbot's `vdyes()` function.\n",
        "\n",
        "## What You'll Learn:\n",
        "- How to use `vdyes()` for PSP SPAN-I VDF plotting\n",
        "- Parameter system for customizing VDF plots (smart bounds, colormaps, axis limits)\n",
        "- Different VDF views: theta-plane, phi-plane, and collapsed distributions\n",
        "- Real examples with PSP solar wind data showing the famous \"hammerhead\" distribution\n",
        "\n",
        "## About VDFs:\n",
        "Velocity Distribution Functions show how particles are distributed in velocity space. For PSP SPAN-I:\n",
        "- **Theta-plane**: Vx vs Vz (field-parallel vs field-perpendicular structure)\n",
        "- **Phi-plane**: Vx vs Vy (azimuthal velocity space)\n",
        "- **Collapsed**: 1D distribution summed over angles\n",
        "\n",
        "The VDF integration uses Jaye's proven algorithms and reproduces the exact results from the original SPAN-I tutorial.\n"
      ]
    },
    {
      "cell_type": "code",
      "execution_count": 4,
      "metadata": {},
      "outputs": [
        {
          "name": "stdout",
          "output_type": "stream",
          "text": [
            "🚀 PSP SPAN-I VDF Plotting Demo\n",
            "Using vdyes() - VDF plotting the fine way!\n"
          ]
        }
      ],
      "source": [
        "# Import Plotbot\n",
        "from plotbot import *\n",
        "\n",
        "print(\"🚀 PSP SPAN-I VDF Plotting Demo\")\n",
        "print(\"Using vdyes() - VDF plotting the fine way!\")\n"
      ]
    },
    {
      "cell_type": "markdown",
      "metadata": {},
      "source": [
        "## 1. Basic VDF Plotting\n",
        "\n",
        "The simplest way to create VDF plots is with `vdyes(trange)`:\n",
        "\n",
        "```python\n",
        "# Basic usage (uses default parameters)\n",
        "fig = vdyes(['2020/01/29 00:00:00.000', '2020/01/30 00:00:00.000'])\n",
        "```\n",
        "\n",
        "This creates a 3-panel plot with:\n",
        "- Left: 1D collapsed VDF\n",
        "- Middle: Theta-plane (Vx vs Vz) \n",
        "- Right: Phi-plane (Vx vs Vy)\n"
      ]
    },
    {
      "cell_type": "code",
      "execution_count": 5,
      "metadata": {},
      "outputs": [
        {
          "name": "stdout",
          "output_type": "stream",
          "text": [
            "📊 Example 1: Basic VDF Plot\n",
            "Using default parameters...\n",
            "🔗 Button handlers connected successfully\n"
          ]
        },
        {
          "data": {
            "application/vnd.jupyter.widget-view+json": {
              "model_id": "e127f50be5e04447a42a229bb626e457",
              "version_major": 2,
              "version_minor": 0
            },
            "text/plain": [
              "VBox(children=(HBox(children=(IntSlider(value=0, description='Time:', layout=Layout(width='600px'), max=85, st…"
            ]
          },
          "metadata": {},
          "output_type": "display_data"
        },
        {
          "name": "stdout",
          "output_type": "stream",
          "text": [
            "✅ VDF plot created!\n",
            "This shows PSP solar wind proton distributions\n",
            "Look for the characteristic 'hammerhead' shape in the theta-plane\n"
          ]
        }
      ],
      "source": [
        "# Example 1: Basic VDF plot with default settings\n",
        "print(\"📊 Example 1: Basic VDF Plot\")\n",
        "print(\"Using default parameters...\")\n",
        "\n",
        "# Create basic VDF plot\n",
        "trange = ['2020/01/29 18:00:00.000', '2020/01/29 18:10:00.000']\n",
        "fig = vdyes(trange)\n",
        "\n",
        "print(\"✅ VDF plot created!\")\n",
        "print(\"This shows PSP solar wind proton distributions\")\n",
        "print(\"Look for the characteristic 'hammerhead' shape in the theta-plane\")\n"
      ]
    },
    {
      "cell_type": "markdown",
      "metadata": {},
      "source": [
        "## 2. VDF Parameter System\n",
        "\n",
        "VDF plots are controlled by parameters set on the global `psp_span_vdf` instance, just like other Plotbot classes:\n",
        "\n",
        "```python\n",
        "# Set parameters before calling vdyes()\n",
        "psp_span_vdf.parameter_name = value\n",
        "fig = vdyes(trange)\n",
        "```\n",
        "\n",
        "### Available Parameters:\n",
        "\n",
        "#### Smart Bounds System (Auto-Zoom):\n",
        "- `enable_smart_padding` - Enable intelligent auto-zoom (True/False)\n",
        "- `theta_x_smart_padding` - Vx padding for theta-plane (km/s)\n",
        "- `theta_y_smart_padding` - Vz padding for theta-plane (km/s)\n",
        "- `phi_x_smart_padding` - Vx padding for phi-plane (km/s) \n",
        "- `phi_y_smart_padding` - Vy padding for phi-plane (km/s)\n",
        "- `enable_zero_clipping` - Auto-clip when data doesn't cross zero (True/False)\n",
        "\n",
        "#### Manual Axis Limits (Override Smart Bounds):\n",
        "- `theta_x_axis_limits` - Manual X-axis for theta-plane, e.g., (-800, 0)\n",
        "- `theta_y_axis_limits` - Manual Y-axis for theta-plane, e.g., (-400, 400)\n",
        "- `phi_x_axis_limits` - Manual X-axis for phi-plane\n",
        "- `phi_y_axis_limits` - Manual Y-axis for phi-plane\n",
        "\n",
        "#### Visual Settings:\n",
        "- `vdf_colormap` - Colormap: 'cool', 'viridis', 'plasma', 'jet', etc.\n"
      ]
    },
    {
      "cell_type": "code",
      "execution_count": 6,
      "metadata": {},
      "outputs": [
        {
          "name": "stdout",
          "output_type": "stream",
          "text": [
            "📊 Example 2: Custom Smart Bounds\n",
            "Demonstrating smart padding control...\n",
            "✅ Smart bounds configured:\n",
            "   Theta padding: X=50, Y=200 km/s\n",
            "   Phi padding: X=125, Y=150 km/s\n",
            "   Zero clipping: True\n",
            "   Colormap: cool\n",
            "🔗 Button handlers connected successfully\n"
          ]
        },
        {
          "data": {
            "application/vnd.jupyter.widget-view+json": {
              "model_id": "106425a8352849b697fd15afa3ac724d",
              "version_major": 2,
              "version_minor": 0
            },
            "text/plain": [
              "VBox(children=(HBox(children=(IntSlider(value=0, description='Time:', layout=Layout(width='600px'), max=85, st…"
            ]
          },
          "metadata": {},
          "output_type": "display_data"
        },
        {
          "name": "stdout",
          "output_type": "stream",
          "text": [
            "✅ VDF plot with custom smart bounds created!\n",
            "Notice the tighter zoom focusing on the bulk data distribution\n"
          ]
        }
      ],
      "source": [
        "# Example 2: Custom Smart Bounds\n",
        "print(\"📊 Example 2: Custom Smart Bounds\")\n",
        "print(\"Demonstrating smart padding control...\")\n",
        "\n",
        "# Configure smart bounds for tighter zoom\n",
        "psp_span_vdf.enable_smart_padding = True\n",
        "psp_span_vdf.theta_x_smart_padding = 50    # Tighter padding (default: 100)\n",
        "psp_span_vdf.theta_y_smart_padding = 200    # Custom Y padding  \n",
        "psp_span_vdf.phi_x_smart_padding = 125     # Custom phi plane padding\n",
        "psp_span_vdf.phi_y_smart_padding = 150\n",
        "psp_span_vdf.enable_zero_clipping = True   # Auto-clip at zero when appropriate\n",
        "psp_span_vdf.vdf_colormap = 'cool'         # Use cool colormap\n",
        "\n",
        "# psp_span_vdf.vdf_colormap = 'viridis'         # Use cool colormap\n",
        "\n",
        "\n",
        "print(\"✅ Smart bounds configured:\")\n",
        "print(f\"   Theta padding: X={psp_span_vdf.theta_x_smart_padding}, Y={psp_span_vdf.theta_y_smart_padding} km/s\")\n",
        "print(f\"   Phi padding: X={psp_span_vdf.phi_x_smart_padding}, Y={psp_span_vdf.phi_y_smart_padding} km/s\")\n",
        "print(f\"   Zero clipping: {psp_span_vdf.enable_zero_clipping}\")\n",
        "print(f\"   Colormap: {psp_span_vdf.vdf_colormap}\")\n",
        "\n",
        "# Create plot with custom smart bounds\n",
        "fig = vdyes(trange)\n",
        "\n",
        "print(\"✅ VDF plot with custom smart bounds created!\")\n",
        "print(\"Notice the tighter zoom focusing on the bulk data distribution\")\n"
      ]
    },
    {
      "cell_type": "code",
      "execution_count": 7,
      "metadata": {},
      "outputs": [
        {
          "name": "stdout",
          "output_type": "stream",
          "text": [
            "📊 Example 3: Manual Axis Limits\n",
            "Using Jaye's original bounds for comparison...\n",
            "✅ Manual axis limits set (Jaye's original):\n",
            "   Theta-plane: X=(-800, 0), Y=(-400, 400)\n",
            "   Phi-plane: X=(-800, 0), Y=(-200, 600)\n",
            "🔗 Button handlers connected successfully\n"
          ]
        },
        {
          "data": {
            "application/vnd.jupyter.widget-view+json": {
              "model_id": "98bd20dc19fa4b5498c4e88afd9d38ca",
              "version_major": 2,
              "version_minor": 0
            },
            "text/plain": [
              "VBox(children=(HBox(children=(IntSlider(value=0, description='Time:', layout=Layout(width='600px'), max=85, st…"
            ]
          },
          "metadata": {},
          "output_type": "display_data"
        },
        {
          "name": "stdout",
          "output_type": "stream",
          "text": [
            "✅ VDF plot with Jaye's original bounds created!\n",
            "This reproduces the exact view from the original SPAN-I tutorial\n"
          ]
        }
      ],
      "source": [
        "# Example 3: Manual Axis Control (Jaye's Original Bounds)\n",
        "print(\"📊 Example 3: Manual Axis Limits\")\n",
        "print(\"Using Jaye's original bounds for comparison...\")\n",
        "\n",
        "# Reset to use manual limits (overrides smart bounds)\n",
        "psp_span_vdf.enable_smart_padding = False  # Disable smart bounds\n",
        "psp_span_vdf.theta_x_axis_limits = (-800, 0)    # Jaye's theta-plane X bounds\n",
        "psp_span_vdf.theta_y_axis_limits = (-400, 400)  # Jaye's theta-plane Y bounds\n",
        "psp_span_vdf.phi_x_axis_limits = (-800, 0)      # Jaye's phi-plane X bounds  \n",
        "psp_span_vdf.phi_y_axis_limits = (-200, 600)    # Jaye's phi-plane Y bounds\n",
        "\n",
        "print(\"✅ Manual axis limits set (Jaye's original):\")\n",
        "print(f\"   Theta-plane: X={psp_span_vdf.theta_x_axis_limits}, Y={psp_span_vdf.theta_y_axis_limits}\")\n",
        "print(f\"   Phi-plane: X={psp_span_vdf.phi_x_axis_limits}, Y={psp_span_vdf.phi_y_axis_limits}\")\n",
        "\n",
        "# Create plot with Jaye's exact bounds\n",
        "fig = vdyes(trange)\n",
        "\n",
        "print(\"✅ VDF plot with Jaye's original bounds created!\")\n",
        "print(\"This reproduces the exact view from the original SPAN-I tutorial\")\n"
      ]
    },
    {
      "cell_type": "code",
      "execution_count": 8,
      "metadata": {},
      "outputs": [
        {
          "name": "stdout",
          "output_type": "stream",
          "text": [
            "📊 Example 4: PSP 'Hammerhead' Distribution\n",
            "Using data from 2020/01/29 - classic hammerhead example...\n",
            "✅ Parameters optimized for hammerhead viewing\n",
            "🔗 Button handlers connected successfully\n"
          ]
        },
        {
          "data": {
            "application/vnd.jupyter.widget-view+json": {
              "model_id": "8deedbd04dca4421aca4b5508b11516a",
              "version_major": 2,
              "version_minor": 0
            },
            "text/plain": [
              "VBox(children=(HBox(children=(IntSlider(value=0, description='Time:', layout=Layout(width='600px'), max=1029, …"
            ]
          },
          "metadata": {},
          "output_type": "display_data"
        },
        {
          "name": "stdout",
          "output_type": "stream",
          "text": [
            "✅ Hammerhead distribution plot created!\n",
            "\n",
            "🔍 What to look for:\n",
            "   • Theta-plane: Asymmetric 'hammer' shape extending in -Vz direction\n",
            "   • Phi-plane: Concentrated distribution with some azimuthal structure\n",
            "   • 1D plot: Non-Maxwellian shape with distinctive features\n",
            "\n",
            "This is real PSP data showing how solar wind protons behave near the Sun!\n"
          ]
        }
      ],
      "source": [
        "# Example 4: Classic Hammerhead Distribution\n",
        "print(\"📊 Example 4: PSP 'Hammerhead' Distribution\")\n",
        "print(\"Using data from 2020/01/29 - classic hammerhead example...\")\n",
        "\n",
        "# Reset to optimal settings for viewing hammerhead structure\n",
        "psp_span_vdf.enable_smart_padding = True\n",
        "psp_span_vdf.vdf_colormap = 'cool'\n",
        "psp_span_vdf.theta_x_smart_padding = 100\n",
        "psp_span_vdf.theta_y_smart_padding = 100  \n",
        "psp_span_vdf.phi_x_smart_padding = 150\n",
        "psp_span_vdf.phi_y_smart_padding = 150\n",
        "psp_span_vdf.enable_zero_clipping = True\n",
        "psp_span_vdf.theta_x_axis_limits = None     # Clear all manual limits\n",
        "psp_span_vdf.theta_y_axis_limits = None\n",
        "psp_span_vdf.phi_x_axis_limits = None\n",
        "psp_span_vdf.phi_y_axis_limits = None\n",
        "\n",
        "print(\"✅ Parameters optimized for hammerhead viewing\")\n",
        "\n",
        "# Use the proven hammerhead time range\n",
        "hammerhead_trange = ['2020/01/29 17:00:00.000', '2020/01/29 19:00:00.000']\n",
        "fig = vdyes(hammerhead_trange)\n",
        "\n",
        "print(\"✅ Hammerhead distribution plot created!\")\n",
        "print(\"\\n🔍 What to look for:\")\n",
        "print(\"   • Theta-plane: Asymmetric 'hammer' shape extending in -Vz direction\")\n",
        "print(\"   • Phi-plane: Concentrated distribution with some azimuthal structure\")\n",
        "print(\"   • 1D plot: Non-Maxwellian shape with distinctive features\")\n",
        "print(\"\\nThis is real PSP data showing how solar wind protons behave near the Sun!\")\n"
      ]
    },
    {
      "cell_type": "raw",
      "metadata": {},
      "source": [
        "## 3. Parameter Reference Quick Guide\n",
        "\n",
        "### Copy-Paste Examples:\n",
        "\n",
        "```python\n",
        "# Default settings (good starting point)\n",
        "psp_span_vdf.enable_smart_padding = True\n",
        "psp_span_vdf.vdf_colormap = 'cool'\n",
        "psp_span_vdf.enable_zero_clipping = True\n",
        "\n",
        "# Tight zoom (focus on data)\n",
        "psp_span_vdf.theta_x_smart_padding = 50\n",
        "psp_span_vdf.theta_y_smart_padding = 50\n",
        "\n",
        "# Wide view (show full context)  \n",
        "psp_span_vdf.theta_x_smart_padding = 200\n",
        "psp_span_vdf.theta_y_smart_padding = 200\n",
        "\n",
        "# Jaye's original bounds\n",
        "psp_span_vdf.enable_smart_padding = False\n",
        "psp_span_vdf.theta_x_axis_limits = (-800, 0)\n",
        "psp_span_vdf.theta_y_axis_limits = (-400, 400)\n",
        "\n",
        "# Publication-ready colormap\n",
        "psp_span_vdf.vdf_colormap = 'viridis'\n",
        "```\n",
        "\n",
        "### Understanding VDF Physics:\n",
        "\n",
        "#### Theta-Plane (Middle panel: Vx vs Vz):\n",
        "- **X-axis (Vx)**: Radial velocity component (toward/away from Sun)\n",
        "- **Y-axis (Vz)**: Field-perpendicular component  \n",
        "- **\"Hammerhead\" shape**: Characteristic PSP near-Sun proton distribution\n",
        "- **Negative Vx**: Solar wind flowing away from Sun (normal direction)\n",
        "\n",
        "#### Phi-Plane (Right panel: Vx vs Vy):\n",
        "- **X-axis (Vx)**: Radial velocity component\n",
        "- **Y-axis (Vy)**: Azimuthal velocity component\n",
        "- **Shows**: Parker spiral field effects and spacecraft frame dynamics\n",
        "\n",
        "#### Collapsed 1D (Left panel):\n",
        "- **X-axis**: Velocity magnitude\n",
        "- **Y-axis**: Distribution function value (log scale)\n",
        "- **Shows**: Overall velocity distribution shape\n"
      ]
    },
    {
      "cell_type": "code",
      "execution_count": 9,
      "metadata": {},
      "outputs": [
        {
          "name": "stdout",
          "output_type": "stream",
          "text": [
            "📊 Final Example: Complete Parameter Demo\n",
            "Showing mixed smart/manual control...\n",
            "✅ Mixed control configured:\n",
            "   Theta X: Manual (-700, -100)\n",
            "   Theta Y: Smart (padding=150 km/s)\n",
            "   Phi X: Manual (-600, 0)\n",
            "   Phi Y: Smart (padding=200 km/s)\n"
          ]
        },
        {
          "ename": "ConnectionError",
          "evalue": "('Connection aborted.', RemoteDisconnected('Remote end closed connection without response'))",
          "output_type": "error",
          "traceback": [
            "\u001b[31m---------------------------------------------------------------------------\u001b[39m",
            "\u001b[31mRemoteDisconnected\u001b[39m                        Traceback (most recent call last)",
            "\u001b[36mFile \u001b[39m\u001b[32m/opt/anaconda3/envs/plotbot_env/lib/python3.12/site-packages/urllib3/connectionpool.py:787\u001b[39m, in \u001b[36mHTTPConnectionPool.urlopen\u001b[39m\u001b[34m(self, method, url, body, headers, retries, redirect, assert_same_host, timeout, pool_timeout, release_conn, chunked, body_pos, preload_content, decode_content, **response_kw)\u001b[39m\n\u001b[32m    786\u001b[39m \u001b[38;5;66;03m# Make the request on the HTTPConnection object\u001b[39;00m\n\u001b[32m--> \u001b[39m\u001b[32m787\u001b[39m response = \u001b[38;5;28;43mself\u001b[39;49m\u001b[43m.\u001b[49m\u001b[43m_make_request\u001b[49m\u001b[43m(\u001b[49m\n\u001b[32m    788\u001b[39m \u001b[43m    \u001b[49m\u001b[43mconn\u001b[49m\u001b[43m,\u001b[49m\n\u001b[32m    789\u001b[39m \u001b[43m    \u001b[49m\u001b[43mmethod\u001b[49m\u001b[43m,\u001b[49m\n\u001b[32m    790\u001b[39m \u001b[43m    \u001b[49m\u001b[43murl\u001b[49m\u001b[43m,\u001b[49m\n\u001b[32m    791\u001b[39m \u001b[43m    \u001b[49m\u001b[43mtimeout\u001b[49m\u001b[43m=\u001b[49m\u001b[43mtimeout_obj\u001b[49m\u001b[43m,\u001b[49m\n\u001b[32m    792\u001b[39m \u001b[43m    \u001b[49m\u001b[43mbody\u001b[49m\u001b[43m=\u001b[49m\u001b[43mbody\u001b[49m\u001b[43m,\u001b[49m\n\u001b[32m    793\u001b[39m \u001b[43m    \u001b[49m\u001b[43mheaders\u001b[49m\u001b[43m=\u001b[49m\u001b[43mheaders\u001b[49m\u001b[43m,\u001b[49m\n\u001b[32m    794\u001b[39m \u001b[43m    \u001b[49m\u001b[43mchunked\u001b[49m\u001b[43m=\u001b[49m\u001b[43mchunked\u001b[49m\u001b[43m,\u001b[49m\n\u001b[32m    795\u001b[39m \u001b[43m    \u001b[49m\u001b[43mretries\u001b[49m\u001b[43m=\u001b[49m\u001b[43mretries\u001b[49m\u001b[43m,\u001b[49m\n\u001b[32m    796\u001b[39m \u001b[43m    \u001b[49m\u001b[43mresponse_conn\u001b[49m\u001b[43m=\u001b[49m\u001b[43mresponse_conn\u001b[49m\u001b[43m,\u001b[49m\n\u001b[32m    797\u001b[39m \u001b[43m    \u001b[49m\u001b[43mpreload_content\u001b[49m\u001b[43m=\u001b[49m\u001b[43mpreload_content\u001b[49m\u001b[43m,\u001b[49m\n\u001b[32m    798\u001b[39m \u001b[43m    \u001b[49m\u001b[43mdecode_content\u001b[49m\u001b[43m=\u001b[49m\u001b[43mdecode_content\u001b[49m\u001b[43m,\u001b[49m\n\u001b[32m    799\u001b[39m \u001b[43m    \u001b[49m\u001b[43m*\u001b[49m\u001b[43m*\u001b[49m\u001b[43mresponse_kw\u001b[49m\u001b[43m,\u001b[49m\n\u001b[32m    800\u001b[39m \u001b[43m\u001b[49m\u001b[43m)\u001b[49m\n\u001b[32m    802\u001b[39m \u001b[38;5;66;03m# Everything went great!\u001b[39;00m\n",
            "\u001b[36mFile \u001b[39m\u001b[32m/opt/anaconda3/envs/plotbot_env/lib/python3.12/site-packages/urllib3/connectionpool.py:534\u001b[39m, in \u001b[36mHTTPConnectionPool._make_request\u001b[39m\u001b[34m(self, conn, method, url, body, headers, retries, timeout, chunked, response_conn, preload_content, decode_content, enforce_content_length)\u001b[39m\n\u001b[32m    533\u001b[39m \u001b[38;5;28;01mtry\u001b[39;00m:\n\u001b[32m--> \u001b[39m\u001b[32m534\u001b[39m     response = \u001b[43mconn\u001b[49m\u001b[43m.\u001b[49m\u001b[43mgetresponse\u001b[49m\u001b[43m(\u001b[49m\u001b[43m)\u001b[49m\n\u001b[32m    535\u001b[39m \u001b[38;5;28;01mexcept\u001b[39;00m (BaseSSLError, \u001b[38;5;167;01mOSError\u001b[39;00m) \u001b[38;5;28;01mas\u001b[39;00m e:\n",
            "\u001b[36mFile \u001b[39m\u001b[32m/opt/anaconda3/envs/plotbot_env/lib/python3.12/site-packages/urllib3/connection.py:516\u001b[39m, in \u001b[36mHTTPConnection.getresponse\u001b[39m\u001b[34m(self)\u001b[39m\n\u001b[32m    515\u001b[39m \u001b[38;5;66;03m# Get the response from http.client.HTTPConnection\u001b[39;00m\n\u001b[32m--> \u001b[39m\u001b[32m516\u001b[39m httplib_response = \u001b[38;5;28;43msuper\u001b[39;49m\u001b[43m(\u001b[49m\u001b[43m)\u001b[49m\u001b[43m.\u001b[49m\u001b[43mgetresponse\u001b[49m\u001b[43m(\u001b[49m\u001b[43m)\u001b[49m\n\u001b[32m    518\u001b[39m \u001b[38;5;28;01mtry\u001b[39;00m:\n",
            "\u001b[36mFile \u001b[39m\u001b[32m/opt/anaconda3/envs/plotbot_env/lib/python3.12/http/client.py:1428\u001b[39m, in \u001b[36mHTTPConnection.getresponse\u001b[39m\u001b[34m(self)\u001b[39m\n\u001b[32m   1427\u001b[39m \u001b[38;5;28;01mtry\u001b[39;00m:\n\u001b[32m-> \u001b[39m\u001b[32m1428\u001b[39m     \u001b[43mresponse\u001b[49m\u001b[43m.\u001b[49m\u001b[43mbegin\u001b[49m\u001b[43m(\u001b[49m\u001b[43m)\u001b[49m\n\u001b[32m   1429\u001b[39m \u001b[38;5;28;01mexcept\u001b[39;00m \u001b[38;5;167;01mConnectionError\u001b[39;00m:\n",
            "\u001b[36mFile \u001b[39m\u001b[32m/opt/anaconda3/envs/plotbot_env/lib/python3.12/http/client.py:331\u001b[39m, in \u001b[36mHTTPResponse.begin\u001b[39m\u001b[34m(self)\u001b[39m\n\u001b[32m    330\u001b[39m \u001b[38;5;28;01mwhile\u001b[39;00m \u001b[38;5;28;01mTrue\u001b[39;00m:\n\u001b[32m--> \u001b[39m\u001b[32m331\u001b[39m     version, status, reason = \u001b[38;5;28;43mself\u001b[39;49m\u001b[43m.\u001b[49m\u001b[43m_read_status\u001b[49m\u001b[43m(\u001b[49m\u001b[43m)\u001b[49m\n\u001b[32m    332\u001b[39m     \u001b[38;5;28;01mif\u001b[39;00m status != CONTINUE:\n",
            "\u001b[36mFile \u001b[39m\u001b[32m/opt/anaconda3/envs/plotbot_env/lib/python3.12/http/client.py:300\u001b[39m, in \u001b[36mHTTPResponse._read_status\u001b[39m\u001b[34m(self)\u001b[39m\n\u001b[32m    297\u001b[39m \u001b[38;5;28;01mif\u001b[39;00m \u001b[38;5;129;01mnot\u001b[39;00m line:\n\u001b[32m    298\u001b[39m     \u001b[38;5;66;03m# Presumably, the server closed the connection before\u001b[39;00m\n\u001b[32m    299\u001b[39m     \u001b[38;5;66;03m# sending a valid response.\u001b[39;00m\n\u001b[32m--> \u001b[39m\u001b[32m300\u001b[39m     \u001b[38;5;28;01mraise\u001b[39;00m RemoteDisconnected(\u001b[33m\"\u001b[39m\u001b[33mRemote end closed connection without\u001b[39m\u001b[33m\"\u001b[39m\n\u001b[32m    301\u001b[39m                              \u001b[33m\"\u001b[39m\u001b[33m response\u001b[39m\u001b[33m\"\u001b[39m)\n\u001b[32m    302\u001b[39m \u001b[38;5;28;01mtry\u001b[39;00m:\n",
            "\u001b[31mRemoteDisconnected\u001b[39m: Remote end closed connection without response",
            "\nDuring handling of the above exception, another exception occurred:\n",
            "\u001b[31mProtocolError\u001b[39m                             Traceback (most recent call last)",
            "\u001b[36mFile \u001b[39m\u001b[32m/opt/anaconda3/envs/plotbot_env/lib/python3.12/site-packages/requests/adapters.py:589\u001b[39m, in \u001b[36mHTTPAdapter.send\u001b[39m\u001b[34m(self, request, stream, timeout, verify, cert, proxies)\u001b[39m\n\u001b[32m    588\u001b[39m \u001b[38;5;28;01mtry\u001b[39;00m:\n\u001b[32m--> \u001b[39m\u001b[32m589\u001b[39m     resp = \u001b[43mconn\u001b[49m\u001b[43m.\u001b[49m\u001b[43murlopen\u001b[49m\u001b[43m(\u001b[49m\n\u001b[32m    590\u001b[39m \u001b[43m        \u001b[49m\u001b[43mmethod\u001b[49m\u001b[43m=\u001b[49m\u001b[43mrequest\u001b[49m\u001b[43m.\u001b[49m\u001b[43mmethod\u001b[49m\u001b[43m,\u001b[49m\n\u001b[32m    591\u001b[39m \u001b[43m        \u001b[49m\u001b[43murl\u001b[49m\u001b[43m=\u001b[49m\u001b[43murl\u001b[49m\u001b[43m,\u001b[49m\n\u001b[32m    592\u001b[39m \u001b[43m        \u001b[49m\u001b[43mbody\u001b[49m\u001b[43m=\u001b[49m\u001b[43mrequest\u001b[49m\u001b[43m.\u001b[49m\u001b[43mbody\u001b[49m\u001b[43m,\u001b[49m\n\u001b[32m    593\u001b[39m \u001b[43m        \u001b[49m\u001b[43mheaders\u001b[49m\u001b[43m=\u001b[49m\u001b[43mrequest\u001b[49m\u001b[43m.\u001b[49m\u001b[43mheaders\u001b[49m\u001b[43m,\u001b[49m\n\u001b[32m    594\u001b[39m \u001b[43m        \u001b[49m\u001b[43mredirect\u001b[49m\u001b[43m=\u001b[49m\u001b[38;5;28;43;01mFalse\u001b[39;49;00m\u001b[43m,\u001b[49m\n\u001b[32m    595\u001b[39m \u001b[43m        \u001b[49m\u001b[43massert_same_host\u001b[49m\u001b[43m=\u001b[49m\u001b[38;5;28;43;01mFalse\u001b[39;49;00m\u001b[43m,\u001b[49m\n\u001b[32m    596\u001b[39m \u001b[43m        \u001b[49m\u001b[43mpreload_content\u001b[49m\u001b[43m=\u001b[49m\u001b[38;5;28;43;01mFalse\u001b[39;49;00m\u001b[43m,\u001b[49m\n\u001b[32m    597\u001b[39m \u001b[43m        \u001b[49m\u001b[43mdecode_content\u001b[49m\u001b[43m=\u001b[49m\u001b[38;5;28;43;01mFalse\u001b[39;49;00m\u001b[43m,\u001b[49m\n\u001b[32m    598\u001b[39m \u001b[43m        \u001b[49m\u001b[43mretries\u001b[49m\u001b[43m=\u001b[49m\u001b[38;5;28;43mself\u001b[39;49m\u001b[43m.\u001b[49m\u001b[43mmax_retries\u001b[49m\u001b[43m,\u001b[49m\n\u001b[32m    599\u001b[39m \u001b[43m        \u001b[49m\u001b[43mtimeout\u001b[49m\u001b[43m=\u001b[49m\u001b[43mtimeout\u001b[49m\u001b[43m,\u001b[49m\n\u001b[32m    600\u001b[39m \u001b[43m        \u001b[49m\u001b[43mchunked\u001b[49m\u001b[43m=\u001b[49m\u001b[43mchunked\u001b[49m\u001b[43m,\u001b[49m\n\u001b[32m    601\u001b[39m \u001b[43m    \u001b[49m\u001b[43m)\u001b[49m\n\u001b[32m    603\u001b[39m \u001b[38;5;28;01mexcept\u001b[39;00m (ProtocolError, \u001b[38;5;167;01mOSError\u001b[39;00m) \u001b[38;5;28;01mas\u001b[39;00m err:\n",
            "\u001b[36mFile \u001b[39m\u001b[32m/opt/anaconda3/envs/plotbot_env/lib/python3.12/site-packages/urllib3/connectionpool.py:841\u001b[39m, in \u001b[36mHTTPConnectionPool.urlopen\u001b[39m\u001b[34m(self, method, url, body, headers, retries, redirect, assert_same_host, timeout, pool_timeout, release_conn, chunked, body_pos, preload_content, decode_content, **response_kw)\u001b[39m\n\u001b[32m    839\u001b[39m     new_e = ProtocolError(\u001b[33m\"\u001b[39m\u001b[33mConnection aborted.\u001b[39m\u001b[33m\"\u001b[39m, new_e)\n\u001b[32m--> \u001b[39m\u001b[32m841\u001b[39m retries = \u001b[43mretries\u001b[49m\u001b[43m.\u001b[49m\u001b[43mincrement\u001b[49m\u001b[43m(\u001b[49m\n\u001b[32m    842\u001b[39m \u001b[43m    \u001b[49m\u001b[43mmethod\u001b[49m\u001b[43m,\u001b[49m\u001b[43m \u001b[49m\u001b[43murl\u001b[49m\u001b[43m,\u001b[49m\u001b[43m \u001b[49m\u001b[43merror\u001b[49m\u001b[43m=\u001b[49m\u001b[43mnew_e\u001b[49m\u001b[43m,\u001b[49m\u001b[43m \u001b[49m\u001b[43m_pool\u001b[49m\u001b[43m=\u001b[49m\u001b[38;5;28;43mself\u001b[39;49m\u001b[43m,\u001b[49m\u001b[43m \u001b[49m\u001b[43m_stacktrace\u001b[49m\u001b[43m=\u001b[49m\u001b[43msys\u001b[49m\u001b[43m.\u001b[49m\u001b[43mexc_info\u001b[49m\u001b[43m(\u001b[49m\u001b[43m)\u001b[49m\u001b[43m[\u001b[49m\u001b[32;43m2\u001b[39;49m\u001b[43m]\u001b[49m\n\u001b[32m    843\u001b[39m \u001b[43m\u001b[49m\u001b[43m)\u001b[49m\n\u001b[32m    844\u001b[39m retries.sleep()\n",
            "\u001b[36mFile \u001b[39m\u001b[32m/opt/anaconda3/envs/plotbot_env/lib/python3.12/site-packages/urllib3/util/retry.py:474\u001b[39m, in \u001b[36mRetry.increment\u001b[39m\u001b[34m(self, method, url, response, error, _pool, _stacktrace)\u001b[39m\n\u001b[32m    473\u001b[39m \u001b[38;5;28;01mif\u001b[39;00m read \u001b[38;5;129;01mis\u001b[39;00m \u001b[38;5;28;01mFalse\u001b[39;00m \u001b[38;5;129;01mor\u001b[39;00m method \u001b[38;5;129;01mis\u001b[39;00m \u001b[38;5;28;01mNone\u001b[39;00m \u001b[38;5;129;01mor\u001b[39;00m \u001b[38;5;129;01mnot\u001b[39;00m \u001b[38;5;28mself\u001b[39m._is_method_retryable(method):\n\u001b[32m--> \u001b[39m\u001b[32m474\u001b[39m     \u001b[38;5;28;01mraise\u001b[39;00m \u001b[43mreraise\u001b[49m\u001b[43m(\u001b[49m\u001b[38;5;28;43mtype\u001b[39;49m\u001b[43m(\u001b[49m\u001b[43merror\u001b[49m\u001b[43m)\u001b[49m\u001b[43m,\u001b[49m\u001b[43m \u001b[49m\u001b[43merror\u001b[49m\u001b[43m,\u001b[49m\u001b[43m \u001b[49m\u001b[43m_stacktrace\u001b[49m\u001b[43m)\u001b[49m\n\u001b[32m    475\u001b[39m \u001b[38;5;28;01melif\u001b[39;00m read \u001b[38;5;129;01mis\u001b[39;00m \u001b[38;5;129;01mnot\u001b[39;00m \u001b[38;5;28;01mNone\u001b[39;00m:\n",
            "\u001b[36mFile \u001b[39m\u001b[32m/opt/anaconda3/envs/plotbot_env/lib/python3.12/site-packages/urllib3/util/util.py:38\u001b[39m, in \u001b[36mreraise\u001b[39m\u001b[34m(tp, value, tb)\u001b[39m\n\u001b[32m     37\u001b[39m \u001b[38;5;28;01mif\u001b[39;00m value.__traceback__ \u001b[38;5;129;01mis\u001b[39;00m \u001b[38;5;129;01mnot\u001b[39;00m tb:\n\u001b[32m---> \u001b[39m\u001b[32m38\u001b[39m     \u001b[38;5;28;01mraise\u001b[39;00m value.with_traceback(tb)\n\u001b[32m     39\u001b[39m \u001b[38;5;28;01mraise\u001b[39;00m value\n",
            "\u001b[36mFile \u001b[39m\u001b[32m/opt/anaconda3/envs/plotbot_env/lib/python3.12/site-packages/urllib3/connectionpool.py:787\u001b[39m, in \u001b[36mHTTPConnectionPool.urlopen\u001b[39m\u001b[34m(self, method, url, body, headers, retries, redirect, assert_same_host, timeout, pool_timeout, release_conn, chunked, body_pos, preload_content, decode_content, **response_kw)\u001b[39m\n\u001b[32m    786\u001b[39m \u001b[38;5;66;03m# Make the request on the HTTPConnection object\u001b[39;00m\n\u001b[32m--> \u001b[39m\u001b[32m787\u001b[39m response = \u001b[38;5;28;43mself\u001b[39;49m\u001b[43m.\u001b[49m\u001b[43m_make_request\u001b[49m\u001b[43m(\u001b[49m\n\u001b[32m    788\u001b[39m \u001b[43m    \u001b[49m\u001b[43mconn\u001b[49m\u001b[43m,\u001b[49m\n\u001b[32m    789\u001b[39m \u001b[43m    \u001b[49m\u001b[43mmethod\u001b[49m\u001b[43m,\u001b[49m\n\u001b[32m    790\u001b[39m \u001b[43m    \u001b[49m\u001b[43murl\u001b[49m\u001b[43m,\u001b[49m\n\u001b[32m    791\u001b[39m \u001b[43m    \u001b[49m\u001b[43mtimeout\u001b[49m\u001b[43m=\u001b[49m\u001b[43mtimeout_obj\u001b[49m\u001b[43m,\u001b[49m\n\u001b[32m    792\u001b[39m \u001b[43m    \u001b[49m\u001b[43mbody\u001b[49m\u001b[43m=\u001b[49m\u001b[43mbody\u001b[49m\u001b[43m,\u001b[49m\n\u001b[32m    793\u001b[39m \u001b[43m    \u001b[49m\u001b[43mheaders\u001b[49m\u001b[43m=\u001b[49m\u001b[43mheaders\u001b[49m\u001b[43m,\u001b[49m\n\u001b[32m    794\u001b[39m \u001b[43m    \u001b[49m\u001b[43mchunked\u001b[49m\u001b[43m=\u001b[49m\u001b[43mchunked\u001b[49m\u001b[43m,\u001b[49m\n\u001b[32m    795\u001b[39m \u001b[43m    \u001b[49m\u001b[43mretries\u001b[49m\u001b[43m=\u001b[49m\u001b[43mretries\u001b[49m\u001b[43m,\u001b[49m\n\u001b[32m    796\u001b[39m \u001b[43m    \u001b[49m\u001b[43mresponse_conn\u001b[49m\u001b[43m=\u001b[49m\u001b[43mresponse_conn\u001b[49m\u001b[43m,\u001b[49m\n\u001b[32m    797\u001b[39m \u001b[43m    \u001b[49m\u001b[43mpreload_content\u001b[49m\u001b[43m=\u001b[49m\u001b[43mpreload_content\u001b[49m\u001b[43m,\u001b[49m\n\u001b[32m    798\u001b[39m \u001b[43m    \u001b[49m\u001b[43mdecode_content\u001b[49m\u001b[43m=\u001b[49m\u001b[43mdecode_content\u001b[49m\u001b[43m,\u001b[49m\n\u001b[32m    799\u001b[39m \u001b[43m    \u001b[49m\u001b[43m*\u001b[49m\u001b[43m*\u001b[49m\u001b[43mresponse_kw\u001b[49m\u001b[43m,\u001b[49m\n\u001b[32m    800\u001b[39m \u001b[43m\u001b[49m\u001b[43m)\u001b[49m\n\u001b[32m    802\u001b[39m \u001b[38;5;66;03m# Everything went great!\u001b[39;00m\n",
            "\u001b[36mFile \u001b[39m\u001b[32m/opt/anaconda3/envs/plotbot_env/lib/python3.12/site-packages/urllib3/connectionpool.py:534\u001b[39m, in \u001b[36mHTTPConnectionPool._make_request\u001b[39m\u001b[34m(self, conn, method, url, body, headers, retries, timeout, chunked, response_conn, preload_content, decode_content, enforce_content_length)\u001b[39m\n\u001b[32m    533\u001b[39m \u001b[38;5;28;01mtry\u001b[39;00m:\n\u001b[32m--> \u001b[39m\u001b[32m534\u001b[39m     response = \u001b[43mconn\u001b[49m\u001b[43m.\u001b[49m\u001b[43mgetresponse\u001b[49m\u001b[43m(\u001b[49m\u001b[43m)\u001b[49m\n\u001b[32m    535\u001b[39m \u001b[38;5;28;01mexcept\u001b[39;00m (BaseSSLError, \u001b[38;5;167;01mOSError\u001b[39;00m) \u001b[38;5;28;01mas\u001b[39;00m e:\n",
            "\u001b[36mFile \u001b[39m\u001b[32m/opt/anaconda3/envs/plotbot_env/lib/python3.12/site-packages/urllib3/connection.py:516\u001b[39m, in \u001b[36mHTTPConnection.getresponse\u001b[39m\u001b[34m(self)\u001b[39m\n\u001b[32m    515\u001b[39m \u001b[38;5;66;03m# Get the response from http.client.HTTPConnection\u001b[39;00m\n\u001b[32m--> \u001b[39m\u001b[32m516\u001b[39m httplib_response = \u001b[38;5;28;43msuper\u001b[39;49m\u001b[43m(\u001b[49m\u001b[43m)\u001b[49m\u001b[43m.\u001b[49m\u001b[43mgetresponse\u001b[49m\u001b[43m(\u001b[49m\u001b[43m)\u001b[49m\n\u001b[32m    518\u001b[39m \u001b[38;5;28;01mtry\u001b[39;00m:\n",
            "\u001b[36mFile \u001b[39m\u001b[32m/opt/anaconda3/envs/plotbot_env/lib/python3.12/http/client.py:1428\u001b[39m, in \u001b[36mHTTPConnection.getresponse\u001b[39m\u001b[34m(self)\u001b[39m\n\u001b[32m   1427\u001b[39m \u001b[38;5;28;01mtry\u001b[39;00m:\n\u001b[32m-> \u001b[39m\u001b[32m1428\u001b[39m     \u001b[43mresponse\u001b[49m\u001b[43m.\u001b[49m\u001b[43mbegin\u001b[49m\u001b[43m(\u001b[49m\u001b[43m)\u001b[49m\n\u001b[32m   1429\u001b[39m \u001b[38;5;28;01mexcept\u001b[39;00m \u001b[38;5;167;01mConnectionError\u001b[39;00m:\n",
            "\u001b[36mFile \u001b[39m\u001b[32m/opt/anaconda3/envs/plotbot_env/lib/python3.12/http/client.py:331\u001b[39m, in \u001b[36mHTTPResponse.begin\u001b[39m\u001b[34m(self)\u001b[39m\n\u001b[32m    330\u001b[39m \u001b[38;5;28;01mwhile\u001b[39;00m \u001b[38;5;28;01mTrue\u001b[39;00m:\n\u001b[32m--> \u001b[39m\u001b[32m331\u001b[39m     version, status, reason = \u001b[38;5;28;43mself\u001b[39;49m\u001b[43m.\u001b[49m\u001b[43m_read_status\u001b[49m\u001b[43m(\u001b[49m\u001b[43m)\u001b[49m\n\u001b[32m    332\u001b[39m     \u001b[38;5;28;01mif\u001b[39;00m status != CONTINUE:\n",
            "\u001b[36mFile \u001b[39m\u001b[32m/opt/anaconda3/envs/plotbot_env/lib/python3.12/http/client.py:300\u001b[39m, in \u001b[36mHTTPResponse._read_status\u001b[39m\u001b[34m(self)\u001b[39m\n\u001b[32m    297\u001b[39m \u001b[38;5;28;01mif\u001b[39;00m \u001b[38;5;129;01mnot\u001b[39;00m line:\n\u001b[32m    298\u001b[39m     \u001b[38;5;66;03m# Presumably, the server closed the connection before\u001b[39;00m\n\u001b[32m    299\u001b[39m     \u001b[38;5;66;03m# sending a valid response.\u001b[39;00m\n\u001b[32m--> \u001b[39m\u001b[32m300\u001b[39m     \u001b[38;5;28;01mraise\u001b[39;00m RemoteDisconnected(\u001b[33m\"\u001b[39m\u001b[33mRemote end closed connection without\u001b[39m\u001b[33m\"\u001b[39m\n\u001b[32m    301\u001b[39m                              \u001b[33m\"\u001b[39m\u001b[33m response\u001b[39m\u001b[33m\"\u001b[39m)\n\u001b[32m    302\u001b[39m \u001b[38;5;28;01mtry\u001b[39;00m:\n",
            "\u001b[31mProtocolError\u001b[39m: ('Connection aborted.', RemoteDisconnected('Remote end closed connection without response'))",
            "\nDuring handling of the above exception, another exception occurred:\n",
            "\u001b[31mConnectionError\u001b[39m                           Traceback (most recent call last)",
            "\u001b[36mCell\u001b[39m\u001b[36m \u001b[39m\u001b[32mIn[9]\u001b[39m\u001b[32m, line 23\u001b[39m\n\u001b[32m     21\u001b[39m \u001b[38;5;66;03m# Create final demonstration plot\u001b[39;00m\n\u001b[32m     22\u001b[39m final_trange = [\u001b[33m'\u001b[39m\u001b[33m2020/01/29 17:30:00.000\u001b[39m\u001b[33m'\u001b[39m, \u001b[33m'\u001b[39m\u001b[33m2020/01/29 18:30:00.000\u001b[39m\u001b[33m'\u001b[39m]\n\u001b[32m---> \u001b[39m\u001b[32m23\u001b[39m fig = \u001b[43mvdyes\u001b[49m\u001b[43m(\u001b[49m\u001b[43mfinal_trange\u001b[49m\u001b[43m)\u001b[49m\n\u001b[32m     25\u001b[39m \u001b[38;5;28mprint\u001b[39m(\u001b[33m\"\u001b[39m\u001b[33m✅ Complete parameter demonstration plot created!\u001b[39m\u001b[33m\"\u001b[39m)\n\u001b[32m     26\u001b[39m \u001b[38;5;28mprint\u001b[39m(\u001b[33m\"\u001b[39m\u001b[38;5;130;01m\\n\u001b[39;00m\u001b[33m🎉 VDF Plotting Tutorial Complete!\u001b[39m\u001b[33m\"\u001b[39m)\n",
            "\u001b[36mFile \u001b[39m\u001b[32m~/GitHub/Plotbot/plotbot/vdyes.py:86\u001b[39m, in \u001b[36mvdyes\u001b[39m\u001b[34m(trange, force_static)\u001b[39m\n\u001b[32m     83\u001b[39m print_manager.status(\u001b[33m\"\u001b[39m\u001b[33m📡 Downloading PSP SPAN-I data using proven pyspedas approach...\u001b[39m\u001b[33m\"\u001b[39m)\n\u001b[32m     85\u001b[39m \u001b[38;5;66;03m# Download using proven pyspedas approach (exactly like our working tests)\u001b[39;00m\n\u001b[32m---> \u001b[39m\u001b[32m86\u001b[39m VDfile = \u001b[43mpyspedas\u001b[49m\u001b[43m.\u001b[49m\u001b[43mpsp\u001b[49m\u001b[43m.\u001b[49m\u001b[43mspi\u001b[49m\u001b[43m(\u001b[49m\u001b[43mtrange\u001b[49m\u001b[43m,\u001b[49m\u001b[43m \u001b[49m\u001b[43mdatatype\u001b[49m\u001b[43m=\u001b[49m\u001b[33;43m'\u001b[39;49m\u001b[33;43mspi_sf00_8dx32ex8a\u001b[39;49m\u001b[33;43m'\u001b[39;49m\u001b[43m,\u001b[49m\u001b[43m \u001b[49m\u001b[43mlevel\u001b[49m\u001b[43m=\u001b[49m\u001b[33;43m'\u001b[39;49m\u001b[33;43ml2\u001b[39;49m\u001b[33;43m'\u001b[39;49m\u001b[43m,\u001b[49m\u001b[43m \u001b[49m\n\u001b[32m     87\u001b[39m \u001b[43m                          \u001b[49m\u001b[43mnotplot\u001b[49m\u001b[43m=\u001b[49m\u001b[38;5;28;43;01mTrue\u001b[39;49;00m\u001b[43m,\u001b[49m\u001b[43m \u001b[49m\u001b[43mtime_clip\u001b[49m\u001b[43m=\u001b[49m\u001b[38;5;28;43;01mTrue\u001b[39;49;00m\u001b[43m,\u001b[49m\u001b[43m \u001b[49m\u001b[43mdownloadonly\u001b[49m\u001b[43m=\u001b[49m\u001b[38;5;28;43;01mTrue\u001b[39;49;00m\u001b[43m,\u001b[49m\u001b[43m \u001b[49m\u001b[43mget_support_data\u001b[49m\u001b[43m=\u001b[49m\u001b[38;5;28;43;01mTrue\u001b[39;49;00m\u001b[43m)\u001b[49m\n\u001b[32m     89\u001b[39m \u001b[38;5;28;01mif\u001b[39;00m \u001b[38;5;129;01mnot\u001b[39;00m VDfile:\n\u001b[32m     90\u001b[39m     \u001b[38;5;28;01mraise\u001b[39;00m \u001b[38;5;167;01mValueError\u001b[39;00m(\u001b[33mf\u001b[39m\u001b[33m\"\u001b[39m\u001b[33mNo VDF files downloaded for trange: \u001b[39m\u001b[38;5;132;01m{\u001b[39;00mtrange\u001b[38;5;132;01m}\u001b[39;00m\u001b[33m\"\u001b[39m)\n",
            "\u001b[36mFile \u001b[39m\u001b[32m/opt/anaconda3/envs/plotbot_env/lib/python3.12/site-packages/pyspedas/projects/psp/spi.py:105\u001b[39m, in \u001b[36mspi\u001b[39m\u001b[34m(trange, datatype, level, suffix, prefix, get_support_data, varformat, varnames, downloadonly, notplot, no_update, time_clip, username, password, last_version, force_download)\u001b[39m\n\u001b[32m    102\u001b[39m     level = \u001b[33m'\u001b[39m\u001b[33ml3\u001b[39m\u001b[33m'\u001b[39m\n\u001b[32m    103\u001b[39m     \u001b[38;5;28mprint\u001b[39m(\u001b[33m\"\u001b[39m\u001b[33mUsing LEVEL=L3\u001b[39m\u001b[33m\"\u001b[39m)\n\u001b[32m--> \u001b[39m\u001b[32m105\u001b[39m \u001b[38;5;28;01mreturn\u001b[39;00m \u001b[43mload\u001b[49m\u001b[43m(\u001b[49m\u001b[43minstrument\u001b[49m\u001b[43m=\u001b[49m\u001b[33;43m'\u001b[39;49m\u001b[33;43mspi\u001b[39;49m\u001b[33;43m'\u001b[39;49m\u001b[43m,\u001b[49m\u001b[43m \u001b[49m\u001b[43mtrange\u001b[49m\u001b[43m=\u001b[49m\u001b[43mtrange\u001b[49m\u001b[43m,\u001b[49m\u001b[43m \u001b[49m\u001b[43mdatatype\u001b[49m\u001b[43m=\u001b[49m\u001b[43mdatatype\u001b[49m\u001b[43m,\u001b[49m\u001b[43m \u001b[49m\u001b[43mlevel\u001b[49m\u001b[43m=\u001b[49m\u001b[43mlevel\u001b[49m\u001b[43m,\u001b[49m\u001b[43m \u001b[49m\n\u001b[32m    106\u001b[39m \u001b[43m    \u001b[49m\u001b[43msuffix\u001b[49m\u001b[43m=\u001b[49m\u001b[43msuffix\u001b[49m\u001b[43m,\u001b[49m\u001b[43m \u001b[49m\u001b[43mprefix\u001b[49m\u001b[43m=\u001b[49m\u001b[43mprefix\u001b[49m\u001b[43m,\u001b[49m\u001b[43m \u001b[49m\u001b[43mget_support_data\u001b[49m\u001b[43m=\u001b[49m\u001b[43mget_support_data\u001b[49m\u001b[43m,\u001b[49m\u001b[43m \u001b[49m\u001b[43mvarformat\u001b[49m\u001b[43m=\u001b[49m\u001b[43mvarformat\u001b[49m\u001b[43m,\u001b[49m\u001b[43m \u001b[49m\u001b[43mvarnames\u001b[49m\u001b[43m=\u001b[49m\u001b[43mvarnames\u001b[49m\u001b[43m,\u001b[49m\u001b[43m \u001b[49m\n\u001b[32m    107\u001b[39m \u001b[43m    \u001b[49m\u001b[43mdownloadonly\u001b[49m\u001b[43m=\u001b[49m\u001b[43mdownloadonly\u001b[49m\u001b[43m,\u001b[49m\u001b[43m \u001b[49m\u001b[43mnotplot\u001b[49m\u001b[43m=\u001b[49m\u001b[43mnotplot\u001b[49m\u001b[43m,\u001b[49m\u001b[43m \u001b[49m\u001b[43mtime_clip\u001b[49m\u001b[43m=\u001b[49m\u001b[43mtime_clip\u001b[49m\u001b[43m,\u001b[49m\u001b[43m \u001b[49m\u001b[43mno_update\u001b[49m\u001b[43m=\u001b[49m\u001b[43mno_update\u001b[49m\u001b[43m,\u001b[49m\u001b[43m \u001b[49m\n\u001b[32m    108\u001b[39m \u001b[43m    \u001b[49m\u001b[43musername\u001b[49m\u001b[43m=\u001b[49m\u001b[43musername\u001b[49m\u001b[43m,\u001b[49m\u001b[43m \u001b[49m\u001b[43mpassword\u001b[49m\u001b[43m=\u001b[49m\u001b[43mpassword\u001b[49m\u001b[43m,\u001b[49m\u001b[43mlast_version\u001b[49m\u001b[43m=\u001b[49m\u001b[43mlast_version\u001b[49m\u001b[43m,\u001b[49m\u001b[43m \u001b[49m\u001b[43mforce_download\u001b[49m\u001b[43m=\u001b[49m\u001b[43mforce_download\u001b[49m\n\u001b[32m    109\u001b[39m \u001b[43m    \u001b[49m\u001b[43m)\u001b[49m\n",
            "\u001b[36mFile \u001b[39m\u001b[32m/opt/anaconda3/envs/plotbot_env/lib/python3.12/site-packages/pyspedas/projects/psp/load.py:274\u001b[39m, in \u001b[36mload\u001b[39m\u001b[34m(trange, instrument, datatype, spec_types, level, suffix, prefix, get_support_data, varformat, varnames, downloadonly, notplot, no_update, time_clip, username, password, last_version, force_download)\u001b[39m\n\u001b[32m    271\u001b[39m out_files = []\n\u001b[32m    273\u001b[39m \u001b[38;5;28;01mif\u001b[39;00m username \u001b[38;5;129;01mis\u001b[39;00m \u001b[38;5;28;01mNone\u001b[39;00m:\n\u001b[32m--> \u001b[39m\u001b[32m274\u001b[39m     files = \u001b[43mdownload\u001b[49m\u001b[43m(\u001b[49m\u001b[43mremote_file\u001b[49m\u001b[43m=\u001b[49m\u001b[43mremote_names\u001b[49m\u001b[43m,\u001b[49m\u001b[43m \u001b[49m\u001b[43mremote_path\u001b[49m\u001b[43m=\u001b[49m\u001b[43mCONFIG\u001b[49m\u001b[43m[\u001b[49m\u001b[33;43m'\u001b[39;49m\u001b[33;43mremote_data_dir\u001b[39;49m\u001b[33;43m'\u001b[39;49m\u001b[43m]\u001b[49m\u001b[43m,\u001b[49m\u001b[43m \u001b[49m\n\u001b[32m    275\u001b[39m \u001b[43m                    \u001b[49m\u001b[43mlocal_path\u001b[49m\u001b[43m=\u001b[49m\u001b[43mCONFIG\u001b[49m\u001b[43m[\u001b[49m\u001b[33;43m'\u001b[39;49m\u001b[33;43mlocal_data_dir\u001b[39;49m\u001b[33;43m'\u001b[39;49m\u001b[43m]\u001b[49m\u001b[43m,\u001b[49m\u001b[43m \u001b[49m\u001b[43mno_download\u001b[49m\u001b[43m=\u001b[49m\u001b[43mno_update\u001b[49m\u001b[43m,\u001b[49m\u001b[43mlast_version\u001b[49m\u001b[43m=\u001b[49m\u001b[43mlast_version\u001b[49m\u001b[43m,\u001b[49m\u001b[43m \u001b[49m\u001b[43mforce_download\u001b[49m\u001b[43m=\u001b[49m\u001b[43mforce_download\u001b[49m\u001b[43m)\u001b[49m\n\u001b[32m    276\u001b[39m \u001b[38;5;28;01melse\u001b[39;00m:\n\u001b[32m    277\u001b[39m     \u001b[38;5;28;01mif\u001b[39;00m instrument == \u001b[33m'\u001b[39m\u001b[33mfields\u001b[39m\u001b[33m'\u001b[39m:\n",
            "\u001b[36mFile \u001b[39m\u001b[32m/opt/anaconda3/envs/plotbot_env/lib/python3.12/site-packages/pyspedas/utilities/download.py:687\u001b[39m, in \u001b[36mdownload\u001b[39m\u001b[34m(remote_path, remote_file, local_path, local_file, headers, username, password, verify, session, no_download, last_version, basic_auth, regex, no_wildcards, text_only, force_download)\u001b[39m\n\u001b[32m    685\u001b[39m \u001b[38;5;66;03m# download the files\u001b[39;00m\n\u001b[32m    686\u001b[39m \u001b[38;5;28;01mfor\u001b[39;00m new_link \u001b[38;5;129;01min\u001b[39;00m new_links:\n\u001b[32m--> \u001b[39m\u001b[32m687\u001b[39m     resp_data = \u001b[43mdownload\u001b[49m\u001b[43m(\u001b[49m\n\u001b[32m    688\u001b[39m \u001b[43m        \u001b[49m\u001b[43mremote_path\u001b[49m\u001b[43m=\u001b[49m\u001b[43mremote_path\u001b[49m\u001b[43m,\u001b[49m\n\u001b[32m    689\u001b[39m \u001b[43m        \u001b[49m\u001b[43mremote_file\u001b[49m\u001b[43m=\u001b[49m\u001b[43mshort_path\u001b[49m\u001b[43m \u001b[49m\u001b[43m+\u001b[49m\u001b[43m \u001b[49m\u001b[43mnew_link\u001b[49m\u001b[43m,\u001b[49m\n\u001b[32m    690\u001b[39m \u001b[43m        \u001b[49m\u001b[43mlocal_path\u001b[49m\u001b[43m=\u001b[49m\u001b[43mlocal_path\u001b[49m\u001b[43m,\u001b[49m\n\u001b[32m    691\u001b[39m \u001b[43m        \u001b[49m\u001b[43musername\u001b[49m\u001b[43m=\u001b[49m\u001b[43musername\u001b[49m\u001b[43m,\u001b[49m\n\u001b[32m    692\u001b[39m \u001b[43m        \u001b[49m\u001b[43mpassword\u001b[49m\u001b[43m=\u001b[49m\u001b[43mpassword\u001b[49m\u001b[43m,\u001b[49m\n\u001b[32m    693\u001b[39m \u001b[43m        \u001b[49m\u001b[43mverify\u001b[49m\u001b[43m=\u001b[49m\u001b[43mverify\u001b[49m\u001b[43m,\u001b[49m\n\u001b[32m    694\u001b[39m \u001b[43m        \u001b[49m\u001b[43mheaders\u001b[49m\u001b[43m=\u001b[49m\u001b[43mheaders\u001b[49m\u001b[43m,\u001b[49m\n\u001b[32m    695\u001b[39m \u001b[43m        \u001b[49m\u001b[43msession\u001b[49m\u001b[43m=\u001b[49m\u001b[43msession\u001b[49m\u001b[43m,\u001b[49m\n\u001b[32m    696\u001b[39m \u001b[43m        \u001b[49m\u001b[43mbasic_auth\u001b[49m\u001b[43m=\u001b[49m\u001b[43mbasic_auth\u001b[49m\u001b[43m,\u001b[49m\n\u001b[32m    697\u001b[39m \u001b[43m        \u001b[49m\u001b[43mtext_only\u001b[49m\u001b[43m=\u001b[49m\u001b[43mtext_only\u001b[49m\u001b[43m,\u001b[49m\n\u001b[32m    698\u001b[39m \u001b[43m        \u001b[49m\u001b[43mforce_download\u001b[49m\u001b[43m=\u001b[49m\u001b[43mforce_download\u001b[49m\n\u001b[32m    699\u001b[39m \u001b[43m    \u001b[49m\u001b[43m)\u001b[49m\n\u001b[32m    700\u001b[39m     \u001b[38;5;28;01mif\u001b[39;00m resp_data \u001b[38;5;129;01mis\u001b[39;00m \u001b[38;5;129;01mnot\u001b[39;00m \u001b[38;5;28;01mNone\u001b[39;00m:\n\u001b[32m    701\u001b[39m         \u001b[38;5;28;01mfor\u001b[39;00m file \u001b[38;5;129;01min\u001b[39;00m resp_data:\n",
            "\u001b[36mFile \u001b[39m\u001b[32m/opt/anaconda3/envs/plotbot_env/lib/python3.12/site-packages/pyspedas/utilities/download.py:705\u001b[39m, in \u001b[36mdownload\u001b[39m\u001b[34m(remote_path, remote_file, local_path, local_file, headers, username, password, verify, session, no_download, last_version, basic_auth, regex, no_wildcards, text_only, force_download)\u001b[39m\n\u001b[32m    703\u001b[39m         session.close()\n\u001b[32m    704\u001b[39m         \u001b[38;5;28;01mcontinue\u001b[39;00m\n\u001b[32m--> \u001b[39m\u001b[32m705\u001b[39m     resp_data = \u001b[43mdownload_file\u001b[49m\u001b[43m(\u001b[49m\n\u001b[32m    706\u001b[39m \u001b[43m        \u001b[49m\u001b[43murl\u001b[49m\u001b[43m=\u001b[49m\u001b[43murl\u001b[49m\u001b[43m,\u001b[49m\n\u001b[32m    707\u001b[39m \u001b[43m        \u001b[49m\u001b[43mfilename\u001b[49m\u001b[43m=\u001b[49m\u001b[43mfilename\u001b[49m\u001b[43m,\u001b[49m\n\u001b[32m    708\u001b[39m \u001b[43m        \u001b[49m\u001b[43musername\u001b[49m\u001b[43m=\u001b[49m\u001b[43musername\u001b[49m\u001b[43m,\u001b[49m\n\u001b[32m    709\u001b[39m \u001b[43m        \u001b[49m\u001b[43mpassword\u001b[49m\u001b[43m=\u001b[49m\u001b[43mpassword\u001b[49m\u001b[43m,\u001b[49m\n\u001b[32m    710\u001b[39m \u001b[43m        \u001b[49m\u001b[43mverify\u001b[49m\u001b[43m=\u001b[49m\u001b[43mverify\u001b[49m\u001b[43m,\u001b[49m\n\u001b[32m    711\u001b[39m \u001b[43m        \u001b[49m\u001b[43mheaders\u001b[49m\u001b[43m=\u001b[49m\u001b[43mheaders\u001b[49m\u001b[43m,\u001b[49m\n\u001b[32m    712\u001b[39m \u001b[43m        \u001b[49m\u001b[43msession\u001b[49m\u001b[43m=\u001b[49m\u001b[43msession\u001b[49m\u001b[43m,\u001b[49m\n\u001b[32m    713\u001b[39m \u001b[43m        \u001b[49m\u001b[43mbasic_auth\u001b[49m\u001b[43m=\u001b[49m\u001b[43mbasic_auth\u001b[49m\u001b[43m,\u001b[49m\n\u001b[32m    714\u001b[39m \u001b[43m        \u001b[49m\u001b[43mtext_only\u001b[49m\u001b[43m=\u001b[49m\u001b[43mtext_only\u001b[49m\u001b[43m,\u001b[49m\n\u001b[32m    715\u001b[39m \u001b[43m        \u001b[49m\u001b[43mforce_download\u001b[49m\u001b[43m=\u001b[49m\u001b[43mforce_download\u001b[49m\n\u001b[32m    716\u001b[39m \u001b[43m    \u001b[49m\u001b[43m)\u001b[49m\n\u001b[32m    718\u001b[39m \u001b[38;5;28;01mif\u001b[39;00m resp_data \u001b[38;5;129;01mis\u001b[39;00m \u001b[38;5;129;01mnot\u001b[39;00m \u001b[38;5;28;01mNone\u001b[39;00m:\n\u001b[32m    719\u001b[39m     \u001b[38;5;28;01mif\u001b[39;00m \u001b[38;5;129;01mnot\u001b[39;00m \u001b[38;5;28misinstance\u001b[39m(resp_data, \u001b[38;5;28mlist\u001b[39m):\n",
            "\u001b[36mFile \u001b[39m\u001b[32m/opt/anaconda3/envs/plotbot_env/lib/python3.12/site-packages/pyspedas/utilities/download.py:295\u001b[39m, in \u001b[36mdownload_file\u001b[39m\u001b[34m(url, filename, headers, username, password, verify, session, basic_auth, nbr_tries, text_only, force_download)\u001b[39m\n\u001b[32m    293\u001b[39m warnings.simplefilter(\u001b[33m\"\u001b[39m\u001b[33mignore\u001b[39m\u001b[33m\"\u001b[39m, category=\u001b[38;5;167;01mResourceWarning\u001b[39;00m)\n\u001b[32m    294\u001b[39m \u001b[38;5;28;01mif\u001b[39;00m \u001b[38;5;129;01mnot\u001b[39;00m basic_auth:\n\u001b[32m--> \u001b[39m\u001b[32m295\u001b[39m     fsrc = \u001b[43msession\u001b[49m\u001b[43m.\u001b[49m\u001b[43mget\u001b[49m\u001b[43m(\u001b[49m\u001b[43murl\u001b[49m\u001b[43m,\u001b[49m\u001b[43m \u001b[49m\u001b[43mstream\u001b[49m\u001b[43m=\u001b[49m\u001b[38;5;28;43;01mTrue\u001b[39;49;00m\u001b[43m,\u001b[49m\u001b[43m \u001b[49m\u001b[43mverify\u001b[49m\u001b[43m=\u001b[49m\u001b[43mverify\u001b[49m\u001b[43m,\u001b[49m\u001b[43m \u001b[49m\u001b[43mheaders\u001b[49m\u001b[43m=\u001b[49m\u001b[43mheaders\u001b[49m\u001b[43m)\u001b[49m\n\u001b[32m    296\u001b[39m \u001b[38;5;28;01melse\u001b[39;00m:\n\u001b[32m    297\u001b[39m     fsrc = session.get(\n\u001b[32m    298\u001b[39m         url,\n\u001b[32m    299\u001b[39m         stream=\u001b[38;5;28;01mTrue\u001b[39;00m,\n\u001b[32m   (...)\u001b[39m\u001b[32m    302\u001b[39m         auth=(username, password),\n\u001b[32m    303\u001b[39m     )\n",
            "\u001b[36mFile \u001b[39m\u001b[32m/opt/anaconda3/envs/plotbot_env/lib/python3.12/site-packages/requests/sessions.py:602\u001b[39m, in \u001b[36mSession.get\u001b[39m\u001b[34m(self, url, **kwargs)\u001b[39m\n\u001b[32m    594\u001b[39m \u001b[38;5;250m\u001b[39m\u001b[33mr\u001b[39m\u001b[33;03m\"\"\"Sends a GET request. Returns :class:`Response` object.\u001b[39;00m\n\u001b[32m    595\u001b[39m \n\u001b[32m    596\u001b[39m \u001b[33;03m:param url: URL for the new :class:`Request` object.\u001b[39;00m\n\u001b[32m    597\u001b[39m \u001b[33;03m:param \\*\\*kwargs: Optional arguments that ``request`` takes.\u001b[39;00m\n\u001b[32m    598\u001b[39m \u001b[33;03m:rtype: requests.Response\u001b[39;00m\n\u001b[32m    599\u001b[39m \u001b[33;03m\"\"\"\u001b[39;00m\n\u001b[32m    601\u001b[39m kwargs.setdefault(\u001b[33m\"\u001b[39m\u001b[33mallow_redirects\u001b[39m\u001b[33m\"\u001b[39m, \u001b[38;5;28;01mTrue\u001b[39;00m)\n\u001b[32m--> \u001b[39m\u001b[32m602\u001b[39m \u001b[38;5;28;01mreturn\u001b[39;00m \u001b[38;5;28;43mself\u001b[39;49m\u001b[43m.\u001b[49m\u001b[43mrequest\u001b[49m\u001b[43m(\u001b[49m\u001b[33;43m\"\u001b[39;49m\u001b[33;43mGET\u001b[39;49m\u001b[33;43m\"\u001b[39;49m\u001b[43m,\u001b[49m\u001b[43m \u001b[49m\u001b[43murl\u001b[49m\u001b[43m,\u001b[49m\u001b[43m \u001b[49m\u001b[43m*\u001b[49m\u001b[43m*\u001b[49m\u001b[43mkwargs\u001b[49m\u001b[43m)\u001b[49m\n",
            "\u001b[36mFile \u001b[39m\u001b[32m/opt/anaconda3/envs/plotbot_env/lib/python3.12/site-packages/requests/sessions.py:589\u001b[39m, in \u001b[36mSession.request\u001b[39m\u001b[34m(self, method, url, params, data, headers, cookies, files, auth, timeout, allow_redirects, proxies, hooks, stream, verify, cert, json)\u001b[39m\n\u001b[32m    584\u001b[39m send_kwargs = {\n\u001b[32m    585\u001b[39m     \u001b[33m\"\u001b[39m\u001b[33mtimeout\u001b[39m\u001b[33m\"\u001b[39m: timeout,\n\u001b[32m    586\u001b[39m     \u001b[33m\"\u001b[39m\u001b[33mallow_redirects\u001b[39m\u001b[33m\"\u001b[39m: allow_redirects,\n\u001b[32m    587\u001b[39m }\n\u001b[32m    588\u001b[39m send_kwargs.update(settings)\n\u001b[32m--> \u001b[39m\u001b[32m589\u001b[39m resp = \u001b[38;5;28;43mself\u001b[39;49m\u001b[43m.\u001b[49m\u001b[43msend\u001b[49m\u001b[43m(\u001b[49m\u001b[43mprep\u001b[49m\u001b[43m,\u001b[49m\u001b[43m \u001b[49m\u001b[43m*\u001b[49m\u001b[43m*\u001b[49m\u001b[43msend_kwargs\u001b[49m\u001b[43m)\u001b[49m\n\u001b[32m    591\u001b[39m \u001b[38;5;28;01mreturn\u001b[39;00m resp\n",
            "\u001b[36mFile \u001b[39m\u001b[32m/opt/anaconda3/envs/plotbot_env/lib/python3.12/site-packages/requests/sessions.py:703\u001b[39m, in \u001b[36mSession.send\u001b[39m\u001b[34m(self, request, **kwargs)\u001b[39m\n\u001b[32m    700\u001b[39m start = preferred_clock()\n\u001b[32m    702\u001b[39m \u001b[38;5;66;03m# Send the request\u001b[39;00m\n\u001b[32m--> \u001b[39m\u001b[32m703\u001b[39m r = \u001b[43madapter\u001b[49m\u001b[43m.\u001b[49m\u001b[43msend\u001b[49m\u001b[43m(\u001b[49m\u001b[43mrequest\u001b[49m\u001b[43m,\u001b[49m\u001b[43m \u001b[49m\u001b[43m*\u001b[49m\u001b[43m*\u001b[49m\u001b[43mkwargs\u001b[49m\u001b[43m)\u001b[49m\n\u001b[32m    705\u001b[39m \u001b[38;5;66;03m# Total elapsed time of the request (approximately)\u001b[39;00m\n\u001b[32m    706\u001b[39m elapsed = preferred_clock() - start\n",
            "\u001b[36mFile \u001b[39m\u001b[32m/opt/anaconda3/envs/plotbot_env/lib/python3.12/site-packages/requests/adapters.py:604\u001b[39m, in \u001b[36mHTTPAdapter.send\u001b[39m\u001b[34m(self, request, stream, timeout, verify, cert, proxies)\u001b[39m\n\u001b[32m    589\u001b[39m     resp = conn.urlopen(\n\u001b[32m    590\u001b[39m         method=request.method,\n\u001b[32m    591\u001b[39m         url=url,\n\u001b[32m   (...)\u001b[39m\u001b[32m    600\u001b[39m         chunked=chunked,\n\u001b[32m    601\u001b[39m     )\n\u001b[32m    603\u001b[39m \u001b[38;5;28;01mexcept\u001b[39;00m (ProtocolError, \u001b[38;5;167;01mOSError\u001b[39;00m) \u001b[38;5;28;01mas\u001b[39;00m err:\n\u001b[32m--> \u001b[39m\u001b[32m604\u001b[39m     \u001b[38;5;28;01mraise\u001b[39;00m \u001b[38;5;167;01mConnectionError\u001b[39;00m(err, request=request)\n\u001b[32m    606\u001b[39m \u001b[38;5;28;01mexcept\u001b[39;00m MaxRetryError \u001b[38;5;28;01mas\u001b[39;00m e:\n\u001b[32m    607\u001b[39m     \u001b[38;5;28;01mif\u001b[39;00m \u001b[38;5;28misinstance\u001b[39m(e.reason, ConnectTimeoutError):\n\u001b[32m    608\u001b[39m         \u001b[38;5;66;03m# TODO: Remove this in 3.0.0: see #2811\u001b[39;00m\n",
            "\u001b[31mConnectionError\u001b[39m: ('Connection aborted.', RemoteDisconnected('Remote end closed connection without response'))"
          ]
        }
      ],
      "source": [
        "# Final Example: Complete Parameter Demonstration\n",
        "print(\"📊 Final Example: Complete Parameter Demo\")\n",
        "print(\"Showing mixed smart/manual control...\")\n",
        "\n",
        "# Mixed parameter setup (smart Y, manual X)\n",
        "psp_span_vdf.enable_smart_padding = True\n",
        "psp_span_vdf.vdf_colormap = 'cool'\n",
        "psp_span_vdf.theta_x_axis_limits = (-700, -100)  # Manual X (focus on bulk)\n",
        "psp_span_vdf.theta_y_axis_limits = None          # Smart Y bounds\n",
        "psp_span_vdf.phi_x_axis_limits = (-600, 0)       # Manual phi X  \n",
        "psp_span_vdf.phi_y_axis_limits = None            # Smart phi Y\n",
        "psp_span_vdf.theta_y_smart_padding = 150         # Custom Y padding\n",
        "psp_span_vdf.phi_y_smart_padding = 200           # Custom phi Y padding\n",
        "\n",
        "print(\"✅ Mixed control configured:\")\n",
        "print(f\"   Theta X: Manual {psp_span_vdf.theta_x_axis_limits}\")\n",
        "print(f\"   Theta Y: Smart (padding={psp_span_vdf.theta_y_smart_padding} km/s)\")\n",
        "print(f\"   Phi X: Manual {psp_span_vdf.phi_x_axis_limits}\")\n",
        "print(f\"   Phi Y: Smart (padding={psp_span_vdf.phi_y_smart_padding} km/s)\")\n",
        "\n",
        "# Create final demonstration plot\n",
        "final_trange = ['2020/01/29 17:30:00.000', '2020/01/29 18:30:00.000']\n",
        "fig = vdyes(final_trange)\n",
        "\n",
        "print(\"✅ Complete parameter demonstration plot created!\")\n",
        "print(\"\\n🎉 VDF Plotting Tutorial Complete!\")\n",
        "print(\"You now know how to:\")\n",
        "print(\"   • Create basic VDF plots with vdyes()\")\n",
        "print(\"   • Control smart bounds for automatic zooming\")\n",
        "print(\"   • Set manual axis limits for precise control\")\n",
        "print(\"   • Mix smart and manual parameters\")\n",
        "print(\"   • Choose appropriate colormaps\")\n",
        "print(\"   • Analyze real PSP hammerhead distributions\")\n",
        "print(\"\\n💡 Tips:\")\n",
        "print(\"   • Log scale warnings are normal for VDF data\")\n",
        "print(\"   • Use 'cool' or 'viridis' colormaps for science plots\")\n",
        "print(\"   • Known good times: 2020-01-29 for hammerhead examples\")\n",
        "print(\"   • Smart padding range: 50-200 km/s typical\")\n"
      ]
    },
    {
      "cell_type": "markdown",
      "metadata": {
        "vscode": {
          "languageId": "raw"
        }
      },
      "source": [
        "## 2. VDF Parameter System\n",
        "\n",
        "VDF plots are controlled by parameters set on the global `psp_span_vdf` instance, just like other Plotbot classes:\n",
        "\n",
        "```python\n",
        "# Set parameters before calling vdyes()\n",
        "psp_span_vdf.parameter_name = value\n",
        "fig = vdyes(trange)\n",
        "```\n",
        "\n",
        "### Available Parameters:\n",
        "\n",
        "#### Smart Bounds System (Auto-Zoom):\n",
        "- `enable_smart_padding` - Enable intelligent auto-zoom (True/False)\n",
        "- `theta_x_smart_padding` - Vx padding for theta-plane (km/s)\n",
        "- `theta_y_smart_padding` - Vz padding for theta-plane (km/s)\n",
        "- `phi_x_smart_padding` - Vx padding for phi-plane (km/s) \n",
        "- `phi_y_smart_padding` - Vy padding for phi-plane (km/s)\n",
        "- `enable_zero_clipping` - Auto-clip when data doesn't cross zero (True/False)\n",
        "\n",
        "#### Manual Axis Limits (Override Smart Bounds):\n",
        "- `theta_x_axis_limits` - Manual X-axis for theta-plane, e.g., (-800, 0)\n",
        "- `theta_y_axis_limits` - Manual Y-axis for theta-plane, e.g., (-400, 400)\n",
        "- `phi_x_axis_limits` - Manual X-axis for phi-plane\n",
        "- `phi_y_axis_limits` - Manual Y-axis for phi-plane\n",
        "\n",
        "#### Visual Settings:\n",
        "- `vdf_colormap` - Colormap: 'cool', 'viridis', 'plasma', 'jet', etc.\n"
      ]
    },
    {
      "cell_type": "code",
      "execution_count": null,
      "metadata": {},
      "outputs": [],
      "source": [
        "# Example 2: Custom Smart Bounds\n",
        "print(\"📊 Example 2: Custom Smart Bounds\")\n",
        "print(\"Demonstrating smart padding control...\")\n",
        "\n",
        "# Configure smart bounds for tighter zoom\n",
        "psp_span_vdf.enable_smart_padding = True\n",
        "psp_span_vdf.theta_x_smart_padding = 50    # Tighter padding (default: 100)\n",
        "psp_span_vdf.theta_y_smart_padding = 200    # Custom Y padding  \n",
        "psp_span_vdf.phi_x_smart_padding = 125     # Custom phi plane padding\n",
        "psp_span_vdf.phi_y_smart_padding = 150\n",
        "psp_span_vdf.enable_zero_clipping = True   # Auto-clip at zero when appropriate\n",
        "psp_span_vdf.vdf_colormap = 'cool'         # Use cool colormap\n",
        "\n",
        "# psp_span_vdf.vdf_colormap = 'viridis'         # Use cool colormap\n",
        "\n",
        "\n",
        "print(\"✅ Smart bounds configured:\")\n",
        "print(f\"   Theta padding: X={psp_span_vdf.theta_x_smart_padding}, Y={psp_span_vdf.theta_y_smart_padding} km/s\")\n",
        "print(f\"   Phi padding: X={psp_span_vdf.phi_x_smart_padding}, Y={psp_span_vdf.phi_y_smart_padding} km/s\")\n",
        "print(f\"   Zero clipping: {psp_span_vdf.enable_zero_clipping}\")\n",
        "print(f\"   Colormap: {psp_span_vdf.vdf_colormap}\")\n",
        "\n",
        "# Create plot with custom smart bounds\n",
        "fig = vdyes(trange)\n",
        "\n",
        "print(\"✅ VDF plot with custom smart bounds created!\")\n",
        "print(\"Notice the tighter zoom focusing on the bulk data distribution\")\n"
      ]
    },
    {
      "cell_type": "code",
      "execution_count": null,
      "metadata": {},
      "outputs": [],
      "source": [
        "# Example 3: Manual Axis Control (Jaye's Original Bounds)\n",
        "print(\"📊 Example 3: Manual Axis Limits\")\n",
        "print(\"Using Jaye's original bounds for comparison...\")\n",
        "\n",
        "# Reset to use manual limits (overrides smart bounds)\n",
        "psp_span_vdf.enable_smart_padding = False  # Disable smart bounds\n",
        "psp_span_vdf.theta_x_axis_limits = (-800, 0)    # Jaye's theta-plane X bounds\n",
        "psp_span_vdf.theta_y_axis_limits = (-400, 400)  # Jaye's theta-plane Y bounds\n",
        "psp_span_vdf.phi_x_axis_limits = (-800, 0)      # Jaye's phi-plane X bounds  \n",
        "psp_span_vdf.phi_y_axis_limits = (-200, 600)    # Jaye's phi-plane Y bounds\n",
        "\n",
        "print(\"✅ Manual axis limits set (Jaye's original):\")\n",
        "print(f\"   Theta-plane: X={psp_span_vdf.theta_x_axis_limits}, Y={psp_span_vdf.theta_y_axis_limits}\")\n",
        "print(f\"   Phi-plane: X={psp_span_vdf.phi_x_axis_limits}, Y={psp_span_vdf.phi_y_axis_limits}\")\n",
        "\n",
        "# Create plot with Jaye's exact bounds\n",
        "fig = vdyes(trange)\n",
        "\n",
        "print(\"✅ VDF plot with Jaye's original bounds created!\")\n",
        "print(\"This reproduces the exact view from the original SPAN-I tutorial\")\n"
      ]
    },
    {
      "cell_type": "code",
      "execution_count": null,
      "metadata": {},
      "outputs": [],
      "source": [
        "# Example 4: Classic Hammerhead Distribution\n",
        "print(\"📊 Example 4: PSP 'Hammerhead' Distribution\")\n",
        "print(\"Using data from 2020/01/29 - classic hammerhead example...\")\n",
        "\n",
        "# Reset to optimal settings for viewing hammerhead structure\n",
        "psp_span_vdf.enable_smart_padding = True\n",
        "psp_span_vdf.vdf_colormap = 'cool'\n",
        "psp_span_vdf.theta_x_smart_padding = 100\n",
        "psp_span_vdf.theta_y_smart_padding = 100  \n",
        "psp_span_vdf.phi_x_smart_padding = 150\n",
        "psp_span_vdf.phi_y_smart_padding = 150\n",
        "psp_span_vdf.enable_zero_clipping = True\n",
        "psp_span_vdf.theta_x_axis_limits = None     # Clear all manual limits\n",
        "psp_span_vdf.theta_y_axis_limits = None\n",
        "psp_span_vdf.phi_x_axis_limits = None\n",
        "psp_span_vdf.phi_y_axis_limits = None\n",
        "\n",
        "print(\"✅ Parameters optimized for hammerhead viewing\")\n",
        "\n",
        "# Use the proven hammerhead time range\n",
        "hammerhead_trange = ['2020/01/29 17:00:00.000', '2020/01/29 19:00:00.000']\n",
        "fig = vdyes(hammerhead_trange)\n",
        "\n",
        "print(\"✅ Hammerhead distribution plot created!\")\n",
        "print(\"\\n🔍 What to look for:\")\n",
        "print(\"   • Theta-plane: Asymmetric 'hammer' shape extending in -Vz direction\")\n",
        "print(\"   • Phi-plane: Concentrated distribution with some azimuthal structure\")\n",
        "print(\"   • 1D plot: Non-Maxwellian shape with distinctive features\")\n",
        "print(\"\\nThis is real PSP data showing how solar wind protons behave near the Sun!\")\n"
      ]
    },
    {
      "cell_type": "raw",
      "metadata": {
        "vscode": {
          "languageId": "raw"
        }
      },
      "source": [
        "## 3. Parameter Reference Quick Guide\n",
        "\n",
        "### Copy-Paste Examples:\n",
        "\n",
        "```python\n",
        "# Default settings (good starting point)\n",
        "psp_span_vdf.enable_smart_padding = True\n",
        "psp_span_vdf.vdf_colormap = 'cool'\n",
        "psp_span_vdf.enable_zero_clipping = True\n",
        "\n",
        "# Tight zoom (focus on data)\n",
        "psp_span_vdf.theta_x_smart_padding = 50\n",
        "psp_span_vdf.theta_y_smart_padding = 50\n",
        "\n",
        "# Wide view (show full context)  \n",
        "psp_span_vdf.theta_x_smart_padding = 200\n",
        "psp_span_vdf.theta_y_smart_padding = 200\n",
        "\n",
        "# Jaye's original bounds\n",
        "psp_span_vdf.enable_smart_padding = False\n",
        "psp_span_vdf.theta_x_axis_limits = (-800, 0)\n",
        "psp_span_vdf.theta_y_axis_limits = (-400, 400)\n",
        "\n",
        "# Publication-ready colormap\n",
        "psp_span_vdf.vdf_colormap = 'viridis'\n",
        "```\n",
        "\n",
        "### Understanding VDF Physics:\n",
        "\n",
        "#### Theta-Plane (Middle panel: Vx vs Vz):\n",
        "- **X-axis (Vx)**: Radial velocity component (toward/away from Sun)\n",
        "- **Y-axis (Vz)**: Field-perpendicular component  \n",
        "- **\"Hammerhead\" shape**: Characteristic PSP near-Sun proton distribution\n",
        "- **Negative Vx**: Solar wind flowing away from Sun (normal direction)\n",
        "\n",
        "#### Phi-Plane (Right panel: Vx vs Vy):\n",
        "- **X-axis (Vx)**: Radial velocity component\n",
        "- **Y-axis (Vy)**: Azimuthal velocity component\n",
        "- **Shows**: Parker spiral field effects and spacecraft frame dynamics\n",
        "\n",
        "#### Collapsed 1D (Left panel):\n",
        "- **X-axis**: Velocity magnitude\n",
        "- **Y-axis**: Distribution function value (log scale)\n",
        "- **Shows**: Overall velocity distribution shape\n"
      ]
    },
    {
      "cell_type": "code",
      "execution_count": null,
      "metadata": {},
      "outputs": [],
      "source": [
        "# Final Example: Complete Parameter Demonstration\n",
        "print(\"📊 Final Example: Complete Parameter Demo\")\n",
        "print(\"Showing mixed smart/manual control...\")\n",
        "\n",
        "# Mixed parameter setup (smart Y, manual X)\n",
        "psp_span_vdf.enable_smart_padding = True\n",
        "psp_span_vdf.vdf_colormap = 'cool'\n",
        "psp_span_vdf.theta_x_axis_limits = (-700, -100)  # Manual X (focus on bulk)\n",
        "psp_span_vdf.theta_y_axis_limits = None          # Smart Y bounds\n",
        "psp_span_vdf.phi_x_axis_limits = (-600, 0)       # Manual phi X  \n",
        "psp_span_vdf.phi_y_axis_limits = None            # Smart phi Y\n",
        "psp_span_vdf.theta_y_smart_padding = 150         # Custom Y padding\n",
        "psp_span_vdf.phi_y_smart_padding = 200           # Custom phi Y padding\n",
        "\n",
        "print(\"✅ Mixed control configured:\")\n",
        "print(f\"   Theta X: Manual {psp_span_vdf.theta_x_axis_limits}\")\n",
        "print(f\"   Theta Y: Smart (padding={psp_span_vdf.theta_y_smart_padding} km/s)\")\n",
        "print(f\"   Phi X: Manual {psp_span_vdf.phi_x_axis_limits}\")\n",
        "print(f\"   Phi Y: Smart (padding={psp_span_vdf.phi_y_smart_padding} km/s)\")\n",
        "\n",
        "# Create final demonstration plot\n",
        "final_trange = ['2020/01/29 17:30:00.000', '2020/01/29 18:30:00.000']\n",
        "fig = vdyes(final_trange)\n",
        "\n",
        "print(\"✅ Complete parameter demonstration plot created!\")\n",
        "print(\"\\n🎉 VDF Plotting Tutorial Complete!\")\n",
        "print(\"You now know how to:\")\n",
        "print(\"   • Create basic VDF plots with vdyes()\")\n",
        "print(\"   • Control smart bounds for automatic zooming\")\n",
        "print(\"   • Set manual axis limits for precise control\")\n",
        "print(\"   • Mix smart and manual parameters\")\n",
        "print(\"   • Choose appropriate colormaps\")\n",
        "print(\"   • Analyze real PSP hammerhead distributions\")\n",
        "print(\"\\n💡 Tips:\")\n",
        "print(\"   • Log scale warnings are normal for VDF data\")\n",
        "print(\"   • Use 'cool' or 'viridis' colormaps for science plots\")\n",
        "print(\"   • Known good times: 2020-01-29 for hammerhead examples\")\n",
        "print(\"   • Smart padding range: 50-200 km/s typical\")\n"
      ]
    }
  ],
  "metadata": {
    "kernelspec": {
      "display_name": "plotbot_env",
      "language": "python",
      "name": "python3"
    },
    "language_info": {
      "codemirror_mode": {
        "name": "ipython",
        "version": 3
      },
      "file_extension": ".py",
      "mimetype": "text/x-python",
      "name": "python",
      "nbconvert_exporter": "python",
      "pygments_lexer": "ipython3",
      "version": "3.12.4"
    }
  },
  "nbformat": 4,
  "nbformat_minor": 2
}
