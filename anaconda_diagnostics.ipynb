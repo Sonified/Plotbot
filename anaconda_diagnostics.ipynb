{
  "cells": [
    {
      "cell_type": "markdown",
      "metadata": {
        "vscode": {
          "languageId": "raw"
        }
      },
      "source": [
        "# Anaconda Server Diagnostics\n",
        "\n",
        "This notebook helps diagnose issues with the Plotbot installation scripts, specifically problems connecting to Anaconda servers.\n",
        "\n",
        "## Issue Description\n",
        "The `1_init_conda.sh` script hangs when trying to connect to the anaconda server, and the server \"looks different\" according to user reports.\n",
        "\n",
        "## Troubleshooting Steps\n",
        "\n",
        "Let's run through a series of diagnostic checks to understand what's happening.\n"
      ]
    },
    {
      "cell_type": "markdown",
      "metadata": {
        "vscode": {
          "languageId": "raw"
        }
      },
      "source": [
        "## 1. Basic Connectivity Tests"
      ]
    },
    {
      "cell_type": "code",
      "execution_count": 1,
      "metadata": {},
      "outputs": [
        {
          "name": "stdout",
          "output_type": "stream",
          "text": [
            "Diagnostic run at: 2025-06-06 09:32:50.800592\n",
            "Python version: 3.12.4 | packaged by conda-forge | (main, Jun 17 2024, 10:13:44) [Clang 16.0.6 ]\n",
            "==================================================\n",
            "\n",
            "🔗 Testing basic connectivity:\n",
            "✅ google.com:80\n",
            "✅ anaconda.org:80\n",
            "✅ anaconda.org:443\n",
            "✅ conda.anaconda.org:80\n",
            "✅ conda.anaconda.org:443\n",
            "✅ repo.anaconda.com:80\n",
            "✅ repo.anaconda.com:443\n"
          ]
        }
      ],
      "source": [
        "# Test basic internet connectivity\n",
        "import subprocess\n",
        "import socket\n",
        "import sys\n",
        "import requests\n",
        "from datetime import datetime\n",
        "\n",
        "print(f\"Diagnostic run at: {datetime.now()}\")\n",
        "print(f\"Python version: {sys.version}\")\n",
        "print(\"=\"*50)\n",
        "\n",
        "# Test basic internet connectivity\n",
        "def test_connectivity(host, port=80, timeout=5):\n",
        "    try:\n",
        "        socket.create_connection((host, port), timeout)\n",
        "        return True\n",
        "    except OSError:\n",
        "        return False\n",
        "\n",
        "print(\"\\n🔗 Testing basic connectivity:\")\n",
        "hosts_to_test = [\n",
        "    (\"google.com\", 80),\n",
        "    (\"anaconda.org\", 80),\n",
        "    (\"anaconda.org\", 443),\n",
        "    (\"conda.anaconda.org\", 80),\n",
        "    (\"conda.anaconda.org\", 443),\n",
        "    (\"repo.anaconda.com\", 80),\n",
        "    (\"repo.anaconda.com\", 443)\n",
        "]\n",
        "\n",
        "for host, port in hosts_to_test:\n",
        "    status = \"✅\" if test_connectivity(host, port) else \"❌\"\n",
        "    print(f\"{status} {host}:{port}\")\n"
      ]
    },
    {
      "cell_type": "markdown",
      "metadata": {
        "vscode": {
          "languageId": "raw"
        }
      },
      "source": [
        "## 2. Ping Tests (Like the Script Does)"
      ]
    },
    {
      "cell_type": "code",
      "execution_count": 2,
      "metadata": {},
      "outputs": [
        {
          "name": "stdout",
          "output_type": "stream",
          "text": [
            "\n",
            "🏓 Ping test for anaconda.org:\n",
            "   Time taken: 0.05 seconds\n",
            "   Return code: 0\n",
            "   ✅ Success\n",
            "   Output: 1 packets transmitted, 1 packets received, 0.0% packet loss\n",
            "\n",
            "🏓 Ping test for conda.anaconda.org:\n",
            "   Time taken: 0.05 seconds\n",
            "   Return code: 0\n",
            "   ✅ Success\n",
            "   Output: 1 packets transmitted, 1 packets received, 0.0% packet loss\n",
            "\n",
            "🏓 Ping test for repo.anaconda.com:\n",
            "   Time taken: 0.05 seconds\n",
            "   Return code: 0\n",
            "   ✅ Success\n",
            "   Output: 1 packets transmitted, 1 packets received, 0.0% packet loss\n",
            "\n",
            "📊 Summary: anaconda.org ping succeeded\n"
          ]
        }
      ],
      "source": [
        "# Test ping commands that the script uses\n",
        "import subprocess\n",
        "import time\n",
        "\n",
        "def run_ping_test(host, count=1, timeout=10):\n",
        "    print(f\"\\n🏓 Ping test for {host}:\")\n",
        "    try:\n",
        "        start_time = time.time()\n",
        "        result = subprocess.run(\n",
        "            [\"ping\", \"-c\", str(count), host], \n",
        "            capture_output=True, \n",
        "            text=True, \n",
        "            timeout=timeout\n",
        "        )\n",
        "        end_time = time.time()\n",
        "        \n",
        "        print(f\"   Time taken: {end_time - start_time:.2f} seconds\")\n",
        "        print(f\"   Return code: {result.returncode}\")\n",
        "        \n",
        "        if result.returncode == 0:\n",
        "            print(f\"   ✅ Success\")\n",
        "            print(f\"   Output: {result.stdout.strip().split(chr(10))[-2]}\")\n",
        "        else:\n",
        "            print(f\"   ❌ Failed\")\n",
        "            if result.stderr:\n",
        "                print(f\"   Error: {result.stderr.strip()}\")\n",
        "        \n",
        "        return result.returncode == 0\n",
        "        \n",
        "    except subprocess.TimeoutExpired:\n",
        "        print(f\"   ⏰ Timeout after {timeout} seconds - THIS IS LIKELY THE ISSUE!\")\n",
        "        return False\n",
        "    except Exception as e:\n",
        "        print(f\"   💥 Exception: {e}\")\n",
        "        return False\n",
        "\n",
        "# Test the exact same command the script uses\n",
        "ping_success = run_ping_test(\"anaconda.org\")\n",
        "\n",
        "# Test other related hosts\n",
        "run_ping_test(\"conda.anaconda.org\")\n",
        "run_ping_test(\"repo.anaconda.com\")\n",
        "\n",
        "print(f\"\\n📊 Summary: anaconda.org ping {'succeeded' if ping_success else 'failed'}\")\n"
      ]
    },
    {
      "cell_type": "markdown",
      "metadata": {
        "vscode": {
          "languageId": "raw"
        }
      },
      "source": [
        "## 3. HTTP/HTTPS Response Tests"
      ]
    },
    {
      "cell_type": "code",
      "execution_count": 3,
      "metadata": {},
      "outputs": [
        {
          "name": "stdout",
          "output_type": "stream",
          "text": [
            "\n",
            "🌐 Testing HTTP response for https://anaconda.org:\n",
            "   Time taken: 0.17 seconds\n",
            "   Status code: 403\n",
            "   Server: cloudflare\n",
            "   Content-Type: text/html; charset=UTF-8\n",
            "   ⚠️ Non-200 status code\n",
            "\n",
            "🌐 Testing HTTP response for http://anaconda.org:\n",
            "   Time taken: 0.26 seconds\n",
            "   Status code: 403\n",
            "   Server: cloudflare\n",
            "   Content-Type: text/html; charset=UTF-8\n",
            "   ⚠️ Non-200 status code\n",
            "\n",
            "🌐 Testing HTTP response for https://conda.anaconda.org:\n",
            "   Time taken: 0.44 seconds\n",
            "   Status code: 403\n",
            "   Server: cloudflare\n",
            "   Content-Type: text/html; charset=UTF-8\n",
            "   ⚠️ Non-200 status code\n",
            "\n",
            "🌐 Testing HTTP response for https://repo.anaconda.com:\n",
            "   Time taken: 0.16 seconds\n",
            "   Status code: 200\n",
            "   Server: cloudflare\n",
            "   Content-Type: text/html\n",
            "   ✅ Success\n",
            "   Preview: <!DOCTYPE html> <html>  <head>     <!-- Global site tag (gtag.js) - Google Analytics -->     <script async src=\"https://www.googletagmanager.com/gtag/js?id=UA-27761864-19\"></script>     <script>...\n",
            "\n",
            "🌐 Testing HTTP response for https://repo.continuum.io:\n",
            "   Time taken: 0.43 seconds\n",
            "   Status code: 200\n",
            "   Server: cloudflare\n",
            "   Content-Type: text/html\n",
            "   ✅ Success\n",
            "   Preview: <!DOCTYPE html> <html>  <head>     <!-- Global site tag (gtag.js) - Google Analytics -->     <script async src=\"https://www.googletagmanager.com/gtag/js?id=UA-27761864-19\"></script>     <script>...\n"
          ]
        }
      ],
      "source": [
        "# Test HTTP responses from anaconda servers\n",
        "import requests\n",
        "import time\n",
        "\n",
        "def test_http_response(url, timeout=10):\n",
        "    print(f\"\\n🌐 Testing HTTP response for {url}:\")\n",
        "    try:\n",
        "        start_time = time.time()\n",
        "        response = requests.get(url, timeout=timeout)\n",
        "        end_time = time.time()\n",
        "        \n",
        "        print(f\"   Time taken: {end_time - start_time:.2f} seconds\")\n",
        "        print(f\"   Status code: {response.status_code}\")\n",
        "        print(f\"   Server: {response.headers.get('Server', 'Unknown')}\")\n",
        "        print(f\"   Content-Type: {response.headers.get('Content-Type', 'Unknown')}\")\n",
        "        \n",
        "        if response.status_code == 200:\n",
        "            print(f\"   ✅ Success\")\n",
        "            # Show first 200 characters of response\n",
        "            preview = response.text[:200].replace('\\n', ' ').strip()\n",
        "            print(f\"   Preview: {preview}...\")\n",
        "        else:\n",
        "            print(f\"   ⚠️ Non-200 status code\")\n",
        "            \n",
        "        return True\n",
        "        \n",
        "    except requests.exceptions.Timeout:\n",
        "        print(f\"   ⏰ Timeout after {timeout} seconds\")\n",
        "        return False\n",
        "    except requests.exceptions.ConnectionError as e:\n",
        "        print(f\"   🔌 Connection error: {e}\")\n",
        "        return False\n",
        "    except Exception as e:\n",
        "        print(f\"   💥 Exception: {e}\")\n",
        "        return False\n",
        "\n",
        "# Test various anaconda URLs\n",
        "urls_to_test = [\n",
        "    \"https://anaconda.org\",\n",
        "    \"http://anaconda.org\",\n",
        "    \"https://conda.anaconda.org\",\n",
        "    \"https://repo.anaconda.com\",\n",
        "    \"https://repo.continuum.io\"  # Old URL that might still be referenced\n",
        "]\n",
        "\n",
        "for url in urls_to_test:\n",
        "    test_http_response(url)\n"
      ]
    },
    {
      "cell_type": "markdown",
      "metadata": {
        "vscode": {
          "languageId": "raw"
        }
      },
      "source": [
        "## 4. Conda Configuration Analysis"
      ]
    },
    {
      "cell_type": "code",
      "execution_count": 4,
      "metadata": {},
      "outputs": [
        {
          "name": "stdout",
          "output_type": "stream",
          "text": [
            "\n",
            "🐍 Conda version:\n",
            "   ✅ Success\n",
            "   conda 24.11.3\n",
            "\n",
            "🐍 Conda info:\n",
            "   ✅ Success\n",
            "   active environment : plotbot_env\n",
            "       active env location : /opt/anaconda3/envs/plotbot_env\n",
            "               shell level : 1\n",
            "          user config file : /Users/robertalexander/.condarc\n",
            "    populated config files : /Users/robertalexander/.condarc\n",
            "             conda version : 24.11.3\n",
            "       conda-build version : 24.5.1\n",
            "            python version : 3.12.4.final.0\n",
            "                    solver : libmamba (default)\n",
            "          virtual packages : __archspec=1=m1\n",
            "   ... and 19 more lines\n",
            "\n",
            "🐍 Conda channels:\n",
            "   ✅ Success\n",
            "   channels:\n",
            "     - defaults\n",
            "\n",
            "🐍 Conda configuration sources:\n",
            "   ✅ Success\n",
            "   ==> /Users/robertalexander/.condarc <==\n",
            "   auto_activate_base: False\n",
            "   channels:\n",
            "     - defaults\n",
            "   \n",
            "   ==> envvars <==\n",
            "   allow_softlinks: False\n"
          ]
        }
      ],
      "source": [
        "# Check conda configuration and channels\n",
        "import subprocess\n",
        "import json\n",
        "\n",
        "def run_conda_command(cmd, description):\n",
        "    print(f\"\\n🐍 {description}:\")\n",
        "    try:\n",
        "        result = subprocess.run(\n",
        "            cmd.split(), \n",
        "            capture_output=True, \n",
        "            text=True, \n",
        "            timeout=30\n",
        "        )\n",
        "        \n",
        "        if result.returncode == 0:\n",
        "            print(f\"   ✅ Success\")\n",
        "            output_lines = result.stdout.strip().split('\\n')\n",
        "            for line in output_lines[:10]:  # Show first 10 lines\n",
        "                print(f\"   {line}\")\n",
        "            if len(output_lines) > 10:\n",
        "                print(f\"   ... and {len(output_lines) - 10} more lines\")\n",
        "        else:\n",
        "            print(f\"   ❌ Failed (return code: {result.returncode})\")\n",
        "            if result.stderr:\n",
        "                print(f\"   Error: {result.stderr.strip()}\")\n",
        "                \n",
        "    except subprocess.TimeoutExpired:\n",
        "        print(f\"   ⏰ Command timed out after 30 seconds\")\n",
        "    except FileNotFoundError:\n",
        "        print(f\"   ❌ Conda not found in PATH\")\n",
        "    except Exception as e:\n",
        "        print(f\"   💥 Exception: {e}\")\n",
        "\n",
        "# Check basic conda info\n",
        "run_conda_command(\"conda --version\", \"Conda version\")\n",
        "run_conda_command(\"conda info\", \"Conda info\")\n",
        "run_conda_command(\"conda config --show channels\", \"Conda channels\")\n",
        "run_conda_command(\"conda config --show-sources\", \"Conda configuration sources\")\n"
      ]
    },
    {
      "cell_type": "markdown",
      "metadata": {
        "vscode": {
          "languageId": "raw"
        }
      },
      "source": [
        "## 5. Test the Problematic Command"
      ]
    },
    {
      "cell_type": "code",
      "execution_count": 5,
      "metadata": {},
      "outputs": [
        {
          "name": "stdout",
          "output_type": "stream",
          "text": [
            "\n",
            "🔍 Testing the problematic conda search command:\n",
            "   Command: conda search conda | grep -E '^conda\\s' | tail -n 1\n",
            "   Timeout: 15 seconds\n",
            "   Time taken: 2.38 seconds\n",
            "   Return code: 0\n",
            "   ✅ Success\n",
            "   Output: 'conda                         25.5.1  py39hca03da5_0  pkgs/main'\n",
            "\n",
            "==================================================\n",
            "RECOMMENDATION: If the conda search command timed out,\n",
            "modify the script to skip the version check or use offline mode.\n"
          ]
        }
      ],
      "source": [
        "# Test the exact command that's causing issues in the script\n",
        "import subprocess\n",
        "import time\n",
        "\n",
        "def test_conda_search(timeout=30):\n",
        "    print(f\"\\n🔍 Testing the problematic conda search command:\")\n",
        "    print(f\"   Command: conda search conda | grep -E '^conda\\\\s' | tail -n 1\")\n",
        "    print(f\"   Timeout: {timeout} seconds\")\n",
        "    \n",
        "    try:\n",
        "        start_time = time.time()\n",
        "        \n",
        "        # Run the exact command from the script\n",
        "        process = subprocess.Popen(\n",
        "            \"conda search conda | grep -E '^conda\\\\s' | tail -n 1\",\n",
        "            shell=True,\n",
        "            stdout=subprocess.PIPE,\n",
        "            stderr=subprocess.PIPE,\n",
        "            text=True\n",
        "        )\n",
        "        \n",
        "        try:\n",
        "            stdout, stderr = process.communicate(timeout=timeout)\n",
        "            end_time = time.time()\n",
        "            \n",
        "            print(f\"   Time taken: {end_time - start_time:.2f} seconds\")\n",
        "            print(f\"   Return code: {process.returncode}\")\n",
        "            \n",
        "            if process.returncode == 0:\n",
        "                print(f\"   ✅ Success\")\n",
        "                print(f\"   Output: '{stdout.strip()}'\")\n",
        "            else:\n",
        "                print(f\"   ❌ Failed\")\n",
        "                if stderr:\n",
        "                    print(f\"   Error: {stderr.strip()}\")\n",
        "                    \n",
        "        except subprocess.TimeoutExpired:\n",
        "            print(f\"   ⏰ TIMEOUT after {timeout} seconds - THIS IS THE ISSUE!\")\n",
        "            print(f\"   The conda search command is hanging, likely due to:\")\n",
        "            print(f\"   • Network connectivity issues to anaconda servers\")\n",
        "            print(f\"   • DNS resolution problems\")\n",
        "            print(f\"   • Firewall/proxy blocking the connection\")\n",
        "            print(f\"   • Anaconda servers being slow or unresponsive\")\n",
        "            process.kill()\n",
        "            \n",
        "    except Exception as e:\n",
        "        print(f\"   💥 Exception: {e}\")\n",
        "\n",
        "# Test with a shorter timeout first\n",
        "test_conda_search(timeout=15)\n",
        "\n",
        "print(\"\\n\" + \"=\"*50)\n",
        "print(\"RECOMMENDATION: If the conda search command timed out,\")\n",
        "print(\"modify the script to skip the version check or use offline mode.\")\n"
      ]
    },
    {
      "cell_type": "markdown",
      "metadata": {
        "vscode": {
          "languageId": "raw"
        }
      },
      "source": [
        "## 8. System Information"
      ]
    },
    {
      "cell_type": "code",
      "execution_count": 8,
      "metadata": {},
      "outputs": [
        {
          "name": "stdout",
          "output_type": "stream",
          "text": [
            "💻 SYSTEM INFORMATION:\n",
            "Platform: macOS-15.5-arm64-arm-64bit\n",
            "System: Darwin\n",
            "Release: 24.5.0\n",
            "Architecture: ('64bit', '')\n",
            "Python version: 3.12.4\n",
            "\n",
            "🌍 RELEVANT ENVIRONMENT VARIABLES:\n",
            "CONDA_PREFIX: /opt/anaconda3/envs/plotbot_env\n",
            "CONDA_DEFAULT_ENV: plotbot_env\n",
            "CONDA_EXE: /opt/anaconda3/bin/conda\n",
            "HTTP_PROXY: Not set\n",
            "HTTPS_PROXY: Not set\n",
            "NO_PROXY: Not set\n",
            "PATH (conda entries): ['/opt/anaconda3/envs/plotbot_env/bin', '/opt/anaconda3/condabin']\n",
            "\n",
            "🔍 CONDA EXECUTABLE LOCATION:\n",
            "conda found at: /opt/anaconda3/condabin/conda\n",
            "\n",
            "==================================================\n",
            "Sharing this diagnostic information may be helpful\n",
            "to troubleshoot your installation issues, if it persists!\n"
          ]
        }
      ],
      "source": [
        "# Gather system information that might be relevant\n",
        "import platform\n",
        "import os\n",
        "import subprocess\n",
        "\n",
        "print(\"💻 SYSTEM INFORMATION:\")\n",
        "print(f\"Platform: {platform.platform()}\")\n",
        "print(f\"System: {platform.system()}\")\n",
        "print(f\"Release: {platform.release()}\")\n",
        "print(f\"Architecture: {platform.architecture()}\")\n",
        "print(f\"Python version: {platform.python_version()}\")\n",
        "\n",
        "# Check environment variables that might affect conda\n",
        "print(\"\\n🌍 RELEVANT ENVIRONMENT VARIABLES:\")\n",
        "env_vars_to_check = [\n",
        "    'CONDA_PREFIX', 'CONDA_DEFAULT_ENV', 'CONDA_EXE', \n",
        "    'HTTP_PROXY', 'HTTPS_PROXY', 'NO_PROXY',\n",
        "    'PATH'\n",
        "]\n",
        "\n",
        "for var in env_vars_to_check:\n",
        "    value = os.environ.get(var, 'Not set')\n",
        "    if var == 'PATH':\n",
        "        # Show only conda-related PATH entries\n",
        "        conda_paths = [p for p in value.split(':') if 'conda' in p.lower()]\n",
        "        print(f\"{var} (conda entries): {conda_paths}\")\n",
        "    else:\n",
        "        print(f\"{var}: {value}\")\n",
        "\n",
        "# Check if conda is in PATH\n",
        "print(\"\\n🔍 CONDA EXECUTABLE LOCATION:\")\n",
        "try:\n",
        "    conda_path = subprocess.check_output(['which', 'conda'], text=True).strip()\n",
        "    print(f\"conda found at: {conda_path}\")\n",
        "except subprocess.CalledProcessError:\n",
        "    print(\"conda not found in PATH\")\n",
        "except FileNotFoundError:\n",
        "    print(\"'which' command not available\")\n",
        "\n",
        "print(\"\\n\" + \"=\"*50)\n",
        "print(\"Sharing this diagnostic information may be helpful\")\n",
        "print(\"to troubleshoot your installation issues, if it persists!\")\n"
      ]
    }
  ],
  "metadata": {
    "kernelspec": {
      "display_name": "plotbot_env",
      "language": "python",
      "name": "python3"
    },
    "language_info": {
      "codemirror_mode": {
        "name": "ipython",
        "version": 3
      },
      "file_extension": ".py",
      "mimetype": "text/x-python",
      "name": "python",
      "nbconvert_exporter": "python",
      "pygments_lexer": "ipython3",
      "version": "3.12.4"
    }
  },
  "nbformat": 4,
  "nbformat_minor": 2
}
