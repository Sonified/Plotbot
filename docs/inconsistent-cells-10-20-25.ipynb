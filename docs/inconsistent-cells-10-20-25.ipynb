{
 "cells": [
  {
   "cell_type": "code",
   "execution_count": 1,
   "id": "ed39d807",
   "metadata": {},
   "outputs": [
    {
     "name": "stdout",
     "output_type": "stream",
     "text": [
      "initialized server_access\n",
      "initialized global_tracker\n",
      "initialized plot_config\n",
      "initialized data_cubby.\n",
      "initialized plot_manager\n",
      "CDF classes added to data_cubby type map.\n",
      "initialized epad class\n",
      "initialized epad_hr class\n",
      "initialized proton class\n",
      "initialized proton_hr class\n",
      "initialized proton_fits class\n",
      "initialized alpha_fits class\n",
      "initialized ham_class\n",
      "initialized psp_alpha class\n",
      "initialized psp_qtn class\n",
      "initialized psp_orbit class\n",
      "initialized psp_span_vdf class\n",
      "🎛️ initialized ploptions\n",
      "\n",
      "Importing libraries, this may take a moment. Hold tight... \n",
      "\n",
      "✅ Imported standard libraries and utilities.\n",
      "✅ Deferred numpy, pandas, and scipy libraries (loaded when needed).\n",
      "✅ Deferred matplotlib libraries (loaded when needed).\n",
      "✅ Deferred heavy data libraries (cdflib, requests, bs4) - loaded when needed.\n",
      "\n",
      "🤖 Plotbot Initialized\n",
      "✨ Showdahodo initialized\n",
      "Positional Data Helper Initialized\n",
      "📈📉 Multiplot Initialized\n",
      "\n",
      "🤖 Plotbot Initialized\n",
      "📈📉 Multiplot Initialized\n",
      "   Version: 2025_10_13_v3.68\n",
      "   Commit: v3.68 fix: resolved circular import error caused by missing time_ver module\n",
      "\n",
      "Import timing is disabled.\n"
     ]
    }
   ],
   "source": [
    "import numpy as np\n",
    "import plotbot\n"
   ]
  },
  {
   "cell_type": "code",
   "execution_count": 2,
   "id": "630363a4",
   "metadata": {},
   "outputs": [],
   "source": [
    "### We first define the plotbot.custom_variable, phi_B \n",
    "phi_B = plotbot.custom_variable(\n",
    "\n",
    "    'phi_B',\n",
    "    np.degrees(np.arctan2(plotbot.mag_rtn_4sa.br, plotbot.mag_rtn_4sa.bn)) + 180\n",
    ") \n",
    "phi_B.y_label = r'$\\phi_B \\ (\\circ)$'\n",
    "phi_B.color = 'purple'\n",
    "phi_B.plot_type = 'scatter'\n",
    "phi_B.marker_style = 'o'\n",
    "phi_B.marker_size = 3\n"
   ]
  },
  {
   "cell_type": "code",
   "execution_count": null,
   "id": "0b45e1c2",
   "metadata": {},
   "outputs": [],
   "source": [
    "### Next, we plotbot.plotbot a trange, and we call some variables, including the custom_variable\n",
    "trange = ['12-20-2024/00:00:000','12-24-2024/00:00:000']\n",
    "\n",
    "plotbot.plotbot(trange,plotbot.mag_rtn_4sa.br,1,plotbot.mag_rtn_4sa.bt,1,plotbot.mag_rtn_4sa.bn,1,\n",
    "                plotbot.phi_B,2)"
   ]
  },
  {
   "cell_type": "code",
   "execution_count": 4,
   "id": "aead7f1a",
   "metadata": {},
   "outputs": [],
   "source": [
    "### Let's redefine phi_B!\n",
    "phi_B = plotbot.custom_variable(\n",
    "\n",
    "    'phi_B',\n",
    "    np.degrees(np.arctan2(plotbot.mag_rtn_4sa.br, plotbot.mag_rtn_4sa.bn))\n",
    ") \n",
    "phi_B.y_label = r'$\\phi_B \\ (\\circ)$'\n",
    "phi_B.color = 'purple'\n",
    "phi_B.plot_type = 'scatter'\n",
    "phi_B.marker_style = 'o'\n",
    "phi_B.marker_size = 3\n"
   ]
  },
  {
   "cell_type": "code",
   "execution_count": null,
   "id": "fa687b48",
   "metadata": {},
   "outputs": [],
   "source": [
    "### Let's run plotbot.plotbot on the same trange\n",
    "trange = ['12-20-2024/00:00:000','12-24-2024/00:00:000']\n",
    "\n",
    "plotbot.plotbot(trange,plotbot.mag_rtn_4sa.br,1,plotbot.mag_rtn_4sa.bt,1,plotbot.mag_rtn_4sa.bn,1,\n",
    "                plotbot.phi_B,2)"
   ]
  }
 ],
 "metadata": {
  "kernelspec": {
   "display_name": "Python 3",
   "language": "python",
   "name": "python3"
  },
  "language_info": {
   "codemirror_mode": {
    "name": "ipython",
    "version": 3
   },
   "file_extension": ".py",
   "mimetype": "text/x-python",
   "name": "python",
   "nbconvert_exporter": "python",
   "pygments_lexer": "ipython3",
   "version": "3.12.4"
  }
 },
 "nbformat": 4,
 "nbformat_minor": 5
}
