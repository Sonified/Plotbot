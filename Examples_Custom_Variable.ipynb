{
 "cells": [
  {
   "cell_type": "markdown",
   "metadata": {},
   "source": [
    "## Temporarily Out Of Service. Thanks For Your Patience!"
   ]
  },
  {
   "cell_type": "code",
   "execution_count": null,
   "metadata": {},
   "outputs": [],
   "source": [
    "#Remember to select the Plotbot Environment!\n",
    "# import plotbot\n",
    "# from plotbot import *"
   ]
  },
  {
   "cell_type": "code",
   "execution_count": 2,
   "metadata": {},
   "outputs": [],
   "source": [
    "# #----Print manager----/// ✨ All the available print manager options \n",
    "\n",
    "# print_manager.show_status = False  # Status prints ⭐️ useful for basic status updates\n",
    "\n",
    "# print_manager.show_debug = False  # Debug prints, helpful for debugging (will print a LOT of information)\n",
    "\n",
    "# print_manager.pyspedas_verbose = False\n",
    "\n",
    "# print_manager.show_processing = False # e.g. Processing mag_RTN_4sa...\n",
    "\n",
    "# print_manager.show_custom_debug = False  # Custom variable operations debugging\n",
    "\n",
    "# print_manager.show_time_tracking = False  # For tracking datetime array inputs and outputs\n",
    "\n",
    "# print_manager.show_warnings = False     # Turn off warning messages\n",
    "# print_manager.show_variable_testing = False\n",
    "# print_manager.show_test = False  # Turn off test-specific output\n",
    "\n",
    "# print_manager.show_module_prefix = False  # Show/Hide [print_manager]\n",
    "# print_manager.show_category_prefix = False  # Show/Hide [PROCESS], [TIME], etc."
   ]
  },
  {
   "cell_type": "code",
   "execution_count": null,
   "metadata": {},
   "outputs": [],
   "source": [
    "# #Custom Variable Example!\n",
    "\n",
    "# print_manager.show_status = False  # Status prints, ⭐️ useful for basic status updates\n",
    "\n",
    "# #Use inline for static plots and widget for interactive plots\n",
    "# %matplotlib inline \n",
    "# # %matplotlib widget\n",
    "\n",
    "# # Define a time range\n",
    "# trange = ['2023-09-28/06:00:00.000', '2023-09-28/07:30:00.000']\n",
    "\n",
    "# # Create a custom variable with our elegant syntax\n",
    "# TAplusBmag = custom_variable('TAplusBmag', proton.anisotropy + mag_rtn_4sa.bmag)\n",
    "\n",
    "# # The variable is now globally accessible as TAoverBmag\n",
    "\n",
    "# # Customize the appearance of the custom variable\n",
    "# TAplusBmag.color = 'red'\n",
    "# TAplusBmag.line_style = '-'\n",
    "# TAplusBmag.line_width = 1\n",
    "# TAplusBmag.legend_label = 'Custom Label'\n",
    "\n",
    "# plotbot(trange, mag_rtn_4sa.bmag, 1, TAplusBmag, 2)"
   ]
  },
  {
   "cell_type": "code",
   "execution_count": null,
   "metadata": {},
   "outputs": [],
   "source": [
    "# # # First define your time range for September 30, 2024 from 11:45 to 12:45\n",
    "# # trange = ['2024-09-30/11:45:00.000', '2024-09-30/12:45:00.000']\n",
    "\n",
    "# print_manager.show_status = False  # Status prints, ⭐️ useful for basic status updates\n",
    "\n",
    "# #Use inline for static plots and widget for interactive plots\n",
    "# %matplotlib inline \n",
    "# # %matplotlib widget\n",
    "\n",
    "# # Define a time range\n",
    "# trange = ['2023-09-28/06:00:00.000', '2023-09-28/07:30:00.000']\n",
    "# # trange = ['2023-10-28/06:00:00.000', '2023-10-28/07:30:00.000']\n",
    "\n",
    "# # Create a custom variable with our elegant syntax\n",
    "# TAplusBmag = custom_variable('TAplusBmag', proton.anisotropy * mag_rtn_4sa.bmag)\n",
    "\n",
    "# # Then use showdahodo with proton.beta_ppar on x-axis and proton.anisotropy on y-axis\n",
    "# # showdahodo(trange, TAplusBmag, proton.anisotropy, brazil=True);\n",
    "# showdahodo(trange, TAplusBmag, proton.anisotropy);"
   ]
  },
  {
   "cell_type": "code",
   "execution_count": null,
   "metadata": {},
   "outputs": [],
   "source": [
    "# print_manager.show_status = False  # Status prints, ⭐️ useful for basic status updates\n",
    "\n",
    "# #Use inline for static plots and widget for interactive plots\n",
    "# %matplotlib inline \n",
    "# # %matplotlib widget\n",
    "\n",
    "# plt.options.reset() # Resetting options to ensure a clean slate\n",
    "\n",
    "# # Import data\n",
    "# trange = ['2023-09-28/06:00:00.000', '2023-09-28/07:30:00.000']\n",
    "# # get_data(trange, mag_rtn_4sa.bmag, proton.anisotropy)\n",
    "\n",
    "\n",
    "# # Switch back if needed\n",
    "# plot_manager.interp_method = 'nearest'\n",
    "\n",
    "# TAoverBr = custom_variable('TAoverBr', proton.anisotropy / mag_rtn_4sa.br )\n",
    "\n",
    "# TAoverBr.color = 'blue'\n",
    "\n",
    "# NewVar = custom_variable('NewVar', mag_rtn_4sa.br * mag_rtn_4sa.bt)\n",
    "\n",
    "# # Set the color of the new variable\n",
    "# NewVar.color = 'red'\n",
    "\n",
    "# # Plot the new variable on the fourth panel\n",
    "# plotbot(trange, proton.anisotropy, 1, mag_rtn_4sa.bmag, 2, TAoverBr, 3, NewVar, 4)\n",
    "# # multiplot([(trange, proton.anisotropy), (trange, mag_rtn_4sa.bmag), (trange, TAoverB), (trange, NewVar)])\n"
   ]
  }
 ],
 "metadata": {
  "kernelspec": {
   "display_name": "plotbot_env",
   "language": "python",
   "name": "python3"
  },
  "language_info": {
   "codemirror_mode": {
    "name": "ipython",
    "version": 3
   },
   "file_extension": ".py",
   "mimetype": "text/x-python",
   "name": "python",
   "nbconvert_exporter": "python",
   "pygments_lexer": "ipython3",
   "version": "3.12.4"
  }
 },
 "nbformat": 4,
 "nbformat_minor": 2
}
